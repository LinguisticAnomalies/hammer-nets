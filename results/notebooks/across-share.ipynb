{
 "cells": [
  {
   "cell_type": "code",
   "execution_count": 1,
   "metadata": {},
   "outputs": [],
   "source": [
    "import pickle\n",
    "import sys\n",
    "import numpy as np\n",
    "def print_res(res_dict, model_type):\n",
    "    \"\"\"\n",
    "    find the best configuration, including best index, AUC and accruacy\n",
    "    if there are multiple indexes, find the index with highest accuracy\n",
    "\n",
    "    :param res_dict: a dictionary contains all evaluation results\n",
    "    :type res_dict: dict\n",
    "    :param model_type: the model type, including 'ratio' and 'norm'\n",
    "    :type model_type: str\n",
    "    :return: the best configuration\n",
    "    :rtype: int/list\n",
    "    \"\"\"\n",
    "    best_auc = max(res_dict[model_type+\"_auc\"])\n",
    "    best_index = [index for index, value in enumerate(res_dict[model_type+\"_auc\"]) \\\n",
    "        if value == best_auc]\n",
    "    # if there is multiple best indexes\n",
    "    if len(best_index) > 1:\n",
    "        # find the highest accuracy\n",
    "        accus = [res_dict[model_type+\"_accu\"][ind] for ind in best_index]\n",
    "        best_accu = max(accus)\n",
    "        best_index = [index for index, value in enumerate(accus)\\\n",
    "            if value == best_accu]\n",
    "    else:\n",
    "        best_accu = res_dict[model_type+\"_accu\"][best_index[0]]\n",
    "    return best_index\n",
    "\n",
    "\n",
    "def find_best_pattern(data_type, zero_style, model_type):\n",
    "    share_25 = {\"con_auc\": [], \"con_accu\": [],\n",
    "                 \"con_cor\": [], \"con_ppl\": [],\n",
    "                 \"dem_auc\": [], \"dem_accu\": [],\n",
    "                 \"dem_cor\": [], \"dem_ppl\": [],\n",
    "                 \"ratio_auc\": [], \"ratio_accu\": [],\n",
    "                 \"ratio_cor\": [], \"ratio_ppl\": [],\n",
    "                 \"norm_auc\":[], \"norm_accu\":[],\n",
    "                 \"norm_cor\":[], \"norm_ppl\":[]}\n",
    "    share_50 = {\"con_auc\": [], \"con_accu\": [],\n",
    "                 \"con_cor\": [], \"con_ppl\": [],\n",
    "                 \"dem_auc\": [], \"dem_accu\": [],\n",
    "                 \"dem_cor\": [], \"dem_ppl\": [],\n",
    "                 \"ratio_auc\": [], \"ratio_accu\": [],\n",
    "                 \"ratio_cor\": [], \"ratio_ppl\": [],\n",
    "                 \"norm_auc\":[], \"norm_accu\":[],\n",
    "                 \"norm_cor\":[], \"norm_ppl\":[]}\n",
    "    share_75 = {\"con_auc\": [], \"con_accu\": [],\n",
    "                 \"con_cor\": [], \"con_ppl\": [],\n",
    "                 \"dem_auc\": [], \"dem_accu\": [],\n",
    "                 \"dem_cor\": [], \"dem_ppl\": [],\n",
    "                 \"ratio_auc\": [], \"ratio_accu\": [],\n",
    "                 \"ratio_cor\": [], \"ratio_ppl\": [],\n",
    "                 \"norm_auc\":[], \"norm_accu\":[],\n",
    "                 \"norm_cor\":[], \"norm_ppl\":[]}\n",
    "    share_100 = {\"con_auc\": [], \"con_accu\": [],\n",
    "                 \"con_cor\": [], \"con_ppl\": [],\n",
    "                 \"dem_auc\": [], \"dem_accu\": [],\n",
    "                 \"dem_cor\": [], \"dem_ppl\": [],\n",
    "                 \"ratio_auc\": [], \"ratio_accu\": [],\n",
    "                 \"ratio_cor\": [], \"ratio_ppl\": [],\n",
    "                 \"norm_auc\":[], \"norm_accu\":[],\n",
    "                 \"norm_cor\":[], \"norm_ppl\":[]}\n",
    "    file_25 = \"../ppl/accumu_{}_{}_25.pkl\".format(data_type, zero_style)\n",
    "    file_50 = \"../ppl/accumu_{}_{}_50.pkl\".format(data_type, zero_style)\n",
    "    file_75 = \"../ppl/accumu_{}_{}_75.pkl\".format(data_type, zero_style)\n",
    "    file_100 = \"../ppl/accumu_{}_{}_100.pkl\".format(data_type, zero_style)\n",
    "    with open(file_25, \"rb\") as f:\n",
    "        res_dict = pickle.load(f)\n",
    "        for key in res_dict.keys():\n",
    "            if isinstance(res_dict[key], list):\n",
    "                share_25[key].extend(res_dict[key])\n",
    "            else:\n",
    "                share_25[key].append(res_dict[key])\n",
    "    with open(file_50, \"rb\") as f:\n",
    "        res_dict = pickle.load(f)\n",
    "        for key in res_dict.keys():\n",
    "            if isinstance(res_dict[key], list):\n",
    "                share_50[key].extend(res_dict[key])\n",
    "            else:\n",
    "                share_50[key].append(res_dict[key])\n",
    "    with open(file_75, \"rb\") as f:\n",
    "        res_dict = pickle.load(f)\n",
    "        for key in res_dict.keys():\n",
    "            if isinstance(res_dict[key], list):\n",
    "                share_75[key].extend(res_dict[key])\n",
    "            else:\n",
    "                share_75[key].append(res_dict[key])\n",
    "    with open(file_100, \"rb\") as f:\n",
    "        res_dict = pickle.load(f)\n",
    "        for key in res_dict.keys():\n",
    "            if isinstance(res_dict[key], list):\n",
    "                share_100[key].extend(res_dict[key])\n",
    "            else:\n",
    "                share_100[key].append(res_dict[key])\n",
    "    \n",
    "    sys.stdout.write(\"| dataset | best index| con AUC (SD)| con ACC (SD) | con r with MMSE (SD)| dem AUC (SD)| dem ACC (SD) | dem r with MMSE (SD)| ratio AUC (SD)| ratio ACC (SD) | ratio r with MMSE (SD)|\\n\")\n",
    "    sys.stdout.write(\"| - | - | - | - | - | - | - | - | - | - | - |\\n\")\n",
    "    format_result(share_25, model_type, data_type, 25)\n",
    "    format_result(share_50, model_type, data_type, 50)\n",
    "    format_result(share_75, model_type, data_type, 75)\n",
    "    format_result(share_100, model_type, data_type, 100)\n",
    "    \n",
    "    \n",
    "def format_result(res_dict, model_type, data_name, share):\n",
    "    best_index = print_res(res_dict, model_type)\n",
    "    best_index = best_index[0]\n",
    "    best_dict = {}\n",
    "    # narrow down to the best result\n",
    "    for k, v in res_dict.items():\n",
    "        try:\n",
    "            if isinstance(v, list):\n",
    "                best_dict[k] = v[best_index]\n",
    "            else:\n",
    "                best_dict[k] = v\n",
    "        except IndexError:\n",
    "            best_dict[k] = v[0]\n",
    "    sys.stdout.write(\"| {} | {} | {} ({})| {} ({}) | {} ({})| {} ({})| {} ({}) | {} ({})| {} ({})| {} ({}) | {} ({})|\\n\".format(\n",
    "        data_name+\"-\"+str(share), best_index+1,\n",
    "        np.mean(best_dict[\"con_auc\"]), np.std(best_dict[\"con_auc\"]),\n",
    "        np.mean(best_dict[\"con_accu\"]), np.std(best_dict[\"con_accu\"]),\n",
    "        np.mean(best_dict[\"con_cor\"]), np.std(best_dict[\"con_cor\"]),\n",
    "        np.mean(best_dict[\"dem_auc\"]), np.std(best_dict[\"dem_auc\"]),\n",
    "        np.mean(best_dict[\"dem_accu\"]), np.std(best_dict[\"dem_accu\"]),\n",
    "        np.mean(best_dict[\"dem_cor\"]), np.std(best_dict[\"dem_cor\"]),\n",
    "        np.mean(best_dict[\"ratio_auc\"]), np.std(best_dict[\"ratio_auc\"]),\n",
    "        np.mean(best_dict[\"ratio_accu\"]), np.std(best_dict[\"ratio_accu\"]),\n",
    "        np.mean(best_dict[\"ratio_cor\"]), np.std(best_dict[\"ratio_cor\"])\n",
    "    ))\n"
   ]
  },
  {
   "cell_type": "code",
   "execution_count": 6,
   "metadata": {},
   "outputs": [
    {
     "name": "stdout",
     "output_type": "stream",
     "text": [
      "| dataset | best index| con AUC (SD)| con ACC (SD) | con r with MMSE (SD)| dem AUC (SD)| dem ACC (SD) | dem r with MMSE (SD)| ratio AUC (SD)| ratio ACC (SD) | ratio r with MMSE (SD)|\n",
      "| - | - | - | - | - | - | - | - | - | - | - |\n",
      "| adr-25 | 7 | 0.616 (0.0)| 0.613 (0.0) | -0.292 (0.0)| 0.362 (0.0)| 0.387 (0.0) | 0.131 (0.0)| 0.795 (0.0)| 0.716 (0.0) | -0.512 (0.0)|\n",
      "| adr-50 | 9 | 0.616 (0.0)| 0.613 (0.0) | -0.292 (0.0)| 0.344 (0.0)| 0.413 (0.0) | 0.155 (0.0)| 0.797 (0.0)| 0.69 (0.0) | -0.543 (0.0)|\n",
      "| adr-75 | 6 | 0.616 (0.0)| 0.613 (0.0) | -0.292 (0.0)| 0.295 (0.0)| 0.368 (0.0) | 0.349 (0.0)| 0.72 (0.0)| 0.632 (0.0) | -0.388 (0.0)|\n",
      "| adr-100 | 4 | 0.616 (0.0)| 0.613 (0.0) | -0.292 (0.0)| 0.42 (0.0)| 0.465 (0.0) | 0.08 (0.0)| 0.78 (0.0)| 0.723 (0.0) | -0.566 (0.0)|\n"
     ]
    }
   ],
   "source": [
    "find_best_pattern(\"adr\", \"first\", \"ratio\")"
   ]
  },
  {
   "cell_type": "code",
   "execution_count": 7,
   "metadata": {},
   "outputs": [
    {
     "name": "stdout",
     "output_type": "stream",
     "text": [
      "| dataset | best index| con AUC (SD)| con ACC (SD) | con r with MMSE (SD)| dem AUC (SD)| dem ACC (SD) | dem r with MMSE (SD)| ratio AUC (SD)| ratio ACC (SD) | ratio r with MMSE (SD)|\n",
      "| - | - | - | - | - | - | - | - | - | - | - |\n",
      "| db-25 | 7 | 0.658 (0.0)| 0.606 (0.0) | -0.187 (0.0)| 0.371 (0.0)| 0.394 (0.0) | 0.155 (0.0)| 0.8 (0.0)| 0.758 (0.0) | -0.418 (0.0)|\n",
      "| db-50 | 5 | 0.658 (0.0)| 0.606 (0.0) | -0.187 (0.0)| 0.354 (0.0)| 0.383 (0.0) | 0.204 (0.0)| 0.823 (0.0)| 0.732 (0.0) | -0.386 (0.0)|\n",
      "| db-75 | 2 | 0.658 (0.0)| 0.606 (0.0) | -0.187 (0.0)| 0.413 (0.0)| 0.45 (0.0) | 0.177 (0.0)| 0.712 (0.0)| 0.643 (0.0) | -0.282 (0.0)|\n",
      "| db-100 | 5 | 0.658 (0.0)| 0.606 (0.0) | -0.187 (0.0)| 0.412 (0.0)| 0.405 (0.0) | 0.056 (0.0)| 0.764 (0.0)| 0.706 (0.0) | -0.289 (0.0)|\n"
     ]
    }
   ],
   "source": [
    "find_best_pattern(\"db\", \"first\", \"ratio\")"
   ]
  },
  {
   "cell_type": "code",
   "execution_count": 8,
   "metadata": {},
   "outputs": [
    {
     "name": "stdout",
     "output_type": "stream",
     "text": [
      "| dataset | best index| con AUC (SD)| con ACC (SD) | con r with MMSE (SD)| dem AUC (SD)| dem ACC (SD) | dem r with MMSE (SD)| ratio AUC (SD)| ratio ACC (SD) | ratio r with MMSE (SD)|\n",
      "| - | - | - | - | - | - | - | - | - | - | - |\n",
      "| ccc-25 | 5 | 0.74 (0.0)| 0.646 (0.0) | nan (nan)| 0.642 (0.0)| 0.625 (0.0) | nan (nan)| 0.719 (0.0)| 0.69 (0.0) | nan (nan)|\n",
      "| ccc-50 | 12 | 0.74 (0.0)| 0.646 (0.0) | nan (nan)| 0.569 (0.0)| 0.55 (0.0) | nan (nan)| 0.78 (0.0)| 0.718 (0.0) | nan (nan)|\n",
      "| ccc-75 | 10 | 0.74 (0.0)| 0.646 (0.0) | nan (nan)| 0.453 (0.0)| 0.457 (0.0) | nan (nan)| 0.792 (0.0)| 0.736 (0.0) | nan (nan)|\n",
      "| ccc-100 | 9 | 0.74 (0.0)| 0.646 (0.0) | nan (nan)| 0.59 (0.0)| 0.574 (0.0) | nan (nan)| 0.749 (0.0)| 0.69 (0.0) | nan (nan)|\n"
     ]
    }
   ],
   "source": [
    "find_best_pattern(\"ccc\", \"first\", \"ratio\")"
   ]
  },
  {
   "cell_type": "code",
   "execution_count": 9,
   "metadata": {},
   "outputs": [
    {
     "name": "stdout",
     "output_type": "stream",
     "text": [
      "| dataset | best index| con AUC (SD)| con ACC (SD) | con r with MMSE (SD)| dem AUC (SD)| dem ACC (SD) | dem r with MMSE (SD)| ratio AUC (SD)| ratio ACC (SD) | ratio r with MMSE (SD)|\n",
      "| - | - | - | - | - | - | - | - | - | - | - |\n",
      "| db-25 | 7 | 0.658 (0.0)| 0.606 (0.0) | -0.187 (0.0)| 0.371 (0.0)| 0.394 (0.0) | 0.155 (0.0)| 0.8 (0.0)| 0.758 (0.0) | -0.418 (0.0)|\n",
      "| db-50 | 5 | 0.658 (0.0)| 0.606 (0.0) | -0.187 (0.0)| 0.354 (0.0)| 0.383 (0.0) | 0.204 (0.0)| 0.823 (0.0)| 0.732 (0.0) | -0.386 (0.0)|\n",
      "| db-75 | 2 | 0.658 (0.0)| 0.606 (0.0) | -0.187 (0.0)| 0.413 (0.0)| 0.45 (0.0) | 0.177 (0.0)| 0.712 (0.0)| 0.643 (0.0) | -0.282 (0.0)|\n",
      "| db-100 | 5 | 0.658 (0.0)| 0.606 (0.0) | -0.187 (0.0)| 0.412 (0.0)| 0.405 (0.0) | 0.056 (0.0)| 0.764 (0.0)| 0.706 (0.0) | -0.289 (0.0)|\n"
     ]
    }
   ],
   "source": [
    "find_best_pattern(\"db\", \"first\", \"ratio\")"
   ]
  },
  {
   "cell_type": "code",
   "execution_count": 4,
   "metadata": {},
   "outputs": [
    {
     "name": "stdout",
     "output_type": "stream",
     "text": [
      "| dataset | best index| con AUC (SD)| con ACC (SD) | con r with MMSE (SD)| dem AUC (SD)| dem ACC (SD) | dem r with MMSE (SD)| ratio AUC (SD)| ratio ACC (SD) | ratio r with MMSE (SD)|\n",
      "| - | - | - | - | - | - | - | - | - | - | - |\n",
      "| adr_train-25 | 8 | 0.564 (0.0)| 0.523 (0.0) | -0.268 (0.0)| 0.331 (0.0)| 0.346 (0.0) | 0.137 (0.0)| 0.78 (0.0)| 0.71 (0.0) | -0.522 (0.0)|\n",
      "| adr_train-50 | 9 | 0.564 (0.0)| 0.523 (0.0) | -0.268 (0.0)| 0.324 (0.0)| 0.364 (0.0) | 0.151 (0.0)| 0.749 (0.0)| 0.636 (0.0) | -0.517 (0.0)|\n",
      "| adr_train-75 | 6 | 0.564 (0.0)| 0.523 (0.0) | -0.268 (0.0)| 0.296 (0.0)| 0.374 (0.0) | 0.336 (0.0)| 0.689 (0.0)| 0.636 (0.0) | -0.359 (0.0)|\n",
      "| adr_train-100 | 2 | 0.564 (0.0)| 0.523 (0.0) | -0.268 (0.0)| 0.45 (0.0)| 0.486 (0.0) | -0.053 (0.0)| 0.746 (0.0)| 0.654 (0.0) | -0.57 (0.0)|\n"
     ]
    }
   ],
   "source": [
    "find_best_pattern(\"adr_train\", \"first\", \"ratio\")"
   ]
  },
  {
   "cell_type": "code",
   "execution_count": 5,
   "metadata": {},
   "outputs": [
    {
     "name": "stdout",
     "output_type": "stream",
     "text": [
      "| dataset | best index| con AUC (SD)| con ACC (SD) | con r with MMSE (SD)| dem AUC (SD)| dem ACC (SD) | dem r with MMSE (SD)| ratio AUC (SD)| ratio ACC (SD) | ratio r with MMSE (SD)|\n",
      "| - | - | - | - | - | - | - | - | - | - | - |\n",
      "| adr_test-25 | 5 | 0.759 (0.0)| 0.75 (0.0) | -0.382 (0.0)| 0.415 (0.0)| 0.438 (0.0) | 0.046 (0.0)| 0.87 (0.0)| 0.729 (0.0) | -0.466 (0.0)|\n",
      "| adr_test-50 | 6 | 0.759 (0.0)| 0.75 (0.0) | -0.382 (0.0)| 0.396 (0.0)| 0.396 (0.0) | 0.134 (0.0)| 0.894 (0.0)| 0.833 (0.0) | -0.601 (0.0)|\n",
      "| adr_test-75 | 8 | 0.759 (0.0)| 0.75 (0.0) | -0.382 (0.0)| 0.328 (0.0)| 0.375 (0.0) | 0.318 (0.0)| 0.792 (0.0)| 0.729 (0.0) | -0.498 (0.0)|\n",
      "| adr_test-100 | 4 | 0.759 (0.0)| 0.75 (0.0) | -0.382 (0.0)| 0.521 (0.0)| 0.5 (0.0) | 0.008 (0.0)| 0.87 (0.0)| 0.833 (0.0) | -0.577 (0.0)|\n"
     ]
    }
   ],
   "source": [
    "find_best_pattern(\"adr_test\", \"first\", \"ratio\")"
   ]
  },
  {
   "cell_type": "code",
   "execution_count": 2,
   "metadata": {},
   "outputs": [
    {
     "name": "stdout",
     "output_type": "stream",
     "text": [
      "new ccc version\n",
      "| dataset | best index| con AUC (SD)| con ACC (SD) | con r with MMSE (SD)| dem AUC (SD)| dem ACC (SD) | dem r with MMSE (SD)| ratio AUC (SD)| ratio ACC (SD) | ratio r with MMSE (SD)|\n",
      "| - | - | - | - | - | - | - | - | - | - | - |\n",
      "| ccc-25 | 5 | 0.74 (0.0)| 0.646 (0.0) | nan (nan)| 0.642 (0.0)| 0.625 (0.0) | nan (nan)| 0.719 (0.0)| 0.69 (0.0) | nan (nan)|\n",
      "| ccc-50 | 3 | 0.597 (0.0)| 0.567 (0.0) | nan (nan)| 0.455 (0.0)| 0.454 (0.0) | nan (nan)| 0.715 (0.0)| 0.667 (0.0) | nan (nan)|\n",
      "| ccc-75 | 10 | 0.74 (0.0)| 0.646 (0.0) | nan (nan)| 0.453 (0.0)| 0.457 (0.0) | nan (nan)| 0.792 (0.0)| 0.736 (0.0) | nan (nan)|\n",
      "| ccc-100 | 9 | 0.74 (0.0)| 0.646 (0.0) | nan (nan)| 0.59 (0.0)| 0.574 (0.0) | nan (nan)| 0.749 (0.0)| 0.69 (0.0) | nan (nan)|\n"
     ]
    }
   ],
   "source": [
    "print(\"new ccc version\")\n",
    "find_best_pattern(\"ccc\", \"first\", \"ratio\")"
   ]
  }
 ],
 "metadata": {
  "kernelspec": {
   "display_name": "base",
   "language": "python",
   "name": "base"
  },
  "language_info": {
   "codemirror_mode": {
    "name": "ipython",
    "version": 3
   },
   "file_extension": ".py",
   "mimetype": "text/x-python",
   "name": "python",
   "nbconvert_exporter": "python",
   "pygments_lexer": "ipython3",
   "version": "3.7.6"
  }
 },
 "nbformat": 4,
 "nbformat_minor": 4
}
