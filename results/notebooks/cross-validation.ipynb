{
 "cells": [
  {
   "cell_type": "code",
   "execution_count": 1,
   "metadata": {},
   "outputs": [],
   "source": [
    "import pickle\n",
    "import sys\n",
    "import numpy as np"
   ]
  },
  {
   "cell_type": "code",
   "execution_count": 6,
   "metadata": {},
   "outputs": [],
   "source": [
    "def print_cv_table(data_name, share, zero_style):\n",
    "    \"\"\"\n",
    "    print the dictionary as markdown table,\n",
    "    write cv results to local pickle file\n",
    "\n",
    "    :param data_name: the name of current cv dataset\n",
    "    :type data_name: str\n",
    "    :param zero_style: the style of zeroing attn heads, supporting 'random','first' and 'shuffle'\n",
    "    :type zero_style: str\n",
    "    :param share: the % attention heads to be changed\n",
    "    :type share: int\n",
    "    \"\"\"\n",
    "    pkl_file = \"../ppl/cv_accumu_{}_{}_{}.pkl\".format(data_name,\n",
    "                                                   zero_style,\n",
    "                                                   share)\n",
    "    with open(pkl_file, \"rb\") as handle:\n",
    "        cv_dict = pickle.load(handle)\n",
    "    data_name = data_name+\"-\"+str(share)+\"-\"+zero_style\n",
    "    sys.stdout.write(\"| {} | {:0.3f} ({:0.3f})| {:0.3f} ({:0.3f}) | {:0.3f} ({:0.3f})| {:0.3f} ({:0.3f})| {:0.3f} ({:0.3f}) | {:0.3f} ({:0.3f})| {:0.3f} ({:0.3f})| {:0.2f} ({:0.3f}) | {:0.3f} ({:0.3f})|\\n\".format(\n",
    "        data_name,\n",
    "        np.mean(cv_dict[\"test_con_auc\"]), np.std(cv_dict[\"test_con_auc\"]),\n",
    "        np.mean(cv_dict[\"test_con_accu\"]), np.std(cv_dict[\"test_con_accu\"]),\n",
    "        np.mean(cv_dict[\"test_con_cor\"]), np.std(cv_dict[\"test_con_cor\"]),\n",
    "        np.mean(cv_dict[\"test_dem_auc\"]), np.std(cv_dict[\"test_dem_auc\"]),\n",
    "        np.mean(cv_dict[\"test_dem_accu\"]), np.std(cv_dict[\"test_dem_accu\"]),\n",
    "        np.mean(cv_dict[\"test_dem_cor\"]), np.std(cv_dict[\"test_dem_cor\"]),\n",
    "        np.mean(cv_dict[\"test_ratio_auc\"]), np.std(cv_dict[\"test_ratio_auc\"]),\n",
    "        np.mean(cv_dict[\"test_ratio_accu\"]), np.std(cv_dict[\"test_ratio_accu\"]),\n",
    "        np.mean(cv_dict[\"test_ratio_cor\"]), np.std(cv_dict[\"test_ratio_cor\"])\n",
    "    ))"
   ]
  },
  {
   "cell_type": "code",
   "execution_count": 7,
   "metadata": {},
   "outputs": [
    {
     "name": "stdout",
     "output_type": "stream",
     "text": [
      "| dataset | con AUC (SD)| con ACC (SD) | con r with MMSE (SD)| dem AUC (SD)| dem ACC (SD) | dem r with MMSE (SD)| ratio AUC (SD)| ratio ACC (SD) | ratio r with MMSE (SD)|\n",
      "| - | - | - | - | - | - | - | - | - | - |\n",
      "| adr-25-first | 0.614 (0.054)| 0.587 (0.061) | -0.247 (0.189)| 0.416 (0.061)| 0.413 (0.071) | 0.061 (0.243)| 0.769 (0.099)| 0.69 (0.126) | -0.509 (0.091)|\n",
      "| adr-50-first | 0.614 (0.095)| 0.547 (0.102) | -0.247 (0.194)| 0.367 (0.110)| 0.413 (0.103) | 0.151 (0.267)| 0.794 (0.040)| 0.72 (0.043) | -0.567 (0.070)|\n",
      "| adr-75-first | 0.620 (0.067)| 0.574 (0.090) | -0.212 (0.212)| 0.267 (0.047)| 0.329 (0.066) | 0.357 (0.048)| 0.743 (0.045)| 0.71 (0.035) | -0.398 (0.196)|\n",
      "| adr-100-first | 0.621 (0.092)| 0.612 (0.105) | -0.234 (0.175)| 0.440 (0.053)| 0.439 (0.072) | 0.116 (0.157)| 0.738 (0.101)| 0.64 (0.150) | -0.473 (0.117)|\n",
      "| db-25-first | 0.574 (0.096)| 0.553 (0.084) | -0.111 (0.175)| 0.430 (0.053)| 0.456 (0.045) | 0.060 (0.178)| 0.745 (0.076)| 0.69 (0.040) | -0.358 (0.064)|\n",
      "| db-50-first | 0.574 (0.096)| 0.553 (0.084) | -0.111 (0.175)| 0.409 (0.084)| 0.444 (0.084) | 0.127 (0.195)| 0.690 (0.072)| 0.63 (0.050) | -0.306 (0.092)|\n",
      "| db-75-first | 0.574 (0.096)| 0.553 (0.084) | -0.111 (0.175)| 0.307 (0.087)| 0.391 (0.089) | 0.341 (0.194)| 0.690 (0.080)| 0.61 (0.068) | -0.298 (0.132)|\n",
      "| db-100-first | 0.574 (0.096)| 0.553 (0.084) | -0.111 (0.175)| 0.431 (0.059)| 0.448 (0.068) | 0.044 (0.155)| 0.732 (0.070)| 0.69 (0.058) | -0.368 (0.081)|\n",
      "| ccc-25-first | 0.734 (0.057)| 0.649 (0.040) | nan (nan)| 0.647 (0.064)| 0.628 (0.066) | nan (nan)| 0.712 (0.047)| 0.68 (0.038) | nan (nan)|\n",
      "| ccc-50-first | 0.747 (0.043)| 0.661 (0.053) | nan (nan)| 0.610 (0.068)| 0.594 (0.073) | nan (nan)| 0.770 (0.047)| 0.70 (0.049) | nan (nan)|\n",
      "| ccc-75-first | 0.744 (0.059)| 0.667 (0.062) | nan (nan)| 0.482 (0.069)| 0.481 (0.035) | nan (nan)| 0.766 (0.048)| 0.72 (0.072) | nan (nan)|\n",
      "| ccc-100-first | 0.739 (0.028)| 0.653 (0.051) | nan (nan)| 0.510 (0.053)| 0.509 (0.029) | nan (nan)| 0.787 (0.012)| 0.71 (0.036) | nan (nan)|\n"
     ]
    }
   ],
   "source": [
    "zero_style = \"first\"\n",
    "sys.stdout.write(\"| dataset | con AUC (SD)| con ACC (SD) | con r with MMSE (SD)| dem AUC (SD)| dem ACC (SD) | dem r with MMSE (SD)| ratio AUC (SD)| ratio ACC (SD) | ratio r with MMSE (SD)|\\n\")\n",
    "sys.stdout.write(\"| - | - | - | - | - | - | - | - | - | - |\\n\")\n",
    "for data_name in (\"adr\", \"db\", \"ccc\"):\n",
    "    for share in (25, 50, 75, 100):\n",
    "        print_table(data_name, share, zero_style)"
   ]
  },
  {
   "cell_type": "code",
   "execution_count": null,
   "metadata": {},
   "outputs": [],
   "source": []
  }
 ],
 "metadata": {
  "kernelspec": {
   "display_name": "base",
   "language": "python",
   "name": "base"
  },
  "language_info": {
   "codemirror_mode": {
    "name": "ipython",
    "version": 3
   },
   "file_extension": ".py",
   "mimetype": "text/x-python",
   "name": "python",
   "nbconvert_exporter": "python",
   "pygments_lexer": "ipython3",
   "version": "3.7.6"
  }
 },
 "nbformat": 4,
 "nbformat_minor": 4
}
