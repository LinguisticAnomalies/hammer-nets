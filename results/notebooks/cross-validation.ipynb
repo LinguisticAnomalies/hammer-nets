{
 "cells": [
  {
   "cell_type": "code",
   "execution_count": 6,
   "metadata": {},
   "outputs": [],
   "source": [
    "import pickle\n",
    "import sys\n",
    "import numpy as np"
   ]
  },
  {
   "cell_type": "code",
   "execution_count": 14,
   "metadata": {},
   "outputs": [],
   "source": [
    "def print_table(data_name, share, zero_style):\n",
    "    \"\"\"\n",
    "    print the dictionary as markdown table,\n",
    "    write cv results to local pickle file\n",
    "\n",
    "    :param data_name: the name of current cv dataset\n",
    "    :type data_name: str\n",
    "    :param zero_style: the style of zeroing attn heads, supporting 'random','first' and 'shuffle'\n",
    "    :type zero_style: str\n",
    "    :param share: the % attention heads to be changed\n",
    "    :type share: int\n",
    "    \"\"\"\n",
    "    pkl_file = \"../ppl/accumu_{}_{}_{}.pkl\".format(data_name,\n",
    "                                                   zero_style,\n",
    "                                                   share)\n",
    "    with open(pkl_file, \"rb\") as handle:\n",
    "        cv_dict = pickle.load(handle)\n",
    "    data_name = data_name+\"-\"+str(share)+\"-\"+zero_style\n",
    "    sys.stdout.write(\"| {} | 0/0 | {:0.2f} ({:0.2f})| {:0.2f} ({:0.2f}) | {:0.2f} ({:0.2f})| {:0.2f} ({:0.2f})| {:0.2f} ({:0.2f}) | {:0.2f} ({:0.2f})| {:0.2f} ({:0.2f})| {:0.2f} ({:0.2f}) | {:0.2f} ({:0.2f})|\\n\".format(\n",
    "        data_name,\n",
    "        np.mean(cv_dict[\"con_auc\"]), np.std(cv_dict[\"con_auc\"]),\n",
    "        np.mean(cv_dict[\"con_accu\"]), np.std(cv_dict[\"con_accu\"]),\n",
    "        np.mean(cv_dict[\"con_cor\"]), np.std(cv_dict[\"con_cor\"]),\n",
    "        np.mean(cv_dict[\"dem_auc\"]), np.std(cv_dict[\"dem_auc\"]),\n",
    "        np.mean(cv_dict[\"dem_accu\"]), np.std(cv_dict[\"dem_accu\"]),\n",
    "        np.mean(cv_dict[\"dem_cor\"]), np.std(cv_dict[\"dem_cor\"]),\n",
    "        np.mean(cv_dict[\"ratio_auc\"]), np.std(cv_dict[\"ratio_auc\"]),\n",
    "        np.mean(cv_dict[\"ratio_accu\"]), np.std(cv_dict[\"ratio_accu\"]),\n",
    "        np.mean(cv_dict[\"ratio_cor\"]), np.std(cv_dict[\"ratio_cor\"])\n",
    "    ))"
   ]
  },
  {
   "cell_type": "code",
   "execution_count": 15,
   "metadata": {},
   "outputs": [
    {
     "name": "stdout",
     "output_type": "stream",
     "text": [
      "| dataset | mmse (control/dementia)| con AUC (SD)| con ACC (SD) | con r with MMSE (SD)| dem AUC (SD)| dem ACC (SD) | dem r with MMSE (SD)| ratio AUC (SD)| ratio ACC (SD) | ratio r with MMSE (SD)|\n",
      "| - | - | - | - | - | - | - | - | - | - | - |\n",
      "| adr-25-first | 0/0 | 0.62 (0.00)| 0.61 (0.00) | -0.29 (0.00)| 0.45 (0.05)| 0.44 (0.05) | -0.06 (0.07)| 0.73 (0.05)| 0.65 (0.04) | -0.42 (0.09)|\n",
      "| adr-50-first | 0/0 | 0.62 (0.00)| 0.61 (0.00) | -0.29 (0.00)| 0.41 (0.05)| 0.45 (0.03) | 0.03 (0.09)| 0.75 (0.05)| 0.66 (0.05) | -0.46 (0.10)|\n",
      "| adr-75-first | 0/0 | 0.62 (0.00)| 0.61 (0.00) | -0.29 (0.00)| 0.35 (0.08)| 0.39 (0.05) | 0.20 (0.15)| 0.71 (0.03)| 0.64 (0.04) | -0.39 (0.07)|\n",
      "| adr-100-first | 0/0 | 0.62 (0.00)| 0.61 (0.00) | -0.29 (0.00)| 0.49 (0.05)| 0.51 (0.04) | -0.03 (0.11)| 0.67 (0.06)| 0.61 (0.06) | -0.31 (0.15)|\n",
      "| adr-25-random | 0/0 | 0.62 (0.00)| 0.61 (0.00) | -0.29 (0.00)| 0.60 (0.01)| 0.59 (0.01) | -0.26 (0.02)| 0.60 (0.05)| 0.59 (0.04) | -0.15 (0.10)|\n",
      "| adr-50-random | 0/0 | 0.62 (0.00)| 0.61 (0.00) | -0.29 (0.00)| 0.51 (0.04)| 0.51 (0.03) | -0.10 (0.08)| 0.70 (0.05)| 0.64 (0.04) | -0.38 (0.10)|\n",
      "| adr-75-random | 0/0 | 0.62 (0.00)| 0.61 (0.00) | -0.29 (0.00)| 0.52 (0.03)| 0.53 (0.03) | -0.06 (0.09)| 0.71 (0.05)| 0.64 (0.03) | -0.40 (0.09)|\n",
      "| adr-100-random | 0/0 | 0.62 (0.00)| 0.61 (0.00) | -0.29 (0.00)| 0.49 (0.05)| 0.51 (0.04) | -0.03 (0.11)| 0.67 (0.06)| 0.61 (0.06) | -0.31 (0.15)|\n",
      "| db-25-first | 0/0 | 0.58 (0.00)| 0.56 (0.00) | -0.12 (0.00)| 0.47 (0.04)| 0.49 (0.04) | -0.04 (0.05)| 0.69 (0.05)| 0.66 (0.04) | -0.24 (0.09)|\n",
      "| db-50-first | 0/0 | 0.58 (0.00)| 0.56 (0.00) | -0.12 (0.00)| 0.47 (0.06)| 0.48 (0.04) | -0.00 (0.08)| 0.64 (0.05)| 0.60 (0.03) | -0.21 (0.09)|\n",
      "| db-75-first | 0/0 | 0.58 (0.00)| 0.56 (0.00) | -0.12 (0.00)| 0.41 (0.09)| 0.44 (0.07) | 0.10 (0.15)| 0.64 (0.06)| 0.60 (0.04) | -0.19 (0.10)|\n",
      "| db-100-first | 0/0 | 0.58 (0.00)| 0.56 (0.00) | -0.12 (0.00)| 0.48 (0.05)| 0.49 (0.04) | -0.05 (0.04)| 0.65 (0.08)| 0.61 (0.07) | -0.22 (0.13)|\n",
      "| db-25-random | 0/0 | 0.58 (0.00)| 0.56 (0.00) | -0.12 (0.00)| 0.57 (0.01)| 0.56 (0.01) | -0.12 (0.01)| 0.55 (0.04)| 0.53 (0.04) | -0.00 (0.07)|\n",
      "| db-50-random | 0/0 | 0.58 (0.00)| 0.56 (0.00) | -0.12 (0.00)| 0.50 (0.03)| 0.51 (0.03) | -0.03 (0.04)| 0.61 (0.02)| 0.60 (0.02) | -0.21 (0.04)|\n",
      "| db-75-random | 0/0 | 0.58 (0.00)| 0.56 (0.00) | -0.12 (0.00)| 0.50 (0.04)| 0.50 (0.03) | -0.03 (0.04)| 0.64 (0.05)| 0.58 (0.05) | -0.26 (0.09)|\n",
      "| db-100-random | 0/0 | 0.58 (0.00)| 0.56 (0.00) | -0.12 (0.00)| 0.48 (0.05)| 0.49 (0.04) | -0.05 (0.04)| 0.65 (0.08)| 0.61 (0.07) | -0.22 (0.13)|\n",
      "| ccc-25-first | 0/0 | 0.74 (0.00)| 0.65 (0.00) | nan (nan)| 0.67 (0.02)| 0.63 (0.02) | nan (nan)| 0.69 (0.02)| 0.65 (0.02) | nan (nan)|\n",
      "| ccc-50-first | 0/0 | 0.74 (0.00)| 0.65 (0.00) | nan (nan)| 0.64 (0.02)| 0.60 (0.02) | nan (nan)| 0.72 (0.04)| 0.67 (0.03) | nan (nan)|\n",
      "| ccc-75-first | 0/0 | 0.74 (0.00)| 0.65 (0.00) | nan (nan)| 0.55 (0.06)| 0.54 (0.05) | nan (nan)| 0.73 (0.05)| 0.68 (0.04) | nan (nan)|\n",
      "| ccc-100-first | 0/0 | 0.74 (0.00)| 0.65 (0.00) | nan (nan)| 0.59 (0.11)| 0.56 (0.08) | nan (nan)| 0.65 (0.14)| 0.61 (0.11) | nan (nan)|\n",
      "| ccc-25-random | 0/0 | 0.74 (0.00)| 0.65 (0.00) | nan (nan)| 0.74 (0.00)| 0.65 (0.01) | nan (nan)| 0.54 (0.04)| 0.53 (0.04) | nan (nan)|\n",
      "| ccc-50-random | 0/0 | 0.74 (0.00)| 0.65 (0.00) | nan (nan)| 0.69 (0.02)| 0.64 (0.02) | nan (nan)| 0.60 (0.07)| 0.58 (0.06) | nan (nan)|\n",
      "| ccc-75-random | 0/0 | 0.74 (0.00)| 0.65 (0.00) | nan (nan)| 0.68 (0.04)| 0.62 (0.04) | nan (nan)| 0.59 (0.10)| 0.57 (0.08) | nan (nan)|\n",
      "| ccc-100-random | 0/0 | 0.74 (0.00)| 0.65 (0.00) | nan (nan)| 0.59 (0.11)| 0.56 (0.08) | nan (nan)| 0.65 (0.14)| 0.61 (0.11) | nan (nan)|\n"
     ]
    }
   ],
   "source": [
    "sys.stdout.write(\"| dataset | mmse (control/dementia)| con AUC (SD)| con ACC (SD) | con r with MMSE (SD)| dem AUC (SD)| dem ACC (SD) | dem r with MMSE (SD)| ratio AUC (SD)| ratio ACC (SD) | ratio r with MMSE (SD)|\\n\")\n",
    "sys.stdout.write(\"| - | - | - | - | - | - | - | - | - | - | - |\\n\")\n",
    "for data_name in (\"adr\", \"db\", \"ccc\"):\n",
    "    for zero_style in (\"first\", \"random\"):\n",
    "        for share in (25, 50, 75, 100):\n",
    "            print_table(data_name, share, zero_style)"
   ]
  }
 ],
 "metadata": {
  "kernelspec": {
   "display_name": "base",
   "language": "python",
   "name": "base"
  },
  "language_info": {
   "codemirror_mode": {
    "name": "ipython",
    "version": 3
   },
   "file_extension": ".py",
   "mimetype": "text/x-python",
   "name": "python",
   "nbconvert_exporter": "python",
   "pygments_lexer": "ipython3",
   "version": "3.7.6"
  }
 },
 "nbformat": 4,
 "nbformat_minor": 4
}
