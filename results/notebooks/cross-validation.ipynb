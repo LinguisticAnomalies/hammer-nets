{
 "cells": [
  {
   "cell_type": "code",
   "execution_count": 1,
   "metadata": {},
   "outputs": [],
   "source": [
    "import pickle\n",
    "import sys\n",
    "import numpy as np"
   ]
  },
  {
   "cell_type": "code",
   "execution_count": 2,
   "metadata": {},
   "outputs": [],
   "source": [
    "def print_cv_table(data_name, share, zero_style):\n",
    "    \"\"\"\n",
    "    print the dictionary as markdown table,\n",
    "    write cv results to local pickle file\n",
    "\n",
    "    :param data_name: the name of current cv dataset\n",
    "    :type data_name: str\n",
    "    :param zero_style: the style of zeroing attn heads, supporting 'random','first' and 'shuffle'\n",
    "    :type zero_style: str\n",
    "    :param share: the % attention heads to be changed\n",
    "    :type share: int\n",
    "    \"\"\"\n",
    "    pkl_file = \"../ppl/cv_accumu_{}_{}_{}.pkl\".format(data_name,\n",
    "                                                   zero_style,\n",
    "                                                   share)\n",
    "    with open(pkl_file, \"rb\") as handle:\n",
    "        cv_dict = pickle.load(handle)\n",
    "    data_name = data_name+\"-\"+str(share)+\"-\"+zero_style\n",
    "    sys.stdout.write(\"| {} | {:0.3f} ({:0.3f})| {:0.3f} ({:0.3f}) | {:0.3f} ({:0.3f})| {:0.3f} ({:0.3f})| {:0.3f} ({:0.3f}) | {:0.3f} ({:0.3f})| {:0.3f} ({:0.3f})| {:0.2f} ({:0.3f}) | {:0.3f} ({:0.3f})|\\n\".format(\n",
    "        data_name,\n",
    "        np.mean(cv_dict[\"test_con_auc\"]), np.std(cv_dict[\"test_con_auc\"]),\n",
    "        np.mean(cv_dict[\"test_con_accu\"]), np.std(cv_dict[\"test_con_accu\"]),\n",
    "        np.mean(cv_dict[\"test_con_cor\"]), np.std(cv_dict[\"test_con_cor\"]),\n",
    "        np.mean(cv_dict[\"test_dem_auc\"]), np.std(cv_dict[\"test_dem_auc\"]),\n",
    "        np.mean(cv_dict[\"test_dem_accu\"]), np.std(cv_dict[\"test_dem_accu\"]),\n",
    "        np.mean(cv_dict[\"test_dem_cor\"]), np.std(cv_dict[\"test_dem_cor\"]),\n",
    "        np.mean(cv_dict[\"test_ratio_auc\"]), np.std(cv_dict[\"test_ratio_auc\"]),\n",
    "        np.mean(cv_dict[\"test_ratio_accu\"]), np.std(cv_dict[\"test_ratio_accu\"]),\n",
    "        np.mean(cv_dict[\"test_ratio_cor\"]), np.std(cv_dict[\"test_ratio_cor\"])\n",
    "    ))"
   ]
  },
  {
   "cell_type": "code",
   "execution_count": 3,
   "metadata": {},
   "outputs": [
    {
     "name": "stdout",
     "output_type": "stream",
     "text": [
      "| dataset | con AUC (SD)| con ACC (SD) | con r with MMSE (SD)| dem AUC (SD)| dem ACC (SD) | dem r with MMSE (SD)| ratio AUC (SD)| ratio ACC (SD) | ratio r with MMSE (SD)|\n",
      "| - | - | - | - | - | - | - | - | - | - |\n",
      "| adr-25-first | 0.614 (0.054)| 0.587 (0.061) | -0.247 (0.189)| 0.416 (0.061)| 0.413 (0.071) | 0.061 (0.243)| 0.769 (0.099)| 0.69 (0.126) | -0.509 (0.091)|\n",
      "| db_c-25-first | 0.663 (0.016)| 0.599 (0.033) | -0.205 (0.158)| 0.419 (0.071)| 0.420 (0.051) | 0.090 (0.139)| 0.789 (0.056)| 0.73 (0.070) | -0.434 (0.091)|\n",
      "| ccc-25-first | 0.734 (0.057)| 0.649 (0.040) | nan (nan)| 0.647 (0.064)| 0.628 (0.066) | nan (nan)| 0.712 (0.047)| 0.68 (0.038) | nan (nan)|\n",
      "| adr-50-first | 0.614 (0.095)| 0.547 (0.102) | -0.247 (0.194)| 0.367 (0.110)| 0.413 (0.103) | 0.151 (0.267)| 0.794 (0.040)| 0.72 (0.043) | -0.567 (0.070)|\n",
      "| db_c-50-first | 0.653 (0.081)| 0.606 (0.077) | -0.193 (0.144)| 0.398 (0.077)| 0.431 (0.074) | 0.140 (0.096)| 0.805 (0.068)| 0.71 (0.074) | -0.424 (0.118)|\n",
      "| ccc-50-first | 0.747 (0.043)| 0.661 (0.053) | nan (nan)| 0.610 (0.068)| 0.594 (0.073) | nan (nan)| 0.770 (0.047)| 0.70 (0.049) | nan (nan)|\n",
      "| adr-75-first | 0.620 (0.067)| 0.574 (0.090) | -0.212 (0.212)| 0.267 (0.047)| 0.329 (0.066) | 0.357 (0.048)| 0.743 (0.045)| 0.71 (0.035) | -0.398 (0.196)|\n",
      "| db_c-75-first | 0.650 (0.061)| 0.621 (0.056) | -0.183 (0.109)| 0.351 (0.116)| 0.390 (0.093) | 0.278 (0.200)| 0.740 (0.091)| 0.72 (0.098) | -0.332 (0.142)|\n",
      "| ccc-75-first | 0.744 (0.059)| 0.667 (0.062) | nan (nan)| 0.482 (0.069)| 0.481 (0.035) | nan (nan)| 0.766 (0.048)| 0.72 (0.072) | nan (nan)|\n",
      "| adr-100-first | 0.621 (0.092)| 0.612 (0.105) | -0.234 (0.175)| 0.440 (0.053)| 0.439 (0.072) | 0.116 (0.157)| 0.738 (0.101)| 0.64 (0.150) | -0.473 (0.117)|\n",
      "| db_c-100-first | 0.680 (0.037)| 0.650 (0.044) | -0.218 (0.155)| 0.463 (0.094)| 0.467 (0.099) | 0.033 (0.142)| 0.742 (0.061)| 0.71 (0.050) | -0.364 (0.062)|\n",
      "| ccc-100-first | 0.739 (0.028)| 0.653 (0.051) | nan (nan)| 0.510 (0.053)| 0.509 (0.029) | nan (nan)| 0.787 (0.012)| 0.71 (0.036) | nan (nan)|\n"
     ]
    }
   ],
   "source": [
    "# zeroing attn weight matix only\n",
    "zero_style = \"first\"\n",
    "sys.stdout.write(\"| dataset | con AUC (SD)| con ACC (SD) | con r with MMSE (SD)| dem AUC (SD)| dem ACC (SD) | dem r with MMSE (SD)| ratio AUC (SD)| ratio ACC (SD) | ratio r with MMSE (SD)|\\n\")\n",
    "sys.stdout.write(\"| - | - | - | - | - | - | - | - | - | - |\\n\")\n",
    "for share in (25, 50, 75, 100):\n",
    "    for data_name in (\"adr\", \"db\", \"ccc\"):\n",
    "        print_cv_table(data_name, share, zero_style)"
   ]
  },
  {
   "cell_type": "code",
   "execution_count": 3,
   "metadata": {},
   "outputs": [
    {
     "name": "stdout",
     "output_type": "stream",
     "text": [
      "| dataset | con AUC (SD)| con ACC (SD) | con r with MMSE (SD)| dem AUC (SD)| dem ACC (SD) | dem r with MMSE (SD)| ratio AUC (SD)| ratio ACC (SD) | ratio r with MMSE (SD)|\n",
      "| - | - | - | - | - | - | - | - | - | - |\n",
      "| ccc-25-first | 0.581 (0.095)| 0.525 (0.057) | nan (nan)| 0.468 (0.107)| 0.418 (0.184) | nan (nan)| 0.714 (0.054)| 0.68 (0.035) | nan (nan)|\n",
      "| adr-25-first | 0.622 (0.072)| 0.593 (0.117) | -0.226 (0.212)| 0.357 (0.090)| 0.387 (0.042) | 0.167 (0.160)| 0.799 (0.072)| 0.71 (0.122) | -0.528 (0.138)|\n",
      "| db_c-25-first | 0.659 (0.090)| 0.643 (0.089) | -0.192 (0.118)| 0.367 (0.052)| 0.390 (0.051) | 0.165 (0.130)| 0.794 (0.054)| 0.74 (0.052) | -0.413 (0.164)|\n",
      "| ccc-50-first | 0.609 (0.077)| 0.589 (0.031) | nan (nan)| 0.473 (0.084)| 0.468 (0.132) | nan (nan)| 0.720 (0.038)| 0.64 (0.092) | nan (nan)|\n",
      "| adr-50-first | 0.632 (0.044)| 0.613 (0.081) | -0.199 (0.231)| 0.361 (0.063)| 0.464 (0.092) | 0.169 (0.282)| 0.792 (0.024)| 0.68 (0.025) | -0.511 (0.046)|\n",
      "| db_c-50-first | 0.664 (0.072)| 0.643 (0.098) | -0.188 (0.190)| 0.333 (0.071)| 0.375 (0.049) | 0.255 (0.115)| 0.828 (0.020)| 0.73 (0.018) | -0.409 (0.136)|\n",
      "| ccc-75-first | 0.581 (0.137)| 0.578 (0.049) | nan (nan)| 0.430 (0.139)| 0.440 (0.130) | nan (nan)| 0.633 (0.066)| 0.61 (0.083) | nan (nan)|\n",
      "| adr-75-first | 0.614 (0.055)| 0.588 (0.096) | -0.265 (0.102)| 0.289 (0.053)| 0.368 (0.071) | 0.363 (0.159)| 0.719 (0.040)| 0.62 (0.055) | -0.397 (0.165)|\n",
      "| db_c-75-first | 0.649 (0.093)| 0.583 (0.070) | -0.192 (0.082)| 0.313 (0.059)| 0.371 (0.054) | 0.321 (0.174)| 0.744 (0.050)| 0.69 (0.050) | -0.319 (0.140)|\n",
      "| ccc-100-first | 0.599 (0.085)| 0.571 (0.082) | nan (nan)| 0.557 (0.082)| 0.519 (0.085) | nan (nan)| 0.569 (0.136)| 0.57 (0.134) | nan (nan)|\n",
      "| adr-100-first | 0.618 (0.083)| 0.594 (0.012) | -0.205 (0.201)| 0.450 (0.096)| 0.475 (0.147) | 0.081 (0.264)| 0.762 (0.093)| 0.69 (0.100) | -0.512 (0.060)|\n",
      "| db_c-100-first | 0.666 (0.077)| 0.603 (0.092) | -0.197 (0.076)| 0.412 (0.065)| 0.390 (0.062) | 0.033 (0.144)| 0.765 (0.036)| 0.68 (0.047) | -0.332 (0.133)|\n"
     ]
    }
   ],
   "source": [
    "# zeroing attn weight + bias\n",
    "zero_style = \"first\"\n",
    "sys.stdout.write(\"| dataset | con AUC (SD)| con ACC (SD) | con r with MMSE (SD)| dem AUC (SD)| dem ACC (SD) | dem r with MMSE (SD)| ratio AUC (SD)| ratio ACC (SD) | ratio r with MMSE (SD)|\\n\")\n",
    "sys.stdout.write(\"| - | - | - | - | - | - | - | - | - | - |\\n\")\n",
    "for share in (25, 50, 75, 100):\n",
    "    print_cv_table(\"ccc\", share, zero_style)\n",
    "    print_cv_table(\"adr\", share, zero_style)\n",
    "    print_cv_table(\"db_c\", share, zero_style)"
   ]
  }
 ],
 "metadata": {
  "kernelspec": {
   "display_name": "base",
   "language": "python",
   "name": "base"
  },
  "language_info": {
   "codemirror_mode": {
    "name": "ipython",
    "version": 3
   },
   "file_extension": ".py",
   "mimetype": "text/x-python",
   "name": "python",
   "nbconvert_exporter": "python",
   "pygments_lexer": "ipython3",
   "version": "3.7.6"
  }
 },
 "nbformat": 4,
 "nbformat_minor": 4
}
