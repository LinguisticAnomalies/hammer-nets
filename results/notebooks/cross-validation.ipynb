{
 "cells": [
  {
   "cell_type": "code",
   "execution_count": 1,
   "metadata": {},
   "outputs": [],
   "source": [
    "import pickle\n",
    "import sys\n",
    "import numpy as np"
   ]
  },
  {
   "cell_type": "code",
   "execution_count": 2,
   "metadata": {},
   "outputs": [],
   "source": [
    "def print_cv_table(data_name, share, zero_style):\n",
    "    \"\"\"\n",
    "    print the dictionary as markdown table,\n",
    "    write cv results to local pickle file\n",
    "\n",
    "    :param data_name: the name of current cv dataset\n",
    "    :type data_name: str\n",
    "    :param zero_style: the style of zeroing attn heads, supporting 'random','first' and 'shuffle'\n",
    "    :type zero_style: str\n",
    "    :param share: the % attention heads to be changed\n",
    "    :type share: int\n",
    "    \"\"\"\n",
    "    pkl_file = \"../ppl/cv_accumu_{}_{}_{}.pkl\".format(data_name,\n",
    "                                                   zero_style,\n",
    "                                                   share)\n",
    "    with open(pkl_file, \"rb\") as handle:\n",
    "        cv_dict = pickle.load(handle)\n",
    "    data_name = data_name+\"-\"+str(share)+\"-\"+zero_style\n",
    "    sys.stdout.write(\"| {} | {:0.3f} ({:0.3f})| {:0.3f} ({:0.3f}) | {:0.3f} ({:0.3f})| {:0.3f} ({:0.3f})| {:0.3f} ({:0.3f}) | {:0.3f} ({:0.3f})| {:0.3f} ({:0.3f})| {:0.2f} ({:0.3f}) | {:0.3f} ({:0.3f})|\\n\".format(\n",
    "        data_name,\n",
    "        np.mean(cv_dict[\"test_con_auc\"]), np.std(cv_dict[\"test_con_auc\"]),\n",
    "        np.mean(cv_dict[\"test_con_accu\"]), np.std(cv_dict[\"test_con_accu\"]),\n",
    "        np.mean(cv_dict[\"test_con_cor\"]), np.std(cv_dict[\"test_con_cor\"]),\n",
    "        np.mean(cv_dict[\"test_dem_auc\"]), np.std(cv_dict[\"test_dem_auc\"]),\n",
    "        np.mean(cv_dict[\"test_dem_accu\"]), np.std(cv_dict[\"test_dem_accu\"]),\n",
    "        np.mean(cv_dict[\"test_dem_cor\"]), np.std(cv_dict[\"test_dem_cor\"]),\n",
    "        np.mean(cv_dict[\"test_ratio_auc\"]), np.std(cv_dict[\"test_ratio_auc\"]),\n",
    "        np.mean(cv_dict[\"test_ratio_accu\"]), np.std(cv_dict[\"test_ratio_accu\"]),\n",
    "        np.mean(cv_dict[\"test_ratio_cor\"]), np.std(cv_dict[\"test_ratio_cor\"])\n",
    "    ))"
   ]
  },
  {
   "cell_type": "code",
   "execution_count": 5,
   "metadata": {},
   "outputs": [
    {
     "name": "stdout",
     "output_type": "stream",
     "text": [
      "| dataset | con AUC (SD)| con ACC (SD) | con r with MMSE (SD)| dem AUC (SD)| dem ACC (SD) | dem r with MMSE (SD)| ratio AUC (SD)| ratio ACC (SD) | ratio r with MMSE (SD)|\n",
      "| - | - | - | - | - | - | - | - | - | - |\n",
      "| db_s-25-first | 0.574 (0.096)| 0.553 (0.084) | -0.111 (0.175)| 0.430 (0.053)| 0.456 (0.045) | 0.060 (0.178)| 0.745 (0.076)| 0.69 (0.040) | -0.358 (0.064)|\n",
      "| db_c-25-first | 0.583 (0.080)| 0.560 (0.042) | -0.108 (0.148)| 0.425 (0.072)| 0.470 (0.074) | 0.052 (0.177)| 0.741 (0.058)| 0.69 (0.024) | -0.362 (0.125)|\n",
      "| db_full_s-25-first | 0.657 (0.084)| 0.647 (0.068) | -0.193 (0.176)| 0.413 (0.076)| 0.439 (0.046) | 0.091 (0.191)| 0.783 (0.062)| 0.74 (0.045) | -0.442 (0.079)|\n",
      "| db_full_c-25-first | 0.668 (0.082)| 0.639 (0.079) | -0.195 (0.178)| 0.454 (0.045)| 0.475 (0.087) | 0.076 (0.113)| 0.757 (0.055)| 0.71 (0.032) | -0.419 (0.156)|\n",
      "| db_s-50-first | 0.574 (0.096)| 0.553 (0.084) | -0.111 (0.175)| 0.409 (0.084)| 0.444 (0.084) | 0.127 (0.195)| 0.690 (0.072)| 0.63 (0.050) | -0.306 (0.092)|\n",
      "| db_c-50-first | 0.581 (0.025)| 0.575 (0.069) | -0.105 (0.120)| 0.512 (0.126)| 0.567 (0.113) | -0.008 (0.231)| 0.582 (0.118)| 0.57 (0.112) | -0.092 (0.231)|\n",
      "| db_full_s-50-first | 0.657 (0.084)| 0.647 (0.068) | -0.193 (0.176)| 0.440 (0.167)| 0.475 (0.145) | 0.112 (0.260)| 0.751 (0.076)| 0.69 (0.094) | -0.400 (0.101)|\n",
      "| db_full_c-50-first | 0.678 (0.057)| 0.617 (0.030) | -0.204 (0.122)| 0.425 (0.060)| 0.450 (0.039) | 0.161 (0.120)| 0.799 (0.038)| 0.73 (0.048) | -0.456 (0.136)|\n",
      "| db_s-75-first | 0.574 (0.096)| 0.553 (0.084) | -0.111 (0.175)| 0.307 (0.087)| 0.391 (0.089) | 0.341 (0.194)| 0.690 (0.080)| 0.61 (0.068) | -0.298 (0.132)|\n",
      "| db_c-75-first | 0.573 (0.047)| 0.571 (0.052) | -0.109 (0.081)| 0.372 (0.095)| 0.433 (0.083) | 0.233 (0.204)| 0.657 (0.038)| 0.60 (0.078) | -0.228 (0.053)|\n",
      "| db_full_s-75-first | 0.657 (0.084)| 0.647 (0.068) | -0.193 (0.176)| 0.292 (0.087)| 0.375 (0.085) | 0.361 (0.144)| 0.772 (0.082)| 0.74 (0.083) | -0.355 (0.042)|\n",
      "| db_full_c-75-first | 0.662 (0.082)| 0.620 (0.092) | -0.200 (0.116)| 0.315 (0.026)| 0.427 (0.030) | 0.362 (0.135)| 0.767 (0.061)| 0.73 (0.055) | -0.329 (0.129)|\n",
      "| db_s-100-first | 0.574 (0.096)| 0.553 (0.084) | -0.111 (0.175)| 0.431 (0.059)| 0.448 (0.068) | 0.044 (0.155)| 0.732 (0.070)| 0.69 (0.058) | -0.368 (0.081)|\n",
      "| db_c-100-first | 0.579 (0.080)| 0.578 (0.102) | -0.114 (0.042)| 0.419 (0.081)| 0.454 (0.075) | 0.053 (0.080)| 0.739 (0.055)| 0.68 (0.046) | -0.380 (0.077)|\n",
      "| db_full_s-100-first | 0.657 (0.084)| 0.647 (0.068) | -0.193 (0.176)| 0.403 (0.055)| 0.387 (0.048) | 0.071 (0.154)| 0.778 (0.050)| 0.70 (0.050) | -0.363 (0.043)|\n",
      "| db_full_c-100-first | 0.677 (0.076)| 0.604 (0.079) | -0.182 (0.044)| 0.413 (0.046)| 0.410 (0.043) | 0.087 (0.084)| 0.772 (0.028)| 0.68 (0.060) | -0.364 (0.107)|\n"
     ]
    }
   ],
   "source": [
    "zero_style = \"first\"\n",
    "sys.stdout.write(\"| dataset | con AUC (SD)| con ACC (SD) | con r with MMSE (SD)| dem AUC (SD)| dem ACC (SD) | dem r with MMSE (SD)| ratio AUC (SD)| ratio ACC (SD) | ratio r with MMSE (SD)|\\n\")\n",
    "sys.stdout.write(\"| - | - | - | - | - | - | - | - | - | - |\\n\")\n",
    "for share in (25, 50, 75, 100):\n",
    "    for data_name in (\"db_s\", \"db_c\", \"db_full_s\", \"db_full_c\"):\n",
    "        print_cv_table(data_name, share, zero_style)"
   ]
  },
  {
   "cell_type": "code",
   "execution_count": null,
   "metadata": {},
   "outputs": [],
   "source": []
  }
 ],
 "metadata": {
  "kernelspec": {
   "display_name": "base",
   "language": "python",
   "name": "base"
  },
  "language_info": {
   "codemirror_mode": {
    "name": "ipython",
    "version": 3
   },
   "file_extension": ".py",
   "mimetype": "text/x-python",
   "name": "python",
   "nbconvert_exporter": "python",
   "pygments_lexer": "ipython3",
   "version": "3.7.6"
  }
 },
 "nbformat": 4,
 "nbformat_minor": 4
}
