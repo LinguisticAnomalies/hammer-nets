{
 "cells": [
  {
   "cell_type": "code",
   "execution_count": 1,
   "metadata": {},
   "outputs": [],
   "source": [
    "import torch\n",
    "import numpy as np\n",
    "import ecco\n",
    "from transformers import GPT2LMHeadModel, GPT2Tokenizer"
   ]
  },
  {
   "cell_type": "code",
   "execution_count": 2,
   "metadata": {},
   "outputs": [],
   "source": [
    "def break_attn_heads_by_layer(zero_type, model, share, layer):\n",
    "    \"\"\"\n",
    "    set certain percentage attention heads to zero at specific layer\n",
    "    return the modified model\n",
    "    :param zero_type: the type for zeroing attention heads,\n",
    "                      'random', 'first' and 'shuffle' are supported\n",
    "    :type zero_type: str\n",
    "    :param model: the oringal GPT-2 model to be modified\n",
    "    :type model: transformers.modeling_gpt2.GPT2LMHeadModel\n",
    "    :param share: % of attention heads to be zeroed,\n",
    "                  25%, 50%, and 100% are supported\n",
    "    :type share: int\n",
    "    :param layer: the specific layer to be modified,\n",
    "                  ranging from 0 to 11\n",
    "    :type layer: int\n",
    "    :return: the modified model\n",
    "    :rtype: transformers.modeling_gpt2.GPT2LMHeadModel\n",
    "    \"\"\"\n",
    "    head_offsets = [1536, 1536+64, 1536+128, 1536+192, 1536+256,\n",
    "                    1536+320, 1536+384, 1536+448, 1536+512,\n",
    "                    1536+576, 1536+640, 1536+704]\n",
    "    batch = 64\n",
    "    with torch.no_grad():\n",
    "        if zero_type == 'random':\n",
    "            np.random.seed(42)\n",
    "            torch.manual_seed(42)\n",
    "            # Serguei's approach to reduce running time\n",
    "            for head in head_offsets:\n",
    "                # update to unique random integers\n",
    "                rnd_index = np.random.choice(range(head, head+64), int(batch*(share/100)), replace=False)\n",
    "                for row in range(0,model.transformer.h[layer].attn.c_attn.weight.size()[0]):\n",
    "                    model.transformer.h[layer].attn.c_attn.weight[row][rnd_index] = \\\n",
    "                        model.transformer.h[layer].attn.c_attn.weight[row][rnd_index].mul(0.0)\n",
    "            return model\n",
    "        elif zero_type == 'first':\n",
    "            offset = int(batch*(share/100))\n",
    "            for head in head_offsets:\n",
    "                for row in range(0,model.transformer.h[layer].attn.c_attn.weight.size()[0]):\n",
    "                    model.transformer.h[layer].attn.c_attn.weight[row][head:head+offset] = \\\n",
    "                        model.transformer.h[layer].attn.c_attn.weight[row][head:head+offset].mul(0)\n",
    "            return model\n",
    "        elif zero_type == 'shuffle':\n",
    "            offset = int(64*(share/100))\n",
    "            for head in head_offsets:\n",
    "                for row in range(0,model.transformer.h[layer].attn.c_attn.weight.size()[0]):\n",
    "                    np.random.shuffle(model.transformer.h[layer].attn.c_attn.weight[row][head:head+offset] )\n",
    "            return model\n",
    "        else:\n",
    "            raise ValueError(\"zeroing type is not supported!\")"
   ]
  },
  {
   "cell_type": "code",
   "execution_count": 4,
   "metadata": {},
   "outputs": [],
   "source": [
    "model_dem = GPT2LMHeadModel.from_pretrained(\"gpt2\")\n",
    "model_con = GPT2LMHeadModel.from_pretrained(\"gpt2\")\n",
    "gpt_tokenizer = GPT2Tokenizer.from_pretrained(\"gpt2\", do_lower_case=True)\n",
    "layers = [0, 1, 2, 3, 4, 8, 10]\n",
    "for layer in layers:\n",
    "    model_dem = break_attn_heads_by_layer(\"first\", model_dem, 50, layer)"
   ]
  },
  {
   "cell_type": "code",
   "execution_count": 9,
   "metadata": {},
   "outputs": [
    {
     "data": {
      "text/html": [
       "<html lang=\"en\">\n",
       "<script src=\"https://requirejs.org/docs/release/2.3.6/minified/require.js\"></script>\n",
       "<script>\n",
       "    var ecco_url = 'https://storage.googleapis.com/ml-intro/ecco/'\n",
       "    // var ecco_url = 'http://localhost:8000/ecco/'\n",
       "\n",
       "    if (window.ecco === undefined) window.ecco = {}\n",
       "\n",
       "    requirejs.config({\n",
       "        urlArgs: \"bust=\" + (new Date()).getTime(),\n",
       "        nodeRequire: require,\n",
       "        paths: {\n",
       "            d3: \"https://d3js.org/d3.v5.min\",\n",
       "            \"d3-array\": \"https://d3js.org/d3-array.v2.min\",\n",
       "            jquery: \"https://code.jquery.com/jquery-3.5.1.min\",\n",
       "            // oldEcco: ecco_url + 'ecco',\n",
       "            ecco: ecco_url + 'js/0.0.4/ecco-bundle.min',\n",
       "            xregexp: 'https://cdnjs.cloudflare.com/ajax/libs/xregexp/3.2.0/xregexp-all.min'\n",
       "        }\n",
       "    });\n",
       "    requirejs(['d3'],\n",
       "        function (d3) {\n",
       "            d3.select('#css').attr('href', ecco_url + 'html/styles.css')\n",
       "        })\n",
       "\n",
       "    console.log('Ecco initialize.')\n",
       "</script>\n",
       "\n",
       "<head>\n",
       "    <link id='css' rel=\"stylesheet\" type=\"text/css\">\n",
       "</head>\n"
      ],
      "text/plain": [
       "<IPython.core.display.HTML object>"
      ]
     },
     "metadata": {},
     "output_type": "display_data"
    },
    {
     "data": {
      "text/html": [
       "<script>\n",
       "    // console.log('defining basic')\n",
       "    define('basic', ['d3'],\n",
       "        function (d3) {\n",
       "            return {\n",
       "                init: function (viz_id = null) {\n",
       "\n",
       "                    // console.log('basic init')\n",
       "                    if (viz_id == null){\n",
       "                        viz_id = \"viz_\" + Math.round(Math.random() * 10000000)\n",
       "                    }\n",
       "                    const div = d3.select('#basic').attr('id', viz_id),\n",
       "                        div_parent = d3.select('#' + viz_id).node().parentNode\n",
       "\n",
       "                    // Link to CSS file\n",
       "                    d3.select(div_parent).insert('link')\n",
       "                        .attr('rel', 'stylesheet')\n",
       "                        .attr('type', 'text/css')\n",
       "                        .attr('href', ecco_url + 'html/styles.css')\n",
       "\n",
       "                    return viz_id\n",
       "                }\n",
       "            }\n",
       "        }, function (err) {console.log(err);}\n",
       "    )\n",
       "    // console.log('after defining basic')\n",
       "\n",
       "</script>\n",
       "<div id=\"basic\"></div>\n"
      ],
      "text/plain": [
       "<IPython.core.display.HTML object>"
      ]
     },
     "metadata": {},
     "output_type": "display_data"
    },
    {
     "data": {
      "application/javascript": [
       "\n",
       "\n",
       "         requirejs( ['basic', 'ecco'], function(basic, ecco){\n",
       "            basic.init('viz_592163')\n",
       "\n",
       "            window.ecco['viz_592163'] = ecco.renderOutputSequence('viz_592163', {'tokens': [{'token': 'There', 'position': 0, 'token_id': 1858, 'type': 'input'}, {'token': ' are', 'position': 1, 'token_id': 389, 'type': 'input'}, {'token': ' two', 'position': 2, 'token_id': 734, 'type': 'input'}, {'token': ' children', 'position': 3, 'token_id': 1751, 'type': 'input'}, {'token': ' and', 'position': 4, 'token_id': 290, 'type': 'input'}, {'token': ' their', 'position': 5, 'token_id': 511, 'type': 'input'}, {'token': ' mother', 'position': 6, 'token_id': 2802, 'type': 'input'}, {'token': ' in', 'position': 7, 'token_id': 287, 'type': 'input'}, {'token': ' the', 'position': 8, 'token_id': 262, 'type': 'input'}, {'token': ' kitchen', 'position': 9, 'token_id': 9592, 'type': 'input'}, {'token': '.', 'position': 10, 'token_id': 13, 'type': 'input'}]})\n",
       "         }, function (err) {\n",
       "            console.log(err);\n",
       "        })\n"
      ],
      "text/plain": [
       "<IPython.core.display.Javascript object>"
      ]
     },
     "metadata": {},
     "output_type": "display_data"
    },
    {
     "data": {
      "application/javascript": [
       "\n",
       "        // We don't really need these require scripts. But this is to avert\n",
       "        //this code from running before display_input_sequence which DOES require external files\n",
       "        requirejs(['basic', 'ecco'], function(basic, ecco){\n",
       "                console.log('addToken viz_id', 'viz_592163');\n",
       "                window.ecco['viz_592163'].addToken({\"token\": \" They\", \"token_id\": 1119, \"position\": 11, \"type\": \"output\"})\n",
       "                window.ecco['viz_592163'].redraw()\n",
       "        })\n",
       "        "
      ],
      "text/plain": [
       "<IPython.core.display.Javascript object>"
      ]
     },
     "metadata": {},
     "output_type": "display_data"
    },
    {
     "data": {
      "application/javascript": [
       "\n",
       "        // We don't really need these require scripts. But this is to avert\n",
       "        //this code from running before display_input_sequence which DOES require external files\n",
       "        requirejs(['basic', 'ecco'], function(basic, ecco){\n",
       "                console.log('addToken viz_id', 'viz_592163');\n",
       "                window.ecco['viz_592163'].addToken({\"token\": \" are\", \"token_id\": 389, \"position\": 12, \"type\": \"output\"})\n",
       "                window.ecco['viz_592163'].redraw()\n",
       "        })\n",
       "        "
      ],
      "text/plain": [
       "<IPython.core.display.Javascript object>"
      ]
     },
     "metadata": {},
     "output_type": "display_data"
    },
    {
     "data": {
      "application/javascript": [
       "\n",
       "        // We don't really need these require scripts. But this is to avert\n",
       "        //this code from running before display_input_sequence which DOES require external files\n",
       "        requirejs(['basic', 'ecco'], function(basic, ecco){\n",
       "                console.log('addToken viz_id', 'viz_592163');\n",
       "                window.ecco['viz_592163'].addToken({\"token\": \" young\", \"token_id\": 1862, \"position\": 13, \"type\": \"output\"})\n",
       "                window.ecco['viz_592163'].redraw()\n",
       "        })\n",
       "        "
      ],
      "text/plain": [
       "<IPython.core.display.Javascript object>"
      ]
     },
     "metadata": {},
     "output_type": "display_data"
    },
    {
     "data": {
      "application/javascript": [
       "\n",
       "        // We don't really need these require scripts. But this is to avert\n",
       "        //this code from running before display_input_sequence which DOES require external files\n",
       "        requirejs(['basic', 'ecco'], function(basic, ecco){\n",
       "                console.log('addToken viz_id', 'viz_592163');\n",
       "                window.ecco['viz_592163'].addToken({\"token\": \" and\", \"token_id\": 290, \"position\": 14, \"type\": \"output\"})\n",
       "                window.ecco['viz_592163'].redraw()\n",
       "        })\n",
       "        "
      ],
      "text/plain": [
       "<IPython.core.display.Javascript object>"
      ]
     },
     "metadata": {},
     "output_type": "display_data"
    },
    {
     "data": {
      "application/javascript": [
       "\n",
       "        // We don't really need these require scripts. But this is to avert\n",
       "        //this code from running before display_input_sequence which DOES require external files\n",
       "        requirejs(['basic', 'ecco'], function(basic, ecco){\n",
       "                console.log('addToken viz_id', 'viz_592163');\n",
       "                window.ecco['viz_592163'].addToken({\"token\": \" of\", \"token_id\": 286, \"position\": 15, \"type\": \"output\"})\n",
       "                window.ecco['viz_592163'].redraw()\n",
       "        })\n",
       "        "
      ],
      "text/plain": [
       "<IPython.core.display.Javascript object>"
      ]
     },
     "metadata": {},
     "output_type": "display_data"
    },
    {
     "data": {
      "application/javascript": [
       "\n",
       "        // We don't really need these require scripts. But this is to avert\n",
       "        //this code from running before display_input_sequence which DOES require external files\n",
       "        requirejs(['basic', 'ecco'], function(basic, ecco){\n",
       "                console.log('addToken viz_id', 'viz_592163');\n",
       "                window.ecco['viz_592163'].addToken({\"token\": \" the\", \"token_id\": 262, \"position\": 16, \"type\": \"output\"})\n",
       "                window.ecco['viz_592163'].redraw()\n",
       "        })\n",
       "        "
      ],
      "text/plain": [
       "<IPython.core.display.Javascript object>"
      ]
     },
     "metadata": {},
     "output_type": "display_data"
    },
    {
     "data": {
      "application/javascript": [
       "\n",
       "        // We don't really need these require scripts. But this is to avert\n",
       "        //this code from running before display_input_sequence which DOES require external files\n",
       "        requirejs(['basic', 'ecco'], function(basic, ecco){\n",
       "                console.log('addToken viz_id', 'viz_592163');\n",
       "                window.ecco['viz_592163'].addToken({\"token\": \" same\", \"token_id\": 976, \"position\": 17, \"type\": \"output\"})\n",
       "                window.ecco['viz_592163'].redraw()\n",
       "        })\n",
       "        "
      ],
      "text/plain": [
       "<IPython.core.display.Javascript object>"
      ]
     },
     "metadata": {},
     "output_type": "display_data"
    },
    {
     "data": {
      "application/javascript": [
       "\n",
       "        // We don't really need these require scripts. But this is to avert\n",
       "        //this code from running before display_input_sequence which DOES require external files\n",
       "        requirejs(['basic', 'ecco'], function(basic, ecco){\n",
       "                console.log('addToken viz_id', 'viz_592163');\n",
       "                window.ecco['viz_592163'].addToken({\"token\": \" age\", \"token_id\": 2479, \"position\": 18, \"type\": \"output\"})\n",
       "                window.ecco['viz_592163'].redraw()\n",
       "        })\n",
       "        "
      ],
      "text/plain": [
       "<IPython.core.display.Javascript object>"
      ]
     },
     "metadata": {},
     "output_type": "display_data"
    },
    {
     "data": {
      "application/javascript": [
       "\n",
       "        // We don't really need these require scripts. But this is to avert\n",
       "        //this code from running before display_input_sequence which DOES require external files\n",
       "        requirejs(['basic', 'ecco'], function(basic, ecco){\n",
       "                console.log('addToken viz_id', 'viz_592163');\n",
       "                window.ecco['viz_592163'].addToken({\"token\": \".\", \"token_id\": 13, \"position\": 19, \"type\": \"output\"})\n",
       "                window.ecco['viz_592163'].redraw()\n",
       "        })\n",
       "        "
      ],
      "text/plain": [
       "<IPython.core.display.Javascript object>"
      ]
     },
     "metadata": {},
     "output_type": "display_data"
    },
    {
     "data": {
      "application/javascript": [
       "\n",
       "        // We don't really need these require scripts. But this is to avert\n",
       "        //this code from running before display_input_sequence which DOES require external files\n",
       "        requirejs(['basic', 'ecco'], function(basic, ecco){\n",
       "                console.log('addToken viz_id', 'viz_592163');\n",
       "                window.ecco['viz_592163'].addToken({\"token\": \" She\", \"token_id\": 1375, \"position\": 20, \"type\": \"output\"})\n",
       "                window.ecco['viz_592163'].redraw()\n",
       "        })\n",
       "        "
      ],
      "text/plain": [
       "<IPython.core.display.Javascript object>"
      ]
     },
     "metadata": {},
     "output_type": "display_data"
    },
    {
     "data": {
      "application/javascript": [
       "\n",
       "        // We don't really need these require scripts. But this is to avert\n",
       "        //this code from running before display_input_sequence which DOES require external files\n",
       "        requirejs(['basic', 'ecco'], function(basic, ecco){\n",
       "                console.log('addToken viz_id', 'viz_592163');\n",
       "                window.ecco['viz_592163'].addToken({\"token\": \" looks\", \"token_id\": 3073, \"position\": 21, \"type\": \"output\"})\n",
       "                window.ecco['viz_592163'].redraw()\n",
       "        })\n",
       "        "
      ],
      "text/plain": [
       "<IPython.core.display.Javascript object>"
      ]
     },
     "metadata": {},
     "output_type": "display_data"
    },
    {
     "data": {
      "application/javascript": [
       "\n",
       "        // We don't really need these require scripts. But this is to avert\n",
       "        //this code from running before display_input_sequence which DOES require external files\n",
       "        requirejs(['basic', 'ecco'], function(basic, ecco){\n",
       "                console.log('addToken viz_id', 'viz_592163');\n",
       "                window.ecco['viz_592163'].addToken({\"token\": \" up\", \"token_id\": 510, \"position\": 22, \"type\": \"output\"})\n",
       "                window.ecco['viz_592163'].redraw()\n",
       "        })\n",
       "        "
      ],
      "text/plain": [
       "<IPython.core.display.Javascript object>"
      ]
     },
     "metadata": {},
     "output_type": "display_data"
    },
    {
     "data": {
      "application/javascript": [
       "\n",
       "        // We don't really need these require scripts. But this is to avert\n",
       "        //this code from running before display_input_sequence which DOES require external files\n",
       "        requirejs(['basic', 'ecco'], function(basic, ecco){\n",
       "                console.log('addToken viz_id', 'viz_592163');\n",
       "                window.ecco['viz_592163'].addToken({\"token\": \" to\", \"token_id\": 284, \"position\": 23, \"type\": \"output\"})\n",
       "                window.ecco['viz_592163'].redraw()\n",
       "        })\n",
       "        "
      ],
      "text/plain": [
       "<IPython.core.display.Javascript object>"
      ]
     },
     "metadata": {},
     "output_type": "display_data"
    },
    {
     "data": {
      "application/javascript": [
       "\n",
       "        // We don't really need these require scripts. But this is to avert\n",
       "        //this code from running before display_input_sequence which DOES require external files\n",
       "        requirejs(['basic', 'ecco'], function(basic, ecco){\n",
       "                console.log('addToken viz_id', 'viz_592163');\n",
       "                window.ecco['viz_592163'].addToken({\"token\": \" her\", \"token_id\": 607, \"position\": 24, \"type\": \"output\"})\n",
       "                window.ecco['viz_592163'].redraw()\n",
       "        })\n",
       "        "
      ],
      "text/plain": [
       "<IPython.core.display.Javascript object>"
      ]
     },
     "metadata": {},
     "output_type": "display_data"
    },
    {
     "data": {
      "application/javascript": [
       "\n",
       "        // We don't really need these require scripts. But this is to avert\n",
       "        //this code from running before display_input_sequence which DOES require external files\n",
       "        requirejs(['basic', 'ecco'], function(basic, ecco){\n",
       "                console.log('addToken viz_id', 'viz_592163');\n",
       "                window.ecco['viz_592163'].addToken({\"token\": \" mother\", \"token_id\": 2802, \"position\": 25, \"type\": \"output\"})\n",
       "                window.ecco['viz_592163'].redraw()\n",
       "        })\n",
       "        "
      ],
      "text/plain": [
       "<IPython.core.display.Javascript object>"
      ]
     },
     "metadata": {},
     "output_type": "display_data"
    },
    {
     "data": {
      "application/javascript": [
       "\n",
       "        // We don't really need these require scripts. But this is to avert\n",
       "        //this code from running before display_input_sequence which DOES require external files\n",
       "        requirejs(['basic', 'ecco'], function(basic, ecco){\n",
       "                console.log('addToken viz_id', 'viz_592163');\n",
       "                window.ecco['viz_592163'].addToken({\"token\": \" and\", \"token_id\": 290, \"position\": 26, \"type\": \"output\"})\n",
       "                window.ecco['viz_592163'].redraw()\n",
       "        })\n",
       "        "
      ],
      "text/plain": [
       "<IPython.core.display.Javascript object>"
      ]
     },
     "metadata": {},
     "output_type": "display_data"
    },
    {
     "data": {
      "application/javascript": [
       "\n",
       "        // We don't really need these require scripts. But this is to avert\n",
       "        //this code from running before display_input_sequence which DOES require external files\n",
       "        requirejs(['basic', 'ecco'], function(basic, ecco){\n",
       "                console.log('addToken viz_id', 'viz_592163');\n",
       "                window.ecco['viz_592163'].addToken({\"token\": \" says\", \"token_id\": 1139, \"position\": 27, \"type\": \"output\"})\n",
       "                window.ecco['viz_592163'].redraw()\n",
       "        })\n",
       "        "
      ],
      "text/plain": [
       "<IPython.core.display.Javascript object>"
      ]
     },
     "metadata": {},
     "output_type": "display_data"
    },
    {
     "data": {
      "application/javascript": [
       "\n",
       "        // We don't really need these require scripts. But this is to avert\n",
       "        //this code from running before display_input_sequence which DOES require external files\n",
       "        requirejs(['basic', 'ecco'], function(basic, ecco){\n",
       "                console.log('addToken viz_id', 'viz_592163');\n",
       "                window.ecco['viz_592163'].addToken({\"token\": \",\", \"token_id\": 11, \"position\": 28, \"type\": \"output\"})\n",
       "                window.ecco['viz_592163'].redraw()\n",
       "        })\n",
       "        "
      ],
      "text/plain": [
       "<IPython.core.display.Javascript object>"
      ]
     },
     "metadata": {},
     "output_type": "display_data"
    },
    {
     "data": {
      "application/javascript": [
       "\n",
       "        // We don't really need these require scripts. But this is to avert\n",
       "        //this code from running before display_input_sequence which DOES require external files\n",
       "        requirejs(['basic', 'ecco'], function(basic, ecco){\n",
       "                console.log('addToken viz_id', 'viz_592163');\n",
       "                window.ecco['viz_592163'].addToken({\"token\": \" '\", \"token_id\": 705, \"position\": 29, \"type\": \"output\"})\n",
       "                window.ecco['viz_592163'].redraw()\n",
       "        })\n",
       "        "
      ],
      "text/plain": [
       "<IPython.core.display.Javascript object>"
      ]
     },
     "metadata": {},
     "output_type": "display_data"
    },
    {
     "data": {
      "application/javascript": [
       "\n",
       "        // We don't really need these require scripts. But this is to avert\n",
       "        //this code from running before display_input_sequence which DOES require external files\n",
       "        requirejs(['basic', 'ecco'], function(basic, ecco){\n",
       "                console.log('addToken viz_id', 'viz_592163');\n",
       "                window.ecco['viz_592163'].addToken({\"token\": \"We\", \"token_id\": 1135, \"position\": 30, \"type\": \"output\"})\n",
       "                window.ecco['viz_592163'].redraw()\n",
       "        })\n",
       "        "
      ],
      "text/plain": [
       "<IPython.core.display.Javascript object>"
      ]
     },
     "metadata": {},
     "output_type": "display_data"
    },
    {
     "data": {
      "application/javascript": [
       "\n",
       "        // We don't really need these require scripts. But this is to avert\n",
       "        //this code from running before display_input_sequence which DOES require external files\n",
       "        requirejs(['basic', 'ecco'], function(basic, ecco){\n",
       "                console.log('addToken viz_id', 'viz_592163');\n",
       "                window.ecco['viz_592163'].addToken({\"token\": \"'re\", \"token_id\": 821, \"position\": 31, \"type\": \"output\"})\n",
       "                window.ecco['viz_592163'].redraw()\n",
       "        })\n",
       "        "
      ],
      "text/plain": [
       "<IPython.core.display.Javascript object>"
      ]
     },
     "metadata": {},
     "output_type": "display_data"
    },
    {
     "data": {
      "application/javascript": [
       "\n",
       "        // We don't really need these require scripts. But this is to avert\n",
       "        //this code from running before display_input_sequence which DOES require external files\n",
       "        requirejs(['basic', 'ecco'], function(basic, ecco){\n",
       "                console.log('addToken viz_id', 'viz_592163');\n",
       "                window.ecco['viz_592163'].addToken({\"token\": \" very\", \"token_id\": 845, \"position\": 32, \"type\": \"output\"})\n",
       "                window.ecco['viz_592163'].redraw()\n",
       "        })\n",
       "        "
      ],
      "text/plain": [
       "<IPython.core.display.Javascript object>"
      ]
     },
     "metadata": {},
     "output_type": "display_data"
    },
    {
     "data": {
      "application/javascript": [
       "\n",
       "        // We don't really need these require scripts. But this is to avert\n",
       "        //this code from running before display_input_sequence which DOES require external files\n",
       "        requirejs(['basic', 'ecco'], function(basic, ecco){\n",
       "                console.log('addToken viz_id', 'viz_592163');\n",
       "                window.ecco['viz_592163'].addToken({\"token\": \" young\", \"token_id\": 1862, \"position\": 33, \"type\": \"output\"})\n",
       "                window.ecco['viz_592163'].redraw()\n",
       "        })\n",
       "        "
      ],
      "text/plain": [
       "<IPython.core.display.Javascript object>"
      ]
     },
     "metadata": {},
     "output_type": "display_data"
    },
    {
     "data": {
      "application/javascript": [
       "\n",
       "        // We don't really need these require scripts. But this is to avert\n",
       "        //this code from running before display_input_sequence which DOES require external files\n",
       "        requirejs(['basic', 'ecco'], function(basic, ecco){\n",
       "                console.log('addToken viz_id', 'viz_592163');\n",
       "                window.ecco['viz_592163'].addToken({\"token\": \",\", \"token_id\": 11, \"position\": 34, \"type\": \"output\"})\n",
       "                window.ecco['viz_592163'].redraw()\n",
       "        })\n",
       "        "
      ],
      "text/plain": [
       "<IPython.core.display.Javascript object>"
      ]
     },
     "metadata": {},
     "output_type": "display_data"
    },
    {
     "data": {
      "application/javascript": [
       "\n",
       "        // We don't really need these require scripts. But this is to avert\n",
       "        //this code from running before display_input_sequence which DOES require external files\n",
       "        requirejs(['basic', 'ecco'], function(basic, ecco){\n",
       "                console.log('addToken viz_id', 'viz_592163');\n",
       "                window.ecco['viz_592163'].addToken({\"token\": \" we\", \"token_id\": 356, \"position\": 35, \"type\": \"output\"})\n",
       "                window.ecco['viz_592163'].redraw()\n",
       "        })\n",
       "        "
      ],
      "text/plain": [
       "<IPython.core.display.Javascript object>"
      ]
     },
     "metadata": {},
     "output_type": "display_data"
    },
    {
     "data": {
      "application/javascript": [
       "\n",
       "        // We don't really need these require scripts. But this is to avert\n",
       "        //this code from running before display_input_sequence which DOES require external files\n",
       "        requirejs(['basic', 'ecco'], function(basic, ecco){\n",
       "                console.log('addToken viz_id', 'viz_592163');\n",
       "                window.ecco['viz_592163'].addToken({\"token\": \" don\", \"token_id\": 836, \"position\": 36, \"type\": \"output\"})\n",
       "                window.ecco['viz_592163'].redraw()\n",
       "        })\n",
       "        "
      ],
      "text/plain": [
       "<IPython.core.display.Javascript object>"
      ]
     },
     "metadata": {},
     "output_type": "display_data"
    },
    {
     "data": {
      "application/javascript": [
       "\n",
       "        // We don't really need these require scripts. But this is to avert\n",
       "        //this code from running before display_input_sequence which DOES require external files\n",
       "        requirejs(['basic', 'ecco'], function(basic, ecco){\n",
       "                console.log('addToken viz_id', 'viz_592163');\n",
       "                window.ecco['viz_592163'].addToken({\"token\": \"'t\", \"token_id\": 470, \"position\": 37, \"type\": \"output\"})\n",
       "                window.ecco['viz_592163'].redraw()\n",
       "        })\n",
       "        "
      ],
      "text/plain": [
       "<IPython.core.display.Javascript object>"
      ]
     },
     "metadata": {},
     "output_type": "display_data"
    },
    {
     "data": {
      "application/javascript": [
       "\n",
       "        // We don't really need these require scripts. But this is to avert\n",
       "        //this code from running before display_input_sequence which DOES require external files\n",
       "        requirejs(['basic', 'ecco'], function(basic, ecco){\n",
       "                console.log('addToken viz_id', 'viz_592163');\n",
       "                window.ecco['viz_592163'].addToken({\"token\": \" know\", \"token_id\": 760, \"position\": 38, \"type\": \"output\"})\n",
       "                window.ecco['viz_592163'].redraw()\n",
       "        })\n",
       "        "
      ],
      "text/plain": [
       "<IPython.core.display.Javascript object>"
      ]
     },
     "metadata": {},
     "output_type": "display_data"
    },
    {
     "data": {
      "application/javascript": [
       "\n",
       "        // We don't really need these require scripts. But this is to avert\n",
       "        //this code from running before display_input_sequence which DOES require external files\n",
       "        requirejs(['basic', 'ecco'], function(basic, ecco){\n",
       "                console.log('addToken viz_id', 'viz_592163');\n",
       "                window.ecco['viz_592163'].addToken({\"token\": \" how\", \"token_id\": 703, \"position\": 39, \"type\": \"output\"})\n",
       "                window.ecco['viz_592163'].redraw()\n",
       "        })\n",
       "        "
      ],
      "text/plain": [
       "<IPython.core.display.Javascript object>"
      ]
     },
     "metadata": {},
     "output_type": "display_data"
    },
    {
     "data": {
      "application/javascript": [
       "\n",
       "        // We don't really need these require scripts. But this is to avert\n",
       "        //this code from running before display_input_sequence which DOES require external files\n",
       "        requirejs(['basic', 'ecco'], function(basic, ecco){\n",
       "                console.log('addToken viz_id', 'viz_592163');\n",
       "                window.ecco['viz_592163'].addToken({\"token\": \" to\", \"token_id\": 284, \"position\": 40, \"type\": \"output\"})\n",
       "                window.ecco['viz_592163'].redraw()\n",
       "        })\n",
       "        "
      ],
      "text/plain": [
       "<IPython.core.display.Javascript object>"
      ]
     },
     "metadata": {},
     "output_type": "display_data"
    },
    {
     "data": {
      "application/javascript": [
       "\n",
       "        // We don't really need these require scripts. But this is to avert\n",
       "        //this code from running before display_input_sequence which DOES require external files\n",
       "        requirejs(['basic', 'ecco'], function(basic, ecco){\n",
       "                console.log('addToken viz_id', 'viz_592163');\n",
       "                window.ecco['viz_592163'].addToken({\"token\": \" cook\", \"token_id\": 4255, \"position\": 41, \"type\": \"output\"})\n",
       "                window.ecco['viz_592163'].redraw()\n",
       "        })\n",
       "        "
      ],
      "text/plain": [
       "<IPython.core.display.Javascript object>"
      ]
     },
     "metadata": {},
     "output_type": "display_data"
    },
    {
     "data": {
      "application/javascript": [
       "\n",
       "        // We don't really need these require scripts. But this is to avert\n",
       "        //this code from running before display_input_sequence which DOES require external files\n",
       "        requirejs(['basic', 'ecco'], function(basic, ecco){\n",
       "                console.log('addToken viz_id', 'viz_592163');\n",
       "                window.ecco['viz_592163'].addToken({\"token\": \".'\", \"token_id\": 2637, \"position\": 42, \"type\": \"output\"})\n",
       "                window.ecco['viz_592163'].redraw()\n",
       "        })\n",
       "        "
      ],
      "text/plain": [
       "<IPython.core.display.Javascript object>"
      ]
     },
     "metadata": {},
     "output_type": "display_data"
    },
    {
     "data": {
      "application/javascript": [
       "\n",
       "        // We don't really need these require scripts. But this is to avert\n",
       "        //this code from running before display_input_sequence which DOES require external files\n",
       "        requirejs(['basic', 'ecco'], function(basic, ecco){\n",
       "                console.log('addToken viz_id', 'viz_592163');\n",
       "                window.ecco['viz_592163'].addToken({\"token\": \" Then\", \"token_id\": 3244, \"position\": 43, \"type\": \"output\"})\n",
       "                window.ecco['viz_592163'].redraw()\n",
       "        })\n",
       "        "
      ],
      "text/plain": [
       "<IPython.core.display.Javascript object>"
      ]
     },
     "metadata": {},
     "output_type": "display_data"
    },
    {
     "data": {
      "application/javascript": [
       "\n",
       "        // We don't really need these require scripts. But this is to avert\n",
       "        //this code from running before display_input_sequence which DOES require external files\n",
       "        requirejs(['basic', 'ecco'], function(basic, ecco){\n",
       "                console.log('addToken viz_id', 'viz_592163');\n",
       "                window.ecco['viz_592163'].addToken({\"token\": \" he\", \"token_id\": 339, \"position\": 44, \"type\": \"output\"})\n",
       "                window.ecco['viz_592163'].redraw()\n",
       "        })\n",
       "        "
      ],
      "text/plain": [
       "<IPython.core.display.Javascript object>"
      ]
     },
     "metadata": {},
     "output_type": "display_data"
    },
    {
     "data": {
      "application/javascript": [
       "\n",
       "        // We don't really need these require scripts. But this is to avert\n",
       "        //this code from running before display_input_sequence which DOES require external files\n",
       "        requirejs(['basic', 'ecco'], function(basic, ecco){\n",
       "                console.log('addToken viz_id', 'viz_592163');\n",
       "                window.ecco['viz_592163'].addToken({\"token\": \" moves\", \"token_id\": 6100, \"position\": 45, \"type\": \"output\"})\n",
       "                window.ecco['viz_592163'].redraw()\n",
       "        })\n",
       "        "
      ],
      "text/plain": [
       "<IPython.core.display.Javascript object>"
      ]
     },
     "metadata": {},
     "output_type": "display_data"
    },
    {
     "data": {
      "application/javascript": [
       "\n",
       "        // We don't really need these require scripts. But this is to avert\n",
       "        //this code from running before display_input_sequence which DOES require external files\n",
       "        requirejs(['basic', 'ecco'], function(basic, ecco){\n",
       "                console.log('addToken viz_id', 'viz_592163');\n",
       "                window.ecco['viz_592163'].addToken({\"token\": \" in\", \"token_id\": 287, \"position\": 46, \"type\": \"output\"})\n",
       "                window.ecco['viz_592163'].redraw()\n",
       "        })\n",
       "        "
      ],
      "text/plain": [
       "<IPython.core.display.Javascript object>"
      ]
     },
     "metadata": {},
     "output_type": "display_data"
    },
    {
     "data": {
      "application/javascript": [
       "\n",
       "        // We don't really need these require scripts. But this is to avert\n",
       "        //this code from running before display_input_sequence which DOES require external files\n",
       "        requirejs(['basic', 'ecco'], function(basic, ecco){\n",
       "                console.log('addToken viz_id', 'viz_592163');\n",
       "                window.ecco['viz_592163'].addToken({\"token\": \" to\", \"token_id\": 284, \"position\": 47, \"type\": \"output\"})\n",
       "                window.ecco['viz_592163'].redraw()\n",
       "        })\n",
       "        "
      ],
      "text/plain": [
       "<IPython.core.display.Javascript object>"
      ]
     },
     "metadata": {},
     "output_type": "display_data"
    },
    {
     "data": {
      "application/javascript": [
       "\n",
       "        // We don't really need these require scripts. But this is to avert\n",
       "        //this code from running before display_input_sequence which DOES require external files\n",
       "        requirejs(['basic', 'ecco'], function(basic, ecco){\n",
       "                console.log('addToken viz_id', 'viz_592163');\n",
       "                window.ecco['viz_592163'].addToken({\"token\": \" greet\", \"token_id\": 12589, \"position\": 48, \"type\": \"output\"})\n",
       "                window.ecco['viz_592163'].redraw()\n",
       "        })\n",
       "        "
      ],
      "text/plain": [
       "<IPython.core.display.Javascript object>"
      ]
     },
     "metadata": {},
     "output_type": "display_data"
    },
    {
     "data": {
      "application/javascript": [
       "\n",
       "        // We don't really need these require scripts. But this is to avert\n",
       "        //this code from running before display_input_sequence which DOES require external files\n",
       "        requirejs(['basic', 'ecco'], function(basic, ecco){\n",
       "                console.log('addToken viz_id', 'viz_592163');\n",
       "                window.ecco['viz_592163'].addToken({\"token\": \" her\", \"token_id\": 607, \"position\": 49, \"type\": \"output\"})\n",
       "                window.ecco['viz_592163'].redraw()\n",
       "        })\n",
       "        "
      ],
      "text/plain": [
       "<IPython.core.display.Javascript object>"
      ]
     },
     "metadata": {},
     "output_type": "display_data"
    },
    {
     "data": {
      "application/javascript": [
       "\n",
       "        // We don't really need these require scripts. But this is to avert\n",
       "        //this code from running before display_input_sequence which DOES require external files\n",
       "        requirejs(['basic', 'ecco'], function(basic, ecco){\n",
       "                console.log('addToken viz_id', 'viz_592163');\n",
       "                window.ecco['viz_592163'].addToken({\"token\": \".\", \"token_id\": 13, \"position\": 50, \"type\": \"output\"})\n",
       "                window.ecco['viz_592163'].redraw()\n",
       "        })\n",
       "        "
      ],
      "text/plain": [
       "<IPython.core.display.Javascript object>"
      ]
     },
     "metadata": {},
     "output_type": "display_data"
    },
    {
     "data": {
      "application/javascript": [
       "\n",
       "        // We don't really need these require scripts. But this is to avert\n",
       "        //this code from running before display_input_sequence which DOES require external files\n",
       "        requirejs(['basic', 'ecco'], function(basic, ecco){\n",
       "                console.log('addToken viz_id', 'viz_592163');\n",
       "                window.ecco['viz_592163'].addToken({\"token\": \" She\", \"token_id\": 1375, \"position\": 51, \"type\": \"output\"})\n",
       "                window.ecco['viz_592163'].redraw()\n",
       "        })\n",
       "        "
      ],
      "text/plain": [
       "<IPython.core.display.Javascript object>"
      ]
     },
     "metadata": {},
     "output_type": "display_data"
    },
    {
     "data": {
      "application/javascript": [
       "\n",
       "        // We don't really need these require scripts. But this is to avert\n",
       "        //this code from running before display_input_sequence which DOES require external files\n",
       "        requirejs(['basic', 'ecco'], function(basic, ecco){\n",
       "                console.log('addToken viz_id', 'viz_592163');\n",
       "                window.ecco['viz_592163'].addToken({\"token\": \" looks\", \"token_id\": 3073, \"position\": 52, \"type\": \"output\"})\n",
       "                window.ecco['viz_592163'].redraw()\n",
       "        })\n",
       "        "
      ],
      "text/plain": [
       "<IPython.core.display.Javascript object>"
      ]
     },
     "metadata": {},
     "output_type": "display_data"
    },
    {
     "data": {
      "application/javascript": [
       "\n",
       "        // We don't really need these require scripts. But this is to avert\n",
       "        //this code from running before display_input_sequence which DOES require external files\n",
       "        requirejs(['basic', 'ecco'], function(basic, ecco){\n",
       "                console.log('addToken viz_id', 'viz_592163');\n",
       "                window.ecco['viz_592163'].addToken({\"token\": \" up\", \"token_id\": 510, \"position\": 53, \"type\": \"output\"})\n",
       "                window.ecco['viz_592163'].redraw()\n",
       "        })\n",
       "        "
      ],
      "text/plain": [
       "<IPython.core.display.Javascript object>"
      ]
     },
     "metadata": {},
     "output_type": "display_data"
    },
    {
     "data": {
      "application/javascript": [
       "\n",
       "        // We don't really need these require scripts. But this is to avert\n",
       "        //this code from running before display_input_sequence which DOES require external files\n",
       "        requirejs(['basic', 'ecco'], function(basic, ecco){\n",
       "                console.log('addToken viz_id', 'viz_592163');\n",
       "                window.ecco['viz_592163'].addToken({\"token\": \" at\", \"token_id\": 379, \"position\": 54, \"type\": \"output\"})\n",
       "                window.ecco['viz_592163'].redraw()\n",
       "        })\n",
       "        "
      ],
      "text/plain": [
       "<IPython.core.display.Javascript object>"
      ]
     },
     "metadata": {},
     "output_type": "display_data"
    },
    {
     "data": {
      "application/javascript": [
       "\n",
       "        // We don't really need these require scripts. But this is to avert\n",
       "        //this code from running before display_input_sequence which DOES require external files\n",
       "        requirejs(['basic', 'ecco'], function(basic, ecco){\n",
       "                console.log('addToken viz_id', 'viz_592163');\n",
       "                window.ecco['viz_592163'].addToken({\"token\": \" him\", \"token_id\": 683, \"position\": 55, \"type\": \"output\"})\n",
       "                window.ecco['viz_592163'].redraw()\n",
       "        })\n",
       "        "
      ],
      "text/plain": [
       "<IPython.core.display.Javascript object>"
      ]
     },
     "metadata": {},
     "output_type": "display_data"
    },
    {
     "data": {
      "application/javascript": [
       "\n",
       "        // We don't really need these require scripts. But this is to avert\n",
       "        //this code from running before display_input_sequence which DOES require external files\n",
       "        requirejs(['basic', 'ecco'], function(basic, ecco){\n",
       "                console.log('addToken viz_id', 'viz_592163');\n",
       "                window.ecco['viz_592163'].addToken({\"token\": \" and\", \"token_id\": 290, \"position\": 56, \"type\": \"output\"})\n",
       "                window.ecco['viz_592163'].redraw()\n",
       "        })\n",
       "        "
      ],
      "text/plain": [
       "<IPython.core.display.Javascript object>"
      ]
     },
     "metadata": {},
     "output_type": "display_data"
    },
    {
     "data": {
      "application/javascript": [
       "\n",
       "        // We don't really need these require scripts. But this is to avert\n",
       "        //this code from running before display_input_sequence which DOES require external files\n",
       "        requirejs(['basic', 'ecco'], function(basic, ecco){\n",
       "                console.log('addToken viz_id', 'viz_592163');\n",
       "                window.ecco['viz_592163'].addToken({\"token\": \" says\", \"token_id\": 1139, \"position\": 57, \"type\": \"output\"})\n",
       "                window.ecco['viz_592163'].redraw()\n",
       "        })\n",
       "        "
      ],
      "text/plain": [
       "<IPython.core.display.Javascript object>"
      ]
     },
     "metadata": {},
     "output_type": "display_data"
    },
    {
     "data": {
      "application/javascript": [
       "\n",
       "        // We don't really need these require scripts. But this is to avert\n",
       "        //this code from running before display_input_sequence which DOES require external files\n",
       "        requirejs(['basic', 'ecco'], function(basic, ecco){\n",
       "                console.log('addToken viz_id', 'viz_592163');\n",
       "                window.ecco['viz_592163'].addToken({\"token\": \",\", \"token_id\": 11, \"position\": 58, \"type\": \"output\"})\n",
       "                window.ecco['viz_592163'].redraw()\n",
       "        })\n",
       "        "
      ],
      "text/plain": [
       "<IPython.core.display.Javascript object>"
      ]
     },
     "metadata": {},
     "output_type": "display_data"
    },
    {
     "data": {
      "application/javascript": [
       "\n",
       "        // We don't really need these require scripts. But this is to avert\n",
       "        //this code from running before display_input_sequence which DOES require external files\n",
       "        requirejs(['basic', 'ecco'], function(basic, ecco){\n",
       "                console.log('addToken viz_id', 'viz_592163');\n",
       "                window.ecco['viz_592163'].addToken({\"token\": \" '\", \"token_id\": 705, \"position\": 59, \"type\": \"output\"})\n",
       "                window.ecco['viz_592163'].redraw()\n",
       "        })\n",
       "        "
      ],
      "text/plain": [
       "<IPython.core.display.Javascript object>"
      ]
     },
     "metadata": {},
     "output_type": "display_data"
    },
    {
     "data": {
      "application/javascript": [
       "\n",
       "        // We don't really need these require scripts. But this is to avert\n",
       "        //this code from running before display_input_sequence which DOES require external files\n",
       "        requirejs(['basic', 'ecco'], function(basic, ecco){\n",
       "                console.log('addToken viz_id', 'viz_592163');\n",
       "                window.ecco['viz_592163'].addToken({\"token\": \"I\", \"token_id\": 40, \"position\": 60, \"type\": \"output\"})\n",
       "                window.ecco['viz_592163'].redraw()\n",
       "        })\n",
       "        "
      ],
      "text/plain": [
       "<IPython.core.display.Javascript object>"
      ]
     },
     "metadata": {},
     "output_type": "display_data"
    },
    {
     "data": {
      "application/javascript": [
       "\n",
       "        // We don't really need these require scripts. But this is to avert\n",
       "        //this code from running before display_input_sequence which DOES require external files\n",
       "        requirejs(['basic', 'ecco'], function(basic, ecco){\n",
       "                console.log('addToken viz_id', 'viz_592163');\n",
       "                window.ecco['viz_592163'].addToken({\"token\": \" was\", \"token_id\": 373, \"position\": 61, \"type\": \"output\"})\n",
       "                window.ecco['viz_592163'].redraw()\n",
       "        })\n",
       "        "
      ],
      "text/plain": [
       "<IPython.core.display.Javascript object>"
      ]
     },
     "metadata": {},
     "output_type": "display_data"
    },
    {
     "data": {
      "application/javascript": [
       "\n",
       "        // We don't really need these require scripts. But this is to avert\n",
       "        //this code from running before display_input_sequence which DOES require external files\n",
       "        requirejs(['basic', 'ecco'], function(basic, ecco){\n",
       "                console.log('addToken viz_id', 'viz_592163');\n",
       "                window.ecco['viz_592163'].addToken({\"token\": \" wondering\", \"token_id\": 11263, \"position\": 62, \"type\": \"output\"})\n",
       "                window.ecco['viz_592163'].redraw()\n",
       "        })\n",
       "        "
      ],
      "text/plain": [
       "<IPython.core.display.Javascript object>"
      ]
     },
     "metadata": {},
     "output_type": "display_data"
    },
    {
     "data": {
      "application/javascript": [
       "\n",
       "        // We don't really need these require scripts. But this is to avert\n",
       "        //this code from running before display_input_sequence which DOES require external files\n",
       "        requirejs(['basic', 'ecco'], function(basic, ecco){\n",
       "                console.log('addToken viz_id', 'viz_592163');\n",
       "                window.ecco['viz_592163'].addToken({\"token\": \" if\", \"token_id\": 611, \"position\": 63, \"type\": \"output\"})\n",
       "                window.ecco['viz_592163'].redraw()\n",
       "        })\n",
       "        "
      ],
      "text/plain": [
       "<IPython.core.display.Javascript object>"
      ]
     },
     "metadata": {},
     "output_type": "display_data"
    },
    {
     "data": {
      "application/javascript": [
       "\n",
       "        // We don't really need these require scripts. But this is to avert\n",
       "        //this code from running before display_input_sequence which DOES require external files\n",
       "        requirejs(['basic', 'ecco'], function(basic, ecco){\n",
       "                console.log('addToken viz_id', 'viz_592163');\n",
       "                window.ecco['viz_592163'].addToken({\"token\": \" your\", \"token_id\": 534, \"position\": 64, \"type\": \"output\"})\n",
       "                window.ecco['viz_592163'].redraw()\n",
       "        })\n",
       "        "
      ],
      "text/plain": [
       "<IPython.core.display.Javascript object>"
      ]
     },
     "metadata": {},
     "output_type": "display_data"
    },
    {
     "data": {
      "application/javascript": [
       "\n",
       "        // We don't really need these require scripts. But this is to avert\n",
       "        //this code from running before display_input_sequence which DOES require external files\n",
       "        requirejs(['basic', 'ecco'], function(basic, ecco){\n",
       "                console.log('addToken viz_id', 'viz_592163');\n",
       "                window.ecco['viz_592163'].addToken({\"token\": \" mother\", \"token_id\": 2802, \"position\": 65, \"type\": \"output\"})\n",
       "                window.ecco['viz_592163'].redraw()\n",
       "        })\n",
       "        "
      ],
      "text/plain": [
       "<IPython.core.display.Javascript object>"
      ]
     },
     "metadata": {},
     "output_type": "display_data"
    },
    {
     "data": {
      "application/javascript": [
       "\n",
       "        // We don't really need these require scripts. But this is to avert\n",
       "        //this code from running before display_input_sequence which DOES require external files\n",
       "        requirejs(['basic', 'ecco'], function(basic, ecco){\n",
       "                console.log('addToken viz_id', 'viz_592163');\n",
       "                window.ecco['viz_592163'].addToken({\"token\": \" was\", \"token_id\": 373, \"position\": 66, \"type\": \"output\"})\n",
       "                window.ecco['viz_592163'].redraw()\n",
       "        })\n",
       "        "
      ],
      "text/plain": [
       "<IPython.core.display.Javascript object>"
      ]
     },
     "metadata": {},
     "output_type": "display_data"
    },
    {
     "data": {
      "application/javascript": [
       "\n",
       "        // We don't really need these require scripts. But this is to avert\n",
       "        //this code from running before display_input_sequence which DOES require external files\n",
       "        requirejs(['basic', 'ecco'], function(basic, ecco){\n",
       "                console.log('addToken viz_id', 'viz_592163');\n",
       "                window.ecco['viz_592163'].addToken({\"token\": \" a\", \"token_id\": 257, \"position\": 67, \"type\": \"output\"})\n",
       "                window.ecco['viz_592163'].redraw()\n",
       "        })\n",
       "        "
      ],
      "text/plain": [
       "<IPython.core.display.Javascript object>"
      ]
     },
     "metadata": {},
     "output_type": "display_data"
    },
    {
     "data": {
      "application/javascript": [
       "\n",
       "        // We don't really need these require scripts. But this is to avert\n",
       "        //this code from running before display_input_sequence which DOES require external files\n",
       "        requirejs(['basic', 'ecco'], function(basic, ecco){\n",
       "                console.log('addToken viz_id', 'viz_592163');\n",
       "                window.ecco['viz_592163'].addToken({\"token\": \" witch\", \"token_id\": 16365, \"position\": 68, \"type\": \"output\"})\n",
       "                window.ecco['viz_592163'].redraw()\n",
       "        })\n",
       "        "
      ],
      "text/plain": [
       "<IPython.core.display.Javascript object>"
      ]
     },
     "metadata": {},
     "output_type": "display_data"
    },
    {
     "data": {
      "application/javascript": [
       "\n",
       "        // We don't really need these require scripts. But this is to avert\n",
       "        //this code from running before display_input_sequence which DOES require external files\n",
       "        requirejs(['basic', 'ecco'], function(basic, ecco){\n",
       "                console.log('addToken viz_id', 'viz_592163');\n",
       "                window.ecco['viz_592163'].addToken({\"token\": \",'\", \"token_id\": 4032, \"position\": 69, \"type\": \"output\"})\n",
       "                window.ecco['viz_592163'].redraw()\n",
       "        })\n",
       "        "
      ],
      "text/plain": [
       "<IPython.core.display.Javascript object>"
      ]
     },
     "metadata": {},
     "output_type": "display_data"
    },
    {
     "data": {
      "application/javascript": [
       "\n",
       "        // We don't really need these require scripts. But this is to avert\n",
       "        //this code from running before display_input_sequence which DOES require external files\n",
       "        requirejs(['basic', 'ecco'], function(basic, ecco){\n",
       "                console.log('addToken viz_id', 'viz_592163');\n",
       "                window.ecco['viz_592163'].addToken({\"token\": \" and\", \"token_id\": 290, \"position\": 70, \"type\": \"output\"})\n",
       "                window.ecco['viz_592163'].redraw()\n",
       "        })\n",
       "        "
      ],
      "text/plain": [
       "<IPython.core.display.Javascript object>"
      ]
     },
     "metadata": {},
     "output_type": "display_data"
    },
    {
     "data": {
      "application/javascript": [
       "\n",
       "        // We don't really need these require scripts. But this is to avert\n",
       "        //this code from running before display_input_sequence which DOES require external files\n",
       "        requirejs(['basic', 'ecco'], function(basic, ecco){\n",
       "                console.log('addToken viz_id', 'viz_592163');\n",
       "                window.ecco['viz_592163'].addToken({\"token\": \" then\", \"token_id\": 788, \"position\": 71, \"type\": \"output\"})\n",
       "                window.ecco['viz_592163'].redraw()\n",
       "        })\n",
       "        "
      ],
      "text/plain": [
       "<IPython.core.display.Javascript object>"
      ]
     },
     "metadata": {},
     "output_type": "display_data"
    },
    {
     "data": {
      "application/javascript": [
       "\n",
       "        // We don't really need these require scripts. But this is to avert\n",
       "        //this code from running before display_input_sequence which DOES require external files\n",
       "        requirejs(['basic', 'ecco'], function(basic, ecco){\n",
       "                console.log('addToken viz_id', 'viz_592163');\n",
       "                window.ecco['viz_592163'].addToken({\"token\": \" says\", \"token_id\": 1139, \"position\": 72, \"type\": \"output\"})\n",
       "                window.ecco['viz_592163'].redraw()\n",
       "        })\n",
       "        "
      ],
      "text/plain": [
       "<IPython.core.display.Javascript object>"
      ]
     },
     "metadata": {},
     "output_type": "display_data"
    },
    {
     "data": {
      "application/javascript": [
       "\n",
       "        // We don't really need these require scripts. But this is to avert\n",
       "        //this code from running before display_input_sequence which DOES require external files\n",
       "        requirejs(['basic', 'ecco'], function(basic, ecco){\n",
       "                console.log('addToken viz_id', 'viz_592163');\n",
       "                window.ecco['viz_592163'].addToken({\"token\": \",\", \"token_id\": 11, \"position\": 73, \"type\": \"output\"})\n",
       "                window.ecco['viz_592163'].redraw()\n",
       "        })\n",
       "        "
      ],
      "text/plain": [
       "<IPython.core.display.Javascript object>"
      ]
     },
     "metadata": {},
     "output_type": "display_data"
    },
    {
     "data": {
      "application/javascript": [
       "\n",
       "        // We don't really need these require scripts. But this is to avert\n",
       "        //this code from running before display_input_sequence which DOES require external files\n",
       "        requirejs(['basic', 'ecco'], function(basic, ecco){\n",
       "                console.log('addToken viz_id', 'viz_592163');\n",
       "                window.ecco['viz_592163'].addToken({\"token\": \" '\", \"token_id\": 705, \"position\": 74, \"type\": \"output\"})\n",
       "                window.ecco['viz_592163'].redraw()\n",
       "        })\n",
       "        "
      ],
      "text/plain": [
       "<IPython.core.display.Javascript object>"
      ]
     },
     "metadata": {},
     "output_type": "display_data"
    },
    {
     "data": {
      "application/javascript": [
       "\n",
       "        // We don't really need these require scripts. But this is to avert\n",
       "        //this code from running before display_input_sequence which DOES require external files\n",
       "        requirejs(['basic', 'ecco'], function(basic, ecco){\n",
       "                console.log('addToken viz_id', 'viz_592163');\n",
       "                window.ecco['viz_592163'].addToken({\"token\": \"How\", \"token_id\": 2437, \"position\": 75, \"type\": \"output\"})\n",
       "                window.ecco['viz_592163'].redraw()\n",
       "        })\n",
       "        "
      ],
      "text/plain": [
       "<IPython.core.display.Javascript object>"
      ]
     },
     "metadata": {},
     "output_type": "display_data"
    },
    {
     "data": {
      "application/javascript": [
       "\n",
       "        // We don't really need these require scripts. But this is to avert\n",
       "        //this code from running before display_input_sequence which DOES require external files\n",
       "        requirejs(['basic', 'ecco'], function(basic, ecco){\n",
       "                console.log('addToken viz_id', 'viz_592163');\n",
       "                window.ecco['viz_592163'].addToken({\"token\": \" could\", \"token_id\": 714, \"position\": 76, \"type\": \"output\"})\n",
       "                window.ecco['viz_592163'].redraw()\n",
       "        })\n",
       "        "
      ],
      "text/plain": [
       "<IPython.core.display.Javascript object>"
      ]
     },
     "metadata": {},
     "output_type": "display_data"
    },
    {
     "data": {
      "application/javascript": [
       "\n",
       "        // We don't really need these require scripts. But this is to avert\n",
       "        //this code from running before display_input_sequence which DOES require external files\n",
       "        requirejs(['basic', 'ecco'], function(basic, ecco){\n",
       "                console.log('addToken viz_id', 'viz_592163');\n",
       "                window.ecco['viz_592163'].addToken({\"token\": \" she\", \"token_id\": 673, \"position\": 77, \"type\": \"output\"})\n",
       "                window.ecco['viz_592163'].redraw()\n",
       "        })\n",
       "        "
      ],
      "text/plain": [
       "<IPython.core.display.Javascript object>"
      ]
     },
     "metadata": {},
     "output_type": "display_data"
    },
    {
     "data": {
      "application/javascript": [
       "\n",
       "        // We don't really need these require scripts. But this is to avert\n",
       "        //this code from running before display_input_sequence which DOES require external files\n",
       "        requirejs(['basic', 'ecco'], function(basic, ecco){\n",
       "                console.log('addToken viz_id', 'viz_592163');\n",
       "                window.ecco['viz_592163'].addToken({\"token\": \"?\", \"token_id\": 30, \"position\": 78, \"type\": \"output\"})\n",
       "                window.ecco['viz_592163'].redraw()\n",
       "        })\n",
       "        "
      ],
      "text/plain": [
       "<IPython.core.display.Javascript object>"
      ]
     },
     "metadata": {},
     "output_type": "display_data"
    },
    {
     "data": {
      "application/javascript": [
       "\n",
       "        // We don't really need these require scripts. But this is to avert\n",
       "        //this code from running before display_input_sequence which DOES require external files\n",
       "        requirejs(['basic', 'ecco'], function(basic, ecco){\n",
       "                console.log('addToken viz_id', 'viz_592163');\n",
       "                window.ecco['viz_592163'].addToken({\"token\": \" You\", \"token_id\": 921, \"position\": 79, \"type\": \"output\"})\n",
       "                window.ecco['viz_592163'].redraw()\n",
       "        })\n",
       "        "
      ],
      "text/plain": [
       "<IPython.core.display.Javascript object>"
      ]
     },
     "metadata": {},
     "output_type": "display_data"
    },
    {
     "data": {
      "application/javascript": [
       "\n",
       "        // We don't really need these require scripts. But this is to avert\n",
       "        //this code from running before display_input_sequence which DOES require external files\n",
       "        requirejs(['basic', 'ecco'], function(basic, ecco){\n",
       "                console.log('addToken viz_id', 'viz_592163');\n",
       "                window.ecco['viz_592163'].addToken({\"token\": \" know\", \"token_id\": 760, \"position\": 80, \"type\": \"output\"})\n",
       "                window.ecco['viz_592163'].redraw()\n",
       "        })\n",
       "        "
      ],
      "text/plain": [
       "<IPython.core.display.Javascript object>"
      ]
     },
     "metadata": {},
     "output_type": "display_data"
    },
    {
     "data": {
      "application/javascript": [
       "\n",
       "        // We don't really need these require scripts. But this is to avert\n",
       "        //this code from running before display_input_sequence which DOES require external files\n",
       "        requirejs(['basic', 'ecco'], function(basic, ecco){\n",
       "                console.log('addToken viz_id', 'viz_592163');\n",
       "                window.ecco['viz_592163'].addToken({\"token\": \",\", \"token_id\": 11, \"position\": 81, \"type\": \"output\"})\n",
       "                window.ecco['viz_592163'].redraw()\n",
       "        })\n",
       "        "
      ],
      "text/plain": [
       "<IPython.core.display.Javascript object>"
      ]
     },
     "metadata": {},
     "output_type": "display_data"
    },
    {
     "data": {
      "application/javascript": [
       "\n",
       "        // We don't really need these require scripts. But this is to avert\n",
       "        //this code from running before display_input_sequence which DOES require external files\n",
       "        requirejs(['basic', 'ecco'], function(basic, ecco){\n",
       "                console.log('addToken viz_id', 'viz_592163');\n",
       "                window.ecco['viz_592163'].addToken({\"token\": \" she\", \"token_id\": 673, \"position\": 82, \"type\": \"output\"})\n",
       "                window.ecco['viz_592163'].redraw()\n",
       "        })\n",
       "        "
      ],
      "text/plain": [
       "<IPython.core.display.Javascript object>"
      ]
     },
     "metadata": {},
     "output_type": "display_data"
    },
    {
     "data": {
      "application/javascript": [
       "\n",
       "        // We don't really need these require scripts. But this is to avert\n",
       "        //this code from running before display_input_sequence which DOES require external files\n",
       "        requirejs(['basic', 'ecco'], function(basic, ecco){\n",
       "                console.log('addToken viz_id', 'viz_592163');\n",
       "                window.ecco['viz_592163'].addToken({\"token\": \" was\", \"token_id\": 373, \"position\": 83, \"type\": \"output\"})\n",
       "                window.ecco['viz_592163'].redraw()\n",
       "        })\n",
       "        "
      ],
      "text/plain": [
       "<IPython.core.display.Javascript object>"
      ]
     },
     "metadata": {},
     "output_type": "display_data"
    },
    {
     "data": {
      "application/javascript": [
       "\n",
       "        // We don't really need these require scripts. But this is to avert\n",
       "        //this code from running before display_input_sequence which DOES require external files\n",
       "        requirejs(['basic', 'ecco'], function(basic, ecco){\n",
       "                console.log('addToken viz_id', 'viz_592163');\n",
       "                window.ecco['viz_592163'].addToken({\"token\": \" probably\", \"token_id\": 2192, \"position\": 84, \"type\": \"output\"})\n",
       "                window.ecco['viz_592163'].redraw()\n",
       "        })\n",
       "        "
      ],
      "text/plain": [
       "<IPython.core.display.Javascript object>"
      ]
     },
     "metadata": {},
     "output_type": "display_data"
    },
    {
     "data": {
      "application/javascript": [
       "\n",
       "        // We don't really need these require scripts. But this is to avert\n",
       "        //this code from running before display_input_sequence which DOES require external files\n",
       "        requirejs(['basic', 'ecco'], function(basic, ecco){\n",
       "                console.log('addToken viz_id', 'viz_592163');\n",
       "                window.ecco['viz_592163'].addToken({\"token\": \" trying\", \"token_id\": 2111, \"position\": 85, \"type\": \"output\"})\n",
       "                window.ecco['viz_592163'].redraw()\n",
       "        })\n",
       "        "
      ],
      "text/plain": [
       "<IPython.core.display.Javascript object>"
      ]
     },
     "metadata": {},
     "output_type": "display_data"
    },
    {
     "data": {
      "application/javascript": [
       "\n",
       "        // We don't really need these require scripts. But this is to avert\n",
       "        //this code from running before display_input_sequence which DOES require external files\n",
       "        requirejs(['basic', 'ecco'], function(basic, ecco){\n",
       "                console.log('addToken viz_id', 'viz_592163');\n",
       "                window.ecco['viz_592163'].addToken({\"token\": \" to\", \"token_id\": 284, \"position\": 86, \"type\": \"output\"})\n",
       "                window.ecco['viz_592163'].redraw()\n",
       "        })\n",
       "        "
      ],
      "text/plain": [
       "<IPython.core.display.Javascript object>"
      ]
     },
     "metadata": {},
     "output_type": "display_data"
    },
    {
     "data": {
      "application/javascript": [
       "\n",
       "        // We don't really need these require scripts. But this is to avert\n",
       "        //this code from running before display_input_sequence which DOES require external files\n",
       "        requirejs(['basic', 'ecco'], function(basic, ecco){\n",
       "                console.log('addToken viz_id', 'viz_592163');\n",
       "                window.ecco['viz_592163'].addToken({\"token\": \" make\", \"token_id\": 787, \"position\": 87, \"type\": \"output\"})\n",
       "                window.ecco['viz_592163'].redraw()\n",
       "        })\n",
       "        "
      ],
      "text/plain": [
       "<IPython.core.display.Javascript object>"
      ]
     },
     "metadata": {},
     "output_type": "display_data"
    },
    {
     "data": {
      "application/javascript": [
       "\n",
       "        // We don't really need these require scripts. But this is to avert\n",
       "        //this code from running before display_input_sequence which DOES require external files\n",
       "        requirejs(['basic', 'ecco'], function(basic, ecco){\n",
       "                console.log('addToken viz_id', 'viz_592163');\n",
       "                window.ecco['viz_592163'].addToken({\"token\": \" me\", \"token_id\": 502, \"position\": 88, \"type\": \"output\"})\n",
       "                window.ecco['viz_592163'].redraw()\n",
       "        })\n",
       "        "
      ],
      "text/plain": [
       "<IPython.core.display.Javascript object>"
      ]
     },
     "metadata": {},
     "output_type": "display_data"
    },
    {
     "data": {
      "application/javascript": [
       "\n",
       "        // We don't really need these require scripts. But this is to avert\n",
       "        //this code from running before display_input_sequence which DOES require external files\n",
       "        requirejs(['basic', 'ecco'], function(basic, ecco){\n",
       "                console.log('addToken viz_id', 'viz_592163');\n",
       "                window.ecco['viz_592163'].addToken({\"token\": \" an\", \"token_id\": 281, \"position\": 89, \"type\": \"output\"})\n",
       "                window.ecco['viz_592163'].redraw()\n",
       "        })\n",
       "        "
      ],
      "text/plain": [
       "<IPython.core.display.Javascript object>"
      ]
     },
     "metadata": {},
     "output_type": "display_data"
    },
    {
     "data": {
      "application/javascript": [
       "\n",
       "        // We don't really need these require scripts. But this is to avert\n",
       "        //this code from running before display_input_sequence which DOES require external files\n",
       "        requirejs(['basic', 'ecco'], function(basic, ecco){\n",
       "                console.log('addToken viz_id', 'viz_592163');\n",
       "                window.ecco['viz_592163'].addToken({\"token\": \" animal\", \"token_id\": 5044, \"position\": 90, \"type\": \"output\"})\n",
       "                window.ecco['viz_592163'].redraw()\n",
       "        })\n",
       "        "
      ],
      "text/plain": [
       "<IPython.core.display.Javascript object>"
      ]
     },
     "metadata": {},
     "output_type": "display_data"
    },
    {
     "data": {
      "application/javascript": [
       "\n",
       "        // We don't really need these require scripts. But this is to avert\n",
       "        //this code from running before display_input_sequence which DOES require external files\n",
       "        requirejs(['basic', 'ecco'], function(basic, ecco){\n",
       "                console.log('addToken viz_id', 'viz_592163');\n",
       "                window.ecco['viz_592163'].addToken({\"token\": \".'\", \"token_id\": 2637, \"position\": 91, \"type\": \"output\"})\n",
       "                window.ecco['viz_592163'].redraw()\n",
       "        })\n",
       "        "
      ],
      "text/plain": [
       "<IPython.core.display.Javascript object>"
      ]
     },
     "metadata": {},
     "output_type": "display_data"
    },
    {
     "data": {
      "application/javascript": [
       "\n",
       "        // We don't really need these require scripts. But this is to avert\n",
       "        //this code from running before display_input_sequence which DOES require external files\n",
       "        requirejs(['basic', 'ecco'], function(basic, ecco){\n",
       "                console.log('addToken viz_id', 'viz_592163');\n",
       "                window.ecco['viz_592163'].addToken({\"token\": \" I\", \"token_id\": 314, \"position\": 92, \"type\": \"output\"})\n",
       "                window.ecco['viz_592163'].redraw()\n",
       "        })\n",
       "        "
      ],
      "text/plain": [
       "<IPython.core.display.Javascript object>"
      ]
     },
     "metadata": {},
     "output_type": "display_data"
    },
    {
     "data": {
      "application/javascript": [
       "\n",
       "        // We don't really need these require scripts. But this is to avert\n",
       "        //this code from running before display_input_sequence which DOES require external files\n",
       "        requirejs(['basic', 'ecco'], function(basic, ecco){\n",
       "                console.log('addToken viz_id', 'viz_592163');\n",
       "                window.ecco['viz_592163'].addToken({\"token\": \" don\", \"token_id\": 836, \"position\": 93, \"type\": \"output\"})\n",
       "                window.ecco['viz_592163'].redraw()\n",
       "        })\n",
       "        "
      ],
      "text/plain": [
       "<IPython.core.display.Javascript object>"
      ]
     },
     "metadata": {},
     "output_type": "display_data"
    },
    {
     "data": {
      "application/javascript": [
       "\n",
       "        // We don't really need these require scripts. But this is to avert\n",
       "        //this code from running before display_input_sequence which DOES require external files\n",
       "        requirejs(['basic', 'ecco'], function(basic, ecco){\n",
       "                console.log('addToken viz_id', 'viz_592163');\n",
       "                window.ecco['viz_592163'].addToken({\"token\": \"'t\", \"token_id\": 470, \"position\": 94, \"type\": \"output\"})\n",
       "                window.ecco['viz_592163'].redraw()\n",
       "        })\n",
       "        "
      ],
      "text/plain": [
       "<IPython.core.display.Javascript object>"
      ]
     },
     "metadata": {},
     "output_type": "display_data"
    },
    {
     "data": {
      "application/javascript": [
       "\n",
       "        // We don't really need these require scripts. But this is to avert\n",
       "        //this code from running before display_input_sequence which DOES require external files\n",
       "        requirejs(['basic', 'ecco'], function(basic, ecco){\n",
       "                console.log('addToken viz_id', 'viz_592163');\n",
       "                window.ecco['viz_592163'].addToken({\"token\": \" know\", \"token_id\": 760, \"position\": 95, \"type\": \"output\"})\n",
       "                window.ecco['viz_592163'].redraw()\n",
       "        })\n",
       "        "
      ],
      "text/plain": [
       "<IPython.core.display.Javascript object>"
      ]
     },
     "metadata": {},
     "output_type": "display_data"
    },
    {
     "data": {
      "application/javascript": [
       "\n",
       "        // We don't really need these require scripts. But this is to avert\n",
       "        //this code from running before display_input_sequence which DOES require external files\n",
       "        requirejs(['basic', 'ecco'], function(basic, ecco){\n",
       "                console.log('addToken viz_id', 'viz_592163');\n",
       "                window.ecco['viz_592163'].addToken({\"token\": \" how\", \"token_id\": 703, \"position\": 96, \"type\": \"output\"})\n",
       "                window.ecco['viz_592163'].redraw()\n",
       "        })\n",
       "        "
      ],
      "text/plain": [
       "<IPython.core.display.Javascript object>"
      ]
     },
     "metadata": {},
     "output_type": "display_data"
    },
    {
     "data": {
      "application/javascript": [
       "\n",
       "        // We don't really need these require scripts. But this is to avert\n",
       "        //this code from running before display_input_sequence which DOES require external files\n",
       "        requirejs(['basic', 'ecco'], function(basic, ecco){\n",
       "                console.log('addToken viz_id', 'viz_592163');\n",
       "                window.ecco['viz_592163'].addToken({\"token\": \" to\", \"token_id\": 284, \"position\": 97, \"type\": \"output\"})\n",
       "                window.ecco['viz_592163'].redraw()\n",
       "        })\n",
       "        "
      ],
      "text/plain": [
       "<IPython.core.display.Javascript object>"
      ]
     },
     "metadata": {},
     "output_type": "display_data"
    },
    {
     "data": {
      "application/javascript": [
       "\n",
       "        // We don't really need these require scripts. But this is to avert\n",
       "        //this code from running before display_input_sequence which DOES require external files\n",
       "        requirejs(['basic', 'ecco'], function(basic, ecco){\n",
       "                console.log('addToken viz_id', 'viz_592163');\n",
       "                window.ecco['viz_592163'].addToken({\"token\": \" explain\", \"token_id\": 4727, \"position\": 98, \"type\": \"output\"})\n",
       "                window.ecco['viz_592163'].redraw()\n",
       "        })\n",
       "        "
      ],
      "text/plain": [
       "<IPython.core.display.Javascript object>"
      ]
     },
     "metadata": {},
     "output_type": "display_data"
    },
    {
     "data": {
      "application/javascript": [
       "\n",
       "        // We don't really need these require scripts. But this is to avert\n",
       "        //this code from running before display_input_sequence which DOES require external files\n",
       "        requirejs(['basic', 'ecco'], function(basic, ecco){\n",
       "                console.log('addToken viz_id', 'viz_592163');\n",
       "                window.ecco['viz_592163'].addToken({\"token\": \" it\", \"token_id\": 340, \"position\": 99, \"type\": \"output\"})\n",
       "                window.ecco['viz_592163'].redraw()\n",
       "        })\n",
       "        "
      ],
      "text/plain": [
       "<IPython.core.display.Javascript object>"
      ]
     },
     "metadata": {},
     "output_type": "display_data"
    },
    {
     "data": {
      "application/javascript": [
       "\n",
       "        // We don't really need these require scripts. But this is to avert\n",
       "        //this code from running before display_input_sequence which DOES require external files\n",
       "        requirejs(['basic', 'ecco'], function(basic, ecco){\n",
       "                console.log('addToken viz_id', 'viz_592163');\n",
       "                window.ecco['viz_592163'].addToken({\"token\": \".\", \"token_id\": 13, \"position\": 100, \"type\": \"output\"})\n",
       "                window.ecco['viz_592163'].redraw()\n",
       "        })\n",
       "        "
      ],
      "text/plain": [
       "<IPython.core.display.Javascript object>"
      ]
     },
     "metadata": {},
     "output_type": "display_data"
    },
    {
     "data": {
      "application/javascript": [
       "\n",
       "        // We don't really need these require scripts. But this is to avert\n",
       "        //this code from running before display_input_sequence which DOES require external files\n",
       "        requirejs(['basic', 'ecco'], function(basic, ecco){\n",
       "                console.log('addToken viz_id', 'viz_592163');\n",
       "                window.ecco['viz_592163'].addToken({\"token\": \" They\", \"token_id\": 1119, \"position\": 101, \"type\": \"output\"})\n",
       "                window.ecco['viz_592163'].redraw()\n",
       "        })\n",
       "        "
      ],
      "text/plain": [
       "<IPython.core.display.Javascript object>"
      ]
     },
     "metadata": {},
     "output_type": "display_data"
    },
    {
     "data": {
      "application/javascript": [
       "\n",
       "        // We don't really need these require scripts. But this is to avert\n",
       "        //this code from running before display_input_sequence which DOES require external files\n",
       "        requirejs(['basic', 'ecco'], function(basic, ecco){\n",
       "                console.log('addToken viz_id', 'viz_592163');\n",
       "                window.ecco['viz_592163'].addToken({\"token\": \"'re\", \"token_id\": 821, \"position\": 102, \"type\": \"output\"})\n",
       "                window.ecco['viz_592163'].redraw()\n",
       "        })\n",
       "        "
      ],
      "text/plain": [
       "<IPython.core.display.Javascript object>"
      ]
     },
     "metadata": {},
     "output_type": "display_data"
    },
    {
     "data": {
      "application/javascript": [
       "\n",
       "        // We don't really need these require scripts. But this is to avert\n",
       "        //this code from running before display_input_sequence which DOES require external files\n",
       "        requirejs(['basic', 'ecco'], function(basic, ecco){\n",
       "                console.log('addToken viz_id', 'viz_592163');\n",
       "                window.ecco['viz_592163'].addToken({\"token\": \" still\", \"token_id\": 991, \"position\": 103, \"type\": \"output\"})\n",
       "                window.ecco['viz_592163'].redraw()\n",
       "        })\n",
       "        "
      ],
      "text/plain": [
       "<IPython.core.display.Javascript object>"
      ]
     },
     "metadata": {},
     "output_type": "display_data"
    },
    {
     "data": {
      "application/javascript": [
       "\n",
       "        // We don't really need these require scripts. But this is to avert\n",
       "        //this code from running before display_input_sequence which DOES require external files\n",
       "        requirejs(['basic', 'ecco'], function(basic, ecco){\n",
       "                console.log('addToken viz_id', 'viz_592163');\n",
       "                window.ecco['viz_592163'].addToken({\"token\": \" looking\", \"token_id\": 2045, \"position\": 104, \"type\": \"output\"})\n",
       "                window.ecco['viz_592163'].redraw()\n",
       "        })\n",
       "        "
      ],
      "text/plain": [
       "<IPython.core.display.Javascript object>"
      ]
     },
     "metadata": {},
     "output_type": "display_data"
    },
    {
     "data": {
      "application/javascript": [
       "\n",
       "        // We don't really need these require scripts. But this is to avert\n",
       "        //this code from running before display_input_sequence which DOES require external files\n",
       "        requirejs(['basic', 'ecco'], function(basic, ecco){\n",
       "                console.log('addToken viz_id', 'viz_592163');\n",
       "                window.ecco['viz_592163'].addToken({\"token\": \" at\", \"token_id\": 379, \"position\": 105, \"type\": \"output\"})\n",
       "                window.ecco['viz_592163'].redraw()\n",
       "        })\n",
       "        "
      ],
      "text/plain": [
       "<IPython.core.display.Javascript object>"
      ]
     },
     "metadata": {},
     "output_type": "display_data"
    },
    {
     "data": {
      "application/javascript": [
       "\n",
       "        // We don't really need these require scripts. But this is to avert\n",
       "        //this code from running before display_input_sequence which DOES require external files\n",
       "        requirejs(['basic', 'ecco'], function(basic, ecco){\n",
       "                console.log('addToken viz_id', 'viz_592163');\n",
       "                window.ecco['viz_592163'].addToken({\"token\": \" each\", \"token_id\": 1123, \"position\": 106, \"type\": \"output\"})\n",
       "                window.ecco['viz_592163'].redraw()\n",
       "        })\n",
       "        "
      ],
      "text/plain": [
       "<IPython.core.display.Javascript object>"
      ]
     },
     "metadata": {},
     "output_type": "display_data"
    },
    {
     "data": {
      "application/javascript": [
       "\n",
       "        // We don't really need these require scripts. But this is to avert\n",
       "        //this code from running before display_input_sequence which DOES require external files\n",
       "        requirejs(['basic', 'ecco'], function(basic, ecco){\n",
       "                console.log('addToken viz_id', 'viz_592163');\n",
       "                window.ecco['viz_592163'].addToken({\"token\": \" other\", \"token_id\": 584, \"position\": 107, \"type\": \"output\"})\n",
       "                window.ecco['viz_592163'].redraw()\n",
       "        })\n",
       "        "
      ],
      "text/plain": [
       "<IPython.core.display.Javascript object>"
      ]
     },
     "metadata": {},
     "output_type": "display_data"
    },
    {
     "data": {
      "application/javascript": [
       "\n",
       "        // We don't really need these require scripts. But this is to avert\n",
       "        //this code from running before display_input_sequence which DOES require external files\n",
       "        requirejs(['basic', 'ecco'], function(basic, ecco){\n",
       "                console.log('addToken viz_id', 'viz_592163');\n",
       "                window.ecco['viz_592163'].addToken({\"token\": \",\", \"token_id\": 11, \"position\": 108, \"type\": \"output\"})\n",
       "                window.ecco['viz_592163'].redraw()\n",
       "        })\n",
       "        "
      ],
      "text/plain": [
       "<IPython.core.display.Javascript object>"
      ]
     },
     "metadata": {},
     "output_type": "display_data"
    },
    {
     "data": {
      "application/javascript": [
       "\n",
       "        // We don't really need these require scripts. But this is to avert\n",
       "        //this code from running before display_input_sequence which DOES require external files\n",
       "        requirejs(['basic', 'ecco'], function(basic, ecco){\n",
       "                console.log('addToken viz_id', 'viz_592163');\n",
       "                window.ecco['viz_592163'].addToken({\"token\": \" but\", \"token_id\": 475, \"position\": 109, \"type\": \"output\"})\n",
       "                window.ecco['viz_592163'].redraw()\n",
       "        })\n",
       "        "
      ],
      "text/plain": [
       "<IPython.core.display.Javascript object>"
      ]
     },
     "metadata": {},
     "output_type": "display_data"
    },
    {
     "data": {
      "application/javascript": [
       "\n",
       "        // We don't really need these require scripts. But this is to avert\n",
       "        //this code from running before display_input_sequence which DOES require external files\n",
       "        requirejs(['basic', 'ecco'], function(basic, ecco){\n",
       "                console.log('addToken viz_id', 'viz_592163');\n",
       "                window.ecco['viz_592163'].addToken({\"token\": \" now\", \"token_id\": 783, \"position\": 110, \"type\": \"output\"})\n",
       "                window.ecco['viz_592163'].redraw()\n",
       "        })\n",
       "        "
      ],
      "text/plain": [
       "<IPython.core.display.Javascript object>"
      ]
     },
     "metadata": {},
     "output_type": "display_data"
    },
    {
     "data": {
      "application/javascript": [
       "\n",
       "        // We don't really need these require scripts. But this is to avert\n",
       "        //this code from running before display_input_sequence which DOES require external files\n",
       "        requirejs(['basic', 'ecco'], function(basic, ecco){\n",
       "                console.log('addToken viz_id', 'viz_592163');\n",
       "                window.ecco['viz_592163'].addToken({\"token\": \" it\", \"token_id\": 340, \"position\": 111, \"type\": \"output\"})\n",
       "                window.ecco['viz_592163'].redraw()\n",
       "        })\n",
       "        "
      ],
      "text/plain": [
       "<IPython.core.display.Javascript object>"
      ]
     },
     "metadata": {},
     "output_type": "display_data"
    },
    {
     "data": {
      "application/javascript": [
       "\n",
       "        // We don't really need these require scripts. But this is to avert\n",
       "        //this code from running before display_input_sequence which DOES require external files\n",
       "        requirejs(['basic', 'ecco'], function(basic, ecco){\n",
       "                console.log('addToken viz_id', 'viz_592163');\n",
       "                window.ecco['viz_592163'].addToken({\"token\": \"'s\", \"token_id\": 338, \"position\": 112, \"type\": \"output\"})\n",
       "                window.ecco['viz_592163'].redraw()\n",
       "        })\n",
       "        "
      ],
      "text/plain": [
       "<IPython.core.display.Javascript object>"
      ]
     },
     "metadata": {},
     "output_type": "display_data"
    },
    {
     "data": {
      "application/javascript": [
       "\n",
       "        // We don't really need these require scripts. But this is to avert\n",
       "        //this code from running before display_input_sequence which DOES require external files\n",
       "        requirejs(['basic', 'ecco'], function(basic, ecco){\n",
       "                console.log('addToken viz_id', 'viz_592163');\n",
       "                window.ecco['viz_592163'].addToken({\"token\": \" like\", \"token_id\": 588, \"position\": 113, \"type\": \"output\"})\n",
       "                window.ecco['viz_592163'].redraw()\n",
       "        })\n",
       "        "
      ],
      "text/plain": [
       "<IPython.core.display.Javascript object>"
      ]
     },
     "metadata": {},
     "output_type": "display_data"
    },
    {
     "data": {
      "application/javascript": [
       "\n",
       "        // We don't really need these require scripts. But this is to avert\n",
       "        //this code from running before display_input_sequence which DOES require external files\n",
       "        requirejs(['basic', 'ecco'], function(basic, ecco){\n",
       "                console.log('addToken viz_id', 'viz_592163');\n",
       "                window.ecco['viz_592163'].addToken({\"token\": \" there\", \"token_id\": 612, \"position\": 114, \"type\": \"output\"})\n",
       "                window.ecco['viz_592163'].redraw()\n",
       "        })\n",
       "        "
      ],
      "text/plain": [
       "<IPython.core.display.Javascript object>"
      ]
     },
     "metadata": {},
     "output_type": "display_data"
    },
    {
     "data": {
      "application/javascript": [
       "\n",
       "        // We don't really need these require scripts. But this is to avert\n",
       "        //this code from running before display_input_sequence which DOES require external files\n",
       "        requirejs(['basic', 'ecco'], function(basic, ecco){\n",
       "                console.log('addToken viz_id', 'viz_592163');\n",
       "                window.ecco['viz_592163'].addToken({\"token\": \"'s\", \"token_id\": 338, \"position\": 115, \"type\": \"output\"})\n",
       "                window.ecco['viz_592163'].redraw()\n",
       "        })\n",
       "        "
      ],
      "text/plain": [
       "<IPython.core.display.Javascript object>"
      ]
     },
     "metadata": {},
     "output_type": "display_data"
    },
    {
     "data": {
      "application/javascript": [
       "\n",
       "        // We don't really need these require scripts. But this is to avert\n",
       "        //this code from running before display_input_sequence which DOES require external files\n",
       "        requirejs(['basic', 'ecco'], function(basic, ecco){\n",
       "                console.log('addToken viz_id', 'viz_592163');\n",
       "                window.ecco['viz_592163'].addToken({\"token\": \" no\", \"token_id\": 645, \"position\": 116, \"type\": \"output\"})\n",
       "                window.ecco['viz_592163'].redraw()\n",
       "        })\n",
       "        "
      ],
      "text/plain": [
       "<IPython.core.display.Javascript object>"
      ]
     },
     "metadata": {},
     "output_type": "display_data"
    },
    {
     "data": {
      "application/javascript": [
       "\n",
       "        // We don't really need these require scripts. But this is to avert\n",
       "        //this code from running before display_input_sequence which DOES require external files\n",
       "        requirejs(['basic', 'ecco'], function(basic, ecco){\n",
       "                console.log('addToken viz_id', 'viz_592163');\n",
       "                window.ecco['viz_592163'].addToken({\"token\": \" room\", \"token_id\": 2119, \"position\": 117, \"type\": \"output\"})\n",
       "                window.ecco['viz_592163'].redraw()\n",
       "        })\n",
       "        "
      ],
      "text/plain": [
       "<IPython.core.display.Javascript object>"
      ]
     },
     "metadata": {},
     "output_type": "display_data"
    },
    {
     "data": {
      "application/javascript": [
       "\n",
       "        // We don't really need these require scripts. But this is to avert\n",
       "        //this code from running before display_input_sequence which DOES require external files\n",
       "        requirejs(['basic', 'ecco'], function(basic, ecco){\n",
       "                console.log('addToken viz_id', 'viz_592163');\n",
       "                window.ecco['viz_592163'].addToken({\"token\": \".\\\"\", \"token_id\": 526, \"position\": 118, \"type\": \"output\"})\n",
       "                window.ecco['viz_592163'].redraw()\n",
       "        })\n",
       "        "
      ],
      "text/plain": [
       "<IPython.core.display.Javascript object>"
      ]
     },
     "metadata": {},
     "output_type": "display_data"
    },
    {
     "data": {
      "application/javascript": [
       "\n",
       "        // We don't really need these require scripts. But this is to avert\n",
       "        //this code from running before display_input_sequence which DOES require external files\n",
       "        requirejs(['basic', 'ecco'], function(basic, ecco){\n",
       "                console.log('addToken viz_id', 'viz_592163');\n",
       "                window.ecco['viz_592163'].addToken({\"token\": \"\\n\", \"token_id\": 198, \"position\": 119, \"type\": \"output\"})\n",
       "                window.ecco['viz_592163'].redraw()\n",
       "        })\n",
       "        "
      ],
      "text/plain": [
       "<IPython.core.display.Javascript object>"
      ]
     },
     "metadata": {},
     "output_type": "display_data"
    },
    {
     "data": {
      "application/javascript": [
       "\n",
       "        // We don't really need these require scripts. But this is to avert\n",
       "        //this code from running before display_input_sequence which DOES require external files\n",
       "        requirejs(['basic', 'ecco'], function(basic, ecco){\n",
       "                console.log('addToken viz_id', 'viz_592163');\n",
       "                window.ecco['viz_592163'].addToken({\"token\": \"\\n\", \"token_id\": 198, \"position\": 120, \"type\": \"output\"})\n",
       "                window.ecco['viz_592163'].redraw()\n",
       "        })\n",
       "        "
      ],
      "text/plain": [
       "<IPython.core.display.Javascript object>"
      ]
     },
     "metadata": {},
     "output_type": "display_data"
    },
    {
     "data": {
      "application/javascript": [
       "\n",
       "        // We don't really need these require scripts. But this is to avert\n",
       "        //this code from running before display_input_sequence which DOES require external files\n",
       "        requirejs(['basic', 'ecco'], function(basic, ecco){\n",
       "                console.log('addToken viz_id', 'viz_592163');\n",
       "                window.ecco['viz_592163'].addToken({\"token\": \"A\", \"token_id\": 32, \"position\": 121, \"type\": \"output\"})\n",
       "                window.ecco['viz_592163'].redraw()\n",
       "        })\n",
       "        "
      ],
      "text/plain": [
       "<IPython.core.display.Javascript object>"
      ]
     },
     "metadata": {},
     "output_type": "display_data"
    },
    {
     "data": {
      "application/javascript": [
       "\n",
       "        // We don't really need these require scripts. But this is to avert\n",
       "        //this code from running before display_input_sequence which DOES require external files\n",
       "        requirejs(['basic', 'ecco'], function(basic, ecco){\n",
       "                console.log('addToken viz_id', 'viz_592163');\n",
       "                window.ecco['viz_592163'].addToken({\"token\": \" few\", \"token_id\": 1178, \"position\": 122, \"type\": \"output\"})\n",
       "                window.ecco['viz_592163'].redraw()\n",
       "        })\n",
       "        "
      ],
      "text/plain": [
       "<IPython.core.display.Javascript object>"
      ]
     },
     "metadata": {},
     "output_type": "display_data"
    },
    {
     "data": {
      "application/javascript": [
       "\n",
       "        // We don't really need these require scripts. But this is to avert\n",
       "        //this code from running before display_input_sequence which DOES require external files\n",
       "        requirejs(['basic', 'ecco'], function(basic, ecco){\n",
       "                console.log('addToken viz_id', 'viz_592163');\n",
       "                window.ecco['viz_592163'].addToken({\"token\": \" years\", \"token_id\": 812, \"position\": 123, \"type\": \"output\"})\n",
       "                window.ecco['viz_592163'].redraw()\n",
       "        })\n",
       "        "
      ],
      "text/plain": [
       "<IPython.core.display.Javascript object>"
      ]
     },
     "metadata": {},
     "output_type": "display_data"
    },
    {
     "data": {
      "application/javascript": [
       "\n",
       "        // We don't really need these require scripts. But this is to avert\n",
       "        //this code from running before display_input_sequence which DOES require external files\n",
       "        requirejs(['basic', 'ecco'], function(basic, ecco){\n",
       "                console.log('addToken viz_id', 'viz_592163');\n",
       "                window.ecco['viz_592163'].addToken({\"token\": \" after\", \"token_id\": 706, \"position\": 124, \"type\": \"output\"})\n",
       "                window.ecco['viz_592163'].redraw()\n",
       "        })\n",
       "        "
      ],
      "text/plain": [
       "<IPython.core.display.Javascript object>"
      ]
     },
     "metadata": {},
     "output_type": "display_data"
    },
    {
     "data": {
      "application/javascript": [
       "\n",
       "        // We don't really need these require scripts. But this is to avert\n",
       "        //this code from running before display_input_sequence which DOES require external files\n",
       "        requirejs(['basic', 'ecco'], function(basic, ecco){\n",
       "                console.log('addToken viz_id', 'viz_592163');\n",
       "                window.ecco['viz_592163'].addToken({\"token\": \" the\", \"token_id\": 262, \"position\": 125, \"type\": \"output\"})\n",
       "                window.ecco['viz_592163'].redraw()\n",
       "        })\n",
       "        "
      ],
      "text/plain": [
       "<IPython.core.display.Javascript object>"
      ]
     },
     "metadata": {},
     "output_type": "display_data"
    },
    {
     "data": {
      "application/javascript": [
       "\n",
       "        // We don't really need these require scripts. But this is to avert\n",
       "        //this code from running before display_input_sequence which DOES require external files\n",
       "        requirejs(['basic', 'ecco'], function(basic, ecco){\n",
       "                console.log('addToken viz_id', 'viz_592163');\n",
       "                window.ecco['viz_592163'].addToken({\"token\": \" discovery\", \"token_id\": 9412, \"position\": 126, \"type\": \"output\"})\n",
       "                window.ecco['viz_592163'].redraw()\n",
       "        })\n",
       "        "
      ],
      "text/plain": [
       "<IPython.core.display.Javascript object>"
      ]
     },
     "metadata": {},
     "output_type": "display_data"
    },
    {
     "data": {
      "application/javascript": [
       "\n",
       "        // We don't really need these require scripts. But this is to avert\n",
       "        //this code from running before display_input_sequence which DOES require external files\n",
       "        requirejs(['basic', 'ecco'], function(basic, ecco){\n",
       "                console.log('addToken viz_id', 'viz_592163');\n",
       "                window.ecco['viz_592163'].addToken({\"token\": \" of\", \"token_id\": 286, \"position\": 127, \"type\": \"output\"})\n",
       "                window.ecco['viz_592163'].redraw()\n",
       "        })\n",
       "        "
      ],
      "text/plain": [
       "<IPython.core.display.Javascript object>"
      ]
     },
     "metadata": {},
     "output_type": "display_data"
    },
    {
     "data": {
      "text/html": [
       "<html lang=\"en\">\n",
       "<script src=\"https://requirejs.org/docs/release/2.3.6/minified/require.js\"></script>\n",
       "<script>\n",
       "    var ecco_url = 'https://storage.googleapis.com/ml-intro/ecco/'\n",
       "    // var ecco_url = 'http://localhost:8000/ecco/'\n",
       "\n",
       "    if (window.ecco === undefined) window.ecco = {}\n",
       "\n",
       "    requirejs.config({\n",
       "        urlArgs: \"bust=\" + (new Date()).getTime(),\n",
       "        nodeRequire: require,\n",
       "        paths: {\n",
       "            d3: \"https://d3js.org/d3.v5.min\",\n",
       "            \"d3-array\": \"https://d3js.org/d3-array.v2.min\",\n",
       "            jquery: \"https://code.jquery.com/jquery-3.5.1.min\",\n",
       "            // oldEcco: ecco_url + 'ecco',\n",
       "            ecco: ecco_url + 'js/0.0.4/ecco-bundle.min',\n",
       "            xregexp: 'https://cdnjs.cloudflare.com/ajax/libs/xregexp/3.2.0/xregexp-all.min'\n",
       "        }\n",
       "    });\n",
       "    requirejs(['d3'],\n",
       "        function (d3) {\n",
       "            d3.select('#css').attr('href', ecco_url + 'html/styles.css')\n",
       "        })\n",
       "\n",
       "    console.log('Ecco initialize.')\n",
       "</script>\n",
       "\n",
       "<head>\n",
       "    <link id='css' rel=\"stylesheet\" type=\"text/css\">\n",
       "</head>\n"
      ],
      "text/plain": [
       "<IPython.core.display.HTML object>"
      ]
     },
     "metadata": {},
     "output_type": "display_data"
    },
    {
     "data": {
      "text/html": [
       "<script>\n",
       "    // console.log('defining basic')\n",
       "    define('basic', ['d3'],\n",
       "        function (d3) {\n",
       "            return {\n",
       "                init: function (viz_id = null) {\n",
       "\n",
       "                    // console.log('basic init')\n",
       "                    if (viz_id == null){\n",
       "                        viz_id = \"viz_\" + Math.round(Math.random() * 10000000)\n",
       "                    }\n",
       "                    const div = d3.select('#basic').attr('id', viz_id),\n",
       "                        div_parent = d3.select('#' + viz_id).node().parentNode\n",
       "\n",
       "                    // Link to CSS file\n",
       "                    d3.select(div_parent).insert('link')\n",
       "                        .attr('rel', 'stylesheet')\n",
       "                        .attr('type', 'text/css')\n",
       "                        .attr('href', ecco_url + 'html/styles.css')\n",
       "\n",
       "                    return viz_id\n",
       "                }\n",
       "            }\n",
       "        }, function (err) {console.log(err);}\n",
       "    )\n",
       "    // console.log('after defining basic')\n",
       "\n",
       "</script>\n",
       "<div id=\"basic\"></div>\n"
      ],
      "text/plain": [
       "<IPython.core.display.HTML object>"
      ]
     },
     "metadata": {},
     "output_type": "display_data"
    },
    {
     "data": {
      "application/javascript": [
       "\n",
       "             requirejs(['basic', 'ecco'], function(basic, ecco){\n",
       "                const viz_id = basic.init()\n",
       "                window.ecco[viz_id] = ecco.interactiveTokens(viz_id, {'tokens': [{'token': 'There', 'token_id': 1858, 'type': 'input', 'value': '0.23173842', 'position': 0}, {'token': ' are', 'token_id': 389, 'type': 'input', 'value': '0.09223913', 'position': 1}, {'token': ' two', 'token_id': 734, 'type': 'input', 'value': '0.054816756', 'position': 2}, {'token': ' children', 'token_id': 1751, 'type': 'input', 'value': '0.097172484', 'position': 3}, {'token': ' and', 'token_id': 290, 'type': 'input', 'value': '0.0464966', 'position': 4}, {'token': ' their', 'token_id': 511, 'type': 'input', 'value': '0.04186531', 'position': 5}, {'token': ' mother', 'token_id': 2802, 'type': 'input', 'value': '0.059283737', 'position': 6}, {'token': ' in', 'token_id': 287, 'type': 'input', 'value': '0.04531178', 'position': 7}, {'token': ' the', 'token_id': 262, 'type': 'input', 'value': '0.034134734', 'position': 8}, {'token': ' kitchen', 'token_id': 9592, 'type': 'input', 'value': '0.1317161', 'position': 9}, {'token': '.', 'token_id': 13, 'type': 'input', 'value': '0.16522498', 'position': 10}, {'token': ' They', 'token_id': 1119, 'type': 'output', 'value': '0', 'position': 11}, {'token': ' are', 'token_id': 389, 'type': 'output', 'value': '0', 'position': 12}, {'token': ' young', 'token_id': 1862, 'type': 'output', 'value': '0', 'position': 13}, {'token': ' and', 'token_id': 290, 'type': 'output', 'value': '0', 'position': 14}, {'token': ' of', 'token_id': 286, 'type': 'output', 'value': '0', 'position': 15}, {'token': ' the', 'token_id': 262, 'type': 'output', 'value': '0', 'position': 16}, {'token': ' same', 'token_id': 976, 'type': 'output', 'value': '0', 'position': 17}, {'token': ' age', 'token_id': 2479, 'type': 'output', 'value': '0', 'position': 18}, {'token': '.', 'token_id': 13, 'type': 'output', 'value': '0', 'position': 19}, {'token': ' She', 'token_id': 1375, 'type': 'output', 'value': '0', 'position': 20}, {'token': ' looks', 'token_id': 3073, 'type': 'output', 'value': '0', 'position': 21}, {'token': ' up', 'token_id': 510, 'type': 'output', 'value': '0', 'position': 22}, {'token': ' to', 'token_id': 284, 'type': 'output', 'value': '0', 'position': 23}, {'token': ' her', 'token_id': 607, 'type': 'output', 'value': '0', 'position': 24}, {'token': ' mother', 'token_id': 2802, 'type': 'output', 'value': '0', 'position': 25}, {'token': ' and', 'token_id': 290, 'type': 'output', 'value': '0', 'position': 26}, {'token': ' says', 'token_id': 1139, 'type': 'output', 'value': '0', 'position': 27}, {'token': ',', 'token_id': 11, 'type': 'output', 'value': '0', 'position': 28}, {'token': \" '\", 'token_id': 705, 'type': 'output', 'value': '0', 'position': 29}, {'token': 'We', 'token_id': 1135, 'type': 'output', 'value': '0', 'position': 30}, {'token': \"'re\", 'token_id': 821, 'type': 'output', 'value': '0', 'position': 31}, {'token': ' very', 'token_id': 845, 'type': 'output', 'value': '0', 'position': 32}, {'token': ' young', 'token_id': 1862, 'type': 'output', 'value': '0', 'position': 33}, {'token': ',', 'token_id': 11, 'type': 'output', 'value': '0', 'position': 34}, {'token': ' we', 'token_id': 356, 'type': 'output', 'value': '0', 'position': 35}, {'token': ' don', 'token_id': 836, 'type': 'output', 'value': '0', 'position': 36}, {'token': \"'t\", 'token_id': 470, 'type': 'output', 'value': '0', 'position': 37}, {'token': ' know', 'token_id': 760, 'type': 'output', 'value': '0', 'position': 38}, {'token': ' how', 'token_id': 703, 'type': 'output', 'value': '0', 'position': 39}, {'token': ' to', 'token_id': 284, 'type': 'output', 'value': '0', 'position': 40}, {'token': ' cook', 'token_id': 4255, 'type': 'output', 'value': '0', 'position': 41}, {'token': \".'\", 'token_id': 2637, 'type': 'output', 'value': '0', 'position': 42}, {'token': ' Then', 'token_id': 3244, 'type': 'output', 'value': '0', 'position': 43}, {'token': ' he', 'token_id': 339, 'type': 'output', 'value': '0', 'position': 44}, {'token': ' moves', 'token_id': 6100, 'type': 'output', 'value': '0', 'position': 45}, {'token': ' in', 'token_id': 287, 'type': 'output', 'value': '0', 'position': 46}, {'token': ' to', 'token_id': 284, 'type': 'output', 'value': '0', 'position': 47}, {'token': ' greet', 'token_id': 12589, 'type': 'output', 'value': '0', 'position': 48}, {'token': ' her', 'token_id': 607, 'type': 'output', 'value': '0', 'position': 49}, {'token': '.', 'token_id': 13, 'type': 'output', 'value': '0', 'position': 50}, {'token': ' She', 'token_id': 1375, 'type': 'output', 'value': '0', 'position': 51}, {'token': ' looks', 'token_id': 3073, 'type': 'output', 'value': '0', 'position': 52}, {'token': ' up', 'token_id': 510, 'type': 'output', 'value': '0', 'position': 53}, {'token': ' at', 'token_id': 379, 'type': 'output', 'value': '0', 'position': 54}, {'token': ' him', 'token_id': 683, 'type': 'output', 'value': '0', 'position': 55}, {'token': ' and', 'token_id': 290, 'type': 'output', 'value': '0', 'position': 56}, {'token': ' says', 'token_id': 1139, 'type': 'output', 'value': '0', 'position': 57}, {'token': ',', 'token_id': 11, 'type': 'output', 'value': '0', 'position': 58}, {'token': \" '\", 'token_id': 705, 'type': 'output', 'value': '0', 'position': 59}, {'token': 'I', 'token_id': 40, 'type': 'output', 'value': '0', 'position': 60}, {'token': ' was', 'token_id': 373, 'type': 'output', 'value': '0', 'position': 61}, {'token': ' wondering', 'token_id': 11263, 'type': 'output', 'value': '0', 'position': 62}, {'token': ' if', 'token_id': 611, 'type': 'output', 'value': '0', 'position': 63}, {'token': ' your', 'token_id': 534, 'type': 'output', 'value': '0', 'position': 64}, {'token': ' mother', 'token_id': 2802, 'type': 'output', 'value': '0', 'position': 65}, {'token': ' was', 'token_id': 373, 'type': 'output', 'value': '0', 'position': 66}, {'token': ' a', 'token_id': 257, 'type': 'output', 'value': '0', 'position': 67}, {'token': ' witch', 'token_id': 16365, 'type': 'output', 'value': '0', 'position': 68}, {'token': \",'\", 'token_id': 4032, 'type': 'output', 'value': '0', 'position': 69}, {'token': ' and', 'token_id': 290, 'type': 'output', 'value': '0', 'position': 70}, {'token': ' then', 'token_id': 788, 'type': 'output', 'value': '0', 'position': 71}, {'token': ' says', 'token_id': 1139, 'type': 'output', 'value': '0', 'position': 72}, {'token': ',', 'token_id': 11, 'type': 'output', 'value': '0', 'position': 73}, {'token': \" '\", 'token_id': 705, 'type': 'output', 'value': '0', 'position': 74}, {'token': 'How', 'token_id': 2437, 'type': 'output', 'value': '0', 'position': 75}, {'token': ' could', 'token_id': 714, 'type': 'output', 'value': '0', 'position': 76}, {'token': ' she', 'token_id': 673, 'type': 'output', 'value': '0', 'position': 77}, {'token': '?', 'token_id': 30, 'type': 'output', 'value': '0', 'position': 78}, {'token': ' You', 'token_id': 921, 'type': 'output', 'value': '0', 'position': 79}, {'token': ' know', 'token_id': 760, 'type': 'output', 'value': '0', 'position': 80}, {'token': ',', 'token_id': 11, 'type': 'output', 'value': '0', 'position': 81}, {'token': ' she', 'token_id': 673, 'type': 'output', 'value': '0', 'position': 82}, {'token': ' was', 'token_id': 373, 'type': 'output', 'value': '0', 'position': 83}, {'token': ' probably', 'token_id': 2192, 'type': 'output', 'value': '0', 'position': 84}, {'token': ' trying', 'token_id': 2111, 'type': 'output', 'value': '0', 'position': 85}, {'token': ' to', 'token_id': 284, 'type': 'output', 'value': '0', 'position': 86}, {'token': ' make', 'token_id': 787, 'type': 'output', 'value': '0', 'position': 87}, {'token': ' me', 'token_id': 502, 'type': 'output', 'value': '0', 'position': 88}, {'token': ' an', 'token_id': 281, 'type': 'output', 'value': '0', 'position': 89}, {'token': ' animal', 'token_id': 5044, 'type': 'output', 'value': '0', 'position': 90}, {'token': \".'\", 'token_id': 2637, 'type': 'output', 'value': '0', 'position': 91}, {'token': ' I', 'token_id': 314, 'type': 'output', 'value': '0', 'position': 92}, {'token': ' don', 'token_id': 836, 'type': 'output', 'value': '0', 'position': 93}, {'token': \"'t\", 'token_id': 470, 'type': 'output', 'value': '0', 'position': 94}, {'token': ' know', 'token_id': 760, 'type': 'output', 'value': '0', 'position': 95}, {'token': ' how', 'token_id': 703, 'type': 'output', 'value': '0', 'position': 96}, {'token': ' to', 'token_id': 284, 'type': 'output', 'value': '0', 'position': 97}, {'token': ' explain', 'token_id': 4727, 'type': 'output', 'value': '0', 'position': 98}, {'token': ' it', 'token_id': 340, 'type': 'output', 'value': '0', 'position': 99}, {'token': '.', 'token_id': 13, 'type': 'output', 'value': '0', 'position': 100}, {'token': ' They', 'token_id': 1119, 'type': 'output', 'value': '0', 'position': 101}, {'token': \"'re\", 'token_id': 821, 'type': 'output', 'value': '0', 'position': 102}, {'token': ' still', 'token_id': 991, 'type': 'output', 'value': '0', 'position': 103}, {'token': ' looking', 'token_id': 2045, 'type': 'output', 'value': '0', 'position': 104}, {'token': ' at', 'token_id': 379, 'type': 'output', 'value': '0', 'position': 105}, {'token': ' each', 'token_id': 1123, 'type': 'output', 'value': '0', 'position': 106}, {'token': ' other', 'token_id': 584, 'type': 'output', 'value': '0', 'position': 107}, {'token': ',', 'token_id': 11, 'type': 'output', 'value': '0', 'position': 108}, {'token': ' but', 'token_id': 475, 'type': 'output', 'value': '0', 'position': 109}, {'token': ' now', 'token_id': 783, 'type': 'output', 'value': '0', 'position': 110}, {'token': ' it', 'token_id': 340, 'type': 'output', 'value': '0', 'position': 111}, {'token': \"'s\", 'token_id': 338, 'type': 'output', 'value': '0', 'position': 112}, {'token': ' like', 'token_id': 588, 'type': 'output', 'value': '0', 'position': 113}, {'token': ' there', 'token_id': 612, 'type': 'output', 'value': '0', 'position': 114}, {'token': \"'s\", 'token_id': 338, 'type': 'output', 'value': '0', 'position': 115}, {'token': ' no', 'token_id': 645, 'type': 'output', 'value': '0', 'position': 116}, {'token': ' room', 'token_id': 2119, 'type': 'output', 'value': '0', 'position': 117}, {'token': '.\"', 'token_id': 526, 'type': 'output', 'value': '0', 'position': 118}, {'token': '\\n', 'token_id': 198, 'type': 'output', 'value': '0', 'position': 119}, {'token': '\\n', 'token_id': 198, 'type': 'output', 'value': '0', 'position': 120}, {'token': 'A', 'token_id': 32, 'type': 'output', 'value': '0', 'position': 121}, {'token': ' few', 'token_id': 1178, 'type': 'output', 'value': '0', 'position': 122}, {'token': ' years', 'token_id': 812, 'type': 'output', 'value': '0', 'position': 123}, {'token': ' after', 'token_id': 706, 'type': 'output', 'value': '0', 'position': 124}, {'token': ' the', 'token_id': 262, 'type': 'output', 'value': '0', 'position': 125}, {'token': ' discovery', 'token_id': 9412, 'type': 'output', 'value': '0', 'position': 126}, {'token': ' of', 'token_id': 286, 'type': 'output', 'value': '0', 'position': 127}], 'attributions': [[0.23173841834068298, 0.0922391265630722, 0.05481675639748573, 0.09717248380184174, 0.04649659991264343, 0.041865311563014984, 0.05928373709321022, 0.04531177878379822, 0.03413473442196846, 0.13171610236167908, 0.16522498428821564], [0.09702200442552567, 0.058688677847385406, 0.0386059433221817, 0.08226684480905533, 0.157677561044693, 0.055037643760442734, 0.06207462027668953, 0.06456167250871658, 0.02467147633433342, 0.1409534364938736, 0.07707328349351883, 0.14136679470539093], [0.10144031792879105, 0.06498978286981583, 0.04659991338849068, 0.1099359542131424, 0.16464661061763763, 0.02805401012301445, 0.05330770090222359, 0.06496262550354004, 0.01855713501572609, 0.1245359256863594, 0.06468260288238525, 0.05567467212677002, 0.10261279344558716], [0.07995815575122833, 0.045835983008146286, 0.03532540425658226, 0.09496928006410599, 0.06568629294633865, 0.028080157935619354, 0.05642854422330856, 0.03817514330148697, 0.02523741126060486, 0.11161565780639648, 0.09655467420816422, 0.04705626890063286, 0.060890257358551025, 0.21418677270412445], [0.08475333452224731, 0.04013501852750778, 0.03961880877614021, 0.1039450466632843, 0.0705157071352005, 0.028796501457691193, 0.06146405637264252, 0.039676301181316376, 0.02928420528769493, 0.11143063753843307, 0.04713505133986473, 0.04519883543252945, 0.03912968933582306, 0.15996649861335754, 0.0989503338932991], [0.0713450163602829, 0.044407207518815994, 0.03454840928316116, 0.09107409417629242, 0.03212358430027962, 0.031035585328936577, 0.05294423550367355, 0.025670260190963745, 0.030025696381926537, 0.10290367156267166, 0.07092004269361496, 0.051879748702049255, 0.04951789602637291, 0.14995421469211578, 0.073472760617733, 0.08817758411169052], [0.07535289973020554, 0.04538063332438469, 0.03208133950829506, 0.07457471638917923, 0.023827552795410156, 0.02175663225352764, 0.05055806785821915, 0.021287931129336357, 0.03684914484620094, 0.09485353529453278, 0.04812176153063774, 0.03959420323371887, 0.03618227690458298, 0.1274057924747467, 0.07233128696680069, 0.05414989963173866, 0.14569230377674103], [0.05523655563592911, 0.049101706594228745, 0.033101193606853485, 0.06311160326004028, 0.15312559902668, 0.01828242838382721, 0.04255066066980362, 0.057084083557128906, 0.01925080269575119, 0.07626675069332123, 0.029976898804306984, 0.03644971922039986, 0.030749071389436722, 0.06204085797071457, 0.030857333913445473, 0.03812076896429062, 0.03795681148767471, 0.1667371690273285], [0.06034626439213753, 0.04311344027519226, 0.03263872116804123, 0.07287969440221786, 0.033665142953395844, 0.020004460588097572, 0.042388465255498886, 0.02217557281255722, 0.02052687294781208, 0.0800759345293045, 0.10829220712184906, 0.02800372801721096, 0.02524542808532715, 0.0815495178103447, 0.03328484296798706, 0.03084852546453476, 0.029007432982325554, 0.06915511190891266, 0.16679857671260834], [0.16406728327274323, 0.06148562580347061, 0.0481351874768734, 0.07303283363580704, 0.03186275437474251, 0.02644374780356884, 0.045026130974292755, 0.022992875427007675, 0.02450331300497055, 0.080989308655262, 0.06950864940881729, 0.042704347521066666, 0.018949421122670174, 0.03718065842986107, 0.02163362130522728, 0.0175043735653162, 0.01326706912368536, 0.025606432929635048, 0.061412177979946136, 0.11369417607784271], [0.07299242168664932, 0.0479646734893322, 0.03402475640177727, 0.09365982562303543, 0.10826537758111954, 0.03522327542304993, 0.10023178905248642, 0.0433155819773674, 0.019374670460820198, 0.1090102568268776, 0.028580481186509132, 0.025533583015203476, 0.01848548650741577, 0.03228207305073738, 0.0141358133405447, 0.009641041979193687, 0.010935475118458271, 0.015359555371105671, 0.03042396530508995, 0.06001877412199974, 0.09054122120141983], [0.08450333029031754, 0.04502061754465103, 0.02863830327987671, 0.05718441680073738, 0.15221919119358063, 0.017954707145690918, 0.034174270927906036, 0.049288731068372726, 0.024297798052430153, 0.07212065905332565, 0.04870446398854256, 0.02657860517501831, 0.026150768622756004, 0.038683999329805374, 0.031723685562610626, 0.02270553633570671, 0.014782813377678394, 0.018673405051231384, 0.030215095728635788, 0.020580217242240906, 0.03837224096059799, 0.11742716282606125], [0.03467405214905739, 0.021737832576036453, 0.018543368205428123, 0.045744046568870544, 0.021014899015426636, 0.016882870346307755, 0.04364627227187157, 0.0170455239713192, 0.02214205637574196, 0.13117271661758423, 0.025475475937128067, 0.025287538766860962, 0.022351790219545364, 0.046685319393873215, 0.021115517243742943, 0.0143759585916996, 0.014107665047049522, 0.027698788791894913, 0.05528811737895012, 0.05057809129357338, 0.0859258621931076, 0.14753136038780212, 0.09097491204738617], [0.049522582441568375, 0.027036704123020172, 0.02354724146425724, 0.05912760645151138, 0.03947509825229645, 0.027345949783921242, 0.05779005214571953, 0.022738104686141014, 0.018486279994249344, 0.0874028131365776, 0.05307803303003311, 0.01990857720375061, 0.015762247145175934, 0.030442889779806137, 0.018858015537261963, 0.01102497149258852, 0.020811349153518677, 0.023516006767749786, 0.03506164625287056, 0.03171513229608536, 0.05985270068049431, 0.09682589024305344, 0.08271662890911102, 0.08795347064733505], [0.05451759323477745, 0.049826107919216156, 0.03129845857620239, 0.06336955726146698, 0.08735433965921402, 0.020176779478788376, 0.05866915360093117, 0.028802916407585144, 0.014421679079532623, 0.08317478001117706, 0.033287812024354935, 0.020235469564795494, 0.014916210435330868, 0.02602233923971653, 0.016062093898653984, 0.009574520401656628, 0.012025986798107624, 0.016482777893543243, 0.0294448584318161, 0.03438469022512436, 0.04680673032999039, 0.05691714212298393, 0.045841019600629807, 0.03458758816123009, 0.1117994412779808], [0.0617268867790699, 0.03493977710604668, 0.02570747211575508, 0.06141207367181778, 0.025359155610203743, 0.02501511573791504, 0.0520796924829483, 0.01872095838189125, 0.01716950349509716, 0.09165550768375397, 0.0563010573387146, 0.020067855715751648, 0.01207802165299654, 0.028163699433207512, 0.021181371062994003, 0.010689262300729752, 0.014485253021121025, 0.01702498085796833, 0.03404992073774338, 0.037003301084041595, 0.04863328859210014, 0.049275606870651245, 0.05423266068100929, 0.03732490912079811, 0.02082001604139805, 0.12488257139921188], [0.06552527844905853, 0.03376907855272293, 0.02354651317000389, 0.047576673328876495, 0.028426820412278175, 0.01791955903172493, 0.058327432721853256, 0.02831065095961094, 0.01967594027519226, 0.07466471195220947, 0.02491012215614319, 0.022249221801757812, 0.011013561859726906, 0.027041107416152954, 0.02786635234951973, 0.010259593836963177, 0.014348749071359634, 0.013024521991610527, 0.023966073989868164, 0.041897837072610855, 0.04416591674089432, 0.05915652960538864, 0.05711200460791588, 0.035935644060373306, 0.026546208187937737, 0.050956085324287415, 0.11180782318115234], [0.04900113120675087, 0.02223074436187744, 0.019391274079680443, 0.05099525302648544, 0.02543705701828003, 0.016113106161355972, 0.04627719894051552, 0.013825706206262112, 0.01143687590956688, 0.09674282371997833, 0.05255580320954323, 0.02766869217157364, 0.01742403954267502, 0.035827476531267166, 0.021424809470772743, 0.009617159143090248, 0.015859657898545265, 0.021953478455543518, 0.044323552399873734, 0.04271122068166733, 0.04054904356598854, 0.06665168702602386, 0.04763280972838402, 0.048273444175720215, 0.018382763490080833, 0.033399611711502075, 0.02503860928118229, 0.07925494760274887], [0.05118802934885025, 0.022930366918444633, 0.019797924906015396, 0.047106776386499405, 0.014225723221898079, 0.015055712312459946, 0.037899717688560486, 0.011748931370675564, 0.014053062535822392, 0.08902359008789062, 0.0371905192732811, 0.023387180641293526, 0.01686141826212406, 0.037368446588516235, 0.016369327902793884, 0.012274438515305519, 0.015435585752129555, 0.02570134401321411, 0.050766900181770325, 0.04005419835448265, 0.04154098033905029, 0.059283558279275894, 0.02856859751045704, 0.032835353165864944, 0.014293204993009567, 0.022920923307538033, 0.04419274628162384, 0.08630038797855377, 0.07162505388259888], [0.033370617777109146, 0.026595983654260635, 0.015431150794029236, 0.03965011239051819, 0.04932611435651779, 0.012848066166043282, 0.043316323310136795, 0.02023996412754059, 0.017554985359311104, 0.04280731827020645, 0.05080485716462135, 0.019379615783691406, 0.010919062420725822, 0.02614542841911316, 0.01716708391904831, 0.012487775646150112, 0.01331361848860979, 0.013862067833542824, 0.024507708847522736, 0.05596258491277695, 0.03369962424039841, 0.029790695756673813, 0.023111481219530106, 0.021828502416610718, 0.017756136134266853, 0.03214404359459877, 0.027346322312951088, 0.06714097410440445, 0.06359734386205673, 0.13789445161819458], [0.028058653697371483, 0.03306720033288002, 0.015771593898534775, 0.036276306957006454, 0.11108275502920151, 0.01351864542812109, 0.036459311842918396, 0.04431404545903206, 0.012150425463914871, 0.04473670572042465, 0.02408239059150219, 0.021213306114077568, 0.008969520218670368, 0.017848867923021317, 0.009248500689864159, 0.008249773643910885, 0.008562867529690266, 0.01165825966745615, 0.020961347967386246, 0.025274725630879402, 0.023244308307766914, 0.024327892810106277, 0.013591334223747253, 0.020038185641169548, 0.013746137730777264, 0.03399627283215523, 0.016307294368743896, 0.05785626545548439, 0.06482439488172531, 0.112517349421978, 0.08804532140493393], [0.03522178530693054, 0.037870123982429504, 0.016652120277285576, 0.04312003031373024, 0.1192810982465744, 0.012322821654379368, 0.033673763275146484, 0.04688307270407677, 0.010310723446309566, 0.05089763551950455, 0.0160357803106308, 0.01985703781247139, 0.008734660223126411, 0.022729413583874702, 0.008747173473238945, 0.009813714772462845, 0.009797980077564716, 0.01698656566441059, 0.019768930971622467, 0.03243881091475487, 0.023377854377031326, 0.026798823848366737, 0.014566304162144661, 0.014476579613983631, 0.013629158958792686, 0.030136054381728172, 0.025283318012952805, 0.033464960753917694, 0.03512512147426605, 0.07473000138998032, 0.03706807270646095, 0.10020048171281815], [0.025059884414076805, 0.046620216220617294, 0.012325853109359741, 0.031092757359147072, 0.11739382892847061, 0.011573199182748795, 0.029485704377293587, 0.059647995978593826, 0.029165612533688545, 0.03792084753513336, 0.03106539323925972, 0.014803209342062473, 0.013663479126989841, 0.024309637024998665, 0.016917472705245018, 0.013207389041781425, 0.018291186541318893, 0.012576752342283726, 0.02336837910115719, 0.02330096624791622, 0.018907485529780388, 0.03025796450674534, 0.029679417610168457, 0.03656492009758949, 0.009487928822636604, 0.020824450999498367, 0.014336171559989452, 0.021682407706975937, 0.019469566643238068, 0.033217113465070724, 0.022148314863443375, 0.01621158793568611, 0.1354229748249054], [0.0425482913851738, 0.029254887253046036, 0.016364123672246933, 0.04472627490758896, 0.0713987648487091, 0.015289032831788063, 0.04537779465317726, 0.02232007123529911, 0.008990536443889141, 0.04459831863641739, 0.016158228740096092, 0.016526374965906143, 0.011832456104457378, 0.03337572515010834, 0.011267862282693386, 0.014989880844950676, 0.0232434943318367, 0.014979954808950424, 0.030306369066238403, 0.03020787052810192, 0.023658113554120064, 0.02252575010061264, 0.014172137714922428, 0.017338091507554054, 0.010824968107044697, 0.022452885285019875, 0.02959352917969227, 0.0312998928129673, 0.024116486310958862, 0.06337416172027588, 0.02337733842432499, 0.0167619027197361, 0.04207039996981621, 0.1146780252456665], [0.02889627404510975, 0.014547662809491158, 0.012991338036954403, 0.036377716809511185, 0.014513254165649414, 0.010783434845507145, 0.0362214520573616, 0.01314504723995924, 0.00724617438390851, 0.05767332389950752, 0.02066383883357048, 0.016508644446730614, 0.010898963548243046, 0.029879922047257423, 0.013781927525997162, 0.009074925445020199, 0.009684826247394085, 0.01497491355985403, 0.03054288774728775, 0.039291806519031525, 0.024116091430187225, 0.02770799770951271, 0.014559744857251644, 0.012094752863049507, 0.01482278760522604, 0.02655273862183094, 0.014695815742015839, 0.06148698553442955, 0.025464853271842003, 0.09394537657499313, 0.025702347978949547, 0.044863421469926834, 0.058303363621234894, 0.06295058131217957, 0.06503478437662125], [0.0233320202678442, 0.023584147915244102, 0.011806280352175236, 0.03293338045477867, 0.06593476980924606, 0.010485338978469372, 0.02451871894299984, 0.023633843287825584, 0.009345007129013538, 0.03477251157164574, 0.01468199584633112, 0.013147673569619656, 0.01010888908058405, 0.022727198898792267, 0.007781142834573984, 0.010552414692938328, 0.007725912611931562, 0.013485007919371128, 0.020192138850688934, 0.0203874371945858, 0.02136043645441532, 0.024061251431703568, 0.009881584905087948, 0.013071614317595959, 0.011821702122688293, 0.02168784663081169, 0.01881987974047661, 0.04702552407979965, 0.04304870590567589, 0.06469196826219559, 0.07114822417497635, 0.04686927795410156, 0.027922214940190315, 0.05734832584857941, 0.04636606574058533, 0.07373949885368347], [0.017551548779010773, 0.010012682527303696, 0.009865899570286274, 0.01456137839704752, 0.03357360512018204, 0.00685140211135149, 0.011779612861573696, 0.018843412399291992, 0.028996847569942474, 0.02094798907637596, 0.059802137315273285, 0.01003129780292511, 0.014399833977222443, 0.016730792820453644, 0.024909164756536484, 0.010634314268827438, 0.01927267201244831, 0.0076199062168598175, 0.01208197046071291, 0.039954472333192825, 0.014667672105133533, 0.016905827447772026, 0.008147590793669224, 0.022121967747807503, 0.008197166956961155, 0.013653956353664398, 0.029725681990385056, 0.019907966256141663, 0.03716663271188736, 0.036777082830667496, 0.019235365092754364, 0.027209611609578133, 0.02027246542274952, 0.03336010128259659, 0.030359340831637383, 0.038070499897003174, 0.2358001172542572], [0.024539601057767868, 0.023992571979761124, 0.01114936824887991, 0.03185097500681877, 0.08104518055915833, 0.007239060010761023, 0.020925892516970634, 0.030550209805369377, 0.01335060317069292, 0.030997024849057198, 0.03583561256527901, 0.009463055990636349, 0.011192801408469677, 0.02320903353393078, 0.009382132440805435, 0.008941179141402245, 0.009702500887215137, 0.01189940795302391, 0.01863202638924122, 0.017968768253922462, 0.013049130327999592, 0.017793796956539154, 0.01421906054019928, 0.013369581662118435, 0.008307581767439842, 0.0173797644674778, 0.011227789334952831, 0.0357431061565876, 0.04513627663254738, 0.04452337324619293, 0.0700078085064888, 0.0278247632086277, 0.03016236424446106, 0.07539347559213638, 0.022273415699601173, 0.04075511544942856, 0.03718963637948036, 0.043776921927928925], [0.024926429614424706, 0.03883298486471176, 0.011990188620984554, 0.026992887258529663, 0.10184415429830551, 0.009847371838986874, 0.022536441683769226, 0.045098986476659775, 0.022912856191396713, 0.0325993075966835, 0.03308943286538124, 0.010001175105571747, 0.008864622563123703, 0.02085435576736927, 0.013968453742563725, 0.0077851382084190845, 0.009908581152558327, 0.009510398842394352, 0.01773780956864357, 0.02353513427078724, 0.01528867892920971, 0.019740421324968338, 0.01569489948451519, 0.01796545833349228, 0.007942378520965576, 0.02010883204638958, 0.01056917104870081, 0.036590564996004105, 0.024549119174480438, 0.0420687198638916, 0.01796697825193405, 0.014263669028878212, 0.02212429605424404, 0.051962610334157944, 0.020451361313462257, 0.03323272615671158, 0.03359099477529526, 0.02039172686636448, 0.0826607272028923], [0.023572489619255066, 0.011666676960885525, 0.010261756367981434, 0.027662934735417366, 0.014504983089864254, 0.007639041170477867, 0.019292909651994705, 0.01059099193662405, 0.006641962565481663, 0.02813596837222576, 0.011547657661139965, 0.01739657297730446, 0.0072132558561861515, 0.035301875323057175, 0.007646406535059214, 0.009214825928211212, 0.006923476699739695, 0.01163241546601057, 0.020455652847886086, 0.01967521756887436, 0.017237531021237373, 0.017870640382170677, 0.01150305662304163, 0.009024645201861858, 0.010407302528619766, 0.019532084465026855, 0.019463248550891876, 0.04800166189670563, 0.020768526941537857, 0.03660891577601433, 0.026850856840610504, 0.02736242488026619, 0.0353018082678318, 0.09829015284776688, 0.020523764193058014, 0.0662539005279541, 0.044292110949754715, 0.03237392380833626, 0.06679011881351471, 0.06456626206636429], [0.029514865949749947, 0.032855335623025894, 0.013791169039905071, 0.036759644746780396, 0.13260100781917572, 0.009729890152812004, 0.02793276496231556, 0.03298873081803322, 0.012160266749560833, 0.05473428592085838, 0.018390025943517685, 0.01288127526640892, 0.008025093004107475, 0.024966226890683174, 0.008563087321817875, 0.007490841206163168, 0.008152483962476254, 0.009617752395570278, 0.018254868686199188, 0.01898224465548992, 0.014338094741106033, 0.015560543164610863, 0.014569657854735851, 0.019158586859703064, 0.0085455272346735, 0.02535882778465748, 0.007828700356185436, 0.024927187711000443, 0.01730681210756302, 0.036766767501831055, 0.023914342746138573, 0.01326720044016838, 0.018585102632641792, 0.04481721669435501, 0.013892276212573051, 0.038186103105545044, 0.025990081951022148, 0.013130857609212399, 0.03273061662912369, 0.030095739290118217, 0.04263785108923912], [0.019712096080183983, 0.018084166571497917, 0.008003940805792809, 0.025618435814976692, 0.02844117023050785, 0.008143069222569466, 0.022039741277694702, 0.022432250902056694, 0.00896213948726654, 0.06997538357973099, 0.015739288181066513, 0.008425716310739517, 0.006126533728092909, 0.01846846006810665, 0.006661851890385151, 0.007798801641911268, 0.007151958532631397, 0.008201118558645248, 0.014735888689756393, 0.023713890463113785, 0.012949869967997074, 0.01322219893336296, 0.007811005227267742, 0.008191678673028946, 0.008104078471660614, 0.014883195050060749, 0.015868965536355972, 0.025806237012147903, 0.03276374936103821, 0.03827216848731041, 0.03272788226604462, 0.022776588797569275, 0.023436494171619415, 0.05482935532927513, 0.015339096076786518, 0.04956679418683052, 0.0193118155002594, 0.018694059923291206, 0.028790786862373352, 0.02283526584506035, 0.0185424592345953, 0.1668403595685959], [0.047388043254613876, 0.021804705262184143, 0.017406674101948738, 0.03416779264807701, 0.012219796888530254, 0.01288892887532711, 0.029072513803839684, 0.012493324466049671, 0.008677558042109013, 0.05208371952176094, 0.02065758779644966, 0.025579208508133888, 0.01234067976474762, 0.022912899032235146, 0.01251506619155407, 0.006870119366794825, 0.0070610204711556435, 0.012238174676895142, 0.02293938770890236, 0.02163226343691349, 0.0319773368537426, 0.02957148663699627, 0.016668638214468956, 0.012905014678835869, 0.015607168897986412, 0.023610975593328476, 0.02082965150475502, 0.07299873232841492, 0.023613102734088898, 0.10025011003017426, 0.010651512071490288, 0.012477148324251175, 0.0086594857275486, 0.009101146832108498, 0.01112088281661272, 0.013107742182910442, 0.008922751061618328, 0.007408653385937214, 0.013850292190909386, 0.010602151975035667, 0.01261131837964058, 0.022166570648550987, 0.09833864122629166], [0.05038940906524658, 0.03221280127763748, 0.01728879287838936, 0.03527674078941345, 0.023186594247817993, 0.012344066053628922, 0.026289328932762146, 0.015796424821019173, 0.011533709242939949, 0.05378717556595802, 0.031360357999801636, 0.01671045459806919, 0.01612231880426407, 0.020377207547426224, 0.012396685779094696, 0.006859571672976017, 0.009120617061853409, 0.012469331733882427, 0.017517214640975, 0.019612403586506844, 0.024426447227597237, 0.026600848883390427, 0.026019608601927757, 0.022564513608813286, 0.01103956438601017, 0.03515360876917839, 0.01752011850476265, 0.026738857850432396, 0.01098426803946495, 0.045615553855895996, 0.01036397647112608, 0.007731686811894178, 0.009757379069924355, 0.011850950308144093, 0.015308812260627747, 0.008615018799901009, 0.006662100087851286, 0.006409937981516123, 0.007246115710586309, 0.014197778888046741, 0.01890535280108452, 0.014907033182680607, 0.08240237832069397, 0.09832687675952911], [0.041435565799474716, 0.029444357380270958, 0.017096685245633125, 0.030919833108782768, 0.07051440328359604, 0.012968035414814949, 0.02415751852095127, 0.030305173248052597, 0.02454305812716484, 0.051327385008335114, 0.035070933401584625, 0.023759668692946434, 0.013687877915799618, 0.01915769837796688, 0.016221147030591965, 0.008691093884408474, 0.014122269116342068, 0.011070961132645607, 0.01890973187983036, 0.030927466228604317, 0.028713326901197433, 0.0365113765001297, 0.01919560320675373, 0.017871014773845673, 0.012618333101272583, 0.013335117138922215, 0.012576721608638763, 0.022583575919270515, 0.011728625744581223, 0.04379237815737724, 0.00801835861057043, 0.009820649400353432, 0.007200261112302542, 0.009228047914803028, 0.006562608759850264, 0.006617894396185875, 0.006435003597289324, 0.00552917318418622, 0.004772476386278868, 0.007976489141583443, 0.009343178011476994, 0.02336626872420311, 0.05007799714803696, 0.04689868167042732, 0.05489594489336014], [0.04130822792649269, 0.01614462211728096, 0.013762632384896278, 0.02705845795571804, 0.04823894798755646, 0.00999003741890192, 0.020389435812830925, 0.020840978249907494, 0.0070688375271856785, 0.03885660693049431, 0.01729946956038475, 0.016709860414266586, 0.009353214874863625, 0.01580127328634262, 0.008803022094070911, 0.006627252791076899, 0.0071808947250247, 0.010560726746916771, 0.021279361099004745, 0.03151751682162285, 0.02521449141204357, 0.017544278874993324, 0.011034175753593445, 0.008476929739117622, 0.016532132402062416, 0.015119610354304314, 0.010514314286410809, 0.0324520580470562, 0.012078489176928997, 0.051375407725572586, 0.011572140268981457, 0.007518172729760408, 0.007569427136331797, 0.013576595112681389, 0.009413040243089199, 0.006269232835620642, 0.005233772564679384, 0.0059710415080189705, 0.00742435222491622, 0.008623283356428146, 0.010720633901655674, 0.029945775866508484, 0.05340294539928436, 0.04928826168179512, 0.049056295305490494, 0.13528181612491608], [0.028297239914536476, 0.016485346481204033, 0.013772094622254372, 0.02663128823041916, 0.026641011238098145, 0.009901532903313637, 0.021126341074705124, 0.0360327884554863, 0.010836088098585606, 0.04840216040611267, 0.013789031654596329, 0.013723370619118214, 0.009289042092859745, 0.020029110834002495, 0.012572142295539379, 0.00601277407258749, 0.005781044717878103, 0.009694131091237068, 0.02232459746301174, 0.018417589366436005, 0.025660263374447823, 0.024123968556523323, 0.012904105708003044, 0.006952526513487101, 0.011081540957093239, 0.0167730450630188, 0.01248324103653431, 0.02366502583026886, 0.010700123384594917, 0.032790739089250565, 0.008814968168735504, 0.010845155455172062, 0.009210843592882156, 0.01439734734594822, 0.011147775687277317, 0.00528407609090209, 0.00734007079154253, 0.005519122816622257, 0.00776046933606267, 0.017449960112571716, 0.011700457893311977, 0.0313466340303421, 0.051131151616573334, 0.05166299268603325, 0.036399807780981064, 0.10894868522882462, 0.06414709240198135], [0.029231037944555283, 0.022097213193774223, 0.011269496753811836, 0.025582505390048027, 0.06571459770202637, 0.008514488115906715, 0.01783735863864422, 0.03875533118844032, 0.018393730744719505, 0.04846285283565521, 0.023450985550880432, 0.008547741919755936, 0.0071806954219937325, 0.012646235525608063, 0.010203217156231403, 0.0061837672255933285, 0.011196592822670937, 0.006816063541918993, 0.01351216807961464, 0.013196723535656929, 0.020784718915820122, 0.014749597758054733, 0.011311971582472324, 0.02225003018975258, 0.011222210712730885, 0.01071311254054308, 0.008292155340313911, 0.012853606604039669, 0.009064905345439911, 0.01884687878191471, 0.013130098581314087, 0.005595966707915068, 0.005159518215805292, 0.009169158525764942, 0.013019594363868237, 0.0055383495055139065, 0.007947156205773354, 0.00782141461968422, 0.008457580581307411, 0.010856729932129383, 0.036923132836818695, 0.03314824402332306, 0.051557380706071854, 0.04184700921177864, 0.027189230546355247, 0.07820887118577957, 0.02564653381705284, 0.0799020454287529], [0.03905118629336357, 0.0186474546790123, 0.013271965086460114, 0.02486419677734375, 0.03251732140779495, 0.008750218898057938, 0.018956055864691734, 0.009027263149619102, 0.008826595731079578, 0.032089997082948685, 0.015959635376930237, 0.012521985918283463, 0.008975103497505188, 0.01158417109400034, 0.011268611066043377, 0.005755783058702946, 0.004957139492034912, 0.006349334958940744, 0.009848784655332565, 0.019063951447606087, 0.018630480393767357, 0.01363391987979412, 0.011177826672792435, 0.008614570833742619, 0.010082523338496685, 0.012589125894010067, 0.01070045679807663, 0.013456307351589203, 0.00909002311527729, 0.023662790656089783, 0.0088014155626297, 0.005250290036201477, 0.0066025350242853165, 0.00928239431232214, 0.00884061399847269, 0.006199335679411888, 0.0038195704109966755, 0.005383413750678301, 0.0052464548498392105, 0.011376424692571163, 0.013754085637629032, 0.018372515216469765, 0.02932465635240078, 0.022602789103984833, 0.028768694028258324, 0.032860200852155685, 0.02059601992368698, 0.028448577970266342, 0.29054519534111023], [0.023355446755886078, 0.0127333402633667, 0.010949676856398582, 0.027901075780391693, 0.009337824769318104, 0.008557484485208988, 0.020421629771590233, 0.009108011610805988, 0.008817516267299652, 0.03879754617810249, 0.030651351436972618, 0.011140653863549232, 0.008269635029137135, 0.015020817518234253, 0.007815071381628513, 0.005215396173298359, 0.005169733893126249, 0.007810785435140133, 0.016597067937254906, 0.016966402530670166, 0.025981420651078224, 0.017754245549440384, 0.011260717175900936, 0.009191314689815044, 0.01252009253948927, 0.017766330391168594, 0.009616797789931297, 0.021241867914795876, 0.007361347787082195, 0.021943802013993263, 0.00686232652515173, 0.007712347432971001, 0.0058984458446502686, 0.011250793933868408, 0.005602408666163683, 0.004965086001902819, 0.0051721855998039246, 0.004675900097936392, 0.006732790265232325, 0.012295522727072239, 0.009281407110393047, 0.02415437437593937, 0.02765987254679203, 0.0300841573625803, 0.02417892962694168, 0.06430280208587646, 0.025356287136673927, 0.02060498297214508, 0.21473509073257446, 0.03919989615678787], [0.04105951264500618, 0.016832705587148666, 0.015065704472362995, 0.0251575019210577, 0.010591655038297176, 0.010429454036056995, 0.021394360810518265, 0.008567648939788342, 0.007217236328870058, 0.04102488234639168, 0.020087147131562233, 0.02220822498202324, 0.010267621837556362, 0.018007926642894745, 0.012337909080088139, 0.00673872884362936, 0.005566848907619715, 0.009492701850831509, 0.020344987511634827, 0.02506602741777897, 0.023432396352291107, 0.023436862975358963, 0.009435512125492096, 0.007676396984606981, 0.011654171161353588, 0.013293702155351639, 0.009528636001050472, 0.03734728693962097, 0.01476999931037426, 0.061166394501924515, 0.008564343675971031, 0.00928651075810194, 0.008221568539738655, 0.010314865969121456, 0.008560266345739365, 0.006803008262068033, 0.005288255866616964, 0.0047644879668951035, 0.007318651303648949, 0.013047534972429276, 0.012300238944590092, 0.025414494797587395, 0.058785125613212585, 0.02942381426692009, 0.01868734508752823, 0.03899433836340904, 0.013449223712086678, 0.020684529095888138, 0.07927508652210236, 0.012358039617538452, 0.04925813153386116], [0.027861328795552254, 0.023451494053006172, 0.01231707539409399, 0.02266395092010498, 0.04986507073044777, 0.009324844926595688, 0.019943367689847946, 0.022435210645198822, 0.0198264978826046, 0.042078595608472824, 0.030990153551101685, 0.013052542693912983, 0.01127846073359251, 0.013786851428449154, 0.012200970202684402, 0.0073399972170591354, 0.011558648198843002, 0.008709303103387356, 0.017094841226935387, 0.02244497649371624, 0.020110873505473137, 0.024107931181788445, 0.010775815695524216, 0.014985932968556881, 0.008870342746376991, 0.011635270901024342, 0.010065164417028427, 0.019487427547574043, 0.007438586093485355, 0.03776251897215843, 0.00759301008656621, 0.008230249397456646, 0.007998378947377205, 0.009206862188875675, 0.007033879868686199, 0.005854994058609009, 0.006387949921190739, 0.006317183841019869, 0.005525214597582817, 0.008633262477815151, 0.010877578519284725, 0.02320137433707714, 0.04237087070941925, 0.03347884863615036, 0.01629326492547989, 0.034479718655347824, 0.010507320053875446, 0.022076589986681938, 0.08697538077831268, 0.009097889065742493, 0.019731592386960983, 0.05466453731060028], [0.024176832288503647, 0.019082101061940193, 0.009059160947799683, 0.017740527167916298, 0.06006672605872154, 0.007119688671082258, 0.014888975769281387, 0.027827683836221695, 0.022616516798734665, 0.031658656895160675, 0.033272359520196915, 0.008716537617146969, 0.010089569725096226, 0.01229851134121418, 0.018893301486968994, 0.010301548056304455, 0.014567178674042225, 0.008826768025755882, 0.011682446114718914, 0.01655300334095955, 0.019458552822470665, 0.03509819135069847, 0.018604973331093788, 0.021663621068000793, 0.007808292750269175, 0.015924599021673203, 0.014735312201082706, 0.021933069452643394, 0.00745779275894165, 0.017714662477374077, 0.0069776480086147785, 0.0056835669092834, 0.007746444083750248, 0.009884501807391644, 0.004332760814577341, 0.004669501446187496, 0.004412906710058451, 0.004199985880404711, 0.004367030691355467, 0.005582781508564949, 0.00577861862257123, 0.01660027541220188, 0.023512007668614388, 0.03258916363120079, 0.028947966173291206, 0.025005238130688667, 0.010585508309304714, 0.015258763916790485, 0.06361792236566544, 0.011143704876303673, 0.027632709592580795, 0.042180851101875305, 0.07945302873849869], [0.02114938013255596, 0.012059688568115234, 0.010044990107417107, 0.020657869055867195, 0.014529809355735779, 0.009738555178046227, 0.016930004581809044, 0.009021706879138947, 0.010114124044775963, 0.0415312796831131, 0.01573103293776512, 0.012302473187446594, 0.00960059929639101, 0.017712024971842766, 0.011264595203101635, 0.006458249408751726, 0.006324925925582647, 0.012202249839901924, 0.01930064894258976, 0.013306423090398312, 0.023381847888231277, 0.05251504108309746, 0.03136545419692993, 0.013876978307962418, 0.006235813722014427, 0.015553387813270092, 0.008587736636400223, 0.017482224851846695, 0.008352589793503284, 0.028100499883294106, 0.009368499740958214, 0.007698332890868187, 0.008753256872296333, 0.010399198159575462, 0.006682540290057659, 0.0051564378663897514, 0.00501225097104907, 0.005995727609843016, 0.00622658571228385, 0.0072111827321350574, 0.005908631719648838, 0.022312788292765617, 0.02917509153485298, 0.027779722586274147, 0.01867714710533619, 0.02768762782216072, 0.010873568244278431, 0.0164633821696043, 0.06339583545923233, 0.012721478939056396, 0.032254938036203384, 0.03555600345134735, 0.07212448865175247, 0.057133134454488754], [0.021937057375907898, 0.013860119506716728, 0.008122717030346394, 0.01943911425769329, 0.014910955913364887, 0.008407500572502613, 0.017806390300393105, 0.00880320742726326, 0.0058069983497262, 0.03433126211166382, 0.015896596014499664, 0.010746718384325504, 0.006392764858901501, 0.013958209194242954, 0.004876983817666769, 0.0038713254034519196, 0.00462148105725646, 0.007819795049726963, 0.015867041423916817, 0.017217541113495827, 0.018145233392715454, 0.043524790555238724, 0.04500902071595192, 0.02345697395503521, 0.01754835434257984, 0.02447466365993023, 0.0062816813588142395, 0.024355033412575722, 0.015608415007591248, 0.028218045830726624, 0.005698903929442167, 0.0074623581022024155, 0.007072489243000746, 0.008047137409448624, 0.004510839935392141, 0.004252777900546789, 0.0034194779582321644, 0.0032350870314985514, 0.004300986882299185, 0.005450132302939892, 0.006757070776075125, 0.013291504234075546, 0.02390761859714985, 0.02530663087964058, 0.021046916022896767, 0.021304091438651085, 0.018511872738599777, 0.009318772703409195, 0.048571616411209106, 0.021331293508410454, 0.0404810793697834, 0.051711179316043854, 0.05811655893921852, 0.036900077015161514, 0.048677533864974976], [0.02115325815975666, 0.008178900927305222, 0.00812692940235138, 0.021625760942697525, 0.008784149773418903, 0.00623403862118721, 0.012996261939406395, 0.005963919684290886, 0.0058006965555250645, 0.02395259402692318, 0.019281672313809395, 0.00806279107928276, 0.005456098821014166, 0.013233735226094723, 0.0068221380934119225, 0.00380424945615232, 0.005202466621994972, 0.006698037963360548, 0.01386299729347229, 0.015033533796668053, 0.01240270771086216, 0.016925904899835587, 0.023160599172115326, 0.009560671634972095, 0.00863470695912838, 0.018847789615392685, 0.011374549940228462, 0.02194678783416748, 0.012786862440407276, 0.021728569641709328, 0.00786129105836153, 0.00710259797051549, 0.007619241718202829, 0.009843263775110245, 0.012368309311568737, 0.006486768368631601, 0.0048830024898052216, 0.005306735169142485, 0.005303166341036558, 0.010103199630975723, 0.012272625230252743, 0.01857410930097103, 0.033108845353126526, 0.026193883270025253, 0.0263157207518816, 0.04452766478061676, 0.012952689081430435, 0.013999282382428646, 0.06299951672554016, 0.02454778179526329, 0.03755088150501251, 0.02169608883559704, 0.08551643788814545, 0.02890767715871334, 0.06201978400349617, 0.034296128898859024], [0.027119291946291924, 0.016355721279978752, 0.010976795107126236, 0.017786988988518715, 0.024862948805093765, 0.007927961647510529, 0.017437957227230072, 0.019618283957242966, 0.019283635541796684, 0.03280273452401161, 0.025830309838056564, 0.011994952335953712, 0.008046632632613182, 0.012179814279079437, 0.013674521818757057, 0.008479922078549862, 0.011354074813425541, 0.007024453487247229, 0.0118360361084342, 0.01799194887280464, 0.01727908104658127, 0.018777230754494667, 0.014419994316995144, 0.015636751428246498, 0.00853498000651598, 0.011260510422289371, 0.013796769082546234, 0.027560746297240257, 0.01201313454657793, 0.027127046138048172, 0.00585803110152483, 0.005869271233677864, 0.004910195712000132, 0.006952003110200167, 0.005469105672091246, 0.004143230617046356, 0.003774166340008378, 0.0036534753162413836, 0.004838933702558279, 0.010273591615259647, 0.013069693930447102, 0.01874280348420143, 0.038844846189022064, 0.03071139194071293, 0.018745260313153267, 0.023993955925107002, 0.0097557557746768, 0.011286063119769096, 0.053699418902397156, 0.00834321603178978, 0.020653169602155685, 0.023880908265709877, 0.037894174456596375, 0.0239630825817585, 0.03464663028717041, 0.021825797855854034, 0.06521058827638626], [0.025879772379994392, 0.011328935623168945, 0.01215985044836998, 0.026013262569904327, 0.009943562559783459, 0.007089175283908844, 0.018216479569673538, 0.006596304941922426, 0.005949691403657198, 0.03834725543856621, 0.017041794955730438, 0.014348729513585567, 0.009406184777617455, 0.02236710488796234, 0.012628830038011074, 0.006317697465419769, 0.007783523295074701, 0.010650216601788998, 0.019720805808901787, 0.01855909824371338, 0.019166292622685432, 0.021541979163885117, 0.009673972614109516, 0.008953352458775043, 0.010174118913710117, 0.013601058162748814, 0.010673736222088337, 0.05206853151321411, 0.04443681612610817, 0.06340496987104416, 0.008011013269424438, 0.008958173915743828, 0.008499127812683582, 0.008246378041803837, 0.005256426986306906, 0.009117613546550274, 0.012461553327739239, 0.0040628332644701, 0.004861089400947094, 0.006258085835725069, 0.0063465666025877, 0.013350714929401875, 0.05541301891207695, 0.025706341490149498, 0.018473997712135315, 0.011508689261972904, 0.010826018638908863, 0.00605957442894578, 0.042357902973890305, 0.009515073150396347, 0.017344295978546143, 0.015651656314730644, 0.019820142537355423, 0.011741144582629204, 0.02146364189684391, 0.02571786567568779, 0.02069680392742157, 0.03823113441467285], [0.023682521656155586, 0.011131027713418007, 0.009542408399283886, 0.023324202746152878, 0.008719720877707005, 0.00727555388584733, 0.016310393810272217, 0.006707584485411644, 0.007587977685034275, 0.033129844814538956, 0.013221635483205318, 0.011724278330802917, 0.009244942106306553, 0.019492436200380325, 0.011446543037891388, 0.006119951140135527, 0.00654584588482976, 0.009843927808105946, 0.01639483869075775, 0.012561527080833912, 0.01586112566292286, 0.018650569021701813, 0.01002447959035635, 0.007451648823916912, 0.009887139312922955, 0.015421872027218342, 0.018524479120969772, 0.02672632969915867, 0.027678143233060837, 0.05214801803231239, 0.01665869727730751, 0.012951076962053776, 0.009516806341707706, 0.016859661787748337, 0.014078222215175629, 0.012509857304394245, 0.054603591561317444, 0.005072645843029022, 0.004942209925502539, 0.0067886486649513245, 0.009699930436909199, 0.017110729590058327, 0.06342017650604248, 0.02688216231763363, 0.007735898718237877, 0.016231795772910118, 0.006992924492806196, 0.016192685812711716, 0.0422341488301754, 0.011520271189510822, 0.017341431230306625, 0.01878933608531952, 0.01833917573094368, 0.010683720000088215, 0.007670994382351637, 0.011052804999053478, 0.013009796850383282, 0.021147489547729492, 0.043582092970609665], [0.018503202125430107, 0.012205877341330051, 0.007474822923541069, 0.017455628141760826, 0.019338732585310936, 0.006243095733225346, 0.016806116327643394, 0.010279961861670017, 0.011132992804050446, 0.02245742455124855, 0.025130847468972206, 0.008252302184700966, 0.007189648225903511, 0.012861981056630611, 0.010279935784637928, 0.005810975097119808, 0.008411350660026073, 0.008245185948908329, 0.014018779620528221, 0.022787557914853096, 0.016689123585820198, 0.012383394874632359, 0.007130628917366266, 0.009437598288059235, 0.007435112725943327, 0.01304014865309, 0.011938715353608131, 0.05771622061729431, 0.025009771808981895, 0.058154936879873276, 0.03631933405995369, 0.011053906753659248, 0.00820894818753004, 0.011744733899831772, 0.006596826948225498, 0.010279267095029354, 0.005406115669757128, 0.004735202062875032, 0.0048818439245224, 0.008253772743046284, 0.006064529065042734, 0.013381751254200935, 0.036227717995643616, 0.015769433230161667, 0.010962583124637604, 0.016391003504395485, 0.007413851097226143, 0.006369067821651697, 0.07231000065803528, 0.011447406373918056, 0.01659146510064602, 0.031047336757183075, 0.012325376272201538, 0.008942624554038048, 0.006728059612214565, 0.008767339400947094, 0.008463868871331215, 0.02673698589205742, 0.02449323982000351, 0.06826435774564743], [0.013959726318717003, 0.019728749990463257, 0.005220986437052488, 0.01099859643727541, 0.04269760102033615, 0.005055202636867762, 0.01276956032961607, 0.02070259116590023, 0.01153597328811884, 0.015990016981959343, 0.018135782331228256, 0.006411069538444281, 0.00492997607216239, 0.008344307541847229, 0.009481287561357021, 0.00567461084574461, 0.006724656093865633, 0.0036333156749606133, 0.008047039620578289, 0.01998036727309227, 0.010296585969626904, 0.009934361092746258, 0.006556634325534105, 0.011162561364471912, 0.0048108333721756935, 0.00898368563503027, 0.008281780406832695, 0.017752408981323242, 0.005802083294838667, 0.028309185057878494, 0.02091895043849945, 0.009957053698599339, 0.006937784142792225, 0.013927335850894451, 0.006233593914657831, 0.005746797658503056, 0.005332086235284805, 0.004295811522752047, 0.005823202431201935, 0.006822060327976942, 0.005532574374228716, 0.01855681650340557, 0.02947392128407955, 0.017063941806554794, 0.01023116521537304, 0.015552978962659836, 0.005928787402808666, 0.0071265194565057755, 0.09634453058242798, 0.0070866611786186695, 0.02055940218269825, 0.024530895054340363, 0.017159009352326393, 0.008869105949997902, 0.017626609653234482, 0.01132522989064455, 0.011144918389618397, 0.04346885904669762, 0.011611896567046642, 0.08719094097614288, 0.08570900559425354], [0.01788664236664772, 0.027857253327965736, 0.008671396411955357, 0.017644133418798447, 0.08849981427192688, 0.007670558523386717, 0.012893075123429298, 0.03611699864268303, 0.024632256478071213, 0.02405519224703312, 0.034064292907714844, 0.006546539720147848, 0.00846912618726492, 0.010754317976534367, 0.01653449423611164, 0.008106499910354614, 0.011892817914485931, 0.004974646959453821, 0.00931275263428688, 0.01900613121688366, 0.0071214474737644196, 0.008453317917883396, 0.00493478262796998, 0.0142600666731596, 0.0057096099480986595, 0.013105890713632107, 0.009987515397369862, 0.013845601119101048, 0.009735033847391605, 0.020072052255272865, 0.019594674929976463, 0.008913581259548664, 0.011022870428860188, 0.016610056161880493, 0.006498561706393957, 0.007082401309162378, 0.00432746484875679, 0.003877909854054451, 0.006052431184798479, 0.0077649750746786594, 0.011262636631727219, 0.026356292888522148, 0.02079378440976143, 0.010096646845340729, 0.0055788615718483925, 0.01105702668428421, 0.0070874569937586784, 0.008218854665756226, 0.06120949611067772, 0.005315107759088278, 0.008607877418398857, 0.014491915702819824, 0.015123405493795872, 0.005546469707041979, 0.01249682903289795, 0.0074404152110219, 0.013470318168401718, 0.01732686534523964, 0.010909474454820156, 0.03508971258997917, 0.024176469072699547, 0.07378488034009933], [0.01583688333630562, 0.020042305812239647, 0.006411768030375242, 0.01314231101423502, 0.05638619139790535, 0.005519805941730738, 0.012012805789709091, 0.021442322060465813, 0.0183784831315279, 0.021352356299757957, 0.02556358091533184, 0.008976847864687443, 0.007588168140500784, 0.011061789467930794, 0.01278879027813673, 0.005132438614964485, 0.009046133607625961, 0.0059265983290970325, 0.011030606925487518, 0.017346790060400963, 0.010806598700582981, 0.009388166479766369, 0.007059852126985788, 0.012534883804619312, 0.0048010749742388725, 0.008851440623402596, 0.012057587504386902, 0.020794350653886795, 0.006871178280562162, 0.029629003256559372, 0.010941899381577969, 0.011750402860343456, 0.007075779605656862, 0.009368857368826866, 0.00738760270178318, 0.004166885279119015, 0.007310046814382076, 0.00495376531034708, 0.005484976805746555, 0.0056214225478470325, 0.005103963427245617, 0.01358907762914896, 0.028022894635796547, 0.01804042048752308, 0.005798326339572668, 0.012686649337410927, 0.004019496962428093, 0.006829641759395599, 0.0357482023537159, 0.005224925931543112, 0.01544754859060049, 0.014777764678001404, 0.015057474374771118, 0.0070234485901892185, 0.00697092991322279, 0.009519070386886597, 0.010185491293668747, 0.014378937892615795, 0.013702251017093658, 0.027401765808463097, 0.025062868371605873, 0.028098754584789276, 0.1754673421382904], [0.015466652810573578, 0.013644298538565636, 0.006022460758686066, 0.012640036642551422, 0.026538893580436707, 0.004719289019703865, 0.013860135339200497, 0.016254354268312454, 0.012671561911702156, 0.019225576892495155, 0.01321441400796175, 0.008469481021165848, 0.005178570281714201, 0.006841485388576984, 0.00873225461691618, 0.00620270287618041, 0.007445498835295439, 0.004608531948179007, 0.006821638438850641, 0.006880927365273237, 0.01207583025097847, 0.008078280836343765, 0.007444395218044519, 0.009023347869515419, 0.005215936340391636, 0.008193930611014366, 0.01054511871188879, 0.014946408569812775, 0.007490629330277443, 0.01990932784974575, 0.0066951182670891285, 0.0034911055117845535, 0.0049858372658491135, 0.006104565691202879, 0.00414455309510231, 0.005353350657969713, 0.0038662971928715706, 0.0033152620308101177, 0.0041818502359092236, 0.005159473977982998, 0.006194280926138163, 0.02607346512377262, 0.019613604992628098, 0.011232050135731697, 0.006349591072648764, 0.010989696718752384, 0.005479391198605299, 0.006947996094822884, 0.03343913331627846, 0.006080393213778734, 0.018356474116444588, 0.009807201102375984, 0.0156754981726408, 0.007602014113217592, 0.005461548455059528, 0.00726420059800148, 0.010815712623298168, 0.013879493810236454, 0.014435099437832832, 0.026950405910611153, 0.0338372178375721, 0.023701779544353485, 0.1747756004333496, 0.1393788456916809], [0.02101784385740757, 0.023905178532004356, 0.012740649282932281, 0.033378783613443375, 0.07222327589988708, 0.008268238976597786, 0.028607327491044998, 0.025540973991155624, 0.010872941464185715, 0.035659343004226685, 0.011212728917598724, 0.006567699834704399, 0.00618751859292388, 0.011230165138840675, 0.012421292252838612, 0.006680966820567846, 0.006020965054631233, 0.006342490669339895, 0.012309851124882698, 0.010195049457252026, 0.009769527241587639, 0.015211637131869793, 0.012359925545752048, 0.011809362098574638, 0.011145473457872868, 0.041903045028448105, 0.0035858892370015383, 0.010073871351778507, 0.005576652009040117, 0.016270333901047707, 0.00901525467634201, 0.00620738510042429, 0.006742481607943773, 0.008986984379589558, 0.003846394130960107, 0.006190152373164892, 0.006138261873275042, 0.004127033986151218, 0.005407623015344143, 0.0062736570835113525, 0.005693577695637941, 0.04025645926594734, 0.014719546772539616, 0.013160498812794685, 0.006308648269623518, 0.01203737873584032, 0.003192490665242076, 0.00346842291764915, 0.03720314800739288, 0.004428192973136902, 0.01267277356237173, 0.010618220083415508, 0.009438942186534405, 0.004641737323254347, 0.005201301537454128, 0.007344324607402086, 0.0067472998052835464, 0.00926055945456028, 0.00769471749663353, 0.01882067322731018, 0.018366601318120956, 0.010055109858512878, 0.05802994221448898, 0.022119520232081413, 0.09649574756622314], [0.017107482999563217, 0.011740635149180889, 0.008004422299563885, 0.017666948959231377, 0.03196682035923004, 0.0058472068049013615, 0.01918356493115425, 0.015658345073461533, 0.00899592973291874, 0.02278980053961277, 0.013528967276215553, 0.00546994898468256, 0.00455141207203269, 0.009783248417079449, 0.00683975825086236, 0.004636381287127733, 0.0026114224456250668, 0.0055841910652816296, 0.010206288658082485, 0.00733052846044302, 0.010688183829188347, 0.011854213662445545, 0.005053909029811621, 0.010396880097687244, 0.00607885280624032, 0.0232589989900589, 0.005873572546988726, 0.01207452081143856, 0.008847457356750965, 0.018837833777070045, 0.009754418395459652, 0.006784800905734301, 0.005321095697581768, 0.008423864841461182, 0.0064307511784136295, 0.0039057431276887655, 0.0048551359213888645, 0.0036609286908060312, 0.004031850956380367, 0.00630648247897625, 0.005182594992220402, 0.019409717991948128, 0.018158840015530586, 0.01362702902406454, 0.010434241965413094, 0.01187679823487997, 0.005377539433538914, 0.0046944329515099525, 0.047270528972148895, 0.005914792418479919, 0.017778662964701653, 0.010408718138933182, 0.012430978938937187, 0.006210691761225462, 0.007995853200554848, 0.008115570992231369, 0.007225132081657648, 0.011891152709722519, 0.01990807056427002, 0.029551196843385696, 0.02305946871638298, 0.021932249888777733, 0.07618419826030731, 0.03787962347269058, 0.03545159846544266, 0.13008750975131989], [0.018157541751861572, 0.017620813101530075, 0.006988538429141045, 0.020256470888853073, 0.0642068162560463, 0.006196185480803251, 0.017574870958924294, 0.031765416264534, 0.014511928893625736, 0.03096778504550457, 0.011546798050403595, 0.005839331541210413, 0.00631699338555336, 0.012928906828165054, 0.011210153810679913, 0.0063653308898210526, 0.008376073092222214, 0.005961564835160971, 0.010457144118845463, 0.007051135413348675, 0.007514885161072016, 0.011001426726579666, 0.006102067418396473, 0.010354667901992798, 0.005448939278721809, 0.012438914738595486, 0.00856584683060646, 0.013941335491836071, 0.008303673006594181, 0.017426107078790665, 0.013031038455665112, 0.006697000470012426, 0.00726902112364769, 0.015918908640742302, 0.005383998155593872, 0.004473050590604544, 0.005945984739810228, 0.0037694000639021397, 0.004321921616792679, 0.005254686344414949, 0.006692482158541679, 0.02760324254631996, 0.016048496589064598, 0.00914536789059639, 0.006294088438153267, 0.011340281926095486, 0.0036190771497786045, 0.004225169308483601, 0.05170443281531334, 0.006449700333178043, 0.020682983100414276, 0.01126802060753107, 0.011394710280001163, 0.004996974486857653, 0.004646711982786655, 0.005437598098069429, 0.008750520646572113, 0.00905944500118494, 0.011874149553477764, 0.017285525798797607, 0.022821323946118355, 0.022959943860769272, 0.07066172361373901, 0.028369756415486336, 0.021421141922473907, 0.03446461260318756, 0.06331981718540192], [0.022509440779685974, 0.017954308539628983, 0.008253510110080242, 0.022265376523137093, 0.043968260288238525, 0.006537070032209158, 0.018418757244944572, 0.027860170230269432, 0.022833075374364853, 0.03729839622974396, 0.02440008334815502, 0.006589317694306374, 0.007065951358526945, 0.012560485862195492, 0.012413719668984413, 0.00813464168459177, 0.01075553335249424, 0.0061486465856432915, 0.012328742071986198, 0.0117232296615839, 0.008261101320385933, 0.011597495526075363, 0.006765822879970074, 0.011125734075903893, 0.004769589751958847, 0.011728496290743351, 0.0055334004573524, 0.01638282835483551, 0.0069180745631456375, 0.01644434779882431, 0.007700481917709112, 0.008034344762563705, 0.006340538151562214, 0.013433585874736309, 0.004004571586847305, 0.003087118035182357, 0.004175628535449505, 0.0038737112190574408, 0.004839133936911821, 0.0055479807779192924, 0.005539770238101482, 0.045111991465091705, 0.015137247741222382, 0.00930093228816986, 0.00481839245185256, 0.010356104001402855, 0.0036789439618587494, 0.00326193287037313, 0.03141503036022186, 0.005808575078845024, 0.010159115307033062, 0.006546458229422569, 0.00843820534646511, 0.00416446290910244, 0.007114463951438665, 0.004475766327232122, 0.00878538005053997, 0.01174604520201683, 0.013005869463086128, 0.027349762618541718, 0.01453959196805954, 0.011131991632282734, 0.07055642455816269, 0.024742478504776955, 0.02145697921514511, 0.038506586104631424, 0.022606180980801582, 0.05966261029243469], [0.014617017470300198, 0.017802009359002113, 0.005803999025374651, 0.013109198771417141, 0.05130302160978317, 0.005400685127824545, 0.012052595615386963, 0.024398745968937874, 0.012307313270866871, 0.01812955178320408, 0.010941317304968834, 0.006883685477077961, 0.004817129112780094, 0.00996166281402111, 0.010171538218855858, 0.0054588462226092815, 0.005440991371870041, 0.006109714042395353, 0.010066245682537556, 0.007275778334587812, 0.008385167457163334, 0.008815205655992031, 0.008372972719371319, 0.011706714518368244, 0.0047386144287884235, 0.009217138402163982, 0.006082666106522083, 0.01694522611796856, 0.007763443980365992, 0.020116936415433884, 0.006881625857204199, 0.006211711559444666, 0.005233632866293192, 0.007008402142673731, 0.005985586903989315, 0.004905246663838625, 0.004102150443941355, 0.003924338612705469, 0.004434001166373491, 0.0036009885370731354, 0.0036703553050756454, 0.012523760087788105, 0.023684808984398842, 0.011231634765863419, 0.007142658811062574, 0.008397790603339672, 0.0031423207838088274, 0.004177088849246502, 0.025967760011553764, 0.0053845657967031, 0.015923205763101578, 0.008859250694513321, 0.01451185718178749, 0.005513846408575773, 0.003931057173758745, 0.005489556584507227, 0.006919159088283777, 0.012310309335589409, 0.009744175709784031, 0.01741749979555607, 0.019397100433707237, 0.013368054293096066, 0.07212091982364655, 0.014643993228673935, 0.02447526343166828, 0.016740649938583374, 0.027684157714247704, 0.021790070459246635, 0.17735424637794495], [0.01597188599407673, 0.007600422482937574, 0.0063377199694514275, 0.013140306808054447, 0.00794706679880619, 0.005730688106268644, 0.011278878897428513, 0.006639581173658371, 0.0044094268232584, 0.019241832196712494, 0.017405569553375244, 0.010892287828028202, 0.004733469802886248, 0.010839917697012424, 0.004435024689882994, 0.0042448765598237514, 0.0035243011079728603, 0.0062972428277134895, 0.012377492152154446, 0.014137471094727516, 0.009922324679791927, 0.011461024172604084, 0.009865259751677513, 0.005555802024900913, 0.006619737483561039, 0.01089575793594122, 0.010315545834600925, 0.029024304822087288, 0.009421869181096554, 0.034484367817640305, 0.010703131556510925, 0.007629694417119026, 0.009788055904209614, 0.011048819869756699, 0.011095897294580936, 0.012085392139852047, 0.006514514796435833, 0.006523921620100737, 0.004555527586489916, 0.00873590912669897, 0.006736998446285725, 0.01555680762976408, 0.03616706654429436, 0.02339077740907669, 0.012494704686105251, 0.016913624480366707, 0.0038208160549402237, 0.006608874537050724, 0.03193488344550133, 0.011573581956326962, 0.027002068236470222, 0.01173103041946888, 0.0131957633420825, 0.007941877469420433, 0.009412775747478008, 0.01635706052184105, 0.012435265816748142, 0.02550610899925232, 0.015081524848937988, 0.0566425584256649, 0.016177190467715263, 0.008833959698677063, 0.02581166848540306, 0.009646976366639137, 0.011650031432509422, 0.011633388698101044, 0.02202674373984337, 0.008045646362006664, 0.03285182639956474, 0.0793861448764801], [0.015942486003041267, 0.011343633756041527, 0.00740069942548871, 0.014054050669074059, 0.008712884970009327, 0.005604333709925413, 0.0120217464864254, 0.009959091432392597, 0.009592323563992977, 0.023218054324388504, 0.010262826457619667, 0.00801288802176714, 0.0044260635040700436, 0.009132263250648975, 0.006204808130860329, 0.004326190333813429, 0.004285100381821394, 0.00580213638022542, 0.010783063247799873, 0.008032633922994137, 0.020221365615725517, 0.012820831499993801, 0.007434062194079161, 0.007123940158635378, 0.008998768404126167, 0.009214332327246666, 0.00967055931687355, 0.03748230263590813, 0.009435053914785385, 0.041239555925130844, 0.006363885011523962, 0.005295742768794298, 0.004944971762597561, 0.0072712283581495285, 0.004022475332021713, 0.005008369218558073, 0.003239805344492197, 0.004410369321703911, 0.0038568186573684216, 0.008607771247625351, 0.00591846602037549, 0.014080043882131577, 0.030862193554639816, 0.020793119445443153, 0.02427905984222889, 0.02121422439813614, 0.004521879833191633, 0.008267390541732311, 0.03819436952471733, 0.011451820842921734, 0.02896072156727314, 0.020250387489795685, 0.02636418677866459, 0.008538407273590565, 0.011652013286948204, 0.013701111078262329, 0.014032389968633652, 0.01859852857887745, 0.008697052486240864, 0.0349653959274292, 0.016850139945745468, 0.01051373966038227, 0.025194231420755386, 0.01302026491612196, 0.008168122731149197, 0.008434604853391647, 0.008572764694690704, 0.0141682717949152, 0.024871645495295525, 0.04858535900712013, 0.05049862712621689], [0.02052203193306923, 0.017943844199180603, 0.010837825946509838, 0.01702343113720417, 0.021351957693696022, 0.006303360685706139, 0.01382292527705431, 0.013162761926651001, 0.012611381709575653, 0.02974378503859043, 0.015896091237664223, 0.009234369732439518, 0.007438142318278551, 0.012495029717683792, 0.008199569769203663, 0.0058790468610823154, 0.008070518262684345, 0.007416839245706797, 0.01320431474596262, 0.009503960609436035, 0.013437666930258274, 0.014109051786363125, 0.008376694284379482, 0.011212424375116825, 0.008400334976613522, 0.009711222723126411, 0.007297883275896311, 0.02198886312544346, 0.01114809699356556, 0.029568906873464584, 0.007075004745274782, 0.009630044922232628, 0.0075570959597826, 0.008529526181519032, 0.005716577172279358, 0.004627857357263565, 0.006567006465047598, 0.004312869627028704, 0.00436863349750638, 0.008627680130302906, 0.009101145900785923, 0.017253857105970383, 0.04356943815946579, 0.02807408571243286, 0.028712140396237373, 0.021810531616210938, 0.00504496693611145, 0.010983160696923733, 0.03569095954298973, 0.008721251040697098, 0.020656656473875046, 0.016074372455477715, 0.015177946537733078, 0.008771197870373726, 0.011695693247020245, 0.011686371639370918, 0.009620598517358303, 0.015530019998550415, 0.006283476948738098, 0.016765527427196503, 0.008076775819063187, 0.00838543102145195, 0.020011557266116142, 0.010090405121445656, 0.009806212969124317, 0.004948760848492384, 0.004868014715611935, 0.013330815359950066, 0.01712481491267681, 0.028158651664853096, 0.01682599075138569, 0.05422458425164223], [0.015920473262667656, 0.00846814177930355, 0.00851485040038824, 0.014961590990424156, 0.0066481903195381165, 0.004713395610451698, 0.011265392415225506, 0.005779756233096123, 0.003766374895349145, 0.024453528225421906, 0.010468322783708572, 0.008427822962403297, 0.004984443541616201, 0.014259688556194305, 0.00549487816169858, 0.003816985758021474, 0.003811848582699895, 0.007045655511319637, 0.013490360230207443, 0.009530620649456978, 0.012073523364961147, 0.014313030056655407, 0.007829278707504272, 0.00613671587780118, 0.005232819356024265, 0.010423244908452034, 0.011865184642374516, 0.038853175938129425, 0.033081479370594025, 0.038347277790308, 0.007812069728970528, 0.005677477922290564, 0.006219022907316685, 0.0056209927424788475, 0.009353237226605415, 0.0046956962905824184, 0.0030637464951723814, 0.003532116999849677, 0.00407584011554718, 0.004674405790865421, 0.004397359676659107, 0.010250665247440338, 0.03409330174326897, 0.027642982080578804, 0.008876573294401169, 0.010840266942977905, 0.006369054317474365, 0.0046774884685873985, 0.03740733861923218, 0.004697131924331188, 0.015014974400401115, 0.01194794848561287, 0.009977552108466625, 0.00681022834032774, 0.005976970307528973, 0.007674438413232565, 0.01216437853872776, 0.024418655782938004, 0.016979042440652847, 0.04132995754480362, 0.012027477845549583, 0.007081012707203627, 0.019743140786886215, 0.017201708629727364, 0.007103655952960253, 0.00719944853335619, 0.006742024328559637, 0.010320057161152363, 0.02664788067340851, 0.04010031372308731, 0.021082108840346336, 0.04236530140042305, 0.062136873602867126], [0.01598108932375908, 0.007187664043158293, 0.005847517866641283, 0.015917550772428513, 0.006719993427395821, 0.005392569117248058, 0.010199439711868763, 0.00548567296937108, 0.005133285652846098, 0.018218442797660828, 0.011235276237130165, 0.008794061839580536, 0.006052456796169281, 0.014240269549190998, 0.004459213465452194, 0.005038488656282425, 0.004039290826767683, 0.006105987820774317, 0.011679393239319324, 0.009564903564751148, 0.011790549382567406, 0.01198235061019659, 0.0071976566687226295, 0.003989149816334248, 0.0069208224304020405, 0.009496016427874565, 0.01251740287989378, 0.025118399411439896, 0.022454282268881798, 0.03965017572045326, 0.018940838053822517, 0.010342437773942947, 0.010761965997517109, 0.014814965426921844, 0.01793765462934971, 0.01092681847512722, 0.050921130925416946, 0.0032942781690508127, 0.004968295339494944, 0.004346029367297888, 0.005486389622092247, 0.010234483517706394, 0.032627929002046585, 0.018931539729237556, 0.004859123378992081, 0.00841846875846386, 0.004130346234887838, 0.005087031051516533, 0.022284306585788727, 0.007242232095450163, 0.01398446410894394, 0.008497140370309353, 0.00911883357912302, 0.007042682729661465, 0.009749139659106731, 0.005102160852402449, 0.009081968106329441, 0.01759212650358677, 0.012751813046634197, 0.03265855833888054, 0.0076487367041409016, 0.0063342927023768425, 0.015474135056138039, 0.009288832545280457, 0.004828109871596098, 0.00555258896201849, 0.011535720899701118, 0.021386127918958664, 0.017393041402101517, 0.04899357631802559, 0.030966999009251595, 0.020959218963980675, 0.02654496766626835, 0.05254910886287689], [0.018099632114171982, 0.00939131062477827, 0.007259814068675041, 0.0139620928093791, 0.013001741841435432, 0.006021228618919849, 0.0123915309086442, 0.00922627653926611, 0.0094368364661932, 0.024373386055231094, 0.019918136298656464, 0.007489092648029327, 0.007010875269770622, 0.01157405972480774, 0.007731996010988951, 0.004761917982250452, 0.005921689793467522, 0.008064658381044865, 0.01371664460748434, 0.015968287363648415, 0.009279008023440838, 0.01108503621071577, 0.004900623112916946, 0.006634552963078022, 0.004473208915442228, 0.010384419932961464, 0.008444484323263168, 0.02954448014497757, 0.019565293565392494, 0.04123346880078316, 0.01957768388092518, 0.011019207537174225, 0.007459187414497137, 0.007374053355306387, 0.008749943226575851, 0.00789311807602644, 0.005330841988325119, 0.003894197288900614, 0.004291090648621321, 0.005113115068525076, 0.005047530867159367, 0.010389606468379498, 0.023358624428510666, 0.019876651465892792, 0.006163445767015219, 0.009663019329309464, 0.003181493142619729, 0.004176977090537548, 0.02828618325293064, 0.0047520059160888195, 0.008984571322798729, 0.00792847853153944, 0.008398675359785557, 0.0041045211255550385, 0.004353426396846771, 0.006854013539850712, 0.006600044202059507, 0.015649404376745224, 0.006040499079972506, 0.024839749559760094, 0.0111692538484931, 0.008257880806922913, 0.034208495169878006, 0.008571392856538296, 0.012492794543504715, 0.012088671326637268, 0.007932305335998535, 0.012138616293668747, 0.033093053847551346, 0.04416683688759804, 0.01085272990167141, 0.020128028467297554, 0.04370208829641342, 0.024389559403061867, 0.05659112706780434], [0.015644539147615433, 0.015146969817578793, 0.005233146715909243, 0.010395851917564869, 0.03979671746492386, 0.004637199454009533, 0.012520496733486652, 0.02444477193057537, 0.018185479566454887, 0.0125277079641819, 0.025192633271217346, 0.0068085286766290665, 0.006392973475158215, 0.008526964113116264, 0.014139596372842789, 0.007743673399090767, 0.01134312991052866, 0.0044176047667860985, 0.007018113974481821, 0.0140684824436903, 0.006904381327331066, 0.006631630472838879, 0.004382808227092028, 0.013539190404117107, 0.003619995666667819, 0.006596903782337904, 0.008795255795121193, 0.012789648957550526, 0.01047631073743105, 0.019190479069948196, 0.009156120009720325, 0.007510312832891941, 0.0044275675900280476, 0.01080161239951849, 0.006981241051107645, 0.003902185708284378, 0.00361250014975667, 0.004416611511260271, 0.00604670587927103, 0.01628035306930542, 0.0059877121821045876, 0.012967725284397602, 0.013463491573929787, 0.010225397534668446, 0.003745965426787734, 0.007916629314422607, 0.003920213785022497, 0.005574946291744709, 0.0338110625743866, 0.0037336370442062616, 0.007543341722339392, 0.009406321682035923, 0.010388054884970188, 0.004008096177130938, 0.005750874523073435, 0.0041724080219864845, 0.004687746986746788, 0.007118998095393181, 0.005554013419896364, 0.01620899699628353, 0.00788804143667221, 0.006816452369093895, 0.03572411835193634, 0.014033212326467037, 0.009405819699168205, 0.01143372617661953, 0.009098367765545845, 0.006982688792049885, 0.06319339573383331, 0.03343622386455536, 0.022277334704995155, 0.012277527712285519, 0.026461098343133926, 0.011225507594645023, 0.03781813383102417, 0.08549631386995316], [0.014803449623286724, 0.012504755519330502, 0.0071103316731750965, 0.011508063413202763, 0.01659574545919895, 0.00506612379103899, 0.011716329492628574, 0.008667254820466042, 0.01004378218203783, 0.015393738634884357, 0.008810827508568764, 0.00474588293582201, 0.004974578507244587, 0.007239812985062599, 0.006631709169596434, 0.003657861612737179, 0.004457386676222086, 0.0047852410934865475, 0.007056284695863724, 0.005299997050315142, 0.006518160458654165, 0.007828883826732635, 0.004013537894934416, 0.004155286587774754, 0.003311057575047016, 0.0075711761601269245, 0.004970209673047066, 0.014921722933650017, 0.007939871400594711, 0.02284025214612484, 0.006158493924885988, 0.005462117027491331, 0.0044099921360611916, 0.005746792536228895, 0.0028430314268916845, 0.0033268665429204702, 0.003155865240842104, 0.0037802662700414658, 0.004108497407287359, 0.013598528690636158, 0.00399179058149457, 0.01143618207424879, 0.014978596940636635, 0.012444951571524143, 0.005017876159399748, 0.007611618377268314, 0.0038533727638423443, 0.004551937337964773, 0.025325248017907143, 0.005121474154293537, 0.0193724874407053, 0.00849948264658451, 0.01384064368903637, 0.0037093833088874817, 0.0035741222091019154, 0.004695062525570393, 0.008635231293737888, 0.011039543896913528, 0.005853783804923296, 0.02067764475941658, 0.010727260261774063, 0.01730458252131939, 0.04867861792445183, 0.010774262249469757, 0.015433092601597309, 0.025894394144415855, 0.010932172648608685, 0.01501335296779871, 0.08316459506750107, 0.03331949934363365, 0.012415249831974506, 0.016439473256468773, 0.019455445930361748, 0.013521564193069935, 0.03750654309988022, 0.03658175468444824, 0.09087800234556198], [0.012128213420510292, 0.004945520311594009, 0.003507570130750537, 0.008647705428302288, 0.0097722252830863, 0.00313159404322505, 0.00914453063160181, 0.007917503826320171, 0.0037533289287239313, 0.012249620631337166, 0.006557439919561148, 0.00397968664765358, 0.0030215566512197256, 0.0050987317226827145, 0.0035884615499526262, 0.002419419353827834, 0.00224513397552073, 0.0039742873050272465, 0.005994930863380432, 0.010051636025309563, 0.008313576690852642, 0.008106173016130924, 0.003245325293391943, 0.0038146162405610085, 0.005318289622664452, 0.012067310512065887, 0.0028547844849526882, 0.009872818365693092, 0.003460824256762862, 0.016621237620711327, 0.00863446481525898, 0.004261702299118042, 0.004721815697848797, 0.00531498109921813, 0.003421380650252104, 0.0030423228163272142, 0.003121187910437584, 0.002427529776468873, 0.00363827939145267, 0.01698111928999424, 0.003820795798674226, 0.014265675097703934, 0.012925451621413231, 0.007091251201927662, 0.006195954978466034, 0.009191961027681828, 0.002726062899455428, 0.0034784856252372265, 0.02276785857975483, 0.007207323797047138, 0.006513437256217003, 0.009807481430470943, 0.015064927749335766, 0.0033261156640946865, 0.00345273083075881, 0.006579206325113773, 0.008377899415791035, 0.013493362814188004, 0.005891774781048298, 0.01602540910243988, 0.01676127500832081, 0.014470204710960388, 0.037482552230358124, 0.026318157091736794, 0.017651747912168503, 0.03672902658581734, 0.017659766599535942, 0.01184670440852642, 0.0802181139588356, 0.036324337124824524, 0.008525124751031399, 0.009543112479150295, 0.04222092777490616, 0.012110063806176186, 0.034472305327653885, 0.04349932447075844, 0.06552235037088394, 0.05907284468412399], [0.018486207351088524, 0.014055948704481125, 0.005806254222989082, 0.010202898643910885, 0.030277129262685776, 0.005027126055210829, 0.009419547393918037, 0.017030293121933937, 0.010821915231645107, 0.014168513007462025, 0.01806901954114437, 0.006335562560707331, 0.00499291205778718, 0.007686874829232693, 0.008494796231389046, 0.005118831060826778, 0.006870568729937077, 0.003960075322538614, 0.007138420362025499, 0.01546794455498457, 0.007765216287225485, 0.006460549309849739, 0.003443825524300337, 0.009206482209265232, 0.004506669472903013, 0.007416070904582739, 0.010273667052388191, 0.02008719928562641, 0.014134933240711689, 0.03354944288730621, 0.00872838031500578, 0.005253387615084648, 0.004550626501441002, 0.005730332341045141, 0.008170201443135738, 0.004968942143023014, 0.0034401495940983295, 0.003111484693363309, 0.003572150133550167, 0.006823744624853134, 0.00622521061450243, 0.009879034012556076, 0.027007969096302986, 0.01237698644399643, 0.005044561345130205, 0.006767275743186474, 0.004033156670629978, 0.005704469047486782, 0.02444678172469139, 0.004304401110857725, 0.010552706196904182, 0.010791182518005371, 0.006396895740181208, 0.0037078389432281256, 0.006549323908984661, 0.004998994525521994, 0.006486211903393269, 0.01090493705123663, 0.011263612657785416, 0.018711380660533905, 0.018547270447015762, 0.006418189499527216, 0.03301740065217018, 0.009297199547290802, 0.006706892047077417, 0.011276177130639553, 0.006026806775480509, 0.00767251243814826, 0.05488366633653641, 0.04428766667842865, 0.0191690381616354, 0.018482662737369537, 0.019552800804376602, 0.013525392860174179, 0.03322497382760048, 0.023497872054576874, 0.020839206874370575, 0.010652623139321804, 0.05614440515637398], [0.013881183229386806, 0.018188554793596268, 0.005007917061448097, 0.010311481542885303, 0.051158882677555084, 0.004479689057916403, 0.007689715828746557, 0.025143563747406006, 0.01540932897478342, 0.011175105348229408, 0.024079756811261177, 0.004374644719064236, 0.007321144919842482, 0.006785809528082609, 0.012353546917438507, 0.005398445297032595, 0.008586199954152107, 0.003629317507147789, 0.007132021244615316, 0.013789046555757523, 0.0056342086754739285, 0.007026326842606068, 0.0032221744768321514, 0.012948187068104744, 0.003000871278345585, 0.00742118526250124, 0.009529009461402893, 0.01470798347145319, 0.007258934434503317, 0.01869392953813076, 0.008325422182679176, 0.0059444294311106205, 0.00373666500672698, 0.0062278215773403645, 0.003714487422257662, 0.005329042673110962, 0.0029065143316984177, 0.0027252507861703634, 0.004522442352026701, 0.011442882008850574, 0.005214978940784931, 0.011432204395532608, 0.01135585643351078, 0.008189931511878967, 0.004400521516799927, 0.00690695084631443, 0.0031348969787359238, 0.006403444800525904, 0.025138625875115395, 0.004324906971305609, 0.0060845124535262585, 0.006034120451658964, 0.007608046289533377, 0.003820254700258374, 0.006488925777375698, 0.00570106552913785, 0.006109671201556921, 0.015537542290985584, 0.005964310839772224, 0.012628111056983471, 0.014873639680445194, 0.0075452798046171665, 0.02504333108663559, 0.011496568098664284, 0.017440730705857277, 0.021662693470716476, 0.006412845570594072, 0.005189997609704733, 0.05107789859175682, 0.01672298274934292, 0.007608562242239714, 0.008428920060396194, 0.013224734924733639, 0.010277803987264633, 0.01672532968223095, 0.04688897356390953, 0.021809695288538933, 0.014537781476974487, 0.051963429898023605, 0.0683768168091774], [0.012694942764937878, 0.00962319876998663, 0.005693922750651836, 0.0107513926923275, 0.013541227206587791, 0.004344580229371786, 0.009214766323566437, 0.0072346217930316925, 0.0071039809845387936, 0.018387766554951668, 0.010156864300370216, 0.00720437616109848, 0.005184806417673826, 0.011082394048571587, 0.005131093319505453, 0.003697096137329936, 0.0026980687398463488, 0.005991700571030378, 0.010856295004487038, 0.005434966646134853, 0.007113731931895018, 0.009013787843286991, 0.003833343042060733, 0.004239534959197044, 0.0032218913547694683, 0.006870031822472811, 0.004005062859505415, 0.011115851812064648, 0.006775708869099617, 0.013101525604724884, 0.00806261133402586, 0.009923393838107586, 0.008578489534556866, 0.007750242482870817, 0.0069334497675299644, 0.005522907245904207, 0.00834629125893116, 0.00585111603140831, 0.02439126744866371, 0.010963528417050838, 0.004004830960184336, 0.013475135900080204, 0.016468089073896408, 0.018559494987130165, 0.0045948033221066, 0.011949011124670506, 0.0028056681621819735, 0.003717563347890973, 0.03084399923682213, 0.0043352204374969006, 0.008481466211378574, 0.007522112224251032, 0.008961847051978111, 0.0036716714967042208, 0.004044009372591972, 0.005636319983750582, 0.005480415653437376, 0.008462204597890377, 0.008258605375885963, 0.01166553981602192, 0.009567521512508392, 0.007644494995474815, 0.034868817776441574, 0.007030433509498835, 0.03330133855342865, 0.008247093297541142, 0.0054061077535152435, 0.003763534128665924, 0.0416492335498333, 0.022953609004616737, 0.005378406960517168, 0.007435350678861141, 0.021754512563347816, 0.010023477487266064, 0.026918692514300346, 0.05355282500386238, 0.02290089800953865, 0.012906544841825962, 0.03168367221951485, 0.06182151660323143, 0.0566120520234108], [0.010421750135719776, 0.010383160784840584, 0.005510205402970314, 0.007650973275303841, 0.014978785067796707, 0.0033288844861090183, 0.006654699333012104, 0.010649636387825012, 0.006578272208571434, 0.011512034572660923, 0.008251965045928955, 0.0042391871102154255, 0.0037132061552256346, 0.006450960412621498, 0.004852240439504385, 0.003845200641080737, 0.0036348593421280384, 0.003462758846580982, 0.006107457913458347, 0.004859740845859051, 0.004859668668359518, 0.005659302696585655, 0.0027976296842098236, 0.004689828492701054, 0.002784241223707795, 0.005456502549350262, 0.004720225930213928, 0.010321277193725109, 0.007857628166675568, 0.02206224761903286, 0.005831186659634113, 0.007615945301949978, 0.004737021867185831, 0.005832663271576166, 0.006179880816489458, 0.004708340857177973, 0.0050356690771877766, 0.0030130771920084953, 0.00749867781996727, 0.010080824606120586, 0.003854642389342189, 0.009833414107561111, 0.012429646216332912, 0.012242171913385391, 0.003368568606674671, 0.0084487684071064, 0.0033415458165109158, 0.0032115464564412832, 0.02280435897409916, 0.0035767212975770235, 0.008202438242733479, 0.007952552288770676, 0.0079899737611413, 0.0030178262386471033, 0.004034850746393204, 0.0046736449003219604, 0.006576038897037506, 0.009548619389533997, 0.01212361641228199, 0.01158448401838541, 0.01255035400390625, 0.006642587017267942, 0.03937375918030739, 0.008788575418293476, 0.009800316765904427, 0.01157079916447401, 0.011033001355826855, 0.010428376495838165, 0.09401329606771469, 0.03997836634516716, 0.012351861223578453, 0.01065287459641695, 0.017692577093839645, 0.012680673971772194, 0.020712299272418022, 0.0291371438652277, 0.022557133808732033, 0.012846323661506176, 0.0486273318529129, 0.025576412677764893, 0.041450172662734985, 0.07389258593320847], [0.011045778170228004, 0.010193249210715294, 0.004428780637681484, 0.010205157101154327, 0.02434786781668663, 0.0037145568057894707, 0.008023037575185299, 0.015250827185809612, 0.009213689714670181, 0.012743995524942875, 0.014251998625695705, 0.006045824848115444, 0.004559846594929695, 0.006535517983138561, 0.0053825355134904385, 0.0027999079320579767, 0.0030275778844952583, 0.003684691619127989, 0.006217316724359989, 0.009275907650589943, 0.009249741211533546, 0.008040408603847027, 0.00314952596090734, 0.006151469424366951, 0.005294234957545996, 0.006328307092189789, 0.006907082628458738, 0.013179700821638107, 0.0051155793480575085, 0.021509038284420967, 0.006901059299707413, 0.006993271876126528, 0.005203782580792904, 0.006395971402525902, 0.004577770829200745, 0.005750304087996483, 0.004891150165349245, 0.0031609155703336, 0.006307274103164673, 0.007560140453279018, 0.003438037820160389, 0.011696891859173775, 0.010903892107307911, 0.006954331416636705, 0.0077678132802248, 0.008051972836256027, 0.003444613656029105, 0.003014280693605542, 0.02766634151339531, 0.007217821199446917, 0.0068153939209878445, 0.009086484089493752, 0.010976479388773441, 0.0031911656260490417, 0.00578623590990901, 0.006246285978704691, 0.003723608562722802, 0.011231156066060066, 0.012400287203490734, 0.022289153188467026, 0.006694041658192873, 0.008893846534192562, 0.028710022568702698, 0.008702577091753483, 0.010826458223164082, 0.019200678914785385, 0.008737292140722275, 0.011140553280711174, 0.11455303430557251, 0.016362346708774567, 0.0074726250022649765, 0.009162720292806625, 0.012139868922531605, 0.011727513745427132, 0.009816021658480167, 0.023210745304822922, 0.017385704442858696, 0.020030295476317406, 0.03243443742394447, 0.014926864765584469, 0.023549603298306465, 0.03871751204133034, 0.05008822679519653], [0.011689475737512112, 0.012395475059747696, 0.005030473228543997, 0.009846551343798637, 0.030792968347668648, 0.004670456983149052, 0.007156979758292437, 0.018878266215324402, 0.01264670118689537, 0.012471139430999756, 0.01260344497859478, 0.0046212272718548775, 0.004368539433926344, 0.0058259968645870686, 0.006634163204580545, 0.0032782338093966246, 0.004968984983861446, 0.0034954361617565155, 0.006344426888972521, 0.005188117269426584, 0.006406873464584351, 0.00550285866484046, 0.003653231542557478, 0.004829615820199251, 0.004035096615552902, 0.005290595814585686, 0.005743651185184717, 0.005588662810623646, 0.006670772563666105, 0.013019180856645107, 0.005812683142721653, 0.005613584537059069, 0.005512259900569916, 0.009996302425861359, 0.005184127949178219, 0.003958960063755512, 0.0024466970935463905, 0.0028124817181378603, 0.00719217024743557, 0.004166493657976389, 0.003462378168478608, 0.012119656428694725, 0.011572428978979588, 0.008761630393564701, 0.004263949114829302, 0.005828570108860731, 0.0031851918902248144, 0.0025823619216680527, 0.017009593546390533, 0.007615104783326387, 0.005490765441209078, 0.011722074821591377, 0.008468986488878727, 0.0022664559073746204, 0.003557909047231078, 0.004977930337190628, 0.005725327413529158, 0.009089222177863121, 0.006988214794546366, 0.013751036487519741, 0.009136979468166828, 0.009983943775296211, 0.035016097128391266, 0.01967616192996502, 0.012955238111317158, 0.022614529356360435, 0.012722467072308064, 0.011951586231589317, 0.1300458312034607, 0.015967069193720818, 0.003833502298220992, 0.0047084433026611805, 0.014872514642775059, 0.009541562758386135, 0.01110494788736105, 0.014378131367266178, 0.014034578576683998, 0.013738640584051609, 0.015433788299560547, 0.029039975255727768, 0.022264115512371063, 0.017664805054664612, 0.04258818179368973, 0.061944786459207535], [0.011176936328411102, 0.011872581206262112, 0.005227706395089626, 0.009532224386930466, 0.03650255873799324, 0.005046573467552662, 0.008056053891777992, 0.019989732652902603, 0.011769283562898636, 0.013088754378259182, 0.011666764505207539, 0.0040897647850215435, 0.005135958082973957, 0.006186888553202152, 0.006560775451362133, 0.004412726033478975, 0.004179019946604967, 0.004452290944755077, 0.007765538524836302, 0.00347423879429698, 0.005012191366404295, 0.005451621953397989, 0.0027698667254298925, 0.00413326732814312, 0.003289067419245839, 0.005688020493835211, 0.003670567413792014, 0.007499017287045717, 0.01011292077600956, 0.012930742464959621, 0.004845694173127413, 0.005195058882236481, 0.005898403003811836, 0.007455452345311642, 0.005040672142058611, 0.00385476928204298, 0.0026880421210080385, 0.002527805045247078, 0.0054667042568326, 0.004174370784312487, 0.004053210373967886, 0.011284345760941505, 0.009362058714032173, 0.006289242766797543, 0.003523738356307149, 0.005702019203454256, 0.0024130335077643394, 0.002730464795604348, 0.018048886209726334, 0.00524881761521101, 0.005586306098848581, 0.008475913666188717, 0.008041133172810078, 0.0025342879816889763, 0.0046177092008292675, 0.0037588998675346375, 0.0083157354965806, 0.012251281179487705, 0.009931126609444618, 0.011651074513792992, 0.009347138926386833, 0.0061607868410646915, 0.027753598988056183, 0.008239788003265858, 0.012162434868514538, 0.017505858093500137, 0.013028432615101337, 0.021214766427874565, 0.11917807906866074, 0.01853502355515957, 0.004916277714073658, 0.005093845538794994, 0.013125414028763771, 0.007009564433246851, 0.013339653611183167, 0.02135803923010826, 0.010697594843804836, 0.010746240615844727, 0.013729908503592014, 0.02190682664513588, 0.015884360298514366, 0.018601462244987488, 0.03132360056042671, 0.011502236127853394, 0.10592920333147049], [0.011656672693789005, 0.00393222039565444, 0.004526636563241482, 0.009953920729458332, 0.005373986903578043, 0.0034271767362952232, 0.0072240075096488, 0.0030312526505440474, 0.0029916707426309586, 0.017223428934812546, 0.004305592738091946, 0.005590696819126606, 0.0037652519531548023, 0.007650330662727356, 0.0035834028385579586, 0.003002614714205265, 0.002742451848462224, 0.004912832751870155, 0.007795986253768206, 0.004487218335270882, 0.0052032312378287315, 0.006450324319303036, 0.0033646614756435156, 0.0028307924512773752, 0.0043517909944057465, 0.005589882843196392, 0.0038490791339427233, 0.006702284328639507, 0.005190419498831034, 0.012806654907763004, 0.005994982551783323, 0.004974722862243652, 0.006748581770807505, 0.009127000346779823, 0.003846484702080488, 0.009779015555977821, 0.01895110495388508, 0.0035422518849372864, 0.007930386811494827, 0.006217771675437689, 0.00642133504152298, 0.022483842447400093, 0.017604779452085495, 0.008862387388944626, 0.003894034307450056, 0.0063949269242584705, 0.001973930513486266, 0.003237792057916522, 0.02007928676903248, 0.005085289478302002, 0.005088029429316521, 0.005781933199614286, 0.0065219821408391, 0.002555923303589225, 0.002309134928509593, 0.004312759730964899, 0.005283096805214882, 0.006909522227942944, 0.008656337857246399, 0.014877951703965664, 0.005128726363182068, 0.007470923941582441, 0.02788732573390007, 0.02364029921591282, 0.008395670913159847, 0.01226804405450821, 0.01341206207871437, 0.008076910860836506, 0.09844519197940826, 0.01994454115629196, 0.004450581036508083, 0.004588092211633921, 0.011662974953651428, 0.00689258798956871, 0.013509491458535194, 0.014934596605598927, 0.008644231595098972, 0.010755873285233974, 0.014386051334440708, 0.018905382603406906, 0.0239705890417099, 0.01774841547012329, 0.018780158832669258, 0.020201068371534348, 0.038767796009778976, 0.1381693333387375], [0.016279123723506927, 0.013009456917643547, 0.0050660185515880585, 0.009095474146306515, 0.04493916779756546, 0.004967409186065197, 0.0073194317519664764, 0.026786912232637405, 0.014258296228945255, 0.013712219893932343, 0.01806909218430519, 0.004016280639916658, 0.005716504529118538, 0.00606889370828867, 0.008940258994698524, 0.004251763690263033, 0.008860756643116474, 0.0033473328221589327, 0.006281276699155569, 0.009854170493781567, 0.005582842975854874, 0.0048569790087640285, 0.0030213987920433283, 0.012579984031617641, 0.003002443350851536, 0.004857312422245741, 0.006836972199380398, 0.006230178754776716, 0.007345857098698616, 0.00860763993114233, 0.006134900264441967, 0.0034607993438839912, 0.004584629088640213, 0.006293487269431353, 0.006171833258122206, 0.0030084543395787477, 0.0025987199041992426, 0.0025546522811055183, 0.005072992295026779, 0.003471784293651581, 0.011975151486694813, 0.017197931185364723, 0.010206684470176697, 0.004747880157083273, 0.0036255859304219484, 0.006281366106122732, 0.0029545908328145742, 0.012592988088726997, 0.018236864358186722, 0.0033370188903063536, 0.005326556041836739, 0.003968203440308571, 0.006528895813971758, 0.00259442743845284, 0.004276436287909746, 0.0030992289539426565, 0.005129358731210232, 0.007006588391959667, 0.006454297341406345, 0.01026963908225298, 0.009371113032102585, 0.00801600981503725, 0.021721942350268364, 0.007984454743564129, 0.009544525295495987, 0.013880705460906029, 0.011347869411110878, 0.013956115581095219, 0.1409902274608612, 0.01433460135012865, 0.005346192512661219, 0.0053894007578492165, 0.0061495485715568066, 0.006807094905525446, 0.008777843788266182, 0.012069339863955975, 0.008578422479331493, 0.005895376205444336, 0.01086601335555315, 0.010072624310851097, 0.013411300256848335, 0.006846035365015268, 0.014239882118999958, 0.01377936452627182, 0.02295956201851368, 0.047468941658735275, 0.06727202981710434], [0.013154768384993076, 0.012625652365386486, 0.005318193696439266, 0.00968047883361578, 0.04036133736371994, 0.005102019291371107, 0.006804045755416155, 0.02028556540608406, 0.014032576233148575, 0.012095321901142597, 0.012551942840218544, 0.0028739955741912127, 0.0034992764703929424, 0.004091364331543446, 0.00606119679287076, 0.003411994082853198, 0.003939696121960878, 0.002459982642903924, 0.004879537504166365, 0.003843553364276886, 0.004169167019426823, 0.004101126454770565, 0.003368751145899296, 0.005353882443159819, 0.003466186346486211, 0.0047464086674153805, 0.0043745324946939945, 0.007423422299325466, 0.006768316961824894, 0.013420360162854195, 0.0041222888976335526, 0.003012362401932478, 0.0026046268176287413, 0.0050473902374506, 0.004111845977604389, 0.0021688498090952635, 0.00226380443200469, 0.003501120489090681, 0.00465319212526083, 0.0066118985414505005, 0.014191249385476112, 0.04261928051710129, 0.009026158601045609, 0.0053689563646912575, 0.005466368980705738, 0.00679412204772234, 0.003771962132304907, 0.0031021852046251297, 0.01983221061527729, 0.006243702955543995, 0.008190199732780457, 0.005099126603454351, 0.007133403327316046, 0.0024280084762722254, 0.0039268010295927525, 0.004304090514779091, 0.005469434428960085, 0.005932974629104137, 0.008468901738524437, 0.014059747569262981, 0.014947997406125069, 0.005658513400703669, 0.019120551645755768, 0.013862176798284054, 0.010680804960429668, 0.01714159920811653, 0.009303970262408257, 0.009600270539522171, 0.12975682318210602, 0.012336617335677147, 0.005282316356897354, 0.005172211676836014, 0.01021125540137291, 0.007978674955666065, 0.011352634988725185, 0.011481023393571377, 0.007610147353261709, 0.008752123452723026, 0.018233545124530792, 0.016429157927632332, 0.0146364476531744, 0.008918004110455513, 0.01678616739809513, 0.014137082733213902, 0.02107715792953968, 0.03321763500571251, 0.014655412174761295, 0.06786881387233734], [0.012069807387888432, 0.008528937585651875, 0.004463830031454563, 0.008934354409575462, 0.03207255154848099, 0.0032625433523207903, 0.007721783127635717, 0.018706798553466797, 0.007521549705415964, 0.021189885213971138, 0.009629106149077415, 0.0034402410965412855, 0.0035393007565289736, 0.005709826480597258, 0.0061754705384373665, 0.0044444832019507885, 0.004600404761731625, 0.003180316649377346, 0.006254406645894051, 0.005412971135228872, 0.005407050717622042, 0.004623983986675739, 0.002814867068082094, 0.006209815386682749, 0.0032132163178175688, 0.007513885386288166, 0.00419973349198699, 0.006219879258424044, 0.004640362691134214, 0.01510022021830082, 0.0062348307110369205, 0.0038022510707378387, 0.004317658022046089, 0.006930178962647915, 0.0033587408252060413, 0.0036372102331370115, 0.0027607691008597612, 0.004227591212838888, 0.006690083537250757, 0.005362058989703655, 0.017467042431235313, 0.061693958938121796, 0.01021150965243578, 0.005862701218575239, 0.005284604616463184, 0.008112563751637936, 0.002741261152550578, 0.0032603589352220297, 0.019830407574772835, 0.003170495619997382, 0.005478958133608103, 0.004323142115026712, 0.0053339614532887936, 0.002464541234076023, 0.003125033574178815, 0.0030475615058094263, 0.002493045525625348, 0.0066198850981891155, 0.005395029671490192, 0.010119578801095486, 0.013466964475810528, 0.0064664543606340885, 0.02161032147705555, 0.006552430801093578, 0.0074744573794305325, 0.01649485155940056, 0.00801538024097681, 0.00970196072012186, 0.09431107342243195, 0.012818878516554832, 0.00529285566881299, 0.004548912402242422, 0.009509095922112465, 0.005307449959218502, 0.01085762307047844, 0.011942178010940552, 0.00885874591767788, 0.007652491796761751, 0.010857170447707176, 0.013219179585576057, 0.019981367513537407, 0.017512405291199684, 0.014425604604184628, 0.01703721098601818, 0.023505229502916336, 0.03703536465764046, 0.01575622521340847, 0.05045907944440842, 0.04917043074965477], [0.013135839253664017, 0.00909731350839138, 0.005390510428696871, 0.009784890338778496, 0.030841432511806488, 0.00469230068847537, 0.009064284153282642, 0.01770617999136448, 0.011063283309340477, 0.019141443073749542, 0.013487760908901691, 0.004033464007079601, 0.004355872515588999, 0.005698285065591335, 0.006880855653434992, 0.0034886449575424194, 0.00443041929975152, 0.0033925194293260574, 0.00611538952216506, 0.006618942134082317, 0.005401458125561476, 0.005402865819633007, 0.0026501088868826628, 0.005418104585260153, 0.0030198153108358383, 0.004745041020214558, 0.003943692892789841, 0.005832649767398834, 0.008775729686021805, 0.009610068053007126, 0.004288045689463615, 0.005491043906658888, 0.0030488409101963043, 0.005164851434528828, 0.0062451730482280254, 0.0019438909366726875, 0.002179371425881982, 0.0025583519600331783, 0.00284591200761497, 0.0035184400621801615, 0.006112082861363888, 0.02439957484602928, 0.00942168664187193, 0.006752369459718466, 0.005259459838271141, 0.00737130269408226, 0.0025783085729926825, 0.0033601627219468355, 0.019183825701475143, 0.003686819691210985, 0.0049054245464503765, 0.003981970250606537, 0.005805159453302622, 0.0023831615690141916, 0.0037835552357137203, 0.003840936115011573, 0.004407294560223818, 0.007620829623192549, 0.007237319368869066, 0.006635856814682484, 0.010249975137412548, 0.0065451692789793015, 0.016836529597640038, 0.008064672350883484, 0.010997067205607891, 0.012547429651021957, 0.008594927377998829, 0.012750799767673016, 0.11579866707324982, 0.010849692858755589, 0.0056968191638588905, 0.0038562787231057882, 0.0063702682964503765, 0.003999815788120031, 0.00804110523313284, 0.008372055366635323, 0.006412110757082701, 0.006739551667124033, 0.015460474416613579, 0.014905928634107113, 0.008455928415060043, 0.007882921025156975, 0.010196673683822155, 0.009690502658486366, 0.024047359824180603, 0.03623129054903984, 0.018539026379585266, 0.06305506080389023, 0.03789905831217766, 0.07168262451887131], [0.011443781666457653, 0.011536643840372562, 0.004799732472747564, 0.009009306319057941, 0.034891411662101746, 0.004085524473339319, 0.006738639902323484, 0.018192149698734283, 0.010036339052021503, 0.01676390878856182, 0.010053223930299282, 0.0036497802939265966, 0.0039935000240802765, 0.004866053815931082, 0.006705322302877903, 0.0035171457566320896, 0.0038625297602266073, 0.0034914363641291857, 0.005972383543848991, 0.005613742396235466, 0.004997091833502054, 0.00506067369133234, 0.003564529586583376, 0.00712330499663949, 0.0024279747158288956, 0.005474796984344721, 0.0044847591780126095, 0.00909355003386736, 0.008078986778855324, 0.014162733219563961, 0.004358924459666014, 0.004861992318183184, 0.003293027402833104, 0.004390176385641098, 0.0032511516474187374, 0.003084586001932621, 0.002053050557151437, 0.0022634221240878105, 0.0034468036610633135, 0.004645951557904482, 0.013667129911482334, 0.03771226108074188, 0.0148038100451231, 0.008012764155864716, 0.00312288710847497, 0.0074116806499660015, 0.002354866359382868, 0.0024429785553365946, 0.018579507246613503, 0.0021812282502651215, 0.006144009996205568, 0.0033376191277056932, 0.00572085240855813, 0.0018020200077444315, 0.0026073837652802467, 0.001990563003346324, 0.0024594140704721212, 0.008011294528841972, 0.0037134282756596804, 0.013202671892940998, 0.004512065090239048, 0.004366617184132338, 0.016779402270913124, 0.0057181790471076965, 0.006121753249317408, 0.008374731987714767, 0.004433578345924616, 0.005556099582463503, 0.05179068446159363, 0.030581846833229065, 0.003373001702129841, 0.004859461914747953, 0.014014312997460365, 0.007003690581768751, 0.02634458988904953, 0.022349555045366287, 0.009584804065525532, 0.004628473427146673, 0.02067684568464756, 0.008276114240288734, 0.012466873973608017, 0.006436121184378862, 0.01162793580442667, 0.007519900798797607, 0.02011159248650074, 0.021590156480669975, 0.035433605313301086, 0.0393621101975441, 0.01662163808941841, 0.017542101442813873, 0.11332374811172485], [0.022923657670617104, 0.010529587976634502, 0.009325065650045872, 0.015958506613969803, 0.0074362070299685, 0.006595763843506575, 0.013711896724998951, 0.006671537179499865, 0.005158862564712763, 0.024988025426864624, 0.010876882821321487, 0.01379273273050785, 0.007056625094264746, 0.011629939079284668, 0.006958861369639635, 0.004264038987457752, 0.0038398324977606535, 0.0068062227219343185, 0.013062377460300922, 0.01342865638434887, 0.015904998406767845, 0.013983252458274364, 0.0054025184363126755, 0.004760595504194498, 0.008705517277121544, 0.009026785381138325, 0.007322590798139572, 0.03449956327676773, 0.009877534583210945, 0.04551278054714203, 0.00585530698299408, 0.0054864296689629555, 0.0055134491994977, 0.005398978479206562, 0.004061440471559763, 0.004044669680297375, 0.0030993022955954075, 0.0033395092468708754, 0.00542027410119772, 0.006357020232826471, 0.00462753651663661, 0.010601083748042583, 0.03398993983864784, 0.020481761544942856, 0.015320164151489735, 0.011894270777702332, 0.0037932880222797394, 0.005807517562061548, 0.02058466337621212, 0.0037711604963988066, 0.011615408584475517, 0.008339506573975086, 0.005980968941003084, 0.004250527825206518, 0.004454832058399916, 0.009989196434617043, 0.00785179901868105, 0.009779799729585648, 0.005721366964280605, 0.021453844383358955, 0.004792342893779278, 0.004855000879615545, 0.011696008034050465, 0.003021725220605731, 0.004701091442257166, 0.0039005898870527744, 0.0038753291592001915, 0.003111886326223612, 0.015569980256259441, 0.02202397771179676, 0.003014138201251626, 0.006497038062661886, 0.012194126844406128, 0.005523208528757095, 0.04040146991610527, 0.01498327124863863, 0.004305578302592039, 0.003853158326819539, 0.014241518452763557, 0.013901865109801292, 0.012414795346558094, 0.006558020133525133, 0.004286480136215687, 0.007649944629520178, 0.008589747361838818, 0.005255098454654217, 0.004467327147722244, 0.005867852829396725, 0.007077676709741354, 0.017338715493679047, 0.011888908222317696, 0.07324570417404175], [0.014061192981898785, 0.021399684250354767, 0.007274380419403315, 0.010287418030202389, 0.048883918672800064, 0.005884165409952402, 0.00932188518345356, 0.02132103405892849, 0.017872806638479233, 0.01835816726088524, 0.023607516661286354, 0.009401996619999409, 0.007308241445571184, 0.008036731742322445, 0.012980508618056774, 0.006471194326877594, 0.01238315925002098, 0.0049622138030827045, 0.009230615571141243, 0.015532099641859531, 0.010245537385344505, 0.010601489804685116, 0.005597814451903105, 0.012338850647211075, 0.004563482943922281, 0.005937967449426651, 0.011114541441202164, 0.016303882002830505, 0.007821016013622284, 0.029337851330637932, 0.006579407025128603, 0.0046535381115973, 0.004540004301816225, 0.004217556212097406, 0.0063696871511638165, 0.004280725959688425, 0.0023407302796840668, 0.0024523241445422173, 0.002760594477877021, 0.0036339194048196077, 0.006881615146994591, 0.008323531597852707, 0.025357672944664955, 0.01052324939519167, 0.004948899615556002, 0.014296121895313263, 0.006594591774046421, 0.008929107338190079, 0.020196888595819473, 0.0032094474881887436, 0.009808496572077274, 0.005141824018210173, 0.005861479789018631, 0.0019481786293908954, 0.0063181547448039055, 0.003839952638372779, 0.006874013226479292, 0.00821105670183897, 0.004234184976667166, 0.019475707784295082, 0.009903483092784882, 0.008163662627339363, 0.018402591347694397, 0.004986926913261414, 0.004378635436296463, 0.004622722044587135, 0.0029409078415483236, 0.004070972558110952, 0.01319967769086361, 0.021811606362462044, 0.003816615091636777, 0.009409844875335693, 0.00813575554639101, 0.00828514900058508, 0.030877843499183655, 0.015566312707960606, 0.006119880359619856, 0.003751257434487343, 0.01074007898569107, 0.0075753130950033665, 0.006350979674607515, 0.005677873734384775, 0.004980984143912792, 0.011155522428452969, 0.008305189199745655, 0.004088369198143482, 0.007078829221427441, 0.004530054982751608, 0.01559883076697588, 0.006812240928411484, 0.006544478237628937, 0.04334617033600807, 0.05752719193696976], [0.011468786746263504, 0.008028529584407806, 0.003948177210986614, 0.008246546611189842, 0.007682447787374258, 0.0031870489474385977, 0.006201912183314562, 0.004430945031344891, 0.007376265712082386, 0.01158633641898632, 0.016928164288401604, 0.007150058634579182, 0.0043556950986385345, 0.006943617481738329, 0.004702551290392876, 0.002895775716751814, 0.003977703861892223, 0.0039059361442923546, 0.007016781717538834, 0.012447714805603027, 0.00731007382273674, 0.011607379652559757, 0.0030478707049041986, 0.00318289827555418, 0.0027323332615196705, 0.004723647143691778, 0.005494081415235996, 0.011812081560492516, 0.00688716908916831, 0.018569769337773323, 0.00510457344353199, 0.006200424395501614, 0.004551371093839407, 0.004972010385245085, 0.004467201419174671, 0.003511760849505663, 0.03449187055230141, 0.004959771875292063, 0.0034604244865477085, 0.0032158060930669308, 0.00453633489087224, 0.00832007359713316, 0.02421138621866703, 0.010900641791522503, 0.0029085553251206875, 0.008785323239862919, 0.002485936740413308, 0.0036327531561255455, 0.017884574830532074, 0.0030288114212453365, 0.010320139117538929, 0.005512902978807688, 0.011574885807931423, 0.0019598875660449266, 0.002329121343791485, 0.0022013720590621233, 0.0061817774549126625, 0.008150997571647167, 0.006125566549599171, 0.013066678307950497, 0.019869687035679817, 0.004139929544180632, 0.014445509761571884, 0.0037328291218727827, 0.003493833588436246, 0.003603967372328043, 0.004357828758656979, 0.006618286017328501, 0.009903275407850742, 0.014722757041454315, 0.005764966364949942, 0.004395217169076204, 0.006958327256143093, 0.008226258680224419, 0.014154399745166302, 0.010335217230021954, 0.005574983544647694, 0.00361441308632493, 0.007189910858869553, 0.008205242455005646, 0.006202143616974354, 0.010333497077226639, 0.00624940125271678, 0.006571995094418526, 0.013099828734993935, 0.005996524356305599, 0.008426505140960217, 0.006447347346693277, 0.009839124046266079, 0.022261109203100204, 0.010349765419960022, 0.06599408388137817, 0.09197850525379181, 0.13004209101200104], [0.014187837019562721, 0.01510609220713377, 0.004376823548227549, 0.007836678996682167, 0.033245693892240524, 0.004168716724961996, 0.006892048288136721, 0.016164101660251617, 0.011909279972314835, 0.014755926094949245, 0.015355987474322319, 0.005714990198612213, 0.005075841210782528, 0.006727672182023525, 0.010862169787287712, 0.004972499795258045, 0.008591372519731522, 0.004926853813230991, 0.008516418747603893, 0.010880432091653347, 0.00555634219199419, 0.009842999279499054, 0.004612640477716923, 0.009500444866716862, 0.004114651586860418, 0.0052543580532073975, 0.008154546841979027, 0.014478139579296112, 0.008027459494769573, 0.017209528014063835, 0.004365954082459211, 0.0036376912612468004, 0.0055264318361878395, 0.005860678851604462, 0.0063455537892878056, 0.005184932146221399, 0.011090236715972424, 0.007386333309113979, 0.00729435496032238, 0.004187832120805979, 0.005138893146067858, 0.008991294540464878, 0.019359633326530457, 0.010686533525586128, 0.004063594155013561, 0.013727818615734577, 0.005085216835141182, 0.005163777153939009, 0.019119489938020706, 0.0028195115737617016, 0.005990930832922459, 0.004384425934404135, 0.008236202411353588, 0.002872578566893935, 0.005297943018376827, 0.0027686823159456253, 0.0046426281332969666, 0.013806745409965515, 0.006055864971131086, 0.01755581796169281, 0.009839548729360104, 0.0054468451999127865, 0.02608795277774334, 0.009022010490298271, 0.005079969298094511, 0.005089533049613237, 0.0058660851791501045, 0.0025311990175396204, 0.017386700958013535, 0.021807704120874405, 0.009180834516882896, 0.00965220294892788, 0.014699265360832214, 0.007431384176015854, 0.015507396310567856, 0.008630087599158287, 0.006305193528532982, 0.0034255944192409515, 0.00905857514590025, 0.008986497297883034, 0.009265650995075703, 0.008649345487356186, 0.004636874422430992, 0.008347057737410069, 0.014198509976267815, 0.006011543329805136, 0.007122605573385954, 0.0043869768269360065, 0.023594308644533157, 0.012444029562175274, 0.012278697453439236, 0.038499053567647934, 0.037726350128650665, 0.04155696555972099, 0.04658136144280434], [0.01018989086151123, 0.014681008644402027, 0.0054678828455507755, 0.007293678820133209, 0.0325065441429615, 0.004496225621551275, 0.0055869645439088345, 0.017766522243618965, 0.013584572821855545, 0.00956466794013977, 0.01596067287027836, 0.006820397917181253, 0.004859684035181999, 0.0054057626985013485, 0.010686379857361317, 0.005049371626228094, 0.006896755192428827, 0.004506133496761322, 0.006458812393248081, 0.008563111536204815, 0.004830848891288042, 0.006278768181800842, 0.0030196583829820156, 0.009281446225941181, 0.003085940843448043, 0.004393057897686958, 0.01078511867672205, 0.015072481706738472, 0.009010635316371918, 0.015094897709786892, 0.004612644203007221, 0.004525378812104464, 0.005146896932274103, 0.004279429093003273, 0.006890290882438421, 0.004422495607286692, 0.006397409830242395, 0.004950016736984253, 0.007745435461401939, 0.004468090832233429, 0.00456769997254014, 0.00772554986178875, 0.017253024503588676, 0.010607467032968998, 0.0030323935206979513, 0.005929606966674328, 0.00434087822213769, 0.004492009524255991, 0.016333308070898056, 0.002628403715789318, 0.007550444919615984, 0.004638067912310362, 0.009999708272516727, 0.0034166467376053333, 0.00410811323672533, 0.002830137498676777, 0.004608084447681904, 0.0076414006762206554, 0.004328101873397827, 0.015301807783544064, 0.010878964327275753, 0.004685038700699806, 0.027197636663913727, 0.010767732746899128, 0.005802420899271965, 0.006209502927958965, 0.005625262390822172, 0.004658249672502279, 0.024455325677990913, 0.021128136664628983, 0.009172872640192509, 0.007638835348188877, 0.015445654280483723, 0.004968840163201094, 0.01781746931374073, 0.02502734400331974, 0.014690958894789219, 0.00571402395144105, 0.015810607001185417, 0.007080143317580223, 0.011781616136431694, 0.008222277276217937, 0.004290945362299681, 0.004349750466644764, 0.012192782945930958, 0.00537531403824687, 0.007637595757842064, 0.005207019858062267, 0.022240515798330307, 0.006652062758803368, 0.008226720616221428, 0.03278127312660217, 0.05927266925573349, 0.02565092407166958, 0.02593793347477913, 0.043436724692583084], [0.012621545232832432, 0.008286566473543644, 0.0053969258442521095, 0.009449668228626251, 0.0093955397605896, 0.004132344853132963, 0.008494019508361816, 0.008797889575362206, 0.006693307776004076, 0.01443883590400219, 0.008391959592700005, 0.0072079673409461975, 0.005215004086494446, 0.007990472950041294, 0.004776487592607737, 0.003241546219214797, 0.004019991960376501, 0.004178972914814949, 0.007144028786569834, 0.006759318057447672, 0.007577657233923674, 0.008920019492506981, 0.0051885368302464485, 0.007876365445554256, 0.004216527566313744, 0.005472282879054546, 0.0038673332892358303, 0.013329770416021347, 0.004955016542226076, 0.01854296587407589, 0.00625993125140667, 0.004321055021136999, 0.006047104950994253, 0.009620130993425846, 0.012404830195009708, 0.0072965133003890514, 0.015707148239016533, 0.006871751043945551, 0.017497295513749123, 0.02040451020002365, 0.014648562297224998, 0.011585843749344349, 0.021267520263791084, 0.008140591904520988, 0.003623077878728509, 0.006335758138448, 0.002458322560414672, 0.0028239961247891188, 0.013614985160529613, 0.0029798473697155714, 0.004730953369289637, 0.003925728611648083, 0.004588075447827578, 0.0020054702181369066, 0.0028541875071823597, 0.0027492984663695097, 0.003157743951305747, 0.009190618991851807, 0.00377045595087111, 0.01620699279010296, 0.010014279745519161, 0.0034615672193467617, 0.017154352739453316, 0.004460758063942194, 0.007433040998876095, 0.0060009281150996685, 0.005996698513627052, 0.004502984695136547, 0.04019502177834511, 0.014205682091414928, 0.004408534616231918, 0.004728787112981081, 0.010742463171482086, 0.0027540819719433784, 0.017655326053500175, 0.020113136619329453, 0.008989925496280193, 0.003260088386014104, 0.010387035086750984, 0.006883970927447081, 0.01029297336935997, 0.004686823580414057, 0.006195812486112118, 0.0056413207203149796, 0.010393571108579636, 0.007895906455814838, 0.006097115110605955, 0.007310143206268549, 0.006912764627486467, 0.007787340320646763, 0.014913968741893768, 0.04848991706967354, 0.018755754455924034, 0.04390515014529228, 0.019681889563798904, 0.03505028411746025, 0.06897348910570145], [0.013850587420165539, 0.014495675452053547, 0.0046731410548090935, 0.008855829015374184, 0.040175676345825195, 0.005029312800616026, 0.006753153633326292, 0.018646610900759697, 0.01714818924665451, 0.0180332250893116, 0.02158590964972973, 0.005357620306313038, 0.005803892854601145, 0.006415456999093294, 0.013417519629001617, 0.005764240864664316, 0.01333544310182333, 0.00447361683472991, 0.008018357679247856, 0.014395330101251602, 0.00465293088927865, 0.006253919098526239, 0.00371066783554852, 0.013096965849399567, 0.003501683473587036, 0.00517311692237854, 0.010431786067783833, 0.007584014441817999, 0.007696891203522682, 0.013444233685731888, 0.00485764117911458, 0.0031666222494095564, 0.004046245012432337, 0.007918001152575016, 0.007535281125456095, 0.004616345278918743, 0.005891554988920689, 0.003541691927239299, 0.00723371934145689, 0.016205184161663055, 0.01333561446517706, 0.030166244134306908, 0.012957952916622162, 0.008150829002261162, 0.0040221018716692924, 0.009099402464926243, 0.005565361585468054, 0.010314873419702053, 0.022980140522122383, 0.0028843495529145002, 0.008148694410920143, 0.003041087416931987, 0.006981490179896355, 0.0028202906250953674, 0.006237177178263664, 0.003460508305579424, 0.006153639405965805, 0.005738371517509222, 0.004398105666041374, 0.01035633496940136, 0.010146167129278183, 0.007280061952769756, 0.013699033297598362, 0.005625805351883173, 0.004196022171527147, 0.004732127767056227, 0.004557570442557335, 0.0033844278659671545, 0.021309975534677505, 0.010282778181135654, 0.0067223189398646355, 0.010112794116139412, 0.01097089983522892, 0.004406362771987915, 0.01320324745029211, 0.009216099977493286, 0.00400472292676568, 0.004289642442017794, 0.006350222509354353, 0.00882742926478386, 0.007919869385659695, 0.005950557999312878, 0.0038078450597822666, 0.0070473249070346355, 0.007924815639853477, 0.006861358415335417, 0.012314763851463795, 0.005212637595832348, 0.01190428901463747, 0.008502551354467869, 0.009219257161021233, 0.027015320956707, 0.019791265949606895, 0.019222024828195572, 0.009776314720511436, 0.018898556008934975, 0.03387296944856644, 0.057840753346681595], [0.009876392781734467, 0.010426653549075127, 0.005117388907819986, 0.008042416535317898, 0.023886261507868767, 0.003711561905220151, 0.005588823463767767, 0.010479483753442764, 0.011483415961265564, 0.01046753954142332, 0.013146593235433102, 0.004170432221144438, 0.0037575995083898306, 0.005137327592819929, 0.006252092309296131, 0.003242554608732462, 0.004584436304867268, 0.0031584729440510273, 0.004390611778944731, 0.00628304248675704, 0.004241068381816149, 0.005531628616154194, 0.0035031933803111315, 0.004573008511215448, 0.003097856417298317, 0.004177441820502281, 0.00513023417443037, 0.008269814774394035, 0.005106717348098755, 0.013874804601073265, 0.004201875999569893, 0.0036813141778111458, 0.003345123492181301, 0.0037441321182996035, 0.006266018841415644, 0.002530518686398864, 0.003933871630579233, 0.0030801082029938698, 0.005409209057688713, 0.0117295878008008, 0.0030357269570231438, 0.010999530553817749, 0.014477681368589401, 0.0072552780620753765, 0.0034588631242513657, 0.006006133742630482, 0.002129443222656846, 0.00266695162281394, 0.01635565049946308, 0.002256206702440977, 0.007981623522937298, 0.004578527063131332, 0.005591018125414848, 0.002413472393527627, 0.002927822060883045, 0.0021955929696559906, 0.003660961054265499, 0.007699053268879652, 0.00649888115003705, 0.017972368746995926, 0.006111040711402893, 0.004206507466733456, 0.019401950761675835, 0.005411044228821993, 0.004622636362910271, 0.004282230976969004, 0.0036572490353137255, 0.0035692639648914337, 0.03311137482523918, 0.01801401749253273, 0.005092300474643707, 0.005558673292398453, 0.006466167978942394, 0.007465132512152195, 0.019567059352993965, 0.015136493369936943, 0.0069755008444190025, 0.003340802388265729, 0.008358991704881191, 0.012610322795808315, 0.005701341666281223, 0.006900946144014597, 0.005932623520493507, 0.0047900499776005745, 0.007894321344792843, 0.007495297584682703, 0.006504246033728123, 0.00757177546620369, 0.006503739859908819, 0.009522885084152222, 0.01129564642906189, 0.03442990779876709, 0.028386028483510017, 0.0122435437515378, 0.019940126687288284, 0.020078467205166817, 0.05673273652791977, 0.017966726794838905, 0.14835943281650543], [0.012351585552096367, 0.006532137747853994, 0.004320885054767132, 0.008473326452076435, 0.010360048152506351, 0.00364224542863667, 0.006636619567871094, 0.006577427964657545, 0.006196608301252127, 0.010500920005142689, 0.007493986748158932, 0.005463628098368645, 0.0037747444584965706, 0.005355333909392357, 0.004871169105172157, 0.0036944944877177477, 0.0034117938484996557, 0.0045753540471196175, 0.005701567977666855, 0.005916015710681677, 0.006102179642766714, 0.006476759910583496, 0.0031342189759016037, 0.0036511896178126335, 0.00378566887229681, 0.004557929467409849, 0.004670921713113785, 0.012991450726985931, 0.005862100515514612, 0.011581361293792725, 0.00493707787245512, 0.004026814829558134, 0.004115994554013014, 0.00357838929630816, 0.005945561919361353, 0.0029034146573394537, 0.004384969361126423, 0.0025202827528119087, 0.0065786889754235744, 0.014789308421313763, 0.0036018763203173876, 0.013142493553459644, 0.018193839117884636, 0.006855967920273542, 0.0037118440959602594, 0.007518878672271967, 0.0019362334860488772, 0.0028661766555160284, 0.017305321991443634, 0.0026817754842340946, 0.0074869487434625626, 0.003949349280446768, 0.006341659929603338, 0.0027545124758034945, 0.002639120677486062, 0.0038932147435843945, 0.0043401457369327545, 0.007574326824396849, 0.006150297820568085, 0.016477156430482864, 0.006896213162690401, 0.0036485164891928434, 0.012830055318772793, 0.003265314269810915, 0.004398467484861612, 0.003928800579160452, 0.003355856519192457, 0.003748450893908739, 0.014975427649915218, 0.022931313142180443, 0.007926028221845627, 0.0037113900762051344, 0.006350010167807341, 0.00726402597501874, 0.01662360318005085, 0.010132978670299053, 0.004071414470672607, 0.0040029906667768955, 0.009669478982686996, 0.011912516318261623, 0.007148414384573698, 0.009722684510052204, 0.006325341295450926, 0.006350329611450434, 0.009244275279343128, 0.006015294697135687, 0.00961463525891304, 0.007751628756523132, 0.010177535936236382, 0.006830161437392235, 0.01477205939590931, 0.03743491694331169, 0.015998534858226776, 0.015460876747965813, 0.02858177199959755, 0.027224740013480186, 0.04222901538014412, 0.03965308144688606, 0.10092467814683914, 0.05503185838460922], [0.017961880192160606, 0.010832603089511395, 0.006630261428654194, 0.012969464994966984, 0.01806102879345417, 0.005107423756271601, 0.010053378529846668, 0.010229978710412979, 0.007206420414149761, 0.0202883780002594, 0.007713834755122662, 0.007449348922818899, 0.005523038096725941, 0.010007820092141628, 0.00642493786290288, 0.003938052803277969, 0.005193188786506653, 0.0056570121087133884, 0.009723955765366554, 0.009270011447370052, 0.010428518988192081, 0.008296577259898186, 0.003449348034337163, 0.006580629386007786, 0.005672191735357046, 0.006891266442835331, 0.007220766041427851, 0.02501058019697666, 0.010360200889408588, 0.0290972962975502, 0.0045663840137422085, 0.00594285549595952, 0.005441107787191868, 0.004695109557360411, 0.005458256229758263, 0.002962971106171608, 0.005627157632261515, 0.0029684945475310087, 0.00422872556373477, 0.005602626129984856, 0.004216412082314491, 0.009105274453759193, 0.022202132269740105, 0.014858578331768513, 0.006983456201851368, 0.007616869173943996, 0.002679382683709264, 0.003434941405430436, 0.02258717082440853, 0.0034177780617028475, 0.014420966617763042, 0.004998433403670788, 0.0059646014124155045, 0.002192269777879119, 0.0028549935668706894, 0.004810832440853119, 0.005570075009018183, 0.011647787876427174, 0.005813486874103546, 0.012435530312359333, 0.009263785555958748, 0.0039052509237080812, 0.014138903468847275, 0.0036235994193702936, 0.0048670899122953415, 0.005447796080261469, 0.003834639908745885, 0.006871253252029419, 0.022571956738829613, 0.029505489394068718, 0.00822380930185318, 0.010900548659265041, 0.011695899069309235, 0.007809468545019627, 0.014259839430451393, 0.013455488719046116, 0.00577525282278657, 0.004909048322588205, 0.010474386624991894, 0.011164608411490917, 0.012227732688188553, 0.010112026706337929, 0.0035568862222135067, 0.006546536926180124, 0.01086810976266861, 0.004229989368468523, 0.005452929995954037, 0.0044348277151584625, 0.01029582042247057, 0.00806473195552826, 0.010859803296625614, 0.026923347264528275, 0.012049926444888115, 0.010023309849202633, 0.008202682249248028, 0.0126954922452569, 0.014899315312504768, 0.0076882559806108475, 0.023480672389268875, 0.0267310980707407, 0.0494043231010437], [0.017989397048950195, 0.015946252271533012, 0.007474678102880716, 0.013745831325650215, 0.03994700685143471, 0.006423409096896648, 0.010284864343702793, 0.020785560831427574, 0.009659226052463055, 0.018132243305444717, 0.01600372977554798, 0.014180334284901619, 0.006641730200499296, 0.00657780421897769, 0.007922868244349957, 0.0046517616137862206, 0.005831330083310604, 0.0032646036706864834, 0.006645130459219217, 0.010840260423719883, 0.005576782859861851, 0.007560777943581343, 0.004420257639139891, 0.008200128562748432, 0.0025683168787509203, 0.0049394178204238415, 0.009214864112436771, 0.013284925371408463, 0.006568805780261755, 0.0154245151206851, 0.003988536540418863, 0.00502137141302228, 0.004046062473207712, 0.004932258278131485, 0.0042803105898201466, 0.002368001500144601, 0.004053362645208836, 0.0020357980392873287, 0.0033994887489825487, 0.0059197405353188515, 0.004252435639500618, 0.011821722611784935, 0.013115830719470978, 0.00896062608808279, 0.006026352755725384, 0.013465287163853645, 0.0026181978173553944, 0.005264583975076675, 0.020288174971938133, 0.0030292535666376352, 0.0074601429514586926, 0.0046426886692643166, 0.009905681945383549, 0.003837892320007086, 0.005591920576989651, 0.0070405388250947, 0.0045213038101792336, 0.014741163700819016, 0.004909582436084747, 0.00932029914110899, 0.0059481351636350155, 0.005214367061853409, 0.010968789458274841, 0.004618972074240446, 0.0038236333057284355, 0.005491979885846376, 0.003429579082876444, 0.002601777436211705, 0.025931822136044502, 0.009807869791984558, 0.0038992357440292835, 0.0101969875395298, 0.010969831608235836, 0.0041254316456615925, 0.009352228604257107, 0.008090004324913025, 0.0030832260381430387, 0.004463037475943565, 0.00428898585960269, 0.004674483090639114, 0.0029100971296429634, 0.005153200123459101, 0.003164230613037944, 0.003048013197258115, 0.007954580709338188, 0.0050966753624379635, 0.003117817221209407, 0.005439238157123327, 0.00888856966048479, 0.007122513838112354, 0.01070191990584135, 0.019741933792829514, 0.013857492245733738, 0.014954871498048306, 0.004792025778442621, 0.008130189962685108, 0.01693599671125412, 0.00716290483251214, 0.026768503710627556, 0.020410360768437386, 0.05727369338274002, 0.08482939004898071], [0.016157524660229683, 0.014554168097674847, 0.009115543216466904, 0.016119590029120445, 0.033529821783304214, 0.006037028972059488, 0.008894969709217548, 0.01715206727385521, 0.007424863055348396, 0.016680801287293434, 0.012949798256158829, 0.008385712280869484, 0.007260134909301996, 0.013480842113494873, 0.007044906262308359, 0.004943273961544037, 0.005264091771095991, 0.004838182590901852, 0.00759978499263525, 0.008240615017712116, 0.005717462860047817, 0.009541007690131664, 0.004117017611861229, 0.007554532028734684, 0.0028957107570022345, 0.004818166606128216, 0.00801048893481493, 0.009427453391253948, 0.008081906475126743, 0.012192987836897373, 0.004657868295907974, 0.010201499797403812, 0.00487589742988348, 0.007819024845957756, 0.004873549100011587, 0.0023256975691765547, 0.004051224794238806, 0.002171918749809265, 0.0041341218166053295, 0.004406030755490065, 0.004902216140180826, 0.010461459867656231, 0.013921703211963177, 0.00911273155361414, 0.004469618201255798, 0.009653366170823574, 0.0030619334429502487, 0.004672629293054342, 0.017430894076824188, 0.0030395672656595707, 0.007870952598750591, 0.005187944509088993, 0.010918423533439636, 0.003588886698707938, 0.004692330025136471, 0.004382442682981491, 0.004016155377030373, 0.011844515800476074, 0.00690138665959239, 0.010600223205983639, 0.00578217301517725, 0.004984256345778704, 0.01428811065852642, 0.004857603460550308, 0.004770256113260984, 0.005716462153941393, 0.004006560891866684, 0.004259707406163216, 0.04125738888978958, 0.009143724106252193, 0.004600950051099062, 0.007505936082452536, 0.009377868846058846, 0.004960782825946808, 0.007657202892005444, 0.007978376001119614, 0.0034294319339096546, 0.0027566407807171345, 0.004881825763732195, 0.007777942344546318, 0.004433643538504839, 0.006855780724436045, 0.0041846116073429585, 0.006207285448908806, 0.008660330437123775, 0.004792700055986643, 0.005313095636665821, 0.008445397019386292, 0.010920682922005653, 0.003877397160977125, 0.012111339718103409, 0.021702837198972702, 0.012663648463785648, 0.007680498529225588, 0.003654767293483019, 0.008028414100408554, 0.011659775860607624, 0.02089609019458294, 0.021756261587142944, 0.014746380038559437, 0.04125899821519852, 0.037221163511276245, 0.06465903669595718], [0.017507484182715416, 0.020106922835111618, 0.010198901407420635, 0.01786993257701397, 0.04970819130539894, 0.0058676740154623985, 0.009558041580021381, 0.02139226719737053, 0.012390929274260998, 0.02021462842822075, 0.018591580912470818, 0.010190972127020359, 0.007495229598134756, 0.013221483677625656, 0.011731077916920185, 0.006730362772941589, 0.008277214132249355, 0.005595569498836994, 0.008896995335817337, 0.010210969485342503, 0.004748143721371889, 0.008119897916913033, 0.003564884653314948, 0.010335712693631649, 0.003930745180696249, 0.005284364800900221, 0.008440026082098484, 0.007545750588178635, 0.006871028337627649, 0.011073919013142586, 0.004134609363973141, 0.00699465861544013, 0.0056427898816764355, 0.008738418109714985, 0.005211637355387211, 0.002404891885817051, 0.0036257265601307154, 0.002513049403205514, 0.0030890728812664747, 0.003554185386747122, 0.005787487607449293, 0.010685262270271778, 0.012107107788324356, 0.0110446373000741, 0.00360727752558887, 0.014044471085071564, 0.0034975772723555565, 0.005791043397039175, 0.019187236204743385, 0.0030111917294561863, 0.006220952142030001, 0.004313322715461254, 0.008227373473346233, 0.0031108278781175613, 0.004921962972730398, 0.003498092759400606, 0.004367634188383818, 0.00939778983592987, 0.005292964167892933, 0.012605474330484867, 0.005803799722343683, 0.0049113500863313675, 0.017140019685029984, 0.00554068386554718, 0.004491868428885937, 0.00584534602239728, 0.003861360950395465, 0.005183043424040079, 0.03946669399738312, 0.009825672954320908, 0.004824805073440075, 0.0059293233789503574, 0.007881962694227695, 0.003469459479674697, 0.00980429258197546, 0.005602390971034765, 0.0032460757065564394, 0.0024414267390966415, 0.006115511059761047, 0.005269606597721577, 0.0038322503678500652, 0.006424399558454752, 0.004380905535072088, 0.0032919826917350292, 0.009217304177582264, 0.005291907116770744, 0.004322993569076061, 0.005557209253311157, 0.005918235518038273, 0.0034441351890563965, 0.010059964843094349, 0.01627369225025177, 0.008192542009055614, 0.0049590966664254665, 0.0028394204564392567, 0.005894147325307131, 0.0075597199611365795, 0.015675995498895645, 0.01562491711229086, 0.012495197355747223, 0.015196293592453003, 0.02151080220937729, 0.023487940430641174, 0.07959462702274323], [0.014329304918646812, 0.008426997810602188, 0.005551823414862156, 0.01529327966272831, 0.021544016897678375, 0.00392497843131423, 0.008498397655785084, 0.01031996589154005, 0.006259020883589983, 0.023208657279610634, 0.008699995465576649, 0.009338103234767914, 0.004939881619066, 0.009394446387887001, 0.006401844322681427, 0.0035974641796201468, 0.003970582503825426, 0.006015799008309841, 0.01065016444772482, 0.006633508484810591, 0.01153231505304575, 0.028638413175940514, 0.019129931926727295, 0.006891228258609772, 0.0029629869386553764, 0.0064472174271941185, 0.005008137319236994, 0.007669756188988686, 0.003457845188677311, 0.011923210695385933, 0.0038079763762652874, 0.004181494936347008, 0.003526260145008564, 0.0057181091979146, 0.003162873676046729, 0.002915884368121624, 0.003154211677610874, 0.0026114247739315033, 0.002570283366367221, 0.004454821813851595, 0.0024620909243822098, 0.010657471604645252, 0.01437376532703638, 0.00867337454110384, 0.005168878473341465, 0.015386256389319897, 0.005559843499213457, 0.003676370717585087, 0.03488171473145485, 0.003268762258812785, 0.009428311139345169, 0.005123736336827278, 0.03062434494495392, 0.013726393692195415, 0.00414489908143878, 0.005761971231549978, 0.003715766593813896, 0.005005973391234875, 0.004354932811111212, 0.008732223883271217, 0.002553098602220416, 0.0025007508229464293, 0.011216914281249046, 0.004503709729760885, 0.0033771642483770847, 0.003483648644760251, 0.0025646486319601536, 0.0025678244419395924, 0.017632808536291122, 0.009715106338262558, 0.003458560211583972, 0.006159518379718065, 0.006624931935220957, 0.004073315765708685, 0.009091204032301903, 0.006294559221714735, 0.0035793574061244726, 0.0030923879239708185, 0.00484738452360034, 0.005767619702965021, 0.003666411619633436, 0.0034977870527654886, 0.003719937987625599, 0.0029720566235482693, 0.007095288019627333, 0.00557429064065218, 0.003645248245447874, 0.004150405526161194, 0.004535092040896416, 0.004629168193787336, 0.00811790395528078, 0.019353613257408142, 0.006336342077702284, 0.0053503368981182575, 0.00490944366902113, 0.006878992542624474, 0.00702933082357049, 0.00549650751054287, 0.026680508628487587, 0.011994171887636185, 0.01985734887421131, 0.028608914464712143, 0.03262289986014366, 0.03320024535059929, 0.10548350214958191], [0.016012050211429596, 0.008499338291585445, 0.007188628893345594, 0.01442479807883501, 0.010215052403509617, 0.005405707750469446, 0.011711038649082184, 0.007664645556360483, 0.00666480977088213, 0.0246951375156641, 0.008031166158616543, 0.009001223370432854, 0.004962607752531767, 0.009707055985927582, 0.00380658614449203, 0.0033127577044069767, 0.0030073393136262894, 0.005820265971124172, 0.010126533918082714, 0.006588292308151722, 0.007596740499138832, 0.016057807952165604, 0.009071197360754013, 0.006025572307407856, 0.004334019962698221, 0.007707109209150076, 0.00857551395893097, 0.014664489775896072, 0.005214847158640623, 0.014426110312342644, 0.005024163518100977, 0.007508207578212023, 0.0034141396172344685, 0.004194201901555061, 0.004161419812589884, 0.0019408344523981214, 0.0033616074360907078, 0.0021275042090564966, 0.0027469478081911802, 0.0034538530744612217, 0.004193591885268688, 0.009983214549720287, 0.019654612988233566, 0.010096888989210129, 0.004981183912605047, 0.014048604294657707, 0.0038596540689468384, 0.003734749974682927, 0.018067630007863045, 0.003744223853573203, 0.007597127929329872, 0.0058881016448140144, 0.015066706575453281, 0.0059202867560088634, 0.008894471451640129, 0.008521689102053642, 0.0030718958005309105, 0.009645840153098106, 0.003603663993999362, 0.009601983241736889, 0.006460187491029501, 0.0032501164823770523, 0.01056143268942833, 0.003996594343334436, 0.002674444578588009, 0.004159996286034584, 0.0030522416345775127, 0.003125166054815054, 0.019003834575414658, 0.012126677669584751, 0.004111040849238634, 0.004074450116604567, 0.008239932358264923, 0.0025290274061262608, 0.009730999357998371, 0.004986323416233063, 0.003352649509906769, 0.0031995666213333607, 0.007627293933182955, 0.005706758238375187, 0.005663929507136345, 0.004040064290165901, 0.005157941021025181, 0.003303500358015299, 0.008278504014015198, 0.005075725726783276, 0.00441605132073164, 0.00898390356451273, 0.00938030518591404, 0.003830780042335391, 0.014165054075419903, 0.01638808473944664, 0.0070068915374577045, 0.004384895320981741, 0.0033704352099448442, 0.006111924536526203, 0.0054132770746946335, 0.007694150786846876, 0.015282392501831055, 0.01640298403799534, 0.023445656523108482, 0.02260633558034897, 0.03639673814177513, 0.03827950730919838, 0.08137121051549911, 0.04295358434319496], [0.01726479083299637, 0.009111805818974972, 0.009359433315694332, 0.01856127381324768, 0.01730639673769474, 0.005990493111312389, 0.009031610563397408, 0.007990631274878979, 0.012908915989100933, 0.0174737386405468, 0.023388713598251343, 0.010457560420036316, 0.005116523243486881, 0.008283092640340328, 0.006215155124664307, 0.00413015391677618, 0.003483569249510765, 0.004751733038574457, 0.006612768396735191, 0.011902783066034317, 0.00784412119537592, 0.0075776888988912106, 0.0035495050251483917, 0.0035548661835491657, 0.0033391157630831003, 0.0049818530678749084, 0.006013723090291023, 0.00831177830696106, 0.005989429075270891, 0.012029074132442474, 0.011987035162746906, 0.006940409075468779, 0.006247027311474085, 0.009605749510228634, 0.010192660614848137, 0.006667856592684984, 0.03960765525698662, 0.0020827013067901134, 0.003176178550347686, 0.003736381186172366, 0.0034635344054549932, 0.007409054320305586, 0.012399310246109962, 0.0057982211001217365, 0.003897949820384383, 0.0072979386895895, 0.0024868156760931015, 0.0023365288507193327, 0.010983024723827839, 0.004949137568473816, 0.004705938510596752, 0.004674904514104128, 0.0058055175468325615, 0.0020413927268236876, 0.003330945037305355, 0.004736531991511583, 0.0020389603450894356, 0.004299500957131386, 0.002790767000988126, 0.00833982415497303, 0.006182198412716389, 0.0017267651855945587, 0.007815171964466572, 0.0025544476229697466, 0.0027437543030828238, 0.0027576659340411425, 0.0021757991053164005, 0.004345692694187164, 0.012231429107487202, 0.007414830848574638, 0.0022689716424793005, 0.0031559495255351067, 0.005406783428043127, 0.0032056248746812344, 0.009299387224018574, 0.004057828802615404, 0.002150273649021983, 0.0025979287456721067, 0.003143808338791132, 0.005869304295629263, 0.003824765095487237, 0.005018127616494894, 0.003459832165390253, 0.0031947516836225986, 0.008285513147711754, 0.0036340963561087847, 0.004554121755063534, 0.0036136603448539972, 0.005151935387402773, 0.00447379145771265, 0.007052480708807707, 0.02441640943288803, 0.021972019225358963, 0.032608043402433395, 0.003012853441759944, 0.007215145509690046, 0.006750491913408041, 0.010726604610681534, 0.01084099430590868, 0.008931814692914486, 0.029467225074768066, 0.03318433091044426, 0.01748952455818653, 0.012126087211072445, 0.024231500923633575, 0.07062295079231262, 0.066475510597229], [0.013544262386858463, 0.010654614306986332, 0.006732895039021969, 0.014607482589781284, 0.019255099818110466, 0.005499893333762884, 0.007889344356954098, 0.011584153398871422, 0.010924054309725761, 0.020105106756091118, 0.010650590993463993, 0.007454309146851301, 0.003997805528342724, 0.006842657923698425, 0.004790671169757843, 0.0032979075331240892, 0.002873063087463379, 0.004007562529295683, 0.0068103293888270855, 0.007453669793903828, 0.007407089229673147, 0.007008685264736414, 0.005825832486152649, 0.0055679380893707275, 0.0031886131037026644, 0.0058736479841172695, 0.007492641918361187, 0.012699190527200699, 0.0068087102845311165, 0.018820442259311676, 0.006123762112110853, 0.005940551869571209, 0.0041973777115345, 0.003800823353230953, 0.007485588546842337, 0.0023318729363381863, 0.0032736421562731266, 0.003333885222673416, 0.002932642586529255, 0.003317693481221795, 0.0057561746798455715, 0.009697405621409416, 0.02704368345439434, 0.009816553443670273, 0.005710238125175238, 0.013652842491865158, 0.0033566481433808804, 0.004942717496305704, 0.019684486091136932, 0.0027029789052903652, 0.014683454297482967, 0.005117438733577728, 0.008195308037102222, 0.004665738437324762, 0.0075555467046797276, 0.004417721182107925, 0.0067171258851885796, 0.008818509988486767, 0.0065596806816756725, 0.013046639040112495, 0.004779556766152382, 0.0031611849553883076, 0.010817127302289009, 0.0028509877156466246, 0.00360471336171031, 0.0033112955279648304, 0.005179598927497864, 0.0037845049519091845, 0.014080376364290714, 0.01589253731071949, 0.006198474206030369, 0.006084011401981115, 0.006243094336241484, 0.007742673624306917, 0.012012310326099396, 0.004978088662028313, 0.0032308935187757015, 0.0022514446172863245, 0.004414898343384266, 0.004842950496822596, 0.004609437193721533, 0.008443125523626804, 0.0034958263859152794, 0.0037678666412830353, 0.007790859322994947, 0.0037672847975045443, 0.005131628829985857, 0.0036803067196160555, 0.0036454503424465656, 0.011710825376212597, 0.009354561567306519, 0.021105680614709854, 0.008466861210763454, 0.004667765460908413, 0.0034295576624572277, 0.00498157786205411, 0.009599553421139717, 0.006364470813423395, 0.014637147076427937, 0.014384033158421516, 0.026343639940023422, 0.0309465155005455, 0.015092533081769943, 0.024180015549063683, 0.03219674155116081, 0.04809227213263512, 0.023806631565093994, 0.03630013018846512], [0.013945739716291428, 0.01048128493130207, 0.0070632691495120525, 0.011695653200149536, 0.014798643998801708, 0.0051362644881010056, 0.007732018828392029, 0.01166949886828661, 0.011294074356555939, 0.016291042789816856, 0.01324732881039381, 0.012514941394329071, 0.0047770352102816105, 0.005912672262638807, 0.00582274841144681, 0.00579816522076726, 0.006372351665049791, 0.003843477927148342, 0.005381281953305006, 0.007594266440719366, 0.007153225596994162, 0.006792649161070585, 0.0047703213058412075, 0.006236893590539694, 0.0027830146718770266, 0.0054908921010792255, 0.006602296140044928, 0.015766991302371025, 0.007876030169427395, 0.01957259513437748, 0.0044981506653130054, 0.0035452982410788536, 0.003929103724658489, 0.0041727242060005665, 0.0037654091138392687, 0.004836019594222307, 0.003502417355775833, 0.002235429361462593, 0.0029298749286681414, 0.005296928808093071, 0.003560204990208149, 0.0075062974356114864, 0.024189507588744164, 0.00920161884278059, 0.0062151746824383736, 0.007772692013531923, 0.004723097197711468, 0.0043156761676073074, 0.019151242449879646, 0.0038620305713266134, 0.005947806406766176, 0.0033808236476033926, 0.007959885522723198, 0.003787068650126457, 0.003768571885302663, 0.002293885452672839, 0.003348852973431349, 0.009251880459487438, 0.004191815387457609, 0.01069767028093338, 0.005606511142104864, 0.002858357736840844, 0.010174641385674477, 0.002731109270825982, 0.004402832128107548, 0.003307408420369029, 0.0034348038025200367, 0.0029643489979207516, 0.01699208654463291, 0.016168059781193733, 0.008348357863724232, 0.0034621998202055693, 0.00878402404487133, 0.006274702958762646, 0.010473370552062988, 0.006059244275093079, 0.0031850652303546667, 0.00235925056040287, 0.008097142912447453, 0.009258236736059189, 0.004899568855762482, 0.008149407804012299, 0.002981642261147499, 0.0037551571149379015, 0.009079995565116405, 0.004687959793955088, 0.0036157609429210424, 0.004396537318825722, 0.005941795185208321, 0.004587007220834494, 0.011285594664514065, 0.024924810975790024, 0.00701562175527215, 0.011099728755652905, 0.006587043404579163, 0.007853381335735321, 0.007757409475743771, 0.005133708007633686, 0.012272972613573074, 0.008756168186664581, 0.018668148666620255, 0.02206752449274063, 0.020000847056508064, 0.01631225273013115, 0.02593018300831318, 0.010503706522285938, 0.02449832856655121, 0.043815694749355316, 0.08022642880678177], [0.013471481390297413, 0.016630223020911217, 0.007261921651661396, 0.009544983506202698, 0.032180678099393845, 0.004668183159083128, 0.007416719105094671, 0.01793549582362175, 0.015021219849586487, 0.017362743616104126, 0.018228041008114815, 0.005202522035688162, 0.005859438329935074, 0.006650629919022322, 0.009145630523562431, 0.007723276503384113, 0.006719429045915604, 0.003323712619021535, 0.005703942850232124, 0.007463867776095867, 0.006657435093075037, 0.006380284670740366, 0.004680833779275417, 0.010557401925325394, 0.0029677303973585367, 0.006325871217995882, 0.007038723677396774, 0.012101019732654095, 0.005705213639885187, 0.019282905384898186, 0.003553341142833233, 0.004017903469502926, 0.0036753183230757713, 0.0037815351970493793, 0.003590671345591545, 0.0021072954405099154, 0.003435903461650014, 0.0018176566809415817, 0.0031960399355739355, 0.004785451572388411, 0.005086452234536409, 0.0074819535948336124, 0.02462371252477169, 0.00804612971842289, 0.007801915984600782, 0.006274854298681021, 0.0030905292369425297, 0.005376729182898998, 0.01336628943681717, 0.002819624962285161, 0.006026004441082478, 0.0028787527699023485, 0.004695373121649027, 0.0019249311881139874, 0.003900085808709264, 0.005342068616300821, 0.0030043479055166245, 0.00612168712541461, 0.0037748627364635468, 0.011482848785817623, 0.0060663106851279736, 0.002838729415088892, 0.01084391213953495, 0.0032668611966073513, 0.0032259311992675066, 0.004463497549295425, 0.002480780240148306, 0.0031046378426253796, 0.027788778766989708, 0.011434213258326054, 0.004148667212575674, 0.006688945926725864, 0.004899118561297655, 0.006486429832875729, 0.013032221235334873, 0.004719786811619997, 0.003024529432877898, 0.002520298585295677, 0.005567024927586317, 0.005117716733366251, 0.007991732098162174, 0.006389848422259092, 0.002563048619776964, 0.003993870224803686, 0.008820181712508202, 0.006475924514234066, 0.004374133422970772, 0.003341454081237316, 0.00838153064250946, 0.010054637677967548, 0.01284098345786333, 0.037358444184064865, 0.012821084819734097, 0.00875647272914648, 0.0055525898933410645, 0.01499770488590002, 0.009183009155094624, 0.0043121627531945705, 0.014514853246510029, 0.008181573823094368, 0.03771086409687996, 0.016759473830461502, 0.006602207664400339, 0.015090173110365868, 0.012434710748493671, 0.0076781827956438065, 0.011600449681282043, 0.0188672486692667, 0.024882828816771507, 0.059458423405885696], [0.014626005664467812, 0.011641010642051697, 0.006577245891094208, 0.010886047966778278, 0.018862104043364525, 0.004814975894987583, 0.007262071594595909, 0.009806331247091293, 0.009706517681479454, 0.01669323816895485, 0.011576930992305279, 0.007486735004931688, 0.005212326999753714, 0.00813891738653183, 0.005449996795505285, 0.005174757447093725, 0.004991442430764437, 0.0038273539394140244, 0.00685696629807353, 0.004922159481793642, 0.006053374148905277, 0.006420067045837641, 0.005109835881739855, 0.006582912988960743, 0.0031844014301896095, 0.00647098058834672, 0.004452161956578493, 0.01582208275794983, 0.006143428850919008, 0.024012885987758636, 0.003985430579632521, 0.004917901940643787, 0.004236807115375996, 0.0048421588726341724, 0.004998798947781324, 0.0021863547153770924, 0.0025540797505527735, 0.002180899493396282, 0.0027219296898692846, 0.00428945804014802, 0.0033464294392615557, 0.0075680166482925415, 0.024441121146082878, 0.01090429536998272, 0.006696459837257862, 0.007239040452986956, 0.002855063881725073, 0.002950320253148675, 0.018664095550775528, 0.004702444653958082, 0.01046829018741846, 0.0038817019667476416, 0.0060921404510736465, 0.0019954198505729437, 0.003015381982550025, 0.003363140160217881, 0.004591368604451418, 0.007028631865978241, 0.0059741768054664135, 0.016523320227861404, 0.004521568771451712, 0.0032379699405282736, 0.01341567374765873, 0.004654823336750269, 0.003575594164431095, 0.004649920854717493, 0.0036116570699959993, 0.0040168543346226215, 0.016932005062699318, 0.016670817509293556, 0.005629895254969597, 0.005315003916621208, 0.006136065814644098, 0.009259446524083614, 0.013917769305408001, 0.005847214721143246, 0.0036767437122762203, 0.0036173348780721426, 0.006773721426725388, 0.005858625750988722, 0.0045252577401697636, 0.00947389006614685, 0.003587559796869755, 0.004361944273114204, 0.012030496262013912, 0.005618527065962553, 0.0025422528851777315, 0.0035059654619544744, 0.0046655782498419285, 0.008635072968900204, 0.01048152707517147, 0.02480391040444374, 0.007151604164391756, 0.009915650822222233, 0.0035878410562872887, 0.0042634145356714725, 0.007116173859685659, 0.004414056893438101, 0.011699589900672436, 0.008326892741024494, 0.018241867423057556, 0.02046782337129116, 0.02556835114955902, 0.015861984342336655, 0.02042846754193306, 0.005753666162490845, 0.012287021614611149, 0.016725771129131317, 0.013106344267725945, 0.02919086627662182, 0.08236187696456909], [0.012751778587698936, 0.007996863685548306, 0.005411520134657621, 0.01191288698464632, 0.01242242380976677, 0.004430678673088551, 0.00842619501054287, 0.00691585848107934, 0.0064189196564257145, 0.012964132241904736, 0.009729156270623207, 0.007361684460192919, 0.0042723617516458035, 0.006768386345356703, 0.005855733063071966, 0.0034323916770517826, 0.0038237706758081913, 0.0036707590334117413, 0.005895192269235849, 0.007081945426762104, 0.005998734850436449, 0.006686397362500429, 0.004188715945929289, 0.0062863524071872234, 0.004007219336926937, 0.005037463735789061, 0.007162042893469334, 0.008316879160702229, 0.004001161549240351, 0.011371142230927944, 0.00407093670219183, 0.0068519823253154755, 0.004069946706295013, 0.0034340694546699524, 0.003450515680015087, 0.0017703936900943518, 0.0031015456188470125, 0.0023223310708999634, 0.00237445835955441, 0.0022745304740965366, 0.0025500778574496508, 0.007370535284280777, 0.015048965811729431, 0.009110267274081707, 0.0072356839664280415, 0.006714147049933672, 0.003084182972088456, 0.0020953950006514788, 0.015127851627767086, 0.0036866390146315098, 0.00867276918143034, 0.003524262923747301, 0.007490744814276695, 0.002562515903264284, 0.0025850695092231035, 0.004654931835830212, 0.004877366591244936, 0.005632888060063124, 0.004944180138409138, 0.00835572462528944, 0.0054950714111328125, 0.006179393269121647, 0.011482281610369682, 0.0029710887465626, 0.0032064386177808046, 0.0035295358393341303, 0.003169967560097575, 0.0024004164151847363, 0.011544729582965374, 0.010521882213652134, 0.004369625821709633, 0.003932347986847162, 0.0051284912042319775, 0.006497843656688929, 0.009034447371959686, 0.006548878736793995, 0.0029489798471331596, 0.00414553377777338, 0.006669474765658379, 0.005018195603042841, 0.004064112436026335, 0.006149386055767536, 0.006006345618516207, 0.0032482631504535675, 0.008352510631084442, 0.004896724596619606, 0.00334142311476171, 0.002751406282186508, 0.003920729737728834, 0.00947270356118679, 0.012954046949744225, 0.02307000197470188, 0.008718806318938732, 0.009141823276877403, 0.006908044684678316, 0.0057266270741820335, 0.016922496259212494, 0.007324082311242819, 0.0220579132437706, 0.02592889778316021, 0.027108650654554367, 0.028439851477742195, 0.021871047094464302, 0.014646131545305252, 0.015516047365963459, 0.018800005316734314, 0.01501600444316864, 0.011169781908392906, 0.04483677074313164, 0.02084241807460785, 0.03776651993393898, 0.0685921162366867], [0.011669698171317577, 0.010871033184230328, 0.006508268881589174, 0.010079029947519302, 0.021319197490811348, 0.0036043559666723013, 0.007776368875056505, 0.012698620557785034, 0.010223228484392166, 0.014568975195288658, 0.007972203195095062, 0.0049247401766479015, 0.004402591846883297, 0.007152881007641554, 0.006998117547482252, 0.0044247545301914215, 0.006691950373351574, 0.0037421907763928175, 0.006634498946368694, 0.005854365415871143, 0.005499535705894232, 0.008658019825816154, 0.0031651088502258062, 0.008246324025094509, 0.0030832348857074976, 0.004809402860701084, 0.0057265302166342735, 0.010204929858446121, 0.005398091860115528, 0.016919057816267014, 0.004762805067002773, 0.007572499103844166, 0.004518670961260796, 0.005568123422563076, 0.003230722388252616, 0.0020050217863172293, 0.004541745409369469, 0.0021822676062583923, 0.0035847255494445562, 0.003241094993427396, 0.0034557057078927755, 0.008111958391964436, 0.018478618934750557, 0.009804093278944492, 0.005611562170088291, 0.008592110127210617, 0.004038427025079727, 0.004374044016003609, 0.021590156480669975, 0.0030678026378154755, 0.004882145207375288, 0.0032148396130651236, 0.008172485046088696, 0.002253147540614009, 0.004571022465825081, 0.0030850153416395187, 0.0033558772411197424, 0.009225206449627876, 0.004548091907054186, 0.015510945580899715, 0.00494410190731287, 0.0031519755721092224, 0.012399676255881786, 0.0032628693152219057, 0.0027907525654882193, 0.00424946891143918, 0.00292127369903028, 0.003041289048269391, 0.020670386031270027, 0.01605219952762127, 0.0030480583664029837, 0.005448447074741125, 0.007140941917896271, 0.003508663270622492, 0.02010282501578331, 0.007073816377669573, 0.00404802430421114, 0.002612876007333398, 0.011502078734338284, 0.006950014736503363, 0.005674551706761122, 0.006068526767194271, 0.004329259507358074, 0.0050897193141281605, 0.007862220518290997, 0.005051234737038612, 0.0037276020739227533, 0.006076705176383257, 0.004773751832544804, 0.016556723043322563, 0.009849373251199722, 0.03811096400022507, 0.006441344041377306, 0.005521568935364485, 0.0038974336348474026, 0.00803026370704174, 0.006230879109352827, 0.0073824431747198105, 0.011639947071671486, 0.00485260272398591, 0.013397082686424255, 0.015860117971897125, 0.012393982149660587, 0.015376373194158077, 0.018484508618712425, 0.009153160266578197, 0.008205948397517204, 0.008856684900820255, 0.010581032373011112, 0.015876702964305878, 0.024555129930377007, 0.03610601648688316, 0.07208813726902008], [0.01171054970473051, 0.007586879190057516, 0.006168097723275423, 0.010302480310201645, 0.010068150237202644, 0.00415946776047349, 0.008377667516469955, 0.005788174457848072, 0.0047868285328149796, 0.016925375908613205, 0.006274639628827572, 0.00716763362288475, 0.004098356235772371, 0.009400095790624619, 0.003423730144277215, 0.00292882788926363, 0.003232100047171116, 0.0057227835059165955, 0.010144013911485672, 0.00648718886077404, 0.007818732410669327, 0.010169712826609612, 0.003832937916740775, 0.003039245493710041, 0.0036994467955082655, 0.005827764049172401, 0.004717999137938023, 0.020304866135120392, 0.015311742201447487, 0.024528900161385536, 0.005870593246072531, 0.011578410863876343, 0.005974459927529097, 0.005564084742218256, 0.0037221484817564487, 0.0022715707309544086, 0.005565368104726076, 0.004422691650688648, 0.003871649270877242, 0.004033416043967009, 0.002693607471883297, 0.00909474678337574, 0.019153371453285217, 0.01345993485301733, 0.003482670057564974, 0.01002774853259325, 0.0024404420983046293, 0.0021783991251140833, 0.023883262649178505, 0.003450137795880437, 0.0053292918018996716, 0.003929752390831709, 0.007484379690140486, 0.0029651555232703686, 0.00230697775259614, 0.002760769333690405, 0.0030854777432978153, 0.008230124600231647, 0.009287023916840553, 0.012743249535560608, 0.00431592483073473, 0.003941293340176344, 0.019790902733802795, 0.003331960877403617, 0.0038628915790468454, 0.0037363404408097267, 0.004074582364410162, 0.004454355686903, 0.016337759792804718, 0.014668331481516361, 0.003701799549162388, 0.004572263918817043, 0.008455525152385235, 0.008110357448458672, 0.011705444194376469, 0.006902219727635384, 0.0054712663404643536, 0.002985779196023941, 0.00948855560272932, 0.009073694236576557, 0.005007196217775345, 0.00431814044713974, 0.00441726902499795, 0.004057998303323984, 0.013628417626023293, 0.005789474118500948, 0.0018396542873233557, 0.002359673846513033, 0.003965886775404215, 0.00826243869960308, 0.009578990750014782, 0.021323733031749725, 0.006017512641847134, 0.004355748184025288, 0.006296287290751934, 0.004533832427114248, 0.0062332674860954285, 0.004164585378021002, 0.011277664452791214, 0.00516318716108799, 0.020163238048553467, 0.010077533312141895, 0.014026432298123837, 0.011635797098279, 0.013711156323552132, 0.013511943630874157, 0.01134748850017786, 0.012928767129778862, 0.010825126431882381, 0.020209822803735733, 0.02042517438530922, 0.03556861728429794, 0.021935340017080307, 0.057196058332920074], [0.023665186017751694, 0.014355804771184921, 0.005751318763941526, 0.009394467808306217, 0.010568610392510891, 0.004133044276386499, 0.00693023344501853, 0.006069851107895374, 0.00814750511199236, 0.0127442991361022, 0.012264089658856392, 0.006792144384235144, 0.009317465126514435, 0.006508447229862213, 0.004358438774943352, 0.0024025901220738888, 0.003166486509144306, 0.0038276230916380882, 0.007364420685917139, 0.006484772078692913, 0.005760225001722574, 0.006378490012139082, 0.00407838961109519, 0.00363692338578403, 0.003798759775236249, 0.005155372899025679, 0.003374694613739848, 0.013029592111706734, 0.007918152958154678, 0.01797902211546898, 0.004887372720986605, 0.009307240135967731, 0.0035857276525348425, 0.0038216207176446915, 0.00336744193919003, 0.0022196306381374598, 0.003125397954136133, 0.002643320709466934, 0.0032885654363781214, 0.002745273057371378, 0.002377950120717287, 0.009015178307890892, 0.020803576335310936, 0.0105650145560503, 0.004331943579018116, 0.008414903655648232, 0.0038056541234254837, 0.0029267300851643085, 0.015723368152976036, 0.0035332883708178997, 0.010497376322746277, 0.004211257211863995, 0.005159213673323393, 0.0024506784975528717, 0.0029036616906523705, 0.002831399440765381, 0.0028842929750680923, 0.007725730538368225, 0.003911107312887907, 0.012600314803421497, 0.0035128891468048096, 0.0036140212323516607, 0.012789594009518623, 0.0025092761497944593, 0.003095493884757161, 0.0029808597173541784, 0.002885747468098998, 0.005218262784183025, 0.013045982457697392, 0.013646510429680347, 0.004035349935293198, 0.0041521042585372925, 0.008463812991976738, 0.005898210220038891, 0.012101773172616959, 0.005699065048247576, 0.003921831492334604, 0.004098649602383375, 0.0059972237795591354, 0.009616072289645672, 0.005333351902663708, 0.006942734122276306, 0.005680232308804989, 0.003628953592851758, 0.009455258026719093, 0.00393027625977993, 0.0054474519565701485, 0.003096041502431035, 0.004593970254063606, 0.009514953941106796, 0.009746428579092026, 0.02296360209584236, 0.006351738702505827, 0.004015055485069752, 0.007272970862686634, 0.004606284201145172, 0.01908854767680168, 0.014715561643242836, 0.013695882633328438, 0.005628324579447508, 0.020435625687241554, 0.009655588306486607, 0.020612873136997223, 0.009108181111514568, 0.011611797846853733, 0.006860236171633005, 0.007806835696101189, 0.0099862702190876, 0.023085812106728554, 0.018957972526550293, 0.0370318703353405, 0.011319728568196297, 0.015492336824536324, 0.03518674522638321, 0.058837179094552994], [0.01263414602726698, 0.019561415538191795, 0.011709154583513737, 0.00855960138142109, 0.026144003495573997, 0.003993067424744368, 0.00599678885191679, 0.009651122614741325, 0.0065058995969593525, 0.01287996955215931, 0.009369564242661, 0.006098413839936256, 0.004065566696226597, 0.0074791815131902695, 0.004418556112796068, 0.0035947859287261963, 0.002902727574110031, 0.004655409138649702, 0.007392320316284895, 0.004013435915112495, 0.005087655503302813, 0.006448840256780386, 0.0028904022183269262, 0.004308289848268032, 0.0026008067652583122, 0.0040512424893677235, 0.0036581975873559713, 0.00719028152525425, 0.007065419107675552, 0.012828735634684563, 0.004979271907359362, 0.006047477945685387, 0.005987010430544615, 0.005885126069188118, 0.004060668405145407, 0.0025299247354269028, 0.002692342270165682, 0.0022709122858941555, 0.002916166326031089, 0.0034559026826173067, 0.002476830268278718, 0.008534950204193592, 0.011104695498943329, 0.00824686698615551, 0.0034107889514416456, 0.006491833832114935, 0.0022112850565463305, 0.0024901952128857374, 0.016215987503528595, 0.0022290735505521297, 0.006706809625029564, 0.0026481091044843197, 0.00521845044568181, 0.0016230047913268209, 0.0043263486586511135, 0.003126738825812936, 0.003924624994397163, 0.004630993586033583, 0.005447800271213055, 0.009897285141050816, 0.0045263441279530525, 0.002537730848416686, 0.012171885930001736, 0.002851968863978982, 0.0030729221180081367, 0.0038703843019902706, 0.002898284001275897, 0.005160880275070667, 0.0205689687281847, 0.011070254258811474, 0.004041728097945452, 0.003609908977523446, 0.004685045685619116, 0.004461721517145634, 0.0074175698682665825, 0.007225009612739086, 0.0026861755177378654, 0.0029422894585877657, 0.004819000139832497, 0.0066983141005039215, 0.004167642910033464, 0.005894161760807037, 0.0029569733887910843, 0.0033697064500302076, 0.009702919982373714, 0.004387714900076389, 0.004439405631273985, 0.0031480747275054455, 0.0037551207933574915, 0.007877062074840069, 0.00964061077684164, 0.013631043024361134, 0.014739367179572582, 0.008176722563803196, 0.006411100272089243, 0.007785864640027285, 0.005560928024351597, 0.011407933197915554, 0.00951133668422699, 0.004749914165586233, 0.014803614467382431, 0.009345199912786484, 0.010712865740060806, 0.011629478074610233, 0.01227456983178854, 0.008614273741841316, 0.012194517068564892, 0.008059544488787651, 0.009112617932260036, 0.012584597803652287, 0.017916683107614517, 0.026813413947820663, 0.03333524614572525, 0.029317522421479225, 0.06065832078456879, 0.08445501327514648], [0.014059648849070072, 0.015566404908895493, 0.005199087783694267, 0.00856855046004057, 0.04122549667954445, 0.004640247207134962, 0.007327565457671881, 0.020104708150029182, 0.015915188938379288, 0.014217359013855457, 0.02595330774784088, 0.0041129388846457005, 0.006678153295069933, 0.005598804447799921, 0.011175895109772682, 0.005412647966295481, 0.009470046497881413, 0.0031275523360818624, 0.005090189166367054, 0.014040072448551655, 0.004867748823016882, 0.005556839052587748, 0.0030839217361062765, 0.011131377890706062, 0.001990550197660923, 0.0038314976263791323, 0.008283145725727081, 0.005447040777653456, 0.00929794367402792, 0.010047688148915768, 0.0034109577536582947, 0.0034250300377607346, 0.003156363032758236, 0.005686874035745859, 0.007405480835586786, 0.0029121642000973225, 0.0028041470795869827, 0.0024809169117361307, 0.003043662989512086, 0.0030802262481302023, 0.004916863515973091, 0.011451978236436844, 0.009601888246834278, 0.005256678443402052, 0.003749839961528778, 0.007221835199743509, 0.004688117653131485, 0.00497290538623929, 0.013010699301958084, 0.0016689639305695891, 0.006703660823404789, 0.0022049511317163706, 0.0038627558387815952, 0.0011651263339444995, 0.0044829705730080605, 0.0021611731499433517, 0.00460392702370882, 0.0029674817342311144, 0.006095063406974077, 0.006673112045973539, 0.004748264327645302, 0.0048965876922011375, 0.009863952174782753, 0.003920604009181261, 0.0029554928187280893, 0.004920335952192545, 0.0028421320021152496, 0.0025075196754187346, 0.025177937000989914, 0.006911981385201216, 0.0028293593786656857, 0.00319227809086442, 0.0035960592795163393, 0.005163910798728466, 0.0069691636599600315, 0.00472399964928627, 0.0028768458869308233, 0.0025012760888785124, 0.006134707946330309, 0.004272905178368092, 0.004453342407941818, 0.005245582200586796, 0.002249383134767413, 0.0035221280995756388, 0.005992477294057608, 0.003782619023695588, 0.0023640592116862535, 0.0028708172030746937, 0.0056637427769601345, 0.0047072796151041985, 0.010015595704317093, 0.010192381218075752, 0.008121797814965248, 0.004180338699370623, 0.0056273480877280235, 0.006707668770104647, 0.005800396203994751, 0.010094656608998775, 0.011449252255260944, 0.0036251754499971867, 0.00822247564792633, 0.010865213349461555, 0.01044866256415844, 0.008459904231131077, 0.00999674666672945, 0.006264532916247845, 0.01045804563909769, 0.006386567838490009, 0.010950295254588127, 0.01101773139089346, 0.013427555561065674, 0.007880251854658127, 0.00967009924352169, 0.02319863624870777, 0.0567813403904438, 0.01280144788324833, 0.1096116304397583], [0.008493482135236263, 0.007313372567296028, 0.0035799171309918165, 0.006802473217248917, 0.020451996475458145, 0.0032977599184960127, 0.005643860436975956, 0.009191177785396576, 0.009480530396103859, 0.014796685427427292, 0.010441301390528679, 0.0055563002824783325, 0.003369065700098872, 0.005505191627889872, 0.0053721945732831955, 0.002331491094082594, 0.0044372123666107655, 0.0026346659287810326, 0.005312023218721151, 0.0051787374541163445, 0.004183454904705286, 0.0034257813822478056, 0.0021761974785476923, 0.006008939351886511, 0.002072671428322792, 0.003943861462175846, 0.0039849188178777695, 0.005904368124902248, 0.0027864640578627586, 0.016075922176241875, 0.003289515618234873, 0.00356688117608428, 0.002685877261683345, 0.003167299320921302, 0.0027273264713585377, 0.00236615096218884, 0.0020002233795821667, 0.0014425223926082253, 0.0019137056078761816, 0.001988618168979883, 0.0020230612717568874, 0.009079637937247753, 0.016416432335972786, 0.006399915087968111, 0.0022119011264294386, 0.005021323915570974, 0.002594702411442995, 0.0019474392756819725, 0.011836474761366844, 0.0023596149403601885, 0.0048597389832139015, 0.002508339239284396, 0.0028556815814226866, 0.0012671737931668758, 0.0019127746345475316, 0.0018440309213474393, 0.0018943723989650607, 0.0032491879537701607, 0.002720432123169303, 0.00975190382450819, 0.0032683114986866713, 0.001959393499419093, 0.007663276512175798, 0.001964172115549445, 0.002233839360997081, 0.004171045962721109, 0.0022269596811383963, 0.004009603057056665, 0.013657310046255589, 0.010903741233050823, 0.003606214886531234, 0.005002990830689669, 0.004794422071427107, 0.005158951040357351, 0.010046458803117275, 0.012552301399409771, 0.004459252581000328, 0.0037535736337304115, 0.007062040735036135, 0.00511676212772727, 0.003961368463933468, 0.004726755898445845, 0.0034705556463450193, 0.004550892859697342, 0.005731985438615084, 0.0034859327133744955, 0.0027775687631219625, 0.0025194401387125254, 0.0029310102108865976, 0.008806267753243446, 0.006604006048291922, 0.025051364675164223, 0.007970607839524746, 0.005921536590903997, 0.002953444141894579, 0.004646198358386755, 0.005392809398472309, 0.0024443254806101322, 0.009168493561446667, 0.004023493733257055, 0.011674205772578716, 0.010232822969555855, 0.005919117014855146, 0.008132275193929672, 0.009756261482834816, 0.004289680626243353, 0.010665304958820343, 0.0062543489038944244, 0.008809876628220081, 0.011813720688223839, 0.010449090972542763, 0.005910055711865425, 0.017677756026387215, 0.020532311871647835, 0.01894870586693287, 0.055597446858882904, 0.083197221159935, 0.16173681616783142], [0.02599998190999031, 0.008870570920407772, 0.007274731528013945, 0.012850630097091198, 0.008225289173424244, 0.005144223570823669, 0.009542973712086678, 0.00525037432089448, 0.003512211376801133, 0.01652369275689125, 0.0076415021903812885, 0.007712080143392086, 0.005153981037437916, 0.008583431132137775, 0.005072389729321003, 0.0034336524549871683, 0.0032058698125183582, 0.005731925833970308, 0.009412018582224846, 0.008082825690507889, 0.009150184690952301, 0.010464571416378021, 0.0036284266971051693, 0.004160735290497541, 0.003999628126621246, 0.006131115835160017, 0.004891147371381521, 0.014857655391097069, 0.006189870182424784, 0.035146359354257584, 0.004866664297878742, 0.00664233835414052, 0.0054093049839138985, 0.005198581609874964, 0.0031083873473107815, 0.004487226717174053, 0.006984650623053312, 0.0027671309653669596, 0.003453474026173353, 0.0037424613256007433, 0.003429354866966605, 0.009184116497635841, 0.023286502808332443, 0.012780875898897648, 0.005221209954470396, 0.007166422437876463, 0.002770062768831849, 0.0036466349847614765, 0.019465088844299316, 0.0027176574803888798, 0.006912942510098219, 0.004494260065257549, 0.007046615704894066, 0.0024012504145503044, 0.00240149418823421, 0.0034011476673185825, 0.003878967836499214, 0.013879891484975815, 0.005369226448237896, 0.02518524043262005, 0.008780883625149727, 0.003993850201368332, 0.014028799720108509, 0.004781416151672602, 0.005989632569253445, 0.005608804523944855, 0.004801440518349409, 0.009112251922488213, 0.024678140878677368, 0.0356043204665184, 0.009535654447972775, 0.009205532260239124, 0.01715363934636116, 0.004568023141473532, 0.015081583522260189, 0.005156371742486954, 0.0023572570644319057, 0.0017728750826790929, 0.005387559067457914, 0.0036527293268591166, 0.0020765336230397224, 0.002816474298015237, 0.002636783756315708, 0.0048386575654149055, 0.007911457680165768, 0.003714773803949356, 0.0022263627033680677, 0.004506105091422796, 0.004017841070890427, 0.005412203259766102, 0.006279914174228907, 0.02166914753615856, 0.008201832883059978, 0.00893306639045477, 0.0030303150415420532, 0.003109946846961975, 0.005610078573226929, 0.0033239834010601044, 0.009784451685845852, 0.003218031721189618, 0.008913621306419373, 0.009722654707729816, 0.006904061883687973, 0.004857965279370546, 0.006372067611664534, 0.004405667074024677, 0.004886847920715809, 0.002465086756274104, 0.007484269794076681, 0.006013944279402494, 0.007615397684276104, 0.0050336336717009544, 0.0076512605883181095, 0.01027932483702898, 0.007931916043162346, 0.015319697558879852, 0.022058697417378426, 0.010127738118171692, 0.07024417817592621], [0.011514341458678246, 0.003998538479208946, 0.004070078954100609, 0.008598585613071918, 0.008274373598396778, 0.0033602032344788313, 0.00716123403981328, 0.004717845004051924, 0.003156542545184493, 0.012298204004764557, 0.006619791965931654, 0.008491258136928082, 0.0037963942158967257, 0.006755931302905083, 0.00502288481220603, 0.003200665581971407, 0.002899165265262127, 0.004682815168052912, 0.007958536967635155, 0.007866657339036465, 0.009087844751775265, 0.009280741214752197, 0.0025374230463057756, 0.0027896284591406584, 0.005467718932777643, 0.004895700607448816, 0.009345543570816517, 0.0199587345123291, 0.005566257517784834, 0.028155222535133362, 0.004393978975713253, 0.004783397074788809, 0.004031661432236433, 0.0036886560264974833, 0.0027847045566886663, 0.0026981851551681757, 0.004660753533244133, 0.0021756438072770834, 0.0025741306599229574, 0.003312662709504366, 0.003133385209366679, 0.008947824127972126, 0.026999466121196747, 0.009953496046364307, 0.002800936810672283, 0.006059088744223118, 0.0020305421203374863, 0.0029509197920560837, 0.01654561422765255, 0.002731171902269125, 0.006297496613115072, 0.004722453188151121, 0.006065421272069216, 0.0019273278303444386, 0.0027611844707280397, 0.0024066148325800896, 0.005548439919948578, 0.010216822847723961, 0.004733524285256863, 0.02397211641073227, 0.006872786674648523, 0.003382556140422821, 0.013352105394005775, 0.0034682857804000378, 0.004298260435461998, 0.004154855851083994, 0.005035241600126028, 0.009633229114115238, 0.02454371564090252, 0.037373755127191544, 0.011619659140706062, 0.009434944950044155, 0.017686715349555016, 0.002893117256462574, 0.01565566658973694, 0.006341114174574614, 0.002262379741296172, 0.0015822004061192274, 0.0036321980878710747, 0.0032994255889207125, 0.002250427845865488, 0.002320007886737585, 0.0018911446677520871, 0.0028072453569620848, 0.007390648126602173, 0.00290885753929615, 0.001954043749719858, 0.004040753934532404, 0.004484258592128754, 0.002312371740117669, 0.006748891435563564, 0.017543314024806023, 0.006101784761995077, 0.010615847073495388, 0.0023810211569070816, 0.0027431512717157602, 0.0034142255317419767, 0.002724891761317849, 0.006133371032774448, 0.002799323759973049, 0.0067967744544148445, 0.009853845462203026, 0.004898832179605961, 0.0035567639861255884, 0.00507483771070838, 0.004543554037809372, 0.0049797967076301575, 0.003106228541582823, 0.011188184842467308, 0.008676985278725624, 0.00806664302945137, 0.005561459343880415, 0.012968989089131355, 0.008316632360219955, 0.012891387566924095, 0.015516999177634716, 0.02797750011086464, 0.007628660183399916, 0.09502992033958435, 0.05584174022078514], [0.021818818524479866, 0.014288208447396755, 0.006523951888084412, 0.012498952448368073, 0.01747935824096203, 0.0042011248879134655, 0.007259926293045282, 0.007260660640895367, 0.005189912859350443, 0.011145657859742641, 0.008921141736209393, 0.005126333795487881, 0.003850284032523632, 0.005144017748534679, 0.003904913319274783, 0.003261291654780507, 0.0026615397073328495, 0.003627742175012827, 0.006148521322757006, 0.008440270088613033, 0.006592544261366129, 0.007110591046512127, 0.003307121805846691, 0.0036399473901838064, 0.0040497202426195145, 0.004775598645210266, 0.0038845331873744726, 0.011584242805838585, 0.005361583083868027, 0.026303309947252274, 0.005448950920253992, 0.0035724185872823, 0.0040061683394014835, 0.004094886593520641, 0.002643181476742029, 0.0029505835846066475, 0.0024888894986361265, 0.0024652699939906597, 0.0032656630501151085, 0.003453131066635251, 0.0027492609806358814, 0.008480486460030079, 0.0165974423289299, 0.011075595393776894, 0.004072454292327166, 0.008532567881047726, 0.002481338568031788, 0.002277195919305086, 0.021442227065563202, 0.00280759041197598, 0.004340084735304117, 0.0034741281997412443, 0.005608713254332542, 0.00253929547034204, 0.0016444027423858643, 0.0026748061645776033, 0.003753744065761566, 0.009615660645067692, 0.005741415079683065, 0.02004045993089676, 0.010838265530765057, 0.0030676492024213076, 0.01153539214283228, 0.0029602982103824615, 0.007590537890791893, 0.0038530423771589994, 0.006165115162730217, 0.006177269387990236, 0.02568628266453743, 0.02368292585015297, 0.0031458032317459583, 0.005311606917530298, 0.011885018087923527, 0.0047907717525959015, 0.014483204111456871, 0.008328001014888287, 0.0021187583915889263, 0.0026279042940586805, 0.004085341934114695, 0.0040052346885204315, 0.00217909156344831, 0.004776889458298683, 0.0030789277516305447, 0.003564996412023902, 0.006510965060442686, 0.0035445482935756445, 0.003622301621362567, 0.0032360681798309088, 0.0035089801531285048, 0.004060778766870499, 0.008279443718492985, 0.02357158623635769, 0.004896723665297031, 0.004023617599159479, 0.002633125754073262, 0.003352344036102295, 0.004131966270506382, 0.0037919331807643175, 0.00840791966766119, 0.0028291488997638226, 0.01162174716591835, 0.010779210366308689, 0.004959261044859886, 0.004742048215121031, 0.006398038472980261, 0.0030551219824701548, 0.005665602162480354, 0.0034180220682173967, 0.013496428728103638, 0.004428384359925985, 0.006021073553711176, 0.004711599089205265, 0.0054098269902169704, 0.006533412728458643, 0.007753896526992321, 0.00767590943723917, 0.02295427955687046, 0.009413592517375946, 0.07427510619163513, 0.045555926859378815, 0.06509191542863846], [0.020075608044862747, 0.030136484652757645, 0.00838124193251133, 0.013744032941758633, 0.048038363456726074, 0.006166570819914341, 0.006670809350907803, 0.021210134029388428, 0.0227487925440073, 0.014305965043604374, 0.02544414810836315, 0.0036623403429985046, 0.006186637561768293, 0.005218155682086945, 0.011514898389577866, 0.007361100520938635, 0.007730260957032442, 0.0028894448187202215, 0.0049200826324522495, 0.011049313470721245, 0.003706734161823988, 0.0038296296261250973, 0.0018701161025092006, 0.006607310380786657, 0.002448960905894637, 0.0033554413821548223, 0.006642203778028488, 0.007074076682329178, 0.007185734808444977, 0.011287832632660866, 0.0024637789465487003, 0.002388342283666134, 0.002226464916020632, 0.0024748228024691343, 0.004533232655376196, 0.002431029686704278, 0.0017214987892657518, 0.0013271315256133676, 0.0018369026947766542, 0.0020625609904527664, 0.004015007987618446, 0.0078349057585001, 0.008616341277956963, 0.0067181773483753204, 0.0031890436075627804, 0.005207149777561426, 0.002777989488095045, 0.0029923550318926573, 0.012172341346740723, 0.0018052133964374661, 0.004974355921149254, 0.0022857908625155687, 0.002952285809442401, 0.0016501914942637086, 0.002303321845829487, 0.002215213840827346, 0.0036976144183427095, 0.005247026681900024, 0.0037283487617969513, 0.010489537380635738, 0.008561276830732822, 0.004266323987394571, 0.01049119420349598, 0.0034000135492533445, 0.0035031186416745186, 0.003871690481901169, 0.00445663183927536, 0.003943266812711954, 0.048113010823726654, 0.012949053198099136, 0.0029040686786174774, 0.002308465074747801, 0.007305661682039499, 0.0022207924630492926, 0.0074479724280536175, 0.004367397166788578, 0.0024146144278347492, 0.002230792073532939, 0.00297861872240901, 0.003013127949088812, 0.0018799823010340333, 0.0022446406073868275, 0.0020271691028028727, 0.0020497289951890707, 0.00490207877010107, 0.003097676206380129, 0.002402826212346554, 0.001655871164985001, 0.0030196961015462875, 0.0034663125406950712, 0.007700235117226839, 0.013792353682219982, 0.0036698284093290567, 0.002351796254515648, 0.0017137605464085937, 0.0021338313817977905, 0.003106155665591359, 0.0020960792899131775, 0.005761513952165842, 0.0028877793811261654, 0.009100629016757011, 0.006868225522339344, 0.003616149304434657, 0.0036033422220498323, 0.005234874319285154, 0.005449775606393814, 0.003835459938272834, 0.003705458715558052, 0.01421912107616663, 0.003928692080080509, 0.0036543740425258875, 0.004596774000674486, 0.005609801039099693, 0.0067553333938121796, 0.008312001824378967, 0.008334117010235786, 0.02582947164773941, 0.00970424897968769, 0.05148090422153473, 0.04268144443631172, 0.017817795276641846, 0.09315528720617294], [0.016083277761936188, 0.02117091417312622, 0.007152954116463661, 0.010682201944291592, 0.037164561450481415, 0.003998972475528717, 0.0057023088447749615, 0.013087584637105465, 0.009518946520984173, 0.013750904239714146, 0.00923608336597681, 0.0037694801576435566, 0.004125072155147791, 0.004730666521936655, 0.0058558364398777485, 0.003561699762940407, 0.004392733797430992, 0.002438788302242756, 0.0038022410590201616, 0.005279866978526115, 0.004455774091184139, 0.004462548065930605, 0.0021992188412696123, 0.004115574527531862, 0.002699498785659671, 0.003000988159328699, 0.003920332528650761, 0.008763261139392853, 0.0055321333929896355, 0.018015196546912193, 0.004512323997914791, 0.0031501518096774817, 0.0029014437459409237, 0.0032399045303463936, 0.0032875449396669865, 0.0027592554688453674, 0.0017469004960730672, 0.0018814756767824292, 0.001899999682791531, 0.0023813608568161726, 0.0025807295460253954, 0.0065922606736421585, 0.014235921204090118, 0.0076779210940003395, 0.002203830750659108, 0.004180636256933212, 0.0024037002585828304, 0.002185456920415163, 0.011535542085766792, 0.0018928302451968193, 0.003212454728782177, 0.0034357989206910133, 0.0038392851129174232, 0.0015891920775175095, 0.002230377634987235, 0.0017664929619058967, 0.0036748864222317934, 0.007581555750221014, 0.008059716783463955, 0.020650487393140793, 0.008795480243861675, 0.0032859162893146276, 0.009436690248548985, 0.0031928210519254208, 0.003772003808990121, 0.0031071174889802933, 0.002790001919493079, 0.0030292528681457043, 0.021575098857283592, 0.01860945113003254, 0.0028397380374372005, 0.0030453845392912626, 0.00751304579898715, 0.009243578650057316, 0.01616845652461052, 0.005263245198875666, 0.0019497962202876806, 0.0015975384740158916, 0.004466192331165075, 0.0037952344864606857, 0.002124974736943841, 0.003417637199163437, 0.0017536769155412912, 0.00265591312199831, 0.006675655487924814, 0.003368968144059181, 0.0021695655304938555, 0.0037365469615906477, 0.003930435050278902, 0.003087040036916733, 0.005487096030265093, 0.014062878675758839, 0.007151195779442787, 0.0028318706899881363, 0.002461716765537858, 0.0025499295443296432, 0.0038801075424999, 0.0033123346511274576, 0.008187464438378811, 0.002038070932030678, 0.005836152471601963, 0.006762916222214699, 0.004537908360362053, 0.0043062856420874596, 0.004860409069806337, 0.005026778671890497, 0.005757054314017296, 0.003381692338734865, 0.004101268015801907, 0.007440474350005388, 0.004652018193155527, 0.002955495845526457, 0.0047821165062487125, 0.0077093602158129215, 0.004873202182352543, 0.00807810015976429, 0.031717728823423386, 0.0074316710233688354, 0.08289500325918198, 0.013007492758333683, 0.02309872768819332, 0.04393037408590317, 0.11253949254751205], [0.016132205724716187, 0.013305794447660446, 0.005656511522829533, 0.013588433153927326, 0.021932046860456467, 0.004533526487648487, 0.00885774102061987, 0.00825230311602354, 0.009236641228199005, 0.015192673541605473, 0.01231321133673191, 0.0049118404276669025, 0.004452493041753769, 0.011357281357049942, 0.007960661314427853, 0.003683782648295164, 0.005903799086809158, 0.005342928227037191, 0.01468591671437025, 0.007018677424639463, 0.005641981493681669, 0.007324570789933205, 0.002686619060114026, 0.00560768274590373, 0.0027564270421862602, 0.005238523241132498, 0.00587168475612998, 0.01032736711204052, 0.0037348398473113775, 0.015345979481935501, 0.004277791827917099, 0.004163078498095274, 0.007815779186785221, 0.014365503564476967, 0.00437804963439703, 0.0017143727745860815, 0.001883923658169806, 0.002225156407803297, 0.002430405467748642, 0.002582459943369031, 0.0026189046911895275, 0.0058019887655973434, 0.013465989381074905, 0.006902164313942194, 0.002019162755459547, 0.005900442600250244, 0.0020588748157024384, 0.002718623261898756, 0.013956340029835701, 0.0021579135209321976, 0.005512432660907507, 0.002484288765117526, 0.0036576685961335897, 0.001812407630495727, 0.001899055321700871, 0.0024114411789923906, 0.003239765064790845, 0.0046433452516794205, 0.0018840034026652575, 0.013312336057424545, 0.006276782602071762, 0.002868261421099305, 0.00913860835134983, 0.002981203142553568, 0.0030490574426949024, 0.0033162429463118315, 0.00228381110355258, 0.004896201658993959, 0.015734246000647545, 0.01762443594634533, 0.002634549979120493, 0.0031099573243409395, 0.005503781605511904, 0.0017632857197895646, 0.00720157939940691, 0.0054279351606965065, 0.0019192167092114687, 0.0012691959273070097, 0.0041017732582986355, 0.003096046159043908, 0.0020703591872006655, 0.0032965228892862797, 0.0016383171314373612, 0.0025889433454722166, 0.005858356598764658, 0.003925819415599108, 0.0018520052544772625, 0.0037094398867338896, 0.0035825534723699093, 0.0032835807651281357, 0.009310105815529823, 0.012450211681425571, 0.004770529456436634, 0.0030414587818086147, 0.0018427198519930243, 0.0032085890416055918, 0.004268408752977848, 0.0020556107629090548, 0.007064090576022863, 0.006796426605433226, 0.012554501183331013, 0.006811387371271849, 0.00427536154165864, 0.005392576102167368, 0.004848613869398832, 0.005105010699480772, 0.0049424683675169945, 0.003933418076485395, 0.0050049819983541965, 0.005173773970454931, 0.004955513868480921, 0.006110011599957943, 0.004619915038347244, 0.004825914744287729, 0.005951173137873411, 0.007092698011547327, 0.02174084261059761, 0.009463523514568806, 0.044579263776540756, 0.02671985700726509, 0.025414351373910904, 0.038055118173360825, 0.06686965376138687, 0.0816020593047142], [0.011886934749782085, 0.014918657951056957, 0.004379132762551308, 0.01025265734642744, 0.022831199690699577, 0.0032847190741449594, 0.00594836613163352, 0.008049788884818554, 0.007701114285737276, 0.009870867244899273, 0.013288015499711037, 0.004914821125566959, 0.0032250271178781986, 0.005921552889049053, 0.0032513681799173355, 0.0026795528829097748, 0.0036349561996757984, 0.0033275869209319353, 0.007629841100424528, 0.005707004573196173, 0.00490529416128993, 0.0059408824890851974, 0.0021922728046774864, 0.003950269892811775, 0.003139908192679286, 0.004287987016141415, 0.003992232494056225, 0.009859941899776459, 0.003805651795119047, 0.015615508891642094, 0.005546571686863899, 0.0033822034019976854, 0.003408790798857808, 0.004011425189673901, 0.002428735839203, 0.0021442819852381945, 0.0018043714808300138, 0.002293533645570278, 0.002530881902202964, 0.0030989579390734434, 0.0029171023052185774, 0.0073765842244029045, 0.014507807791233063, 0.011129136197268963, 0.0033290681894868612, 0.007096763700246811, 0.0018229391425848007, 0.002084332751110196, 0.015452074818313122, 0.00233656563796103, 0.004047762602567673, 0.0031618925277143717, 0.004806443117558956, 0.002024225192144513, 0.0018495589029043913, 0.002393638249486685, 0.004196223337203264, 0.008508194237947464, 0.006853783968836069, 0.012538615614175797, 0.008058438077569008, 0.00359505251981318, 0.011657072231173515, 0.004492886830121279, 0.004887477029114962, 0.0035117273218929768, 0.0047045378014445305, 0.007505328860133886, 0.03112698718905449, 0.012412072159349918, 0.0029855112079530954, 0.00406829547137022, 0.009748251177370548, 0.0043838839046657085, 0.012147543951869011, 0.007904593832790852, 0.002100905869156122, 0.0016169578302651644, 0.005475207697600126, 0.0037118701729923487, 0.0023015274200588465, 0.00299436179921031, 0.002090051071718335, 0.004919609986245632, 0.00804120022803545, 0.004521233029663563, 0.002978886943310499, 0.0028331237845122814, 0.005937926471233368, 0.005938943475484848, 0.007984736934304237, 0.020925547927618027, 0.0053007700480520725, 0.0031090499833226204, 0.0027576922439038754, 0.003209803719073534, 0.004023880697786808, 0.0034843573812395334, 0.010741784237325191, 0.0031310420017689466, 0.006854865234345198, 0.014042084105312824, 0.0051766373217105865, 0.004747250583022833, 0.0065843104384839535, 0.0039938101544976234, 0.005558469332754612, 0.0033212138805538416, 0.007182585075497627, 0.012400690466165543, 0.007711186073720455, 0.005454826168715954, 0.004108200315386057, 0.008483356796205044, 0.017083726823329926, 0.007349906489253044, 0.028904374688863754, 0.009947101585566998, 0.06069517880678177, 0.016530083492398262, 0.02169243060052395, 0.01021641306579113, 0.036908771842718124, 0.030286945402622223, 0.05196993798017502], [0.015537136234343052, 0.023781830444931984, 0.007171201519668102, 0.01196970697492361, 0.04440391808748245, 0.004966323263943195, 0.006963185500353575, 0.017255442216992378, 0.014763666316866875, 0.01585339568555355, 0.01720970869064331, 0.003984745126217604, 0.005019083619117737, 0.00634591793641448, 0.00723247742280364, 0.00455115269869566, 0.0076743317767977715, 0.003881103591993451, 0.009561199694871902, 0.008378248661756516, 0.004094836302101612, 0.006029479205608368, 0.0021820419933646917, 0.006651984993368387, 0.0021822075359523296, 0.003907080739736557, 0.0038622035644948483, 0.007438312284648418, 0.005260565783828497, 0.01250654086470604, 0.0034379882272332907, 0.0036579531151801348, 0.003332210471853614, 0.004424579907208681, 0.003726318944245577, 0.001811611233279109, 0.0018868696643039584, 0.0019914181903004646, 0.0017940192483365536, 0.0031409922521561384, 0.0034010643139481544, 0.009339798241853714, 0.009144935756921768, 0.007814363576471806, 0.002268768846988678, 0.006382923573255539, 0.002608837326988578, 0.002403557999059558, 0.013633757829666138, 0.0028460901230573654, 0.004237304907292128, 0.0027431785129010677, 0.003838899778202176, 0.001759517821483314, 0.002382794162258506, 0.002901341998949647, 0.002710642758756876, 0.004648329224437475, 0.0035205488093197346, 0.008752020075917244, 0.0027726315893232822, 0.003440797096118331, 0.010805021971464157, 0.003176815574988723, 0.002753856359049678, 0.005017464980483055, 0.004387200810015202, 0.003380256937816739, 0.0506022684276104, 0.009206850081682205, 0.0024714830797165632, 0.003136971965432167, 0.006381574086844921, 0.002973355818539858, 0.0069162268191576, 0.004572456702589989, 0.0016910855192691088, 0.0012712895404547453, 0.0030623534694314003, 0.002401346107944846, 0.0015630425186827779, 0.0020092735067009926, 0.0021082682069391012, 0.0038817902095615864, 0.006848640739917755, 0.00456478213891387, 0.0031870913226157427, 0.0022420156747102737, 0.0033156322315335274, 0.002118575619533658, 0.008389029651880264, 0.008818540722131729, 0.004716107156127691, 0.0023622915614396334, 0.0022950817365199327, 0.0021260096691548824, 0.0026417660992592573, 0.0036393788177520037, 0.007729667704552412, 0.00300235440954566, 0.007384177763015032, 0.007196369580924511, 0.0035744193010032177, 0.003929120488464832, 0.004510266240686178, 0.0025417711585760117, 0.004233795218169689, 0.0032026178669184446, 0.007889188826084137, 0.005023767240345478, 0.005577082745730877, 0.005074367392808199, 0.009979212656617165, 0.006101760547608137, 0.006597784347832203, 0.01738138124346733, 0.02053097076714039, 0.006770910695195198, 0.055207520723342896, 0.012236797250807285, 0.011823698878288269, 0.011944430880248547, 0.01433880440890789, 0.02106916345655918, 0.03873760253190994, 0.08200071007013321], [0.007242583204060793, 0.004785346332937479, 0.0031657861545681953, 0.007001487538218498, 0.007527209352701902, 0.002220728201791644, 0.004499619361013174, 0.0026697523426264524, 0.0017986827297136188, 0.0076874056831002235, 0.004404764156788588, 0.0029163691215217113, 0.0020732241682708263, 0.004258677829056978, 0.002764272503554821, 0.0015108379302546382, 0.0013099745847284794, 0.0024687540717422962, 0.00655547808855772, 0.0035231742076575756, 0.004159632138907909, 0.0033597007859498262, 0.001598571427166462, 0.0016652292106300592, 0.002152594504877925, 0.003626292571425438, 0.0034235799685120583, 0.007801296655088663, 0.002445569960400462, 0.008102317340672016, 0.0027625602670013905, 0.001950772712007165, 0.0017271674005314708, 0.0032381336204707623, 0.0023029502481222153, 0.0011050631292164326, 0.0017488664016127586, 0.0013377281138673425, 0.0016133773606270552, 0.001968778669834137, 0.0021377806551754475, 0.0065061491914093494, 0.0057615856640040874, 0.004756482318043709, 0.002221677452325821, 0.004286483395844698, 0.001043428317643702, 0.0017369918059557676, 0.011186964809894562, 0.0015749663580209017, 0.0027401859406381845, 0.0020226321648806334, 0.0023960298858582973, 0.0014194126706570387, 0.0012181298807263374, 0.0031540084164589643, 0.0016603244002908468, 0.004389618057757616, 0.0017133969813585281, 0.005703257396817207, 0.0023365148808807135, 0.0015813135541975498, 0.0056055039167404175, 0.00223179766908288, 0.001584200537763536, 0.0038180258125066757, 0.0017063358100131154, 0.003114648861810565, 0.015460210852324963, 0.007913917303085327, 0.0015375232324004173, 0.0021796850487589836, 0.004732312634587288, 0.002147691324353218, 0.0049346876330673695, 0.0034217736683785915, 0.001419809996150434, 0.0017411739099770784, 0.003235495649278164, 0.0027283839881420135, 0.0021059545688331127, 0.002295037265866995, 0.002236643573269248, 0.002190214116126299, 0.004243040923029184, 0.0028629715088754892, 0.0025989445857703686, 0.0018167253583669662, 0.003017846494913101, 0.0023653751704841852, 0.015045586042106152, 0.006001828238368034, 0.003783784108236432, 0.002068638103082776, 0.002067942637950182, 0.002838925924152136, 0.0038034943863749504, 0.0028430053498595953, 0.006759154610335827, 0.001857725321315229, 0.006095606833696365, 0.005894985515624285, 0.0038046797271817923, 0.003440737258642912, 0.0036150459200143814, 0.002690285909920931, 0.007182265166193247, 0.0032717930153012276, 0.005848387256264687, 0.0048182071186602116, 0.0044636973179876804, 0.004263963084667921, 0.010247581638395786, 0.0058638835325837135, 0.004896378610283136, 0.016345316544175148, 0.006530808284878731, 0.01738864928483963, 0.02652662992477417, 0.011149240657687187, 0.015890685841441154, 0.044490598142147064, 0.028168583288788795, 0.05939258635044098, 0.05590470880270004, 0.06584375351667404, 0.2236333191394806]]})\n",
       "\n",
       "             }, function (err) {\n",
       "                console.log(err);\n",
       "            })"
      ],
      "text/plain": [
       "<IPython.core.display.Javascript object>"
      ]
     },
     "metadata": {},
     "output_type": "display_data"
    }
   ],
   "source": [
    "sent = \"There are two children and their mother in the kitchen.\"\n",
    "model_con = ecco.from_pretrained('gpt2', activations=True)\n",
    "con_output = model_con.generate(sent, top_p=0.9, temperature=1)\n",
    "con_output.saliency(style=\"detailed\")"
   ]
  },
  {
   "cell_type": "code",
   "execution_count": 13,
   "metadata": {},
   "outputs": [
    {
     "data": {
      "text/html": [
       "<html lang=\"en\">\n",
       "<script src=\"https://requirejs.org/docs/release/2.3.6/minified/require.js\"></script>\n",
       "<script>\n",
       "    var ecco_url = 'https://storage.googleapis.com/ml-intro/ecco/'\n",
       "    // var ecco_url = 'http://localhost:8000/ecco/'\n",
       "\n",
       "    if (window.ecco === undefined) window.ecco = {}\n",
       "\n",
       "    requirejs.config({\n",
       "        urlArgs: \"bust=\" + (new Date()).getTime(),\n",
       "        nodeRequire: require,\n",
       "        paths: {\n",
       "            d3: \"https://d3js.org/d3.v5.min\",\n",
       "            \"d3-array\": \"https://d3js.org/d3-array.v2.min\",\n",
       "            jquery: \"https://code.jquery.com/jquery-3.5.1.min\",\n",
       "            // oldEcco: ecco_url + 'ecco',\n",
       "            ecco: ecco_url + 'js/0.0.4/ecco-bundle.min',\n",
       "            xregexp: 'https://cdnjs.cloudflare.com/ajax/libs/xregexp/3.2.0/xregexp-all.min'\n",
       "        }\n",
       "    });\n",
       "    requirejs(['d3'],\n",
       "        function (d3) {\n",
       "            d3.select('#css').attr('href', ecco_url + 'html/styles.css')\n",
       "        })\n",
       "\n",
       "    console.log('Ecco initialize.')\n",
       "</script>\n",
       "\n",
       "<head>\n",
       "    <link id='css' rel=\"stylesheet\" type=\"text/css\">\n",
       "</head>\n"
      ],
      "text/plain": [
       "<IPython.core.display.HTML object>"
      ]
     },
     "metadata": {},
     "output_type": "display_data"
    },
    {
     "data": {
      "text/html": [
       "<script>\n",
       "    // console.log('defining basic')\n",
       "    define('basic', ['d3'],\n",
       "        function (d3) {\n",
       "            return {\n",
       "                init: function (viz_id = null) {\n",
       "\n",
       "                    // console.log('basic init')\n",
       "                    if (viz_id == null){\n",
       "                        viz_id = \"viz_\" + Math.round(Math.random() * 10000000)\n",
       "                    }\n",
       "                    const div = d3.select('#basic').attr('id', viz_id),\n",
       "                        div_parent = d3.select('#' + viz_id).node().parentNode\n",
       "\n",
       "                    // Link to CSS file\n",
       "                    d3.select(div_parent).insert('link')\n",
       "                        .attr('rel', 'stylesheet')\n",
       "                        .attr('type', 'text/css')\n",
       "                        .attr('href', ecco_url + 'html/styles.css')\n",
       "\n",
       "                    return viz_id\n",
       "                }\n",
       "            }\n",
       "        }, function (err) {console.log(err);}\n",
       "    )\n",
       "    // console.log('after defining basic')\n",
       "\n",
       "</script>\n",
       "<div id=\"basic\"></div>\n"
      ],
      "text/plain": [
       "<IPython.core.display.HTML object>"
      ]
     },
     "metadata": {},
     "output_type": "display_data"
    },
    {
     "data": {
      "application/javascript": [
       "\n",
       "         requirejs(['basic', 'ecco'], function(basic, ecco){\n",
       "            const viz_id = basic.init()\n",
       "            ecco.interactiveTokensAndFactorSparklines(viz_id, {'tokens': [{'token': 'There', 'token_id': 1858, 'type': 'input', 'position': 0}, {'token': ' are', 'token_id': 389, 'type': 'input', 'position': 1}, {'token': ' two', 'token_id': 734, 'type': 'input', 'position': 2}, {'token': ' children', 'token_id': 1751, 'type': 'input', 'position': 3}, {'token': ' and', 'token_id': 290, 'type': 'input', 'position': 4}, {'token': ' their', 'token_id': 511, 'type': 'input', 'position': 5}, {'token': ' mother', 'token_id': 2802, 'type': 'input', 'position': 6}, {'token': ' in', 'token_id': 287, 'type': 'input', 'position': 7}, {'token': ' the', 'token_id': 262, 'type': 'input', 'position': 8}, {'token': ' kitchen', 'token_id': 9592, 'type': 'input', 'position': 9}, {'token': '.', 'token_id': 13, 'type': 'input', 'position': 10}, {'token': ' They', 'token_id': 1119, 'type': 'output', 'position': 11}, {'token': ' are', 'token_id': 389, 'type': 'output', 'position': 12}, {'token': ' young', 'token_id': 1862, 'type': 'output', 'position': 13}, {'token': ' and', 'token_id': 290, 'type': 'output', 'position': 14}, {'token': ' of', 'token_id': 286, 'type': 'output', 'position': 15}, {'token': ' the', 'token_id': 262, 'type': 'output', 'position': 16}, {'token': ' same', 'token_id': 976, 'type': 'output', 'position': 17}, {'token': ' age', 'token_id': 2479, 'type': 'output', 'position': 18}, {'token': '.', 'token_id': 13, 'type': 'output', 'position': 19}, {'token': ' She', 'token_id': 1375, 'type': 'output', 'position': 20}, {'token': ' looks', 'token_id': 3073, 'type': 'output', 'position': 21}, {'token': ' up', 'token_id': 510, 'type': 'output', 'position': 22}, {'token': ' to', 'token_id': 284, 'type': 'output', 'position': 23}, {'token': ' her', 'token_id': 607, 'type': 'output', 'position': 24}, {'token': ' mother', 'token_id': 2802, 'type': 'output', 'position': 25}, {'token': ' and', 'token_id': 290, 'type': 'output', 'position': 26}, {'token': ' says', 'token_id': 1139, 'type': 'output', 'position': 27}, {'token': ',', 'token_id': 11, 'type': 'output', 'position': 28}, {'token': \" '\", 'token_id': 705, 'type': 'output', 'position': 29}, {'token': 'We', 'token_id': 1135, 'type': 'output', 'position': 30}, {'token': \"'re\", 'token_id': 821, 'type': 'output', 'position': 31}, {'token': ' very', 'token_id': 845, 'type': 'output', 'position': 32}, {'token': ' young', 'token_id': 1862, 'type': 'output', 'position': 33}, {'token': ',', 'token_id': 11, 'type': 'output', 'position': 34}, {'token': ' we', 'token_id': 356, 'type': 'output', 'position': 35}, {'token': ' don', 'token_id': 836, 'type': 'output', 'position': 36}, {'token': \"'t\", 'token_id': 470, 'type': 'output', 'position': 37}, {'token': ' know', 'token_id': 760, 'type': 'output', 'position': 38}, {'token': ' how', 'token_id': 703, 'type': 'output', 'position': 39}, {'token': ' to', 'token_id': 284, 'type': 'output', 'position': 40}, {'token': ' cook', 'token_id': 4255, 'type': 'output', 'position': 41}, {'token': \".'\", 'token_id': 2637, 'type': 'output', 'position': 42}, {'token': ' Then', 'token_id': 3244, 'type': 'output', 'position': 43}, {'token': ' he', 'token_id': 339, 'type': 'output', 'position': 44}, {'token': ' moves', 'token_id': 6100, 'type': 'output', 'position': 45}, {'token': ' in', 'token_id': 287, 'type': 'output', 'position': 46}, {'token': ' to', 'token_id': 284, 'type': 'output', 'position': 47}, {'token': ' greet', 'token_id': 12589, 'type': 'output', 'position': 48}, {'token': ' her', 'token_id': 607, 'type': 'output', 'position': 49}, {'token': '.', 'token_id': 13, 'type': 'output', 'position': 50}, {'token': ' She', 'token_id': 1375, 'type': 'output', 'position': 51}, {'token': ' looks', 'token_id': 3073, 'type': 'output', 'position': 52}, {'token': ' up', 'token_id': 510, 'type': 'output', 'position': 53}, {'token': ' at', 'token_id': 379, 'type': 'output', 'position': 54}, {'token': ' him', 'token_id': 683, 'type': 'output', 'position': 55}, {'token': ' and', 'token_id': 290, 'type': 'output', 'position': 56}, {'token': ' says', 'token_id': 1139, 'type': 'output', 'position': 57}, {'token': ',', 'token_id': 11, 'type': 'output', 'position': 58}, {'token': \" '\", 'token_id': 705, 'type': 'output', 'position': 59}, {'token': 'I', 'token_id': 40, 'type': 'output', 'position': 60}, {'token': ' was', 'token_id': 373, 'type': 'output', 'position': 61}, {'token': ' wondering', 'token_id': 11263, 'type': 'output', 'position': 62}, {'token': ' if', 'token_id': 611, 'type': 'output', 'position': 63}, {'token': ' your', 'token_id': 534, 'type': 'output', 'position': 64}, {'token': ' mother', 'token_id': 2802, 'type': 'output', 'position': 65}, {'token': ' was', 'token_id': 373, 'type': 'output', 'position': 66}, {'token': ' a', 'token_id': 257, 'type': 'output', 'position': 67}, {'token': ' witch', 'token_id': 16365, 'type': 'output', 'position': 68}, {'token': \",'\", 'token_id': 4032, 'type': 'output', 'position': 69}, {'token': ' and', 'token_id': 290, 'type': 'output', 'position': 70}, {'token': ' then', 'token_id': 788, 'type': 'output', 'position': 71}, {'token': ' says', 'token_id': 1139, 'type': 'output', 'position': 72}, {'token': ',', 'token_id': 11, 'type': 'output', 'position': 73}, {'token': \" '\", 'token_id': 705, 'type': 'output', 'position': 74}, {'token': 'How', 'token_id': 2437, 'type': 'output', 'position': 75}, {'token': ' could', 'token_id': 714, 'type': 'output', 'position': 76}, {'token': ' she', 'token_id': 673, 'type': 'output', 'position': 77}, {'token': '?', 'token_id': 30, 'type': 'output', 'position': 78}, {'token': ' You', 'token_id': 921, 'type': 'output', 'position': 79}, {'token': ' know', 'token_id': 760, 'type': 'output', 'position': 80}, {'token': ',', 'token_id': 11, 'type': 'output', 'position': 81}, {'token': ' she', 'token_id': 673, 'type': 'output', 'position': 82}, {'token': ' was', 'token_id': 373, 'type': 'output', 'position': 83}, {'token': ' probably', 'token_id': 2192, 'type': 'output', 'position': 84}, {'token': ' trying', 'token_id': 2111, 'type': 'output', 'position': 85}, {'token': ' to', 'token_id': 284, 'type': 'output', 'position': 86}, {'token': ' make', 'token_id': 787, 'type': 'output', 'position': 87}, {'token': ' me', 'token_id': 502, 'type': 'output', 'position': 88}, {'token': ' an', 'token_id': 281, 'type': 'output', 'position': 89}, {'token': ' animal', 'token_id': 5044, 'type': 'output', 'position': 90}, {'token': \".'\", 'token_id': 2637, 'type': 'output', 'position': 91}, {'token': ' I', 'token_id': 314, 'type': 'output', 'position': 92}, {'token': ' don', 'token_id': 836, 'type': 'output', 'position': 93}, {'token': \"'t\", 'token_id': 470, 'type': 'output', 'position': 94}, {'token': ' know', 'token_id': 760, 'type': 'output', 'position': 95}, {'token': ' how', 'token_id': 703, 'type': 'output', 'position': 96}, {'token': ' to', 'token_id': 284, 'type': 'output', 'position': 97}, {'token': ' explain', 'token_id': 4727, 'type': 'output', 'position': 98}, {'token': ' it', 'token_id': 340, 'type': 'output', 'position': 99}, {'token': '.', 'token_id': 13, 'type': 'output', 'position': 100}, {'token': ' They', 'token_id': 1119, 'type': 'output', 'position': 101}, {'token': \"'re\", 'token_id': 821, 'type': 'output', 'position': 102}, {'token': ' still', 'token_id': 991, 'type': 'output', 'position': 103}, {'token': ' looking', 'token_id': 2045, 'type': 'output', 'position': 104}, {'token': ' at', 'token_id': 379, 'type': 'output', 'position': 105}, {'token': ' each', 'token_id': 1123, 'type': 'output', 'position': 106}, {'token': ' other', 'token_id': 584, 'type': 'output', 'position': 107}, {'token': ',', 'token_id': 11, 'type': 'output', 'position': 108}, {'token': ' but', 'token_id': 475, 'type': 'output', 'position': 109}, {'token': ' now', 'token_id': 783, 'type': 'output', 'position': 110}, {'token': ' it', 'token_id': 340, 'type': 'output', 'position': 111}, {'token': \"'s\", 'token_id': 338, 'type': 'output', 'position': 112}, {'token': ' like', 'token_id': 588, 'type': 'output', 'position': 113}, {'token': ' there', 'token_id': 612, 'type': 'output', 'position': 114}, {'token': \"'s\", 'token_id': 338, 'type': 'output', 'position': 115}, {'token': ' no', 'token_id': 645, 'type': 'output', 'position': 116}, {'token': ' room', 'token_id': 2119, 'type': 'output', 'position': 117}, {'token': '.\"', 'token_id': 526, 'type': 'output', 'position': 118}, {'token': '\\n', 'token_id': 198, 'type': 'output', 'position': 119}, {'token': '\\n', 'token_id': 198, 'type': 'output', 'position': 120}, {'token': 'A', 'token_id': 32, 'type': 'output', 'position': 121}, {'token': ' few', 'token_id': 1178, 'type': 'output', 'position': 122}, {'token': ' years', 'token_id': 812, 'type': 'output', 'position': 123}, {'token': ' after', 'token_id': 706, 'type': 'output', 'position': 124}, {'token': ' the', 'token_id': 262, 'type': 'output', 'position': 125}, {'token': ' discovery', 'token_id': 9412, 'type': 'output', 'position': 126}, {'token': ' of', 'token_id': 286, 'type': 'output', 'position': 127}], 'factors': [[[0.0, 0.0, 0.0, 0.005305425729602575, 0.0, 0.035398710519075394, 0.07179568707942963, 0.0, 0.0, 0.0, 0.0, 0.0, 0.5392598509788513, 0.0, 0.0, 0.04070167616009712, 0.0, 0.0, 0.0, 0.0, 0.0, 0.4031235873699188, 0.0021298157516866922, 0.0, 0.0, 0.005683912429958582, 0.0009646874968893826, 0.016810458153486252, 0.0, 0.0, 0.04015875607728958, 0.5611791610717773, 0.03275246173143387, 0.035675257444381714, 0.0023520290851593018, 0.07801321148872375, 0.5798978805541992, 0.028101369738578796, 0.1952611654996872, 0.0, 0.0, 0.0, 0.0, 0.0, 0.0, 0.29011455178260803, 0.0, 0.0, 0.0, 0.0, 0.019399039447307587, 0.0, 0.41283130645751953, 0.01224475260823965, 0.0, 0.0, 0.0010929518612101674, 0.0, 0.0, 0.0, 0.03630968928337097, 0.5541664361953735, 0.03501875698566437, 0.028406832367181778, 0.004843331407755613, 0.07751130312681198, 0.26727840304374695, 0.0, 0.0, 0.000569489027839154, 0.0, 0.0, 0.0, 0.0, 0.0, 0.01198132149875164, 0.1733352541923523, 0.0, 0.18366870284080505, 0.050469763576984406, 0.5309586524963379, 0.01601490005850792, 0.03263113275170326, 0.4787244200706482, 0.0, 0.0, 0.0, 0.015134252607822418, 0.0, 0.04815089702606201, 0.0, 0.0, 0.0, 0.4485548436641693, 0.0, 0.13726504147052765, 0.0, 0.0, 0.0, 0.0, 0.012837269343435764, 0.00042723907972685993, 0.5268880724906921, 0.003918144851922989, 0.0, 0.0, 0.0, 0.0, 0.0, 0.0, 0.0, 0.0, 0.24096398055553436, 0.0, 0.0, 0.19229348003864288, 0.0, 0.0, 0.0, 0.0, 0.0, 0.0, 0.02175598405301571, 0.00822626706212759, 0.026625150814652443, 0.0, 0.0, 0.0], [0.0, 0.06441523879766464, 0.043409399688243866, 0.0, 0.14084157347679138, 0.014506719075143337, 0.0, 0.06853880733251572, 0.08125662803649902, 0.014422593638300896, 0.9866057634353638, 0.9866057634353638, 0.00363255781121552, 0.0, 0.0, 0.0, 0.0, 0.03788122162222862, 0.0, 0.0, 0.9817410707473755, 0.0, 0.0, 0.0, 0.09544815868139267, 0.0, 0.0, 0.0, 0.0, 0.006954716984182596, 0.18123455345630646, 0.0, 0.0, 0.0, 0.0, 0.37692373991012573, 0.016451343894004822, 0.0, 0.0, 0.0, 0.0, 0.0, 0.0, 1.215000867843628, 0.2576454281806946, 0.0, 0.024051764979958534, 0.0, 0.0, 0.10834430158138275, 0.0, 0.9830742478370667, 0.0, 0.0, 0.0, 0.1120060533285141, 0.0, 0.0, 0.0, 0.0, 0.15920144319534302, 0.0, 0.0, 0.0, 0.1482551395893097, 0.03874325007200241, 0.0, 0.0, 0.0, 0.0, 0.6931226253509521, 0.14201904833316803, 0.0, 0.0, 0.0, 0.2276180237531662, 0.0, 0.14898107945919037, 0.0, 0.8524049520492554, 0.06166597455739975, 0.07697620242834091, 0.3512330949306488, 0.0, 0.0, 0.0, 0.0, 0.0, 0.01630541868507862, 0.0, 0.0, 0.0, 1.192977786064148, 0.06286714971065521, 0.0, 0.0, 0.0, 0.0, 0.0, 0.03553168848156929, 0.06374166160821915, 1.0964012145996094, 0.04567962884902954, 0.008505322970449924, 0.0, 0.0, 0.10285494476556778, 0.0, 0.0, 0.30127766728401184, 0.2616988718509674, 0.1485961526632309, 0.0, 0.004859637003391981, 0.013829462230205536, 0.0, 0.01286817342042923, 0.0, 0.0, 0.7660925388336182, 0.3570055365562439, 0.46573734283447266, 0.12433362752199173, 0.008450844325125217, 0.0, 0.11862819641828537, 0.09418002516031265, 0.010915257036685944], [0.0, 0.35493171215057373, 0.48759397864341736, 0.6497293710708618, 0.19447094202041626, 0.24996766448020935, 0.6977490782737732, 0.35595715045928955, 0.29939770698547363, 0.6170918345451355, 0.03852531313896179, 0.03852531313896179, 0.04096643626689911, 0.03916090354323387, 0.5271229147911072, 0.0, 0.0, 0.029157040640711784, 0.0, 0.482818603515625, 0.012540238909423351, 0.13181696832180023, 0.0, 0.08216661214828491, 0.1441461592912674, 0.3314772844314575, 0.6837737560272217, 0.002862893044948578, 0.024023955687880516, 0.023680074140429497, 0.0, 0.0, 0.0, 0.0, 0.5932232737541199, 0.0, 0.0, 0.0, 0.0, 0.0, 0.0, 0.0, 0.4671933650970459, 0.0, 0.0, 0.0, 0.14766469597816467, 0.2896921932697296, 0.042775288224220276, 0.2914879322052002, 0.4921746551990509, 0.0, 0.0, 0.0, 0.05089234933257103, 0.15602603554725647, 0.31650564074516296, 0.0, 0.0, 0.00764361722394824, 0.0, 0.0, 0.001783642452210188, 0.09848776459693909, 0.08633212745189667, 0.19114498794078827, 0.4935278296470642, 0.045076142996549606, 0.257835328578949, 0.6230401992797852, 0.0911664366722107, 0.0, 0.0, 0.04415515065193176, 0.06786439567804337, 0.0, 0.0, 0.024646827951073647, 0.14593406021595, 0.0, 0.0, 0.01649261638522148, 0.0, 0.10705387592315674, 0.060037724673748016, 0.04325638338923454, 0.28593072295188904, 0.04148836433887482, 0.2725696563720703, 0.15140020847320557, 0.29555007815361023, 0.5494328737258911, 0.0, 0.0, 0.0, 0.0, 0.0, 0.0, 0.0, 0.14339949190616608, 0.33942630887031555, 0.0, 0.0046570319682359695, 0.0, 0.0, 0.0, 0.17675833404064178, 0.4022133946418762, 0.43595537543296814, 0.0, 0.0038762916810810566, 0.08038757741451263, 0.08996574580669403, 0.0, 0.04095587879419327, 0.24831809103488922, 0.10867030173540115, 0.17901064455509186, 0.4612070620059967, 0.16962000727653503, 0.0, 0.21052642166614532, 0.3966061770915985, 0.5186604261398315, 0.6075296401977539, 0.39527422189712524, 0.3536086678504944, 0.5123953819274902], [1.4803993701934814, 0.0013543086824938655, 0.0023206162732094526, 0.0, 0.0, 0.0, 0.0, 0.0006502619362436235, 0.0, 0.0, 0.0, 0.0, 0.0, 0.0, 0.0, 0.0, 0.0, 0.0, 0.0, 0.0008811465813778341, 0.0, 0.0, 0.0, 0.0010574484476819634, 0.002584276255220175, 0.0, 0.0, 0.0, 0.0, 0.0, 0.0, 0.0007869904511608183, 0.0, 0.0005676476284861565, 0.0, 0.0, 0.0, 0.0, 0.0, 0.0, 0.0, 0.0, 0.0, 0.0, 0.0007373741245828569, 0.0, 0.0, 0.002511562779545784, 0.0, 0.0, 0.0, 0.0, 0.0, 0.0, 0.0, 0.0022405642084777355, 0.0, 0.0, 0.0, 0.0, 0.0004639483231585473, 0.0, 0.0, 0.0, 0.0, 0.0001910831342684105, 0.0, 0.0, 0.0, 0.0, 0.0021896238904446363, 0.0, 0.0002449224703013897, 0.0, 0.0, 0.0029221726581454277, 0.0, 0.0014352938160300255, 0.0, 0.0, 0.0, 0.0, 0.0, 0.0, 0.0, 0.0, 0.0004519743088167161, 0.0, 0.0018076280830428004, 0.0, 0.0005001075332984328, 0.0, 0.0, 0.0, 0.0, 0.00040386946056969464, 0.0, 0.0, 0.0, 0.0, 0.0012788136955350637, 0.0, 0.0, 0.0, 0.002444252837449312, 0.0, 0.0020086311269551516, 0.004854465834796429, 0.0010490055428817868, 0.0, 0.0013298398116603494, 0.0018779400270432234, 0.0029141411650925875, 0.0012877006083726883, 0.001043239957652986, 0.014693446457386017, 0.002434736117720604, 0.004914671182632446, 0.0, 0.004465335980057716, 0.0012752464972436428, 0.005077203270047903, 0.006795382592827082, 0.007711923681199551, 0.004692865535616875, 0.006313603837043047, 0.0025877919979393482, 0.0030025579035282135], [0.0, 0.02404838241636753, 0.011352279223501682, 0.0, 0.07264894992113113, 0.0, 0.0, 0.0, 0.0, 0.0, 0.0, 0.0, 0.0, 0.0, 0.0, 0.0, 0.0, 0.0, 0.0, 0.0182905625551939, 0.0, 0.0, 0.0, 0.0, 0.0, 0.0, 0.0, 0.0, 0.03982984647154808, 0.0, 0.0, 0.04115769639611244, 0.0, 0.11972066015005112, 0.11304967850446701, 0.09683499485254288, 0.015313444659113884, 0.002295017708092928, 0.07895909249782562, 0.9897513389587402, 0.9198087453842163, 0.0, 0.17934010922908783, 0.0, 0.13728947937488556, 0.0, 0.07531843334436417, 0.0, 0.0, 0.11614006757736206, 0.0, 0.0, 0.0, 0.0, 0.0, 0.062126729637384415, 0.0, 0.0, 0.0, 0.0, 0.0, 0.05583711341023445, 0.010216595605015755, 0.6541088223457336, 0.5968371629714966, 0.11288771778345108, 0.0, 0.009643573313951492, 0.0029282066971063614, 0.01716461405158043, 0.0, 0.009408467449247837, 0.04273585230112076, 0.0499047227203846, 0.0, 0.02284359745681286, 0.6866406202316284, 0.5136785507202148, 0.018885720521211624, 0.17755717039108276, 0.09043775498867035, 0.7666198015213013, 0.2948131561279297, 0.01096830703318119, 0.013562208041548729, 0.05536726489663124, 0.19724078476428986, 0.0, 0.19223393499851227, 0.0, 0.0, 0.0, 0.0, 0.0, 0.015246188268065453, 0.12801390886306763, 1.0811784267425537, 1.0226103067398071, 0.04252486675977707, 0.5832580327987671, 0.2907262146472931, 0.048909932374954224, 0.0, 0.0, 0.0, 0.04941052570939064, 0.14190931618213654, 0.013180069625377655, 0.0032373482827097178, 0.0, 0.19363443553447723, 0.21538637578487396, 0.0383157879114151, 0.03727785125374794, 0.2538256049156189, 0.134672611951828, 0.12348935753107071, 0.20203398168087006, 0.23235315084457397, 0.0, 0.0, 0.0, 0.0, 0.0, 0.040200043469667435, 0.11383941769599915, 0.0, 0.053820010274648666], [0.0, 0.03378741443157196, 0.005491293966770172, 0.0, 0.29058220982551575, 0.04898631200194359, 0.0, 0.008398253470659256, 0.0, 0.0, 0.008984778076410294, 0.008984778076410294, 0.097493477165699, 0.04674151539802551, 0.0, 0.2098178267478943, 0.0, 0.0, 0.0, 0.0, 0.0, 0.3431273102760315, 0.0, 0.0, 0.09988436847925186, 0.0937332734465599, 0.01882191188633442, 0.9882703423500061, 0.1299332231283188, 0.031891874969005585, 0.0, 0.0, 0.0, 0.0, 0.0, 0.0, 0.0, 0.0, 0.0, 0.0, 0.0, 0.0, 0.0, 0.0, 0.778426468372345, 0.774026095867157, 0.22269928455352783, 0.13718712329864502, 0.3149431645870209, 0.16285952925682068, 0.10047587752342224, 0.09876378625631332, 0.6807898879051208, 0.0, 0.0, 0.19421684741973877, 0.1971033811569214, 1.2048908472061157, 0.11723823845386505, 0.058223575353622437, 0.0, 0.0, 0.0, 0.0, 0.09637566655874252, 0.0, 0.06005452573299408, 0.0, 0.0, 0.0, 0.11274862289428711, 1.0295522212982178, 1.1685428619384766, 0.16571544110774994, 0.08999691903591156, 0.0, 0.0, 0.025112805888056755, 0.0, 0.0, 0.0, 0.021812543272972107, 0.050904277712106705, 0.14635303616523743, 0.0, 0.0, 0.0, 0.015413176268339157, 0.0, 0.0, 0.0, 0.0, 0.0, 0.2960619330406189, 0.03276217356324196, 0.002526183845475316, 0.0, 0.01457079779356718, 0.003801632672548294, 0.016179382801055908, 0.015502617694437504, 0.0, 0.1279442459344864, 0.047108400613069534, 0.08508896827697754, 0.0, 0.08036641031503677, 0.040760476142168045, 0.08138376474380493, 0.25223594903945923, 0.4818161427974701, 0.45105016231536865, 0.39914757013320923, 0.19392886757850647, 0.21008610725402832, 0.06574912369251251, 0.14800122380256653, 0.025289302691817284, 0.0, 0.0, 0.0, 0.0, 0.008912522345781326, 0.11246438324451447, 0.027541792020201683, 0.1546086221933365, 0.02337326481938362, 0.03845728933811188], [0.0, 0.2333889603614807, 0.07140151411294937, 0.06865938007831573, 0.046044088900089264, 0.05934208631515503, 0.010655109770596027, 0.024401703849434853, 0.0, 0.0, 0.0, 0.0, 0.0, 0.7499666810035706, 0.04359352961182594, 0.3252088129520416, 0.03345179930329323, 0.0, 0.0, 0.0, 0.0, 0.0, 0.2480223923921585, 0.0, 0.0, 0.0, 0.0, 0.0, 0.0, 0.0, 0.0, 0.02966432273387909, 0.9059682488441467, 0.5908100008964539, 0.04656436666846275, 0.1315835565328598, 0.020801078528165817, 0.009229649789631367, 0.0479341559112072, 0.0, 0.043818727135658264, 0.0, 0.0, 0.0, 0.0, 0.0, 0.007120470516383648, 0.0, 0.0, 0.0, 0.0, 0.0, 0.0, 0.19024772942066193, 0.0, 0.0, 0.0, 0.0, 0.0, 0.0, 0.0, 0.008560596033930779, 0.796647310256958, 0.012443654239177704, 0.025670142844319344, 0.12264083325862885, 0.0, 0.8609573841094971, 0.2779933214187622, 0.004465483594685793, 0.0, 0.0, 0.0, 0.0, 0.0, 0.0, 0.044098321348428726, 0.008726730942726135, 0.0, 0.025907345116138458, 0.04105677455663681, 0.025694459676742554, 0.1035248264670372, 0.033688172698020935, 0.7549869418144226, 0.6983877420425415, 0.04870649054646492, 0.06343729794025421, 0.08194746822118759, 0.23962445557117462, 0.12857745587825775, 0.018707428127527237, 0.0, 0.0, 0.0, 0.0, 0.0, 0.0, 0.0, 0.0, 0.0, 0.0040681734681129456, 0.01649116910994053, 0.9014107584953308, 0.7987639904022217, 0.14973725378513336, 0.0, 0.0, 0.0, 0.23412077128887177, 0.11364966630935669, 0.0811658501625061, 0.04362648352980614, 0.6360577344894409, 0.2216421663761139, 0.0, 0.42095476388931274, 0.11136122792959213, 0.0, 0.0, 0.0, 0.0, 0.025816217064857483, 0.046334363520145416, 0.0, 0.027501573786139488, 0.005588207393884659, 0.0], [0.0, 0.0, 0.0, 0.0, 0.0, 0.0, 0.0, 0.0, 0.0, 0.0, 0.0, 0.0, 0.03964115306735039, 0.0, 0.0, 0.0, 0.0, 0.0, 0.0, 0.0, 0.0, 0.0, 0.0, 0.0, 0.25137802958488464, 0.013138464652001858, 0.0, 0.014162392355501652, 0.0, 0.0, 0.0, 0.0, 0.0, 0.0, 0.0, 0.0, 0.0, 0.0044173081405460835, 0.7168059945106506, 0.0, 0.01211936492472887, 1.358411431312561, 0.13369837403297424, 0.0, 0.0, 0.0, 0.0, 0.04497704654932022, 0.6443323493003845, 0.0, 0.0, 0.0, 0.0, 0.0, 0.0, 0.001207927823998034, 0.0, 0.015156564302742481, 0.0, 0.0, 0.0, 0.0, 0.0, 0.0, 0.0, 0.022298548370599747, 0.0, 0.06757133454084396, 0.11470695585012436, 0.02023390494287014, 0.0, 0.0, 0.0, 0.0, 0.0, 0.0, 0.0, 0.3617011606693268, 0.7873260378837585, 0.034231141209602356, 0.0, 0.0, 0.0, 0.0, 0.03456515073776245, 0.08910087496042252, 0.15368428826332092, 1.117074728012085, 0.23244024813175201, 0.6726171970367432, 0.25829294323921204, 0.05572417005896568, 0.0, 0.10153920203447342, 0.0, 0.7757927179336548, 0.0, 0.0038269709330052137, 1.3820933103561401, 0.08797557651996613, 0.025603502988815308, 0.013330523855984211, 0.05276866257190704, 0.0, 0.0, 0.0, 0.006122462451457977, 0.0209361482411623, 0.01706279069185257, 0.0, 0.0, 0.0, 0.0, 0.0, 0.0, 0.0, 0.022208845242857933, 0.1999194622039795, 0.0388452522456646, 0.0, 0.0, 0.0, 0.0, 0.0, 0.0005362125812098384, 0.0011463310802355409, 0.026363350450992584, 0.0], [0.0, 0.051191989332437515, 0.01729673705995083, 0.0, 0.0, 0.0, 0.0, 0.015229686163365841, 0.0, 0.0, 0.0, 0.0, 0.0, 0.0, 0.0, 0.0, 0.004566485527902842, 0.003573753871023655, 0.0, 0.0, 0.0, 0.0, 0.0, 0.0, 0.0, 0.0, 0.0, 0.0, 0.0, 0.0, 0.008679774589836597, 0.0, 0.00959863606840372, 0.011920751072466373, 0.0, 0.0, 0.017934413626790047, 1.597791075706482, 0.09893832355737686, 0.00907965749502182, 0.0, 0.0, 0.0, 0.0, 0.0, 0.0, 0.03438775613903999, 0.006266264244914055, 0.0, 0.0, 0.0, 0.0, 0.0, 0.0, 0.0, 0.0, 0.0, 0.0, 0.0, 0.0, 0.01592893712222576, 0.015966098755598068, 0.012536938302218914, 0.011464367620646954, 0.0, 0.0, 0.0, 0.0, 0.0, 0.0042489683255553246, 0.0, 0.0, 0.0, 0.0, 0.0, 0.030203580856323242, 0.0, 0.0, 0.0, 0.0, 0.0, 0.00552671542391181, 0.0, 0.0, 0.0, 0.0, 0.0019048394169658422, 0.0, 0.004371242597699165, 0.0, 0.0, 0.0, 0.0, 0.019989272579550743, 1.4890652894973755, 0.14875034987926483, 0.024147823452949524, 0.0, 0.0, 0.0, 0.0048774173483252525, 0.0, 0.0, 0.0010330283548682928, 0.0, 0.0, 0.0, 0.006693281698971987, 0.0, 0.0, 0.0, 0.0, 0.039378244429826736, 0.008631531149148941, 0.0, 0.022343385964632034, 0.035777218639850616, 0.059270624071359634, 0.01070172805339098, 0.0006627858383581042, 0.7998326420783997, 0.09571730345487595, 0.019921032711863518, 0.015006665140390396, 0.027011293917894363, 0.0, 0.010953588411211967, 0.0017760742921382189], [0.0, 0.0, 0.0, 0.0, 0.0, 0.0, 0.0, 0.034442365169525146, 0.0, 0.011123870499432087, 0.003605065168812871, 0.003605065168812871, 0.0, 0.014696533791720867, 0.016845833510160446, 0.0, 0.038208477199077606, 0.0, 0.0, 0.016295762732625008, 0.0, 0.0, 0.9954065680503845, 1.0040196180343628, 0.32038360834121704, 0.18070882558822632, 0.11686170101165771, 0.020542938262224197, 0.3302062749862671, 0.022592220455408096, 0.0, 0.0, 0.0, 0.020774709060788155, 0.0, 0.0, 0.0, 0.0, 0.0, 0.0, 0.00019408343359827995, 0.0, 0.053663190454244614, 0.017762359231710434, 0.0, 0.0, 0.5414451360702515, 0.34835729002952576, 0.12525589764118195, 0.24094939231872559, 0.1811821460723877, 0.051289480179548264, 0.01126557495445013, 1.164955735206604, 1.046008586883545, 0.35455456376075745, 0.4419899582862854, 0.05690614506602287, 0.3545551002025604, 0.0267436895519495, 0.0, 0.0, 0.00824930053204298, 0.11556502431631088, 0.0, 0.0, 0.0, 0.0, 0.0, 0.0, 0.030682191252708435, 0.0, 0.0, 0.2573988139629364, 0.0, 0.0, 0.0, 0.0, 0.0, 0.0, 0.0, 0.0, 0.0, 0.0, 0.0, 0.0, 0.15346941351890564, 0.0, 0.07012085616588593, 0.0, 0.0, 0.0, 0.004210114013403654, 0.0, 0.026437154039740562, 0.006236373446881771, 0.0, 0.0, 0.0, 0.06091562658548355, 0.07471781224012375, 0.0, 0.0, 0.0, 0.02852402813732624, 0.9632444977760315, 0.36868441104888916, 0.1832205355167389, 0.37596768140792847, 0.083278127014637, 0.0, 0.0, 0.0, 0.03570708632469177, 0.011985629796981812, 0.0, 0.0, 0.0, 0.059890154749155045, 0.0, 0.0, 0.0, 0.0, 0.0, 0.024433311074972153, 0.0, 0.0, 0.0], [0.0, 0.06750521808862686, 0.16755340993404388, 0.04767781123518944, 0.24345217645168304, 0.5169922709465027, 0.019833853468298912, 0.3217586278915405, 0.5060139298439026, 0.03207389637827873, 0.09395541995763779, 0.09395541995763779, 0.08959663659334183, 0.12365192174911499, 0.2167147696018219, 0.4321543574333191, 0.995002269744873, 0.9071643948554993, 1.3878858089447021, 0.2987925410270691, 0.11394425481557846, 0.0, 0.10624917596578598, 0.0, 0.09393339604139328, 0.2638569176197052, 0.0, 0.08742398023605347, 0.0014232663670554757, 0.02236405573785305, 0.01810537837445736, 0.03290354833006859, 0.0, 0.16602715849876404, 0.06563352793455124, 0.12901805341243744, 0.09385571628808975, 0.02094794064760208, 0.11461247503757477, 0.10771486908197403, 0.07816479355096817, 0.06980327516794205, 0.0, 0.0, 0.0, 0.0, 0.0, 0.02099444344639778, 0.08050048351287842, 0.001498125959187746, 0.0, 0.0, 0.0, 0.0, 0.0, 0.033551160246133804, 0.0, 0.0, 0.0, 0.0, 0.0, 0.0, 0.0, 0.0, 0.0, 0.24430422484874725, 0.0, 0.0, 0.2241286188364029, 0.0, 0.0, 0.0, 0.0, 0.0, 0.0, 0.0, 0.03092261031270027, 0.0, 0.0, 0.0, 0.0, 0.0, 0.0, 0.0, 0.0, 0.0, 0.0, 0.0033492776565253735, 0.024307046085596085, 0.0, 0.12520432472229004, 0.0, 0.0, 0.0, 0.0, 0.0, 0.0, 0.0, 0.0, 0.0, 0.0, 0.0, 0.0, 0.0, 0.039727192372083664, 0.0, 0.04707982391119003, 0.1262926459312439, 0.0, 0.012922440655529499, 0.01826559193432331, 0.0, 0.0, 0.0, 0.0, 0.0, 0.0, 0.09035221487283707, 0.0, 0.0, 0.0, 0.0, 0.07897116243839264, 0.06944794952869415, 0.0019132487941533327, 0.017501438036561012, 0.21430863440036774, 0.0], [0.0, 0.0, 0.0, 0.0, 0.0, 0.0, 0.0, 0.0, 0.0, 0.0, 0.0, 0.0, 0.0, 0.0, 0.0, 0.0, 0.0, 0.006330977194011211, 0.0, 0.0, 0.0, 0.0, 0.0, 0.0, 0.0, 0.007393291220068932, 0.0, 0.0, 0.6182612776756287, 0.9690359830856323, 0.9794417023658752, 0.07813361287117004, 0.030123857781291008, 0.019225293770432472, 0.010202485136687756, 0.2292616218328476, 0.008397502824664116, 0.0, 0.0, 0.0, 0.0, 0.0, 0.0, 0.0, 0.0033231177367269993, 0.0, 0.0, 0.011088009923696518, 0.010787669569253922, 0.004790718667209148, 0.014960510656237602, 0.021639788523316383, 0.0, 0.0, 0.010175338014960289, 0.03015900030732155, 0.03970876708626747, 0.0, 0.7087307572364807, 0.9116851687431335, 0.9990967512130737, 0.1504177749156952, 0.01595441624522209, 0.07434754818677902, 0.08137825131416321, 0.05206579342484474, 0.0, 0.0, 0.043040648102760315, 0.000701218843460083, 0.12123101204633713, 0.02228696271777153, 0.02599480375647545, 0.5192270874977112, 0.7723791599273682, 0.8330479860305786, 0.07378390431404114, 0.03176277503371239, 0.0, 0.02000480331480503, 0.0, 0.041536133736371994, 0.20640122890472412, 0.0, 0.0, 0.0, 0.015078974887728691, 0.0, 0.0, 0.0, 0.016962828114628792, 0.0, 0.0, 0.0, 0.0, 0.0, 0.0, 0.0, 0.0, 0.03915229067206383, 0.018631085753440857, 0.0, 0.0, 0.0, 0.0, 0.0, 0.0, 0.009409794583916664, 0.0, 0.166458860039711, 0.0, 0.0, 0.0, 0.026946594938635826, 0.19382421672344208, 0.0586259551346302, 0.035905152559280396, 0.008148708380758762, 0.0, 0.0, 0.0, 0.06485438346862793, 0.004572480451315641, 0.0, 0.0, 0.0, 0.0, 0.0]]]})\n",
       "         }, function (err) {\n",
       "            console.log(err);\n",
       "        })"
      ],
      "text/plain": [
       "<IPython.core.display.Javascript object>"
      ]
     },
     "metadata": {},
     "output_type": "display_data"
    }
   ],
   "source": [
    "nmf1 = con_output.run_nmf(n_components=12)\n",
    "nmf1.explore()"
   ]
  }
 ],
 "metadata": {
  "kernelspec": {
   "display_name": "base",
   "language": "python",
   "name": "base"
  },
  "language_info": {
   "codemirror_mode": {
    "name": "ipython",
    "version": 3
   },
   "file_extension": ".py",
   "mimetype": "text/x-python",
   "name": "python",
   "nbconvert_exporter": "python",
   "pygments_lexer": "ipython3",
   "version": "3.7.6"
  }
 },
 "nbformat": 4,
 "nbformat_minor": 4
}
