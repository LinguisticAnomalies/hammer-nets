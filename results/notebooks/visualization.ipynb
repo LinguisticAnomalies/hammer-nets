{
 "cells": [
  {
   "cell_type": "code",
   "execution_count": 1,
   "metadata": {},
   "outputs": [],
   "source": [
    "import ecco\n",
    "import torch\n",
    "import numpy as np\n",
    "from transformers import GPT2LMHeadModel, GPT2Tokenizer\n",
    "import re"
   ]
  },
  {
   "cell_type": "code",
   "execution_count": 2,
   "metadata": {},
   "outputs": [],
   "source": [
    "# let's remember what we modified so we can restore the model\n",
    "\n",
    "def modify_model_heads(model, layers, heads, memory, share):\n",
    "    \n",
    "    # offset of 1536 is the first value of the Values vector (as in Queries, Keys, Values)\n",
    "    # The next 64 values constitute the first head in the Values vector - there are 12 heads total in \"GPT-2 small\" model\n",
    "    head_offsets = [1536,1536+64,1536+128,1536+192,1536+256,1536+320, \\\n",
    "                    1536+384,1536+448,1536+512,1536+576,1536+640,1536+704]\n",
    "    \n",
    "    end_offset = int(64*(share/100))\n",
    "    # modify\n",
    "    # modify heads in all encoder layers\n",
    "    for layer in layers:\n",
    "        \n",
    "        layer = int(layer)\n",
    "        #print(\"Modifying layer: \",layer)\n",
    "        # step through the 12 heads one at a time\n",
    "        for head in heads:\n",
    "\n",
    "            # get the offset value for the current head\n",
    "            offset = head_offsets[head]\n",
    "\n",
    "            # modify a random 50%\n",
    "            #np.random.seed(1234)\n",
    "            #rnd_index = np.random.randint(offset,offset+63,32) # 50% of the heads\n",
    "            #if head < 3:\n",
    "            #    print(rnd_index)\n",
    "\n",
    "            # step through all 768 rows of the c_attn.weight matrix holding Query-Key-Values matrix (768x2304)\n",
    "            for row in range(0,model.model.transformer.h[layer].attn.c_attn.weight.size()[0]):\n",
    "\n",
    "                # The line below will do a random deletion\n",
    "                #model.transformer.h[layer].attn.c_attn.weight[row][rnd_index] = \\\n",
    "                #    model.transformer.h[layer].attn.c_attn.weight[row][rnd_index].mul(0.0)\n",
    "                \n",
    "\n",
    "                # The line below will randomly shuffle the head corresponding to the \"offset\" (not really reproducible)\n",
    "                #random.shuffle(model.transformer.h[layer].attn.c_attn.weight[row][offset:offset + 31])\n",
    "\n",
    "                with torch.no_grad():\n",
    "                    # remember what we modify\n",
    "                    memory[layer][row][offset:offset + end_offset] = model.model.transformer.h[layer].attn.c_attn.weight[row][offset:offset + end_offset]\n",
    "                \n",
    "                    # The line below will turn all values of the current head to zero (reproducible)\n",
    "                    # zero out only the first 16/32/48/64 values (25/50/75/100%) of each head\n",
    "                    model.model.transformer.h[layer].attn.c_attn.weight[row][offset:offset+end_offset] = \\\n",
    "                        model.model.transformer.h[layer].attn.c_attn.weight[row][offset:offset+end_offset].mul(0.0)\n",
    "                    model.model.transformer.h[layer].attn.c_attn.bias[offset:offset+end_offset] = \\\n",
    "                        model.model.transformer.h[layer].attn.c_attn.bias[offset:offset+end_offset].mul(0.0)\n",
    "                \n",
    "                # The line below will delete the last 50% of the values in each head\n",
    "                #model.transformer.h[layer].attn.c_attn.weight[row][offset+47:offset + 63] = \\\n",
    "                #    model.transformer.h[layer].attn.c_attn.weight[row][offset+47:offset + 63].mul(0.0)\n",
    "\n",
    "                # The line below will delete the middle 50% of the values in each head\n",
    "                #model.transformer.h[layer].attn.c_attn.weight[row][offset+15:offset + 47] = \\\n",
    "                #    model.transformer.h[layer].attn.c_attn.weight[row][offset+15:offset + 47].mul(0.0)\n",
    "\n",
    "                # let's implement a gradual damage across heads\n",
    "                # assuming that \n",
    "                #if head < 8:\n",
    "                #    model.transformer.h[layer].attn.c_attn.weight[row][offset:offset + 31] = \\\n",
    "                #        model.transformer.h[layer].attn.c_attn.weight[row][offset:offset + 31].mul(0.0)\n",
    "                #if head >= 8:\n",
    "                #    model.transformer.h[layer].attn.c_attn.weight[row][offset:offset + 15] = \\\n",
    "                #        model.transformer.h[layer].attn.c_attn.weight[row][offset:offset + 15].mul(0.0)\n",
    "                \n",
    "    return model, memory\n",
    "\n"
   ]
  },
  {
   "cell_type": "code",
   "execution_count": 4,
   "metadata": {},
   "outputs": [],
   "source": [
    "def unmodify_model(model, layers, heads, memory, share):\n",
    "     # offset of 1536 is the first value of the Values vector (as in Queries, Keys, Values)\n",
    "    # The next 64 values constitute the first head in the Values vector - there are 12 heads total in \"GPT-2 small\" model\n",
    "    head_offsets = [1536,1536+64,1536+128,1536+192,1536+256,1536+320, \\\n",
    "                    1536+384,1536+448,1536+512,1536+576,1536+640,1536+704]\n",
    "    \n",
    "    end_offset = int(64*(share/100))\n",
    "    # modify\n",
    "    # modify heads in all encoder layers\n",
    "    for layer in layers:\n",
    "        \n",
    "        layer = int(layer)\n",
    "        #print(\"Un-Modifying layer: \",layer)\n",
    "        # step through the 12 heads one at a time\n",
    "        for head in heads:\n",
    "\n",
    "            # get the offset value for the current head\n",
    "            offset = head_offsets[head]\n",
    "\n",
    "            # step through all 768 rows of the c_attn.weight matrix holding Query-Key-Values matrix (768x2304)\n",
    "            for row in range(memory.shape[1]):\n",
    "\n",
    "                with torch.no_grad():\n",
    "                    # The line below will turn all values of the current head to zero (reproducible)\n",
    "                    # zero out only the first 16/32/48/64 values (25/50/75/100%) of each head\n",
    "                    model.transformer.h[layer].attn.c_attn.weight[row][offset:offset + end_offset] = \\\n",
    "                        memory[layer][row][offset:offset + end_offset]\n",
    "                \n",
    "                \n",
    "    return model\n"
   ]
  },
  {
   "cell_type": "code",
   "execution_count": 3,
   "metadata": {
    "scrolled": true
   },
   "outputs": [
    {
     "name": "stdout",
     "output_type": "stream",
     "text": [
      "env: CUDA_VISIBLE_DEVICES=1\n"
     ]
    }
   ],
   "source": [
    "%env CUDA_VISIBLE_DEVICES=1\n",
    "# Load pre-trained language model. Setting 'activations' to True tells Ecco to capture neuron activations.\n",
    "lm = ecco.from_pretrained('gpt2', activations=True)\n",
    "dlm = ecco.from_pretrained('gpt2', activations=True)\n",
    "\n",
    "layers = list(range(9))\n",
    "heads = [0,1,2,3,4,5,6,7,8,9,10,11]\n",
    "memory = torch.FloatTensor(np.zeros((12,768,2304))).to('cuda')\n",
    "\n",
    "dlm, mem = modify_model_heads(dlm, layers, heads, memory, 50)"
   ]
  },
  {
   "cell_type": "code",
   "execution_count": 215,
   "metadata": {},
   "outputs": [],
   "source": [
    "# Input text\n",
    "text = \"There are two children and their mother in the kitchen. The little boy has climbed up, on a three legged stool to get some cookies from the jar in the cupboard.\"\n",
    "#text = \"The little boy has climbed up, on a three legged stool to get some cookies from the jar in the cupboard.\""
   ]
  },
  {
   "cell_type": "code",
   "execution_count": 220,
   "metadata": {},
   "outputs": [
    {
     "data": {
      "text/html": [
       "<html lang=\"en\">\n",
       "<script src=\"https://requirejs.org/docs/release/2.3.6/minified/require.js\"></script>\n",
       "<script>\n",
       "    var ecco_url = 'https://storage.googleapis.com/ml-intro/ecco/'\n",
       "    // var ecco_url = 'http://localhost:8000/ecco/'\n",
       "\n",
       "    if (window.ecco === undefined) window.ecco = {}\n",
       "\n",
       "    requirejs.config({\n",
       "        urlArgs: \"bust=\" + (new Date()).getTime(),\n",
       "        nodeRequire: require,\n",
       "        paths: {\n",
       "            d3: \"https://d3js.org/d3.v5.min\",\n",
       "            \"d3-array\": \"https://d3js.org/d3-array.v2.min\",\n",
       "            jquery: \"https://code.jquery.com/jquery-3.5.1.min\",\n",
       "            // oldEcco: ecco_url + 'ecco',\n",
       "            ecco: ecco_url + 'js/0.0.4/ecco-bundle.min',\n",
       "            xregexp: 'https://cdnjs.cloudflare.com/ajax/libs/xregexp/3.2.0/xregexp-all.min'\n",
       "        }\n",
       "    });\n",
       "    requirejs(['d3'],\n",
       "        function (d3) {\n",
       "            d3.select('#css').attr('href', ecco_url + 'html/styles.css')\n",
       "        })\n",
       "\n",
       "    console.log('Ecco initialize.')\n",
       "</script>\n",
       "\n",
       "<head>\n",
       "    <link id='css' rel=\"stylesheet\" type=\"text/css\">\n",
       "</head>\n"
      ],
      "text/plain": [
       "<IPython.core.display.HTML object>"
      ]
     },
     "metadata": {},
     "output_type": "display_data"
    },
    {
     "data": {
      "text/html": [
       "<script>\n",
       "    // console.log('defining basic')\n",
       "    define('basic', ['d3'],\n",
       "        function (d3) {\n",
       "            return {\n",
       "                init: function (viz_id = null) {\n",
       "\n",
       "                    // console.log('basic init')\n",
       "                    if (viz_id == null){\n",
       "                        viz_id = \"viz_\" + Math.round(Math.random() * 10000000)\n",
       "                    }\n",
       "                    const div = d3.select('#basic').attr('id', viz_id),\n",
       "                        div_parent = d3.select('#' + viz_id).node().parentNode\n",
       "\n",
       "                    // Link to CSS file\n",
       "                    d3.select(div_parent).insert('link')\n",
       "                        .attr('rel', 'stylesheet')\n",
       "                        .attr('type', 'text/css')\n",
       "                        .attr('href', ecco_url + 'html/styles.css')\n",
       "\n",
       "                    return viz_id\n",
       "                }\n",
       "            }\n",
       "        }, function (err) {console.log(err);}\n",
       "    )\n",
       "    // console.log('after defining basic')\n",
       "\n",
       "</script>\n",
       "<div id=\"basic\"></div>\n"
      ],
      "text/plain": [
       "<IPython.core.display.HTML object>"
      ]
     },
     "metadata": {},
     "output_type": "display_data"
    },
    {
     "data": {
      "application/javascript": [
       "\n",
       "\n",
       "         requirejs( ['basic', 'ecco'], function(basic, ecco){\n",
       "            basic.init('viz_384775')\n",
       "\n",
       "            window.ecco['viz_384775'] = ecco.renderOutputSequence('viz_384775', {'tokens': [{'token': 'There', 'position': 0, 'token_id': 1858, 'type': 'input'}, {'token': ' are', 'position': 1, 'token_id': 389, 'type': 'input'}, {'token': ' two', 'position': 2, 'token_id': 734, 'type': 'input'}, {'token': ' children', 'position': 3, 'token_id': 1751, 'type': 'input'}, {'token': ' and', 'position': 4, 'token_id': 290, 'type': 'input'}, {'token': ' their', 'position': 5, 'token_id': 511, 'type': 'input'}, {'token': ' mother', 'position': 6, 'token_id': 2802, 'type': 'input'}, {'token': ' in', 'position': 7, 'token_id': 287, 'type': 'input'}, {'token': ' the', 'position': 8, 'token_id': 262, 'type': 'input'}, {'token': ' kitchen', 'position': 9, 'token_id': 9592, 'type': 'input'}, {'token': '.', 'position': 10, 'token_id': 13, 'type': 'input'}, {'token': ' The', 'position': 11, 'token_id': 383, 'type': 'input'}, {'token': ' little', 'position': 12, 'token_id': 1310, 'type': 'input'}, {'token': ' boy', 'position': 13, 'token_id': 2933, 'type': 'input'}, {'token': ' has', 'position': 14, 'token_id': 468, 'type': 'input'}, {'token': ' climbed', 'position': 15, 'token_id': 19952, 'type': 'input'}, {'token': ' up', 'position': 16, 'token_id': 510, 'type': 'input'}, {'token': ',', 'position': 17, 'token_id': 11, 'type': 'input'}, {'token': ' on', 'position': 18, 'token_id': 319, 'type': 'input'}, {'token': ' a', 'position': 19, 'token_id': 257, 'type': 'input'}, {'token': ' three', 'position': 20, 'token_id': 1115, 'type': 'input'}, {'token': ' le', 'position': 21, 'token_id': 443, 'type': 'input'}, {'token': 'gged', 'position': 22, 'token_id': 11178, 'type': 'input'}, {'token': ' stool', 'position': 23, 'token_id': 38753, 'type': 'input'}, {'token': ' to', 'position': 24, 'token_id': 284, 'type': 'input'}, {'token': ' get', 'position': 25, 'token_id': 651, 'type': 'input'}, {'token': ' some', 'position': 26, 'token_id': 617, 'type': 'input'}, {'token': ' cookies', 'position': 27, 'token_id': 14746, 'type': 'input'}, {'token': ' from', 'position': 28, 'token_id': 422, 'type': 'input'}, {'token': ' the', 'position': 29, 'token_id': 262, 'type': 'input'}, {'token': ' jar', 'position': 30, 'token_id': 17379, 'type': 'input'}, {'token': ' in', 'position': 31, 'token_id': 287, 'type': 'input'}, {'token': ' the', 'position': 32, 'token_id': 262, 'type': 'input'}, {'token': ' cup', 'position': 33, 'token_id': 6508, 'type': 'input'}, {'token': 'board', 'position': 34, 'token_id': 3526, 'type': 'input'}, {'token': '.', 'position': 35, 'token_id': 13, 'type': 'input'}]})\n",
       "         }, function (err) {\n",
       "            console.log(err);\n",
       "        })\n"
      ],
      "text/plain": [
       "<IPython.core.display.Javascript object>"
      ]
     },
     "metadata": {},
     "output_type": "display_data"
    },
    {
     "data": {
      "application/javascript": [
       "\n",
       "        // We don't really need these require scripts. But this is to avert\n",
       "        //this code from running before display_input_sequence which DOES require external files\n",
       "        requirejs(['basic', 'ecco'], function(basic, ecco){\n",
       "                console.log('addToken viz_id', 'viz_384775');\n",
       "                window.ecco['viz_384775'].addToken({\"token\": \" The\", \"token_id\": 383, \"position\": 36, \"type\": \"output\"})\n",
       "                window.ecco['viz_384775'].redraw()\n",
       "        })\n",
       "        "
      ],
      "text/plain": [
       "<IPython.core.display.Javascript object>"
      ]
     },
     "metadata": {},
     "output_type": "display_data"
    }
   ],
   "source": [
    "\n",
    "# Generate 1 tokens to complete the input text.\n",
    "output = lm.generate(text, generate=1, temperature=1,\n",
    "                     do_sample=True, top_p=0.9)\n",
    "\n",
    "# Ecco will output each token as it is generated.\n",
    "\n",
    "# 'output' now contains the data captured from this run, including the input and output tokens\n",
    "# as well as neuron activations and input saliency values."
   ]
  },
  {
   "cell_type": "code",
   "execution_count": 231,
   "metadata": {},
   "outputs": [
    {
     "data": {
      "text/html": [
       "<html lang=\"en\">\n",
       "<script src=\"https://requirejs.org/docs/release/2.3.6/minified/require.js\"></script>\n",
       "<script>\n",
       "    var ecco_url = 'https://storage.googleapis.com/ml-intro/ecco/'\n",
       "    // var ecco_url = 'http://localhost:8000/ecco/'\n",
       "\n",
       "    if (window.ecco === undefined) window.ecco = {}\n",
       "\n",
       "    requirejs.config({\n",
       "        urlArgs: \"bust=\" + (new Date()).getTime(),\n",
       "        nodeRequire: require,\n",
       "        paths: {\n",
       "            d3: \"https://d3js.org/d3.v5.min\",\n",
       "            \"d3-array\": \"https://d3js.org/d3-array.v2.min\",\n",
       "            jquery: \"https://code.jquery.com/jquery-3.5.1.min\",\n",
       "            // oldEcco: ecco_url + 'ecco',\n",
       "            ecco: ecco_url + 'js/0.0.4/ecco-bundle.min',\n",
       "            xregexp: 'https://cdnjs.cloudflare.com/ajax/libs/xregexp/3.2.0/xregexp-all.min'\n",
       "        }\n",
       "    });\n",
       "    requirejs(['d3'],\n",
       "        function (d3) {\n",
       "            d3.select('#css').attr('href', ecco_url + 'html/styles.css')\n",
       "        })\n",
       "\n",
       "    console.log('Ecco initialize.')\n",
       "</script>\n",
       "\n",
       "<head>\n",
       "    <link id='css' rel=\"stylesheet\" type=\"text/css\">\n",
       "</head>\n"
      ],
      "text/plain": [
       "<IPython.core.display.HTML object>"
      ]
     },
     "metadata": {},
     "output_type": "display_data"
    },
    {
     "data": {
      "text/html": [
       "<script>\n",
       "    // console.log('defining basic')\n",
       "    define('basic', ['d3'],\n",
       "        function (d3) {\n",
       "            return {\n",
       "                init: function (viz_id = null) {\n",
       "\n",
       "                    // console.log('basic init')\n",
       "                    if (viz_id == null){\n",
       "                        viz_id = \"viz_\" + Math.round(Math.random() * 10000000)\n",
       "                    }\n",
       "                    const div = d3.select('#basic').attr('id', viz_id),\n",
       "                        div_parent = d3.select('#' + viz_id).node().parentNode\n",
       "\n",
       "                    // Link to CSS file\n",
       "                    d3.select(div_parent).insert('link')\n",
       "                        .attr('rel', 'stylesheet')\n",
       "                        .attr('type', 'text/css')\n",
       "                        .attr('href', ecco_url + 'html/styles.css')\n",
       "\n",
       "                    return viz_id\n",
       "                }\n",
       "            }\n",
       "        }, function (err) {console.log(err);}\n",
       "    )\n",
       "    // console.log('after defining basic')\n",
       "\n",
       "</script>\n",
       "<div id=\"basic\"></div>\n"
      ],
      "text/plain": [
       "<IPython.core.display.HTML object>"
      ]
     },
     "metadata": {},
     "output_type": "display_data"
    },
    {
     "data": {
      "application/javascript": [
       "\n",
       "\n",
       "         requirejs( ['basic', 'ecco'], function(basic, ecco){\n",
       "            basic.init('viz_604444')\n",
       "\n",
       "            window.ecco['viz_604444'] = ecco.renderOutputSequence('viz_604444', {'tokens': [{'token': 'There', 'position': 0, 'token_id': 1858, 'type': 'input'}, {'token': ' are', 'position': 1, 'token_id': 389, 'type': 'input'}, {'token': ' two', 'position': 2, 'token_id': 734, 'type': 'input'}, {'token': ' children', 'position': 3, 'token_id': 1751, 'type': 'input'}, {'token': ' and', 'position': 4, 'token_id': 290, 'type': 'input'}, {'token': ' their', 'position': 5, 'token_id': 511, 'type': 'input'}, {'token': ' mother', 'position': 6, 'token_id': 2802, 'type': 'input'}, {'token': ' in', 'position': 7, 'token_id': 287, 'type': 'input'}, {'token': ' the', 'position': 8, 'token_id': 262, 'type': 'input'}, {'token': ' kitchen', 'position': 9, 'token_id': 9592, 'type': 'input'}, {'token': '.', 'position': 10, 'token_id': 13, 'type': 'input'}, {'token': ' The', 'position': 11, 'token_id': 383, 'type': 'input'}, {'token': ' little', 'position': 12, 'token_id': 1310, 'type': 'input'}, {'token': ' boy', 'position': 13, 'token_id': 2933, 'type': 'input'}, {'token': ' has', 'position': 14, 'token_id': 468, 'type': 'input'}, {'token': ' climbed', 'position': 15, 'token_id': 19952, 'type': 'input'}, {'token': ' up', 'position': 16, 'token_id': 510, 'type': 'input'}, {'token': ',', 'position': 17, 'token_id': 11, 'type': 'input'}, {'token': ' on', 'position': 18, 'token_id': 319, 'type': 'input'}, {'token': ' a', 'position': 19, 'token_id': 257, 'type': 'input'}, {'token': ' three', 'position': 20, 'token_id': 1115, 'type': 'input'}, {'token': ' le', 'position': 21, 'token_id': 443, 'type': 'input'}, {'token': 'gged', 'position': 22, 'token_id': 11178, 'type': 'input'}, {'token': ' stool', 'position': 23, 'token_id': 38753, 'type': 'input'}, {'token': ' to', 'position': 24, 'token_id': 284, 'type': 'input'}, {'token': ' get', 'position': 25, 'token_id': 651, 'type': 'input'}, {'token': ' some', 'position': 26, 'token_id': 617, 'type': 'input'}, {'token': ' cookies', 'position': 27, 'token_id': 14746, 'type': 'input'}, {'token': ' from', 'position': 28, 'token_id': 422, 'type': 'input'}, {'token': ' the', 'position': 29, 'token_id': 262, 'type': 'input'}, {'token': ' jar', 'position': 30, 'token_id': 17379, 'type': 'input'}, {'token': ' in', 'position': 31, 'token_id': 287, 'type': 'input'}, {'token': ' the', 'position': 32, 'token_id': 262, 'type': 'input'}, {'token': ' cup', 'position': 33, 'token_id': 6508, 'type': 'input'}, {'token': 'board', 'position': 34, 'token_id': 3526, 'type': 'input'}, {'token': '.', 'position': 35, 'token_id': 13, 'type': 'input'}]})\n",
       "         }, function (err) {\n",
       "            console.log(err);\n",
       "        })\n"
      ],
      "text/plain": [
       "<IPython.core.display.Javascript object>"
      ]
     },
     "metadata": {},
     "output_type": "display_data"
    },
    {
     "data": {
      "application/javascript": [
       "\n",
       "        // We don't really need these require scripts. But this is to avert\n",
       "        //this code from running before display_input_sequence which DOES require external files\n",
       "        requirejs(['basic', 'ecco'], function(basic, ecco){\n",
       "                console.log('addToken viz_id', 'viz_604444');\n",
       "                window.ecco['viz_604444'].addToken({\"token\": \" The\", \"token_id\": 383, \"position\": 36, \"type\": \"output\"})\n",
       "                window.ecco['viz_604444'].redraw()\n",
       "        })\n",
       "        "
      ],
      "text/plain": [
       "<IPython.core.display.Javascript object>"
      ]
     },
     "metadata": {},
     "output_type": "display_data"
    }
   ],
   "source": [
    "doutput = dlm.generate(text, generate=1, temperature=1,\n",
    "                       do_sample=True, top_p=0.9)"
   ]
  },
  {
   "cell_type": "code",
   "execution_count": 232,
   "metadata": {},
   "outputs": [
    {
     "data": {
      "text/html": [
       "<html lang=\"en\">\n",
       "<script src=\"https://requirejs.org/docs/release/2.3.6/minified/require.js\"></script>\n",
       "<script>\n",
       "    var ecco_url = 'https://storage.googleapis.com/ml-intro/ecco/'\n",
       "    // var ecco_url = 'http://localhost:8000/ecco/'\n",
       "\n",
       "    if (window.ecco === undefined) window.ecco = {}\n",
       "\n",
       "    requirejs.config({\n",
       "        urlArgs: \"bust=\" + (new Date()).getTime(),\n",
       "        nodeRequire: require,\n",
       "        paths: {\n",
       "            d3: \"https://d3js.org/d3.v5.min\",\n",
       "            \"d3-array\": \"https://d3js.org/d3-array.v2.min\",\n",
       "            jquery: \"https://code.jquery.com/jquery-3.5.1.min\",\n",
       "            // oldEcco: ecco_url + 'ecco',\n",
       "            ecco: ecco_url + 'js/0.0.4/ecco-bundle.min',\n",
       "            xregexp: 'https://cdnjs.cloudflare.com/ajax/libs/xregexp/3.2.0/xregexp-all.min'\n",
       "        }\n",
       "    });\n",
       "    requirejs(['d3'],\n",
       "        function (d3) {\n",
       "            d3.select('#css').attr('href', ecco_url + 'html/styles.css')\n",
       "        })\n",
       "\n",
       "    console.log('Ecco initialize.')\n",
       "</script>\n",
       "\n",
       "<head>\n",
       "    <link id='css' rel=\"stylesheet\" type=\"text/css\">\n",
       "</head>\n"
      ],
      "text/plain": [
       "<IPython.core.display.HTML object>"
      ]
     },
     "metadata": {},
     "output_type": "display_data"
    },
    {
     "data": {
      "text/html": [
       "<script>\n",
       "    // console.log('defining basic')\n",
       "    define('basic', ['d3'],\n",
       "        function (d3) {\n",
       "            return {\n",
       "                init: function (viz_id = null) {\n",
       "\n",
       "                    // console.log('basic init')\n",
       "                    if (viz_id == null){\n",
       "                        viz_id = \"viz_\" + Math.round(Math.random() * 10000000)\n",
       "                    }\n",
       "                    const div = d3.select('#basic').attr('id', viz_id),\n",
       "                        div_parent = d3.select('#' + viz_id).node().parentNode\n",
       "\n",
       "                    // Link to CSS file\n",
       "                    d3.select(div_parent).insert('link')\n",
       "                        .attr('rel', 'stylesheet')\n",
       "                        .attr('type', 'text/css')\n",
       "                        .attr('href', ecco_url + 'html/styles.css')\n",
       "\n",
       "                    return viz_id\n",
       "                }\n",
       "            }\n",
       "        }, function (err) {console.log(err);}\n",
       "    )\n",
       "    // console.log('after defining basic')\n",
       "\n",
       "</script>\n",
       "<div id=\"basic\"></div>\n"
      ],
      "text/plain": [
       "<IPython.core.display.HTML object>"
      ]
     },
     "metadata": {},
     "output_type": "display_data"
    },
    {
     "data": {
      "application/javascript": [
       "\n",
       "             requirejs(['basic', 'ecco'], function(basic, ecco){\n",
       "                const viz_id = basic.init()\n",
       "                // ecco.interactiveTokens(viz_id, {})\n",
       "                window.ecco[viz_id] = new ecco.MinimalHighlighter({\n",
       "                parentDiv: viz_id,\n",
       "                data: {'tokens': [{'token': 'There', 'token_id': 1858, 'type': 'input', 'value': '0.07651889', 'position': 0}, {'token': ' are', 'token_id': 389, 'type': 'input', 'value': '0.037017208', 'position': 1}, {'token': ' two', 'token_id': 734, 'type': 'input', 'value': '0.026749047', 'position': 2}, {'token': ' children', 'token_id': 1751, 'type': 'input', 'value': '0.055257104', 'position': 3}, {'token': ' and', 'token_id': 290, 'type': 'input', 'value': '0.046072174', 'position': 4}, {'token': ' their', 'token_id': 511, 'type': 'input', 'value': '0.016533561', 'position': 5}, {'token': ' mother', 'token_id': 2802, 'type': 'input', 'value': '0.027811976', 'position': 6}, {'token': ' in', 'token_id': 287, 'type': 'input', 'value': '0.01864017', 'position': 7}, {'token': ' the', 'token_id': 262, 'type': 'input', 'value': '0.0257492', 'position': 8}, {'token': ' kitchen', 'token_id': 9592, 'type': 'input', 'value': '0.059141804', 'position': 9}, {'token': '.', 'token_id': 13, 'type': 'input', 'value': '0.05279585', 'position': 10}, {'token': ' The', 'token_id': 383, 'type': 'input', 'value': '0.029115304', 'position': 11}, {'token': ' little', 'token_id': 1310, 'type': 'input', 'value': '0.029230902', 'position': 12}, {'token': ' boy', 'token_id': 2933, 'type': 'input', 'value': '0.05173729', 'position': 13}, {'token': ' has', 'token_id': 468, 'type': 'input', 'value': '0.015479986', 'position': 14}, {'token': ' climbed', 'token_id': 19952, 'type': 'input', 'value': '0.056236066', 'position': 15}, {'token': ' up', 'token_id': 510, 'type': 'input', 'value': '0.008337805', 'position': 16}, {'token': ',', 'token_id': 11, 'type': 'input', 'value': '0.009424874', 'position': 17}, {'token': ' on', 'token_id': 319, 'type': 'input', 'value': '0.004677983', 'position': 18}, {'token': ' a', 'token_id': 257, 'type': 'input', 'value': '0.0050050225', 'position': 19}, {'token': ' three', 'token_id': 1115, 'type': 'input', 'value': '0.009443712', 'position': 20}, {'token': ' le', 'token_id': 443, 'type': 'input', 'value': '0.019057265', 'position': 21}, {'token': 'gged', 'token_id': 11178, 'type': 'input', 'value': '0.041545194', 'position': 22}, {'token': ' stool', 'token_id': 38753, 'type': 'input', 'value': '0.040826865', 'position': 23}, {'token': ' to', 'token_id': 284, 'type': 'input', 'value': '0.009807144', 'position': 24}, {'token': ' get', 'token_id': 651, 'type': 'input', 'value': '0.009238372', 'position': 25}, {'token': ' some', 'token_id': 617, 'type': 'input', 'value': '0.00996799', 'position': 26}, {'token': ' cookies', 'token_id': 14746, 'type': 'input', 'value': '0.037200615', 'position': 27}, {'token': ' from', 'token_id': 422, 'type': 'input', 'value': '0.006801099', 'position': 28}, {'token': ' the', 'token_id': 262, 'type': 'input', 'value': '0.008902929', 'position': 29}, {'token': ' jar', 'token_id': 17379, 'type': 'input', 'value': '0.025944581', 'position': 30}, {'token': ' in', 'token_id': 287, 'type': 'input', 'value': '0.012677492', 'position': 31}, {'token': ' the', 'token_id': 262, 'type': 'input', 'value': '0.00852502', 'position': 32}, {'token': ' cup', 'token_id': 6508, 'type': 'input', 'value': '0.023237934', 'position': 33}, {'token': 'board', 'token_id': 3526, 'type': 'input', 'value': '0.028706066', 'position': 34}, {'token': '.', 'token_id': 13, 'type': 'input', 'value': '0.056585487', 'position': 35}, {'token': ' The', 'token_id': 383, 'type': 'output', 'value': '0', 'position': 36}], 'attributions': [[0.07651889324188232, 0.037017207592725754, 0.02674904651939869, 0.055257104337215424, 0.04607217386364937, 0.016533561050891876, 0.02781197614967823, 0.018640169873833656, 0.025749199092388153, 0.05914180353283882, 0.05279584974050522, 0.029115304350852966, 0.02923090197145939, 0.05173728987574577, 0.015479985624551773, 0.05623606592416763, 0.008337805047631264, 0.009424873627722263, 0.004677983000874519, 0.005005022510886192, 0.009443712420761585, 0.019057264551520348, 0.04154519364237785, 0.040826864540576935, 0.009807144291698933, 0.00923837162554264, 0.009967990219593048, 0.03720061480998993, 0.0068010990507900715, 0.008902928791940212, 0.025944581255316734, 0.012677491642534733, 0.008525020442903042, 0.023237934336066246, 0.02870606631040573, 0.056585486978292465]]},\n",
       "                preset: 'viridis'\n",
       "             })\n",
       "\n",
       "             window.ecco[viz_id].init();\n",
       "             window.ecco[viz_id].selectFirstToken();\n",
       "\n",
       "             }, function (err) {\n",
       "                console.log(err);\n",
       "            })"
      ],
      "text/plain": [
       "<IPython.core.display.Javascript object>"
      ]
     },
     "metadata": {},
     "output_type": "display_data"
    },
    {
     "data": {
      "text/html": [
       "<html lang=\"en\">\n",
       "<script src=\"https://requirejs.org/docs/release/2.3.6/minified/require.js\"></script>\n",
       "<script>\n",
       "    var ecco_url = 'https://storage.googleapis.com/ml-intro/ecco/'\n",
       "    // var ecco_url = 'http://localhost:8000/ecco/'\n",
       "\n",
       "    if (window.ecco === undefined) window.ecco = {}\n",
       "\n",
       "    requirejs.config({\n",
       "        urlArgs: \"bust=\" + (new Date()).getTime(),\n",
       "        nodeRequire: require,\n",
       "        paths: {\n",
       "            d3: \"https://d3js.org/d3.v5.min\",\n",
       "            \"d3-array\": \"https://d3js.org/d3-array.v2.min\",\n",
       "            jquery: \"https://code.jquery.com/jquery-3.5.1.min\",\n",
       "            // oldEcco: ecco_url + 'ecco',\n",
       "            ecco: ecco_url + 'js/0.0.4/ecco-bundle.min',\n",
       "            xregexp: 'https://cdnjs.cloudflare.com/ajax/libs/xregexp/3.2.0/xregexp-all.min'\n",
       "        }\n",
       "    });\n",
       "    requirejs(['d3'],\n",
       "        function (d3) {\n",
       "            d3.select('#css').attr('href', ecco_url + 'html/styles.css')\n",
       "        })\n",
       "\n",
       "    console.log('Ecco initialize.')\n",
       "</script>\n",
       "\n",
       "<head>\n",
       "    <link id='css' rel=\"stylesheet\" type=\"text/css\">\n",
       "</head>\n"
      ],
      "text/plain": [
       "<IPython.core.display.HTML object>"
      ]
     },
     "metadata": {},
     "output_type": "display_data"
    },
    {
     "data": {
      "text/html": [
       "<script>\n",
       "    // console.log('defining basic')\n",
       "    define('basic', ['d3'],\n",
       "        function (d3) {\n",
       "            return {\n",
       "                init: function (viz_id = null) {\n",
       "\n",
       "                    // console.log('basic init')\n",
       "                    if (viz_id == null){\n",
       "                        viz_id = \"viz_\" + Math.round(Math.random() * 10000000)\n",
       "                    }\n",
       "                    const div = d3.select('#basic').attr('id', viz_id),\n",
       "                        div_parent = d3.select('#' + viz_id).node().parentNode\n",
       "\n",
       "                    // Link to CSS file\n",
       "                    d3.select(div_parent).insert('link')\n",
       "                        .attr('rel', 'stylesheet')\n",
       "                        .attr('type', 'text/css')\n",
       "                        .attr('href', ecco_url + 'html/styles.css')\n",
       "\n",
       "                    return viz_id\n",
       "                }\n",
       "            }\n",
       "        }, function (err) {console.log(err);}\n",
       "    )\n",
       "    // console.log('after defining basic')\n",
       "\n",
       "</script>\n",
       "<div id=\"basic\"></div>\n"
      ],
      "text/plain": [
       "<IPython.core.display.HTML object>"
      ]
     },
     "metadata": {},
     "output_type": "display_data"
    },
    {
     "data": {
      "application/javascript": [
       "\n",
       "             requirejs(['basic', 'ecco'], function(basic, ecco){\n",
       "                const viz_id = basic.init()\n",
       "                window.ecco[viz_id] = ecco.interactiveTokens(viz_id, {'tokens': [{'token': 'There', 'token_id': 1858, 'type': 'input', 'value': '0.07651889', 'position': 0}, {'token': ' are', 'token_id': 389, 'type': 'input', 'value': '0.037017208', 'position': 1}, {'token': ' two', 'token_id': 734, 'type': 'input', 'value': '0.026749047', 'position': 2}, {'token': ' children', 'token_id': 1751, 'type': 'input', 'value': '0.055257104', 'position': 3}, {'token': ' and', 'token_id': 290, 'type': 'input', 'value': '0.046072174', 'position': 4}, {'token': ' their', 'token_id': 511, 'type': 'input', 'value': '0.016533561', 'position': 5}, {'token': ' mother', 'token_id': 2802, 'type': 'input', 'value': '0.027811976', 'position': 6}, {'token': ' in', 'token_id': 287, 'type': 'input', 'value': '0.01864017', 'position': 7}, {'token': ' the', 'token_id': 262, 'type': 'input', 'value': '0.0257492', 'position': 8}, {'token': ' kitchen', 'token_id': 9592, 'type': 'input', 'value': '0.059141804', 'position': 9}, {'token': '.', 'token_id': 13, 'type': 'input', 'value': '0.05279585', 'position': 10}, {'token': ' The', 'token_id': 383, 'type': 'input', 'value': '0.029115304', 'position': 11}, {'token': ' little', 'token_id': 1310, 'type': 'input', 'value': '0.029230902', 'position': 12}, {'token': ' boy', 'token_id': 2933, 'type': 'input', 'value': '0.05173729', 'position': 13}, {'token': ' has', 'token_id': 468, 'type': 'input', 'value': '0.015479986', 'position': 14}, {'token': ' climbed', 'token_id': 19952, 'type': 'input', 'value': '0.056236066', 'position': 15}, {'token': ' up', 'token_id': 510, 'type': 'input', 'value': '0.008337805', 'position': 16}, {'token': ',', 'token_id': 11, 'type': 'input', 'value': '0.009424874', 'position': 17}, {'token': ' on', 'token_id': 319, 'type': 'input', 'value': '0.004677983', 'position': 18}, {'token': ' a', 'token_id': 257, 'type': 'input', 'value': '0.0050050225', 'position': 19}, {'token': ' three', 'token_id': 1115, 'type': 'input', 'value': '0.009443712', 'position': 20}, {'token': ' le', 'token_id': 443, 'type': 'input', 'value': '0.019057265', 'position': 21}, {'token': 'gged', 'token_id': 11178, 'type': 'input', 'value': '0.041545194', 'position': 22}, {'token': ' stool', 'token_id': 38753, 'type': 'input', 'value': '0.040826865', 'position': 23}, {'token': ' to', 'token_id': 284, 'type': 'input', 'value': '0.009807144', 'position': 24}, {'token': ' get', 'token_id': 651, 'type': 'input', 'value': '0.009238372', 'position': 25}, {'token': ' some', 'token_id': 617, 'type': 'input', 'value': '0.00996799', 'position': 26}, {'token': ' cookies', 'token_id': 14746, 'type': 'input', 'value': '0.037200615', 'position': 27}, {'token': ' from', 'token_id': 422, 'type': 'input', 'value': '0.006801099', 'position': 28}, {'token': ' the', 'token_id': 262, 'type': 'input', 'value': '0.008902929', 'position': 29}, {'token': ' jar', 'token_id': 17379, 'type': 'input', 'value': '0.025944581', 'position': 30}, {'token': ' in', 'token_id': 287, 'type': 'input', 'value': '0.012677492', 'position': 31}, {'token': ' the', 'token_id': 262, 'type': 'input', 'value': '0.00852502', 'position': 32}, {'token': ' cup', 'token_id': 6508, 'type': 'input', 'value': '0.023237934', 'position': 33}, {'token': 'board', 'token_id': 3526, 'type': 'input', 'value': '0.028706066', 'position': 34}, {'token': '.', 'token_id': 13, 'type': 'input', 'value': '0.056585487', 'position': 35}, {'token': ' The', 'token_id': 383, 'type': 'output', 'value': '0', 'position': 36}], 'attributions': [[0.07651889324188232, 0.037017207592725754, 0.02674904651939869, 0.055257104337215424, 0.04607217386364937, 0.016533561050891876, 0.02781197614967823, 0.018640169873833656, 0.025749199092388153, 0.05914180353283882, 0.05279584974050522, 0.029115304350852966, 0.02923090197145939, 0.05173728987574577, 0.015479985624551773, 0.05623606592416763, 0.008337805047631264, 0.009424873627722263, 0.004677983000874519, 0.005005022510886192, 0.009443712420761585, 0.019057264551520348, 0.04154519364237785, 0.040826864540576935, 0.009807144291698933, 0.00923837162554264, 0.009967990219593048, 0.03720061480998993, 0.0068010990507900715, 0.008902928791940212, 0.025944581255316734, 0.012677491642534733, 0.008525020442903042, 0.023237934336066246, 0.02870606631040573, 0.056585486978292465]]})\n",
       "\n",
       "             }, function (err) {\n",
       "                console.log(err);\n",
       "            })"
      ],
      "text/plain": [
       "<IPython.core.display.Javascript object>"
      ]
     },
     "metadata": {},
     "output_type": "display_data"
    },
    {
     "data": {
      "text/html": [
       "<html lang=\"en\">\n",
       "<script src=\"https://requirejs.org/docs/release/2.3.6/minified/require.js\"></script>\n",
       "<script>\n",
       "    var ecco_url = 'https://storage.googleapis.com/ml-intro/ecco/'\n",
       "    // var ecco_url = 'http://localhost:8000/ecco/'\n",
       "\n",
       "    if (window.ecco === undefined) window.ecco = {}\n",
       "\n",
       "    requirejs.config({\n",
       "        urlArgs: \"bust=\" + (new Date()).getTime(),\n",
       "        nodeRequire: require,\n",
       "        paths: {\n",
       "            d3: \"https://d3js.org/d3.v5.min\",\n",
       "            \"d3-array\": \"https://d3js.org/d3-array.v2.min\",\n",
       "            jquery: \"https://code.jquery.com/jquery-3.5.1.min\",\n",
       "            // oldEcco: ecco_url + 'ecco',\n",
       "            ecco: ecco_url + 'js/0.0.4/ecco-bundle.min',\n",
       "            xregexp: 'https://cdnjs.cloudflare.com/ajax/libs/xregexp/3.2.0/xregexp-all.min'\n",
       "        }\n",
       "    });\n",
       "    requirejs(['d3'],\n",
       "        function (d3) {\n",
       "            d3.select('#css').attr('href', ecco_url + 'html/styles.css')\n",
       "        })\n",
       "\n",
       "    console.log('Ecco initialize.')\n",
       "</script>\n",
       "\n",
       "<head>\n",
       "    <link id='css' rel=\"stylesheet\" type=\"text/css\">\n",
       "</head>\n"
      ],
      "text/plain": [
       "<IPython.core.display.HTML object>"
      ]
     },
     "metadata": {},
     "output_type": "display_data"
    },
    {
     "data": {
      "text/html": [
       "<script>\n",
       "    // console.log('defining basic')\n",
       "    define('basic', ['d3'],\n",
       "        function (d3) {\n",
       "            return {\n",
       "                init: function (viz_id = null) {\n",
       "\n",
       "                    // console.log('basic init')\n",
       "                    if (viz_id == null){\n",
       "                        viz_id = \"viz_\" + Math.round(Math.random() * 10000000)\n",
       "                    }\n",
       "                    const div = d3.select('#basic').attr('id', viz_id),\n",
       "                        div_parent = d3.select('#' + viz_id).node().parentNode\n",
       "\n",
       "                    // Link to CSS file\n",
       "                    d3.select(div_parent).insert('link')\n",
       "                        .attr('rel', 'stylesheet')\n",
       "                        .attr('type', 'text/css')\n",
       "                        .attr('href', ecco_url + 'html/styles.css')\n",
       "\n",
       "                    return viz_id\n",
       "                }\n",
       "            }\n",
       "        }, function (err) {console.log(err);}\n",
       "    )\n",
       "    // console.log('after defining basic')\n",
       "\n",
       "</script>\n",
       "<div id=\"basic\"></div>\n"
      ],
      "text/plain": [
       "<IPython.core.display.HTML object>"
      ]
     },
     "metadata": {},
     "output_type": "display_data"
    },
    {
     "data": {
      "application/javascript": [
       "\n",
       "             requirejs(['basic', 'ecco'], function(basic, ecco){\n",
       "                const viz_id = basic.init()\n",
       "                // ecco.interactiveTokens(viz_id, {})\n",
       "                window.ecco[viz_id] = new ecco.MinimalHighlighter({\n",
       "                parentDiv: viz_id,\n",
       "                data: {'tokens': [{'token': 'There', 'token_id': 1858, 'type': 'input', 'value': '0.028580908', 'position': 0}, {'token': ' are', 'token_id': 389, 'type': 'input', 'value': '0.022216775', 'position': 1}, {'token': ' two', 'token_id': 734, 'type': 'input', 'value': '0.015844619', 'position': 2}, {'token': ' children', 'token_id': 1751, 'type': 'input', 'value': '0.025137402', 'position': 3}, {'token': ' and', 'token_id': 290, 'type': 'input', 'value': '0.013726573', 'position': 4}, {'token': ' their', 'token_id': 511, 'type': 'input', 'value': '0.01440106', 'position': 5}, {'token': ' mother', 'token_id': 2802, 'type': 'input', 'value': '0.027650302', 'position': 6}, {'token': ' in', 'token_id': 287, 'type': 'input', 'value': '0.017455252', 'position': 7}, {'token': ' the', 'token_id': 262, 'type': 'input', 'value': '0.027535062', 'position': 8}, {'token': ' kitchen', 'token_id': 9592, 'type': 'input', 'value': '0.056834392', 'position': 9}, {'token': '.', 'token_id': 13, 'type': 'input', 'value': '0.08388358', 'position': 10}, {'token': ' The', 'token_id': 383, 'type': 'input', 'value': '0.04349983', 'position': 11}, {'token': ' little', 'token_id': 1310, 'type': 'input', 'value': '0.013417349', 'position': 12}, {'token': ' boy', 'token_id': 2933, 'type': 'input', 'value': '0.01762294', 'position': 13}, {'token': ' has', 'token_id': 468, 'type': 'input', 'value': '0.012011403', 'position': 14}, {'token': ' climbed', 'token_id': 19952, 'type': 'input', 'value': '0.031049246', 'position': 15}, {'token': ' up', 'token_id': 510, 'type': 'input', 'value': '0.012168692', 'position': 16}, {'token': ',', 'token_id': 11, 'type': 'input', 'value': '0.01647425', 'position': 17}, {'token': ' on', 'token_id': 319, 'type': 'input', 'value': '0.010706279', 'position': 18}, {'token': ' a', 'token_id': 257, 'type': 'input', 'value': '0.015680723', 'position': 19}, {'token': ' three', 'token_id': 1115, 'type': 'input', 'value': '0.023344653', 'position': 20}, {'token': ' le', 'token_id': 443, 'type': 'input', 'value': '0.020561839', 'position': 21}, {'token': 'gged', 'token_id': 11178, 'type': 'input', 'value': '0.038545355', 'position': 22}, {'token': ' stool', 'token_id': 38753, 'type': 'input', 'value': '0.05701316', 'position': 23}, {'token': ' to', 'token_id': 284, 'type': 'input', 'value': '0.01478886', 'position': 24}, {'token': ' get', 'token_id': 651, 'type': 'input', 'value': '0.016178522', 'position': 25}, {'token': ' some', 'token_id': 617, 'type': 'input', 'value': '0.019425308', 'position': 26}, {'token': ' cookies', 'token_id': 14746, 'type': 'input', 'value': '0.026685553', 'position': 27}, {'token': ' from', 'token_id': 422, 'type': 'input', 'value': '0.007887497', 'position': 28}, {'token': ' the', 'token_id': 262, 'type': 'input', 'value': '0.01715465', 'position': 29}, {'token': ' jar', 'token_id': 17379, 'type': 'input', 'value': '0.034425247', 'position': 30}, {'token': ' in', 'token_id': 287, 'type': 'input', 'value': '0.008731668', 'position': 31}, {'token': ' the', 'token_id': 262, 'type': 'input', 'value': '0.026382191', 'position': 32}, {'token': ' cup', 'token_id': 6508, 'type': 'input', 'value': '0.04692875', 'position': 33}, {'token': 'board', 'token_id': 3526, 'type': 'input', 'value': '0.0816977', 'position': 34}, {'token': '.', 'token_id': 13, 'type': 'input', 'value': '0.05435238', 'position': 35}, {'token': ' The', 'token_id': 383, 'type': 'output', 'value': '0', 'position': 36}], 'attributions': [[0.028580907732248306, 0.02221677452325821, 0.015844618901610374, 0.02513740211725235, 0.013726573437452316, 0.014401059597730637, 0.02765030227601528, 0.01745525188744068, 0.02753506228327751, 0.0568343922495842, 0.08388358354568481, 0.04349983111023903, 0.013417349196970463, 0.017622940242290497, 0.01201140321791172, 0.031049245968461037, 0.01216869242489338, 0.016474250704050064, 0.010706279426813126, 0.015680722892284393, 0.023344652727246284, 0.020561838522553444, 0.03854535520076752, 0.05701316148042679, 0.014788860455155373, 0.016178522258996964, 0.01942530833184719, 0.026685552671551704, 0.00788749661296606, 0.017154650762677193, 0.034425247460603714, 0.008731667883694172, 0.026382191106677055, 0.04692874848842621, 0.08169770240783691, 0.05435238033533096]]},\n",
       "                preset: 'viridis'\n",
       "             })\n",
       "\n",
       "             window.ecco[viz_id].init();\n",
       "             window.ecco[viz_id].selectFirstToken();\n",
       "\n",
       "             }, function (err) {\n",
       "                console.log(err);\n",
       "            })"
      ],
      "text/plain": [
       "<IPython.core.display.Javascript object>"
      ]
     },
     "metadata": {},
     "output_type": "display_data"
    },
    {
     "data": {
      "text/html": [
       "<html lang=\"en\">\n",
       "<script src=\"https://requirejs.org/docs/release/2.3.6/minified/require.js\"></script>\n",
       "<script>\n",
       "    var ecco_url = 'https://storage.googleapis.com/ml-intro/ecco/'\n",
       "    // var ecco_url = 'http://localhost:8000/ecco/'\n",
       "\n",
       "    if (window.ecco === undefined) window.ecco = {}\n",
       "\n",
       "    requirejs.config({\n",
       "        urlArgs: \"bust=\" + (new Date()).getTime(),\n",
       "        nodeRequire: require,\n",
       "        paths: {\n",
       "            d3: \"https://d3js.org/d3.v5.min\",\n",
       "            \"d3-array\": \"https://d3js.org/d3-array.v2.min\",\n",
       "            jquery: \"https://code.jquery.com/jquery-3.5.1.min\",\n",
       "            // oldEcco: ecco_url + 'ecco',\n",
       "            ecco: ecco_url + 'js/0.0.4/ecco-bundle.min',\n",
       "            xregexp: 'https://cdnjs.cloudflare.com/ajax/libs/xregexp/3.2.0/xregexp-all.min'\n",
       "        }\n",
       "    });\n",
       "    requirejs(['d3'],\n",
       "        function (d3) {\n",
       "            d3.select('#css').attr('href', ecco_url + 'html/styles.css')\n",
       "        })\n",
       "\n",
       "    console.log('Ecco initialize.')\n",
       "</script>\n",
       "\n",
       "<head>\n",
       "    <link id='css' rel=\"stylesheet\" type=\"text/css\">\n",
       "</head>\n"
      ],
      "text/plain": [
       "<IPython.core.display.HTML object>"
      ]
     },
     "metadata": {},
     "output_type": "display_data"
    },
    {
     "data": {
      "text/html": [
       "<script>\n",
       "    // console.log('defining basic')\n",
       "    define('basic', ['d3'],\n",
       "        function (d3) {\n",
       "            return {\n",
       "                init: function (viz_id = null) {\n",
       "\n",
       "                    // console.log('basic init')\n",
       "                    if (viz_id == null){\n",
       "                        viz_id = \"viz_\" + Math.round(Math.random() * 10000000)\n",
       "                    }\n",
       "                    const div = d3.select('#basic').attr('id', viz_id),\n",
       "                        div_parent = d3.select('#' + viz_id).node().parentNode\n",
       "\n",
       "                    // Link to CSS file\n",
       "                    d3.select(div_parent).insert('link')\n",
       "                        .attr('rel', 'stylesheet')\n",
       "                        .attr('type', 'text/css')\n",
       "                        .attr('href', ecco_url + 'html/styles.css')\n",
       "\n",
       "                    return viz_id\n",
       "                }\n",
       "            }\n",
       "        }, function (err) {console.log(err);}\n",
       "    )\n",
       "    // console.log('after defining basic')\n",
       "\n",
       "</script>\n",
       "<div id=\"basic\"></div>\n"
      ],
      "text/plain": [
       "<IPython.core.display.HTML object>"
      ]
     },
     "metadata": {},
     "output_type": "display_data"
    },
    {
     "data": {
      "application/javascript": [
       "\n",
       "             requirejs(['basic', 'ecco'], function(basic, ecco){\n",
       "                const viz_id = basic.init()\n",
       "                window.ecco[viz_id] = ecco.interactiveTokens(viz_id, {'tokens': [{'token': 'There', 'token_id': 1858, 'type': 'input', 'value': '0.028580908', 'position': 0}, {'token': ' are', 'token_id': 389, 'type': 'input', 'value': '0.022216775', 'position': 1}, {'token': ' two', 'token_id': 734, 'type': 'input', 'value': '0.015844619', 'position': 2}, {'token': ' children', 'token_id': 1751, 'type': 'input', 'value': '0.025137402', 'position': 3}, {'token': ' and', 'token_id': 290, 'type': 'input', 'value': '0.013726573', 'position': 4}, {'token': ' their', 'token_id': 511, 'type': 'input', 'value': '0.01440106', 'position': 5}, {'token': ' mother', 'token_id': 2802, 'type': 'input', 'value': '0.027650302', 'position': 6}, {'token': ' in', 'token_id': 287, 'type': 'input', 'value': '0.017455252', 'position': 7}, {'token': ' the', 'token_id': 262, 'type': 'input', 'value': '0.027535062', 'position': 8}, {'token': ' kitchen', 'token_id': 9592, 'type': 'input', 'value': '0.056834392', 'position': 9}, {'token': '.', 'token_id': 13, 'type': 'input', 'value': '0.08388358', 'position': 10}, {'token': ' The', 'token_id': 383, 'type': 'input', 'value': '0.04349983', 'position': 11}, {'token': ' little', 'token_id': 1310, 'type': 'input', 'value': '0.013417349', 'position': 12}, {'token': ' boy', 'token_id': 2933, 'type': 'input', 'value': '0.01762294', 'position': 13}, {'token': ' has', 'token_id': 468, 'type': 'input', 'value': '0.012011403', 'position': 14}, {'token': ' climbed', 'token_id': 19952, 'type': 'input', 'value': '0.031049246', 'position': 15}, {'token': ' up', 'token_id': 510, 'type': 'input', 'value': '0.012168692', 'position': 16}, {'token': ',', 'token_id': 11, 'type': 'input', 'value': '0.01647425', 'position': 17}, {'token': ' on', 'token_id': 319, 'type': 'input', 'value': '0.010706279', 'position': 18}, {'token': ' a', 'token_id': 257, 'type': 'input', 'value': '0.015680723', 'position': 19}, {'token': ' three', 'token_id': 1115, 'type': 'input', 'value': '0.023344653', 'position': 20}, {'token': ' le', 'token_id': 443, 'type': 'input', 'value': '0.020561839', 'position': 21}, {'token': 'gged', 'token_id': 11178, 'type': 'input', 'value': '0.038545355', 'position': 22}, {'token': ' stool', 'token_id': 38753, 'type': 'input', 'value': '0.05701316', 'position': 23}, {'token': ' to', 'token_id': 284, 'type': 'input', 'value': '0.01478886', 'position': 24}, {'token': ' get', 'token_id': 651, 'type': 'input', 'value': '0.016178522', 'position': 25}, {'token': ' some', 'token_id': 617, 'type': 'input', 'value': '0.019425308', 'position': 26}, {'token': ' cookies', 'token_id': 14746, 'type': 'input', 'value': '0.026685553', 'position': 27}, {'token': ' from', 'token_id': 422, 'type': 'input', 'value': '0.007887497', 'position': 28}, {'token': ' the', 'token_id': 262, 'type': 'input', 'value': '0.01715465', 'position': 29}, {'token': ' jar', 'token_id': 17379, 'type': 'input', 'value': '0.034425247', 'position': 30}, {'token': ' in', 'token_id': 287, 'type': 'input', 'value': '0.008731668', 'position': 31}, {'token': ' the', 'token_id': 262, 'type': 'input', 'value': '0.026382191', 'position': 32}, {'token': ' cup', 'token_id': 6508, 'type': 'input', 'value': '0.04692875', 'position': 33}, {'token': 'board', 'token_id': 3526, 'type': 'input', 'value': '0.0816977', 'position': 34}, {'token': '.', 'token_id': 13, 'type': 'input', 'value': '0.05435238', 'position': 35}, {'token': ' The', 'token_id': 383, 'type': 'output', 'value': '0', 'position': 36}], 'attributions': [[0.028580907732248306, 0.02221677452325821, 0.015844618901610374, 0.02513740211725235, 0.013726573437452316, 0.014401059597730637, 0.02765030227601528, 0.01745525188744068, 0.02753506228327751, 0.0568343922495842, 0.08388358354568481, 0.04349983111023903, 0.013417349196970463, 0.017622940242290497, 0.01201140321791172, 0.031049245968461037, 0.01216869242489338, 0.016474250704050064, 0.010706279426813126, 0.015680722892284393, 0.023344652727246284, 0.020561838522553444, 0.03854535520076752, 0.05701316148042679, 0.014788860455155373, 0.016178522258996964, 0.01942530833184719, 0.026685552671551704, 0.00788749661296606, 0.017154650762677193, 0.034425247460603714, 0.008731667883694172, 0.026382191106677055, 0.04692874848842621, 0.08169770240783691, 0.05435238033533096]]})\n",
       "\n",
       "             }, function (err) {\n",
       "                console.log(err);\n",
       "            })"
      ],
      "text/plain": [
       "<IPython.core.display.Javascript object>"
      ]
     },
     "metadata": {},
     "output_type": "display_data"
    }
   ],
   "source": [
    "output.saliency()\n",
    "output.saliency(style=\"detailed\")\n",
    "doutput.saliency()\n",
    "doutput.saliency(style=\"detailed\")"
   ]
  },
  {
   "cell_type": "code",
   "execution_count": 48,
   "metadata": {},
   "outputs": [
    {
     "data": {
      "text/html": [
       "<html lang=\"en\">\n",
       "<script src=\"https://requirejs.org/docs/release/2.3.6/minified/require.js\"></script>\n",
       "<script>\n",
       "    var ecco_url = 'https://storage.googleapis.com/ml-intro/ecco/'\n",
       "    // var ecco_url = 'http://localhost:8000/ecco/'\n",
       "\n",
       "    if (window.ecco === undefined) window.ecco = {}\n",
       "\n",
       "    requirejs.config({\n",
       "        urlArgs: \"bust=\" + (new Date()).getTime(),\n",
       "        nodeRequire: require,\n",
       "        paths: {\n",
       "            d3: \"https://d3js.org/d3.v5.min\",\n",
       "            \"d3-array\": \"https://d3js.org/d3-array.v2.min\",\n",
       "            jquery: \"https://code.jquery.com/jquery-3.5.1.min\",\n",
       "            // oldEcco: ecco_url + 'ecco',\n",
       "            ecco: ecco_url + 'js/0.0.4/ecco-bundle.min',\n",
       "            xregexp: 'https://cdnjs.cloudflare.com/ajax/libs/xregexp/3.2.0/xregexp-all.min'\n",
       "        }\n",
       "    });\n",
       "    requirejs(['d3'],\n",
       "        function (d3) {\n",
       "            d3.select('#css').attr('href', ecco_url + 'html/styles.css')\n",
       "        })\n",
       "\n",
       "    console.log('Ecco initialize.')\n",
       "</script>\n",
       "\n",
       "<head>\n",
       "    <link id='css' rel=\"stylesheet\" type=\"text/css\">\n",
       "</head>\n"
      ],
      "text/plain": [
       "<IPython.core.display.HTML object>"
      ]
     },
     "metadata": {},
     "output_type": "display_data"
    },
    {
     "data": {
      "text/html": [
       "<script>\n",
       "    // console.log('defining basic')\n",
       "    define('basic', ['d3'],\n",
       "        function (d3) {\n",
       "            return {\n",
       "                init: function (viz_id = null) {\n",
       "\n",
       "                    // console.log('basic init')\n",
       "                    if (viz_id == null){\n",
       "                        viz_id = \"viz_\" + Math.round(Math.random() * 10000000)\n",
       "                    }\n",
       "                    const div = d3.select('#basic').attr('id', viz_id),\n",
       "                        div_parent = d3.select('#' + viz_id).node().parentNode\n",
       "\n",
       "                    // Link to CSS file\n",
       "                    d3.select(div_parent).insert('link')\n",
       "                        .attr('rel', 'stylesheet')\n",
       "                        .attr('type', 'text/css')\n",
       "                        .attr('href', ecco_url + 'html/styles.css')\n",
       "\n",
       "                    return viz_id\n",
       "                }\n",
       "            }\n",
       "        }, function (err) {console.log(err);}\n",
       "    )\n",
       "    // console.log('after defining basic')\n",
       "\n",
       "</script>\n",
       "<div id=\"basic\"></div>\n"
      ],
      "text/plain": [
       "<IPython.core.display.HTML object>"
      ]
     },
     "metadata": {},
     "output_type": "display_data"
    },
    {
     "data": {
      "application/javascript": [
       "\n",
       "         requirejs(['basic', 'ecco'], function(basic, ecco){\n",
       "            const viz_id = basic.init()\n",
       "\n",
       "\n",
       "            let pred = new ecco.LayerPredictions({\n",
       "                parentDiv: viz_id,\n",
       "                data:[[{\"token\": \" the\", \"prob\": \"0.9925472\", \"ranking\": 1, \"layer\": 0}, {\"token\": \",\", \"prob\": \"0.007270215\", \"ranking\": 2, \"layer\": 0}, {\"token\": \"\\n\", \"prob\": \"0.00018149876\", \"ranking\": 3, \"layer\": 0}, {\"token\": \" and\", \"prob\": \"5.77336e-07\", \"ranking\": 4, \"layer\": 0}, {\"token\": \" a\", \"prob\": \"2.7584463e-07\", \"ranking\": 5, \"layer\": 0}, {\"token\": \".\", \"prob\": \"2.613259e-07\", \"ranking\": 6, \"layer\": 0}, {\"token\": \"-\", \"prob\": \"1.4429743e-08\", \"ranking\": 7, \"layer\": 0}, {\"token\": \" \\\"\", \"prob\": \"5.0163207e-09\", \"ranking\": 8, \"layer\": 0}, {\"token\": \" (\", \"prob\": \"3.1838135e-10\", \"ranking\": 9, \"layer\": 0}, {\"token\": \" in\", \"prob\": \"7.7856215e-11\", \"ranking\": 10, \"layer\": 0}], [{\"token\": \" the\", \"prob\": \"0.99914646\", \"ranking\": 1, \"layer\": 1}, {\"token\": \",\", \"prob\": \"0.0008535551\", \"ranking\": 2, \"layer\": 1}, {\"token\": \"-\", \"prob\": \"2.9359313e-27\", \"ranking\": 3, \"layer\": 1}, {\"token\": \" and\", \"prob\": \"1.391716e-28\", \"ranking\": 4, \"layer\": 1}, {\"token\": \".\", \"prob\": \"8.0756356e-32\", \"ranking\": 5, \"layer\": 1}, {\"token\": \" a\", \"prob\": \"6.757337e-32\", \"ranking\": 6, \"layer\": 1}, {\"token\": \"\\n\", \"prob\": \"2.736995e-35\", \"ranking\": 7, \"layer\": 1}, {\"token\": \" in\", \"prob\": \"3.95e-43\", \"ranking\": 8, \"layer\": 1}, {\"token\": \"<|endoftext|>\", \"prob\": \"0.0\", \"ranking\": 9, \"layer\": 1}, {\"token\": \" gazed\", \"prob\": \"0.0\", \"ranking\": 10, \"layer\": 1}], [{\"token\": \" the\", \"prob\": \"0.9999976\", \"ranking\": 1, \"layer\": 2}, {\"token\": \",\", \"prob\": \"2.3249684e-06\", \"ranking\": 2, \"layer\": 2}, {\"token\": \"<|endoftext|>\", \"prob\": \"0.0\", \"ranking\": 3, \"layer\": 2}, {\"token\": \" gazed\", \"prob\": \"0.0\", \"ranking\": 4, \"layer\": 2}, {\"token\": \" informants\", \"prob\": \"0.0\", \"ranking\": 5, \"layer\": 2}, {\"token\": \" Collider\", \"prob\": \"0.0\", \"ranking\": 6, \"layer\": 2}, {\"token\": \" regress\", \"prob\": \"0.0\", \"ranking\": 7, \"layer\": 2}, {\"token\": \"ominated\", \"prob\": \"0.0\", \"ranking\": 8, \"layer\": 2}, {\"token\": \" amplification\", \"prob\": \"0.0\", \"ranking\": 9, \"layer\": 2}, {\"token\": \"Compar\", \"prob\": \"0.0\", \"ranking\": 10, \"layer\": 2}], [{\"token\": \" the\", \"prob\": \"0.99999917\", \"ranking\": 1, \"layer\": 3}, {\"token\": \",\", \"prob\": \"7.949037e-07\", \"ranking\": 2, \"layer\": 3}, {\"token\": \"<|endoftext|>\", \"prob\": \"0.0\", \"ranking\": 3, \"layer\": 3}, {\"token\": \" gazed\", \"prob\": \"0.0\", \"ranking\": 4, \"layer\": 3}, {\"token\": \" informants\", \"prob\": \"0.0\", \"ranking\": 5, \"layer\": 3}, {\"token\": \" Collider\", \"prob\": \"0.0\", \"ranking\": 6, \"layer\": 3}, {\"token\": \" regress\", \"prob\": \"0.0\", \"ranking\": 7, \"layer\": 3}, {\"token\": \"ominated\", \"prob\": \"0.0\", \"ranking\": 8, \"layer\": 3}, {\"token\": \" amplification\", \"prob\": \"0.0\", \"ranking\": 9, \"layer\": 3}, {\"token\": \"Compar\", \"prob\": \"0.0\", \"ranking\": 10, \"layer\": 3}], [{\"token\": \" the\", \"prob\": \"0.9999994\", \"ranking\": 1, \"layer\": 4}, {\"token\": \",\", \"prob\": \"5.43867e-07\", \"ranking\": 2, \"layer\": 4}, {\"token\": \"<|endoftext|>\", \"prob\": \"0.0\", \"ranking\": 3, \"layer\": 4}, {\"token\": \" gazed\", \"prob\": \"0.0\", \"ranking\": 4, \"layer\": 4}, {\"token\": \" informants\", \"prob\": \"0.0\", \"ranking\": 5, \"layer\": 4}, {\"token\": \" Collider\", \"prob\": \"0.0\", \"ranking\": 6, \"layer\": 4}, {\"token\": \" regress\", \"prob\": \"0.0\", \"ranking\": 7, \"layer\": 4}, {\"token\": \"ominated\", \"prob\": \"0.0\", \"ranking\": 8, \"layer\": 4}, {\"token\": \" amplification\", \"prob\": \"0.0\", \"ranking\": 9, \"layer\": 4}, {\"token\": \"Compar\", \"prob\": \"0.0\", \"ranking\": 10, \"layer\": 4}], [{\"token\": \" the\", \"prob\": \"0.9999994\", \"ranking\": 1, \"layer\": 5}, {\"token\": \",\", \"prob\": \"6.059873e-07\", \"ranking\": 2, \"layer\": 5}, {\"token\": \"<|endoftext|>\", \"prob\": \"0.0\", \"ranking\": 3, \"layer\": 5}, {\"token\": \" gazed\", \"prob\": \"0.0\", \"ranking\": 4, \"layer\": 5}, {\"token\": \" informants\", \"prob\": \"0.0\", \"ranking\": 5, \"layer\": 5}, {\"token\": \" Collider\", \"prob\": \"0.0\", \"ranking\": 6, \"layer\": 5}, {\"token\": \" regress\", \"prob\": \"0.0\", \"ranking\": 7, \"layer\": 5}, {\"token\": \"ominated\", \"prob\": \"0.0\", \"ranking\": 8, \"layer\": 5}, {\"token\": \" amplification\", \"prob\": \"0.0\", \"ranking\": 9, \"layer\": 5}, {\"token\": \"Compar\", \"prob\": \"0.0\", \"ranking\": 10, \"layer\": 5}], [{\"token\": \" the\", \"prob\": \"0.9999994\", \"ranking\": 1, \"layer\": 6}, {\"token\": \",\", \"prob\": \"6.031828e-07\", \"ranking\": 2, \"layer\": 6}, {\"token\": \"<|endoftext|>\", \"prob\": \"0.0\", \"ranking\": 3, \"layer\": 6}, {\"token\": \" gazed\", \"prob\": \"0.0\", \"ranking\": 4, \"layer\": 6}, {\"token\": \" informants\", \"prob\": \"0.0\", \"ranking\": 5, \"layer\": 6}, {\"token\": \" Collider\", \"prob\": \"0.0\", \"ranking\": 6, \"layer\": 6}, {\"token\": \" regress\", \"prob\": \"0.0\", \"ranking\": 7, \"layer\": 6}, {\"token\": \"ominated\", \"prob\": \"0.0\", \"ranking\": 8, \"layer\": 6}, {\"token\": \" amplification\", \"prob\": \"0.0\", \"ranking\": 9, \"layer\": 6}, {\"token\": \"Compar\", \"prob\": \"0.0\", \"ranking\": 10, \"layer\": 6}], [{\"token\": \" the\", \"prob\": \"0.9999994\", \"ranking\": 1, \"layer\": 7}, {\"token\": \",\", \"prob\": \"6.0377215e-07\", \"ranking\": 2, \"layer\": 7}, {\"token\": \"<|endoftext|>\", \"prob\": \"0.0\", \"ranking\": 3, \"layer\": 7}, {\"token\": \" gazed\", \"prob\": \"0.0\", \"ranking\": 4, \"layer\": 7}, {\"token\": \" informants\", \"prob\": \"0.0\", \"ranking\": 5, \"layer\": 7}, {\"token\": \" Collider\", \"prob\": \"0.0\", \"ranking\": 6, \"layer\": 7}, {\"token\": \" regress\", \"prob\": \"0.0\", \"ranking\": 7, \"layer\": 7}, {\"token\": \"ominated\", \"prob\": \"0.0\", \"ranking\": 8, \"layer\": 7}, {\"token\": \" amplification\", \"prob\": \"0.0\", \"ranking\": 9, \"layer\": 7}, {\"token\": \"Compar\", \"prob\": \"0.0\", \"ranking\": 10, \"layer\": 7}], [{\"token\": \" the\", \"prob\": \"0.999998\", \"ranking\": 1, \"layer\": 8}, {\"token\": \",\", \"prob\": \"2.0415348e-06\", \"ranking\": 2, \"layer\": 8}, {\"token\": \"<|endoftext|>\", \"prob\": \"0.0\", \"ranking\": 3, \"layer\": 8}, {\"token\": \" gazed\", \"prob\": \"0.0\", \"ranking\": 4, \"layer\": 8}, {\"token\": \" informants\", \"prob\": \"0.0\", \"ranking\": 5, \"layer\": 8}, {\"token\": \" Collider\", \"prob\": \"0.0\", \"ranking\": 6, \"layer\": 8}, {\"token\": \" regress\", \"prob\": \"0.0\", \"ranking\": 7, \"layer\": 8}, {\"token\": \"ominated\", \"prob\": \"0.0\", \"ranking\": 8, \"layer\": 8}, {\"token\": \" amplification\", \"prob\": \"0.0\", \"ranking\": 9, \"layer\": 8}, {\"token\": \"Compar\", \"prob\": \"0.0\", \"ranking\": 10, \"layer\": 8}], [{\"token\": \" the\", \"prob\": \"0.9999975\", \"ranking\": 1, \"layer\": 9}, {\"token\": \",\", \"prob\": \"2.5345344e-06\", \"ranking\": 2, \"layer\": 9}, {\"token\": \"<|endoftext|>\", \"prob\": \"0.0\", \"ranking\": 3, \"layer\": 9}, {\"token\": \" gazed\", \"prob\": \"0.0\", \"ranking\": 4, \"layer\": 9}, {\"token\": \" informants\", \"prob\": \"0.0\", \"ranking\": 5, \"layer\": 9}, {\"token\": \" Collider\", \"prob\": \"0.0\", \"ranking\": 6, \"layer\": 9}, {\"token\": \" regress\", \"prob\": \"0.0\", \"ranking\": 7, \"layer\": 9}, {\"token\": \"ominated\", \"prob\": \"0.0\", \"ranking\": 8, \"layer\": 9}, {\"token\": \" amplification\", \"prob\": \"0.0\", \"ranking\": 9, \"layer\": 9}, {\"token\": \"Compar\", \"prob\": \"0.0\", \"ranking\": 10, \"layer\": 9}], [{\"token\": \" the\", \"prob\": \"0.99999654\", \"ranking\": 1, \"layer\": 10}, {\"token\": \",\", \"prob\": \"3.422263e-06\", \"ranking\": 2, \"layer\": 10}, {\"token\": \"<|endoftext|>\", \"prob\": \"0.0\", \"ranking\": 3, \"layer\": 10}, {\"token\": \" gazed\", \"prob\": \"0.0\", \"ranking\": 4, \"layer\": 10}, {\"token\": \" informants\", \"prob\": \"0.0\", \"ranking\": 5, \"layer\": 10}, {\"token\": \" Collider\", \"prob\": \"0.0\", \"ranking\": 6, \"layer\": 10}, {\"token\": \" regress\", \"prob\": \"0.0\", \"ranking\": 7, \"layer\": 10}, {\"token\": \"ominated\", \"prob\": \"0.0\", \"ranking\": 8, \"layer\": 10}, {\"token\": \" amplification\", \"prob\": \"0.0\", \"ranking\": 9, \"layer\": 10}, {\"token\": \"Compar\", \"prob\": \"0.0\", \"ranking\": 10, \"layer\": 10}], [{\"token\": \"\\n\", \"prob\": \"0.031086339\", \"ranking\": 1, \"layer\": 11}, {\"token\": \" the\", \"prob\": \"0.018797973\", \"ranking\": 2, \"layer\": 11}, {\"token\": \" a\", \"prob\": \"0.009518503\", \"ranking\": 3, \"layer\": 11}, {\"token\": \",\", \"prob\": \"0.008658038\", \"ranking\": 4, \"layer\": 11}, {\"token\": \" and\", \"prob\": \"0.008452797\", \"ranking\": 5, \"layer\": 11}, {\"token\": \" \\\"\", \"prob\": \"0.008295569\", \"ranking\": 6, \"layer\": 11}, {\"token\": \" to\", \"prob\": \"0.007207563\", \"ranking\": 7, \"layer\": 11}, {\"token\": \".\", \"prob\": \"0.006617792\", \"ranking\": 8, \"layer\": 11}, {\"token\": \" in\", \"prob\": \"0.0059155184\", \"ranking\": 9, \"layer\": 11}, {\"token\": \" I\", \"prob\": \"0.005060487\", \"ranking\": 10, \"layer\": 11}]]\n",
       "            })\n",
       "            pred.init()\n",
       "         }, function (err) {\n",
       "            console.log(viz_id, err);\n",
       "        })"
      ],
      "text/plain": [
       "<IPython.core.display.Javascript object>"
      ]
     },
     "metadata": {},
     "output_type": "display_data"
    }
   ],
   "source": [
    "doutput.layer_predictions()"
   ]
  },
  {
   "cell_type": "code",
   "execution_count": 46,
   "metadata": {},
   "outputs": [
    {
     "data": {
      "text/html": [
       "<html lang=\"en\">\n",
       "<script src=\"https://requirejs.org/docs/release/2.3.6/minified/require.js\"></script>\n",
       "<script>\n",
       "    var ecco_url = 'https://storage.googleapis.com/ml-intro/ecco/'\n",
       "    // var ecco_url = 'http://localhost:8000/ecco/'\n",
       "\n",
       "    if (window.ecco === undefined) window.ecco = {}\n",
       "\n",
       "    requirejs.config({\n",
       "        urlArgs: \"bust=\" + (new Date()).getTime(),\n",
       "        nodeRequire: require,\n",
       "        paths: {\n",
       "            d3: \"https://d3js.org/d3.v5.min\",\n",
       "            \"d3-array\": \"https://d3js.org/d3-array.v2.min\",\n",
       "            jquery: \"https://code.jquery.com/jquery-3.5.1.min\",\n",
       "            // oldEcco: ecco_url + 'ecco',\n",
       "            ecco: ecco_url + 'js/0.0.4/ecco-bundle.min',\n",
       "            xregexp: 'https://cdnjs.cloudflare.com/ajax/libs/xregexp/3.2.0/xregexp-all.min'\n",
       "        }\n",
       "    });\n",
       "    requirejs(['d3'],\n",
       "        function (d3) {\n",
       "            d3.select('#css').attr('href', ecco_url + 'html/styles.css')\n",
       "        })\n",
       "\n",
       "    console.log('Ecco initialize.')\n",
       "</script>\n",
       "\n",
       "<head>\n",
       "    <link id='css' rel=\"stylesheet\" type=\"text/css\">\n",
       "</head>\n"
      ],
      "text/plain": [
       "<IPython.core.display.HTML object>"
      ]
     },
     "metadata": {},
     "output_type": "display_data"
    },
    {
     "data": {
      "text/html": [
       "<script>\n",
       "    // console.log('defining basic')\n",
       "    define('basic', ['d3'],\n",
       "        function (d3) {\n",
       "            return {\n",
       "                init: function (viz_id = null) {\n",
       "\n",
       "                    // console.log('basic init')\n",
       "                    if (viz_id == null){\n",
       "                        viz_id = \"viz_\" + Math.round(Math.random() * 10000000)\n",
       "                    }\n",
       "                    const div = d3.select('#basic').attr('id', viz_id),\n",
       "                        div_parent = d3.select('#' + viz_id).node().parentNode\n",
       "\n",
       "                    // Link to CSS file\n",
       "                    d3.select(div_parent).insert('link')\n",
       "                        .attr('rel', 'stylesheet')\n",
       "                        .attr('type', 'text/css')\n",
       "                        .attr('href', ecco_url + 'html/styles.css')\n",
       "\n",
       "                    return viz_id\n",
       "                }\n",
       "            }\n",
       "        }, function (err) {console.log(err);}\n",
       "    )\n",
       "    // console.log('after defining basic')\n",
       "\n",
       "</script>\n",
       "<div id=\"basic\"></div>\n"
      ],
      "text/plain": [
       "<IPython.core.display.HTML object>"
      ]
     },
     "metadata": {},
     "output_type": "display_data"
    },
    {
     "data": {
      "application/javascript": [
       "\n",
       "         requirejs(['basic', 'ecco'], function(basic, ecco){\n",
       "            const viz_id = basic.init()\n",
       "\n",
       "\n",
       "            let pred = new ecco.LayerPredictions({\n",
       "                parentDiv: viz_id,\n",
       "                data:[[{\"token\": \" the\", \"prob\": \"0.9551783\", \"ranking\": 1, \"layer\": 0}, {\"token\": \",\", \"prob\": \"0.044771187\", \"ranking\": 2, \"layer\": 0}, {\"token\": \"\\n\", \"prob\": \"4.96682e-05\", \"ranking\": 3, \"layer\": 0}, {\"token\": \".\", \"prob\": \"4.0138193e-07\", \"ranking\": 4, \"layer\": 0}, {\"token\": \" and\", \"prob\": \"3.932823e-07\", \"ranking\": 5, \"layer\": 0}, {\"token\": \" a\", \"prob\": \"1.505863e-07\", \"ranking\": 6, \"layer\": 0}, {\"token\": \"-\", \"prob\": \"2.012792e-08\", \"ranking\": 7, \"layer\": 0}, {\"token\": \" \\\"\", \"prob\": \"5.5281673e-09\", \"ranking\": 8, \"layer\": 0}, {\"token\": \" (\", \"prob\": \"6.1827776e-10\", \"ranking\": 9, \"layer\": 0}, {\"token\": \" in\", \"prob\": \"1.8957236e-10\", \"ranking\": 10, \"layer\": 0}], [{\"token\": \" the\", \"prob\": \"0.99606615\", \"ranking\": 1, \"layer\": 1}, {\"token\": \",\", \"prob\": \"0.0039339103\", \"ranking\": 2, \"layer\": 1}, {\"token\": \"-\", \"prob\": \"7.2440966e-27\", \"ranking\": 3, \"layer\": 1}, {\"token\": \" and\", \"prob\": \"1.2612622e-28\", \"ranking\": 4, \"layer\": 1}, {\"token\": \".\", \"prob\": \"4.636148e-32\", \"ranking\": 5, \"layer\": 1}, {\"token\": \" a\", \"prob\": \"1.7720782e-32\", \"ranking\": 6, \"layer\": 1}, {\"token\": \"\\n\", \"prob\": \"1.2404868e-35\", \"ranking\": 7, \"layer\": 1}, {\"token\": \" in\", \"prob\": \"9e-43\", \"ranking\": 8, \"layer\": 1}, {\"token\": \"<|endoftext|>\", \"prob\": \"0.0\", \"ranking\": 9, \"layer\": 1}, {\"token\": \" gazed\", \"prob\": \"0.0\", \"ranking\": 10, \"layer\": 1}], [{\"token\": \" the\", \"prob\": \"0.99998224\", \"ranking\": 1, \"layer\": 2}, {\"token\": \",\", \"prob\": \"1.7715727e-05\", \"ranking\": 2, \"layer\": 2}, {\"token\": \"<|endoftext|>\", \"prob\": \"0.0\", \"ranking\": 3, \"layer\": 2}, {\"token\": \" gazed\", \"prob\": \"0.0\", \"ranking\": 4, \"layer\": 2}, {\"token\": \" informants\", \"prob\": \"0.0\", \"ranking\": 5, \"layer\": 2}, {\"token\": \" Collider\", \"prob\": \"0.0\", \"ranking\": 6, \"layer\": 2}, {\"token\": \" regress\", \"prob\": \"0.0\", \"ranking\": 7, \"layer\": 2}, {\"token\": \"ominated\", \"prob\": \"0.0\", \"ranking\": 8, \"layer\": 2}, {\"token\": \" amplification\", \"prob\": \"0.0\", \"ranking\": 9, \"layer\": 2}, {\"token\": \"Compar\", \"prob\": \"0.0\", \"ranking\": 10, \"layer\": 2}], [{\"token\": \" the\", \"prob\": \"0.9999889\", \"ranking\": 1, \"layer\": 3}, {\"token\": \",\", \"prob\": \"1.1036333e-05\", \"ranking\": 2, \"layer\": 3}, {\"token\": \"<|endoftext|>\", \"prob\": \"0.0\", \"ranking\": 3, \"layer\": 3}, {\"token\": \" gazed\", \"prob\": \"0.0\", \"ranking\": 4, \"layer\": 3}, {\"token\": \" informants\", \"prob\": \"0.0\", \"ranking\": 5, \"layer\": 3}, {\"token\": \" Collider\", \"prob\": \"0.0\", \"ranking\": 6, \"layer\": 3}, {\"token\": \" regress\", \"prob\": \"0.0\", \"ranking\": 7, \"layer\": 3}, {\"token\": \"ominated\", \"prob\": \"0.0\", \"ranking\": 8, \"layer\": 3}, {\"token\": \" amplification\", \"prob\": \"0.0\", \"ranking\": 9, \"layer\": 3}, {\"token\": \"Compar\", \"prob\": \"0.0\", \"ranking\": 10, \"layer\": 3}], [{\"token\": \" the\", \"prob\": \"0.9999887\", \"ranking\": 1, \"layer\": 4}, {\"token\": \",\", \"prob\": \"1.1298049e-05\", \"ranking\": 2, \"layer\": 4}, {\"token\": \"<|endoftext|>\", \"prob\": \"0.0\", \"ranking\": 3, \"layer\": 4}, {\"token\": \" gazed\", \"prob\": \"0.0\", \"ranking\": 4, \"layer\": 4}, {\"token\": \" informants\", \"prob\": \"0.0\", \"ranking\": 5, \"layer\": 4}, {\"token\": \" Collider\", \"prob\": \"0.0\", \"ranking\": 6, \"layer\": 4}, {\"token\": \" regress\", \"prob\": \"0.0\", \"ranking\": 7, \"layer\": 4}, {\"token\": \"ominated\", \"prob\": \"0.0\", \"ranking\": 8, \"layer\": 4}, {\"token\": \" amplification\", \"prob\": \"0.0\", \"ranking\": 9, \"layer\": 4}, {\"token\": \"Compar\", \"prob\": \"0.0\", \"ranking\": 10, \"layer\": 4}], [{\"token\": \" the\", \"prob\": \"0.9999857\", \"ranking\": 1, \"layer\": 5}, {\"token\": \",\", \"prob\": \"1.4358947e-05\", \"ranking\": 2, \"layer\": 5}, {\"token\": \"<|endoftext|>\", \"prob\": \"0.0\", \"ranking\": 3, \"layer\": 5}, {\"token\": \" gazed\", \"prob\": \"0.0\", \"ranking\": 4, \"layer\": 5}, {\"token\": \" informants\", \"prob\": \"0.0\", \"ranking\": 5, \"layer\": 5}, {\"token\": \" Collider\", \"prob\": \"0.0\", \"ranking\": 6, \"layer\": 5}, {\"token\": \" regress\", \"prob\": \"0.0\", \"ranking\": 7, \"layer\": 5}, {\"token\": \"ominated\", \"prob\": \"0.0\", \"ranking\": 8, \"layer\": 5}, {\"token\": \" amplification\", \"prob\": \"0.0\", \"ranking\": 9, \"layer\": 5}, {\"token\": \"Compar\", \"prob\": \"0.0\", \"ranking\": 10, \"layer\": 5}], [{\"token\": \" the\", \"prob\": \"0.9999831\", \"ranking\": 1, \"layer\": 6}, {\"token\": \",\", \"prob\": \"1.6910672e-05\", \"ranking\": 2, \"layer\": 6}, {\"token\": \"<|endoftext|>\", \"prob\": \"0.0\", \"ranking\": 3, \"layer\": 6}, {\"token\": \" gazed\", \"prob\": \"0.0\", \"ranking\": 4, \"layer\": 6}, {\"token\": \" informants\", \"prob\": \"0.0\", \"ranking\": 5, \"layer\": 6}, {\"token\": \" Collider\", \"prob\": \"0.0\", \"ranking\": 6, \"layer\": 6}, {\"token\": \" regress\", \"prob\": \"0.0\", \"ranking\": 7, \"layer\": 6}, {\"token\": \"ominated\", \"prob\": \"0.0\", \"ranking\": 8, \"layer\": 6}, {\"token\": \" amplification\", \"prob\": \"0.0\", \"ranking\": 9, \"layer\": 6}, {\"token\": \"Compar\", \"prob\": \"0.0\", \"ranking\": 10, \"layer\": 6}], [{\"token\": \" the\", \"prob\": \"0.9999808\", \"ranking\": 1, \"layer\": 7}, {\"token\": \",\", \"prob\": \"1.9232559e-05\", \"ranking\": 2, \"layer\": 7}, {\"token\": \"<|endoftext|>\", \"prob\": \"0.0\", \"ranking\": 3, \"layer\": 7}, {\"token\": \" gazed\", \"prob\": \"0.0\", \"ranking\": 4, \"layer\": 7}, {\"token\": \" informants\", \"prob\": \"0.0\", \"ranking\": 5, \"layer\": 7}, {\"token\": \" Collider\", \"prob\": \"0.0\", \"ranking\": 6, \"layer\": 7}, {\"token\": \" regress\", \"prob\": \"0.0\", \"ranking\": 7, \"layer\": 7}, {\"token\": \"ominated\", \"prob\": \"0.0\", \"ranking\": 8, \"layer\": 7}, {\"token\": \" amplification\", \"prob\": \"0.0\", \"ranking\": 9, \"layer\": 7}, {\"token\": \"Compar\", \"prob\": \"0.0\", \"ranking\": 10, \"layer\": 7}], [{\"token\": \" the\", \"prob\": \"0.9999722\", \"ranking\": 1, \"layer\": 8}, {\"token\": \",\", \"prob\": \"2.7805905e-05\", \"ranking\": 2, \"layer\": 8}, {\"token\": \"<|endoftext|>\", \"prob\": \"0.0\", \"ranking\": 3, \"layer\": 8}, {\"token\": \" gazed\", \"prob\": \"0.0\", \"ranking\": 4, \"layer\": 8}, {\"token\": \" informants\", \"prob\": \"0.0\", \"ranking\": 5, \"layer\": 8}, {\"token\": \" Collider\", \"prob\": \"0.0\", \"ranking\": 6, \"layer\": 8}, {\"token\": \" regress\", \"prob\": \"0.0\", \"ranking\": 7, \"layer\": 8}, {\"token\": \"ominated\", \"prob\": \"0.0\", \"ranking\": 8, \"layer\": 8}, {\"token\": \" amplification\", \"prob\": \"0.0\", \"ranking\": 9, \"layer\": 8}, {\"token\": \"Compar\", \"prob\": \"0.0\", \"ranking\": 10, \"layer\": 8}], [{\"token\": \" the\", \"prob\": \"0.9999615\", \"ranking\": 1, \"layer\": 9}, {\"token\": \",\", \"prob\": \"3.8528935e-05\", \"ranking\": 2, \"layer\": 9}, {\"token\": \"<|endoftext|>\", \"prob\": \"0.0\", \"ranking\": 3, \"layer\": 9}, {\"token\": \" gazed\", \"prob\": \"0.0\", \"ranking\": 4, \"layer\": 9}, {\"token\": \" informants\", \"prob\": \"0.0\", \"ranking\": 5, \"layer\": 9}, {\"token\": \" Collider\", \"prob\": \"0.0\", \"ranking\": 6, \"layer\": 9}, {\"token\": \" regress\", \"prob\": \"0.0\", \"ranking\": 7, \"layer\": 9}, {\"token\": \"ominated\", \"prob\": \"0.0\", \"ranking\": 8, \"layer\": 9}, {\"token\": \" amplification\", \"prob\": \"0.0\", \"ranking\": 9, \"layer\": 9}, {\"token\": \"Compar\", \"prob\": \"0.0\", \"ranking\": 10, \"layer\": 9}], [{\"token\": \" the\", \"prob\": \"0.99993193\", \"ranking\": 1, \"layer\": 10}, {\"token\": \",\", \"prob\": \"6.8032365e-05\", \"ranking\": 2, \"layer\": 10}, {\"token\": \"<|endoftext|>\", \"prob\": \"0.0\", \"ranking\": 3, \"layer\": 10}, {\"token\": \" gazed\", \"prob\": \"0.0\", \"ranking\": 4, \"layer\": 10}, {\"token\": \" informants\", \"prob\": \"0.0\", \"ranking\": 5, \"layer\": 10}, {\"token\": \" Collider\", \"prob\": \"0.0\", \"ranking\": 6, \"layer\": 10}, {\"token\": \" regress\", \"prob\": \"0.0\", \"ranking\": 7, \"layer\": 10}, {\"token\": \"ominated\", \"prob\": \"0.0\", \"ranking\": 8, \"layer\": 10}, {\"token\": \" amplification\", \"prob\": \"0.0\", \"ranking\": 9, \"layer\": 10}, {\"token\": \"Compar\", \"prob\": \"0.0\", \"ranking\": 10, \"layer\": 10}], [{\"token\": \"\\n\", \"prob\": \"0.013599064\", \"ranking\": 1, \"layer\": 11}, {\"token\": \" the\", \"prob\": \"0.009974255\", \"ranking\": 2, \"layer\": 11}, {\"token\": \" \\\"\", \"prob\": \"0.008197245\", \"ranking\": 3, \"layer\": 11}, {\"token\": \",\", \"prob\": \"0.006270582\", \"ranking\": 4, \"layer\": 11}, {\"token\": \" a\", \"prob\": \"0.0051524155\", \"ranking\": 5, \"layer\": 11}, {\"token\": \" and\", \"prob\": \"0.0048071803\", \"ranking\": 6, \"layer\": 11}, {\"token\": \" first\", \"prob\": \"0.004785079\", \"ranking\": 7, \"layer\": 11}, {\"token\": \" I\", \"prob\": \"0.0042999494\", \"ranking\": 8, \"layer\": 11}, {\"token\": \" to\", \"prob\": \"0.003916\", \"ranking\": 9, \"layer\": 11}, {\"token\": \" is\", \"prob\": \"0.003851084\", \"ranking\": 10, \"layer\": 11}]]\n",
       "            })\n",
       "            pred.init()\n",
       "         }, function (err) {\n",
       "            console.log(viz_id, err);\n",
       "        })"
      ],
      "text/plain": [
       "<IPython.core.display.Javascript object>"
      ]
     },
     "metadata": {},
     "output_type": "display_data"
    }
   ],
   "source": [
    "output.layer_predictions()"
   ]
  },
  {
   "cell_type": "code",
   "execution_count": 355,
   "metadata": {},
   "outputs": [
    {
     "name": "stdout",
     "output_type": "stream",
     "text": [
      "con mean saliency: 4.00\n",
      "dem mean saliency: 4.00\n",
      "con total saliency: 100.00\n",
      "dem total saliency: 99.99\n",
      "t-test p-value: 1.000\n",
      "con mean saliency: 2.78\n",
      "dem mean saliency: 2.78\n",
      "con total saliency: 100.02\n",
      "dem total saliency: 100.01\n",
      "t-test p-value: 0.999\n"
     ]
    }
   ],
   "source": [
    "import numpy as np\n",
    "from scipy.stats import ttest_ind\n",
    "con = [6.62, 6.21, 7.4, 3.41, 8.74,\n",
    "       1.69, 3.9, 1.34, 1.48, 1.19,\n",
    "       3.24, 8.16, 7.23, 2.79, 1.47,\n",
    "       1.95, 6.47, 1.44, 0.91, 4.65,\n",
    "       1.35, 1.59, 4.08, 5.27, 7.42]\n",
    "con_2 = [7.93, 3.66, 2.67, 5.46, 4.07,\n",
    "         1.65, 2.79, 1.71, 2.3, 6.04,\n",
    "         4.83, 2.82, 2.83, 5.09, 1.55,\n",
    "         5.72, 0.85, 0.9, 0.48, 0.57,\n",
    "         0.97, 1.97, 4.24, 4.18, 1.05,\n",
    "         0.95, 1.03, 3.81, 0.72, 0.9, 2.68, 1.32, 0.84, 2.39, 2.94, 6.11]\n",
    "dem = [5.24, 5.68, 2.86, 2.92, 3.73,\n",
    "       1.32, 7.43, 2.26, 4.59, 1.88,\n",
    "       1.93, 3.35, 4.06, 4.45, 1.81,\n",
    "       2.06, 3.2, 2.09, 2.72, 5.1,\n",
    "       2.81, 4.34, 4.77, 5.65, 13.74]\n",
    "dem_2 = [2.75, 2.82, 1.6, 2.22, 3.64, 1.51, 2.46, 3.45, 5.03, 4.48, 7.63,\n",
    "         2.68, 1.25, 2.07, 1.71, 2.63, 1.25, 3.79, 2.04, 2.7, 1.92, 1.73,\n",
    "         2.51, 2.75, 3.19, 1.15, 1.76, 2.18, 2.17, 1.72, 2.76, 1.63, 2.33,\n",
    "         3.22, 3.07, 8.21]\n",
    "print(\"con mean saliency: {:0.2f}\".format(np.mean(con)))\n",
    "print(\"dem mean saliency: {:0.2f}\".format(np.mean(dem)))\n",
    "print(\"con total saliency: {:0.2f}\".format(np.sum(con)))\n",
    "print(\"dem total saliency: {:0.2f}\".format(np.sum(dem)))\n",
    "print(\"t-test p-value: {:0.3f}\".format(ttest_ind(con, dem)[1]))\n",
    "print(\"con mean saliency: {:0.2f}\".format(np.mean(con_2)))\n",
    "print(\"dem mean saliency: {:0.2f}\".format(np.mean(dem_2)))\n",
    "print(\"con total saliency: {:0.2f}\".format(np.sum(con_2)))\n",
    "print(\"dem total saliency: {:0.2f}\".format(np.sum(dem_2)))\n",
    "print(\"t-test p-value: {:0.3f}\".format(ttest_ind(con_2, dem_2)[1]))"
   ]
  },
  {
   "cell_type": "code",
   "execution_count": 354,
   "metadata": {},
   "outputs": [
    {
     "data": {
      "image/png": "[encoded data removed]",
      "text/plain": [
       "<Figure size 432x288 with 1 Axes>"
      ]
     },
     "metadata": {
      "needs_background": "light"
     },
     "output_type": "display_data"
    },
    {
     "data": {
      "image/png": "[encoded data removed]",
      "text/plain": [
       "<Figure size 432x288 with 1 Axes>"
      ]
     },
     "metadata": {
      "needs_background": "light"
     },
     "output_type": "display_data"
    }
   ],
   "source": [
    "from matplotlib import pyplot as plt\n",
    "ax.hist(con, label=\"unimpaired\")\n",
    "ax.hist(dem, label=\"impaired\")\n",
    "ax.legend(loc=\"upper right\")\n",
    "plt.show()\n",
    "fig, ax = plt.subplots()\n",
    "ax.hist(con_2, label=\"unimpaired\")\n",
    "ax.hist(dem_2, label=\"impaired\")\n",
    "ax.legend(loc=\"upper right\")\n",
    "plt.show()"
   ]
  }
 ],
 "metadata": {
  "kernelspec": {
   "display_name": "Python 3",
   "language": "python",
   "name": "python3"
  },
  "language_info": {
   "codemirror_mode": {
    "name": "ipython",
    "version": 3
   },
   "file_extension": ".py",
   "mimetype": "text/x-python",
   "name": "python",
   "nbconvert_exporter": "python",
   "pygments_lexer": "ipython3",
   "version": "3.7.6"
  }
 },
 "nbformat": 4,
 "nbformat_minor": 5
}
